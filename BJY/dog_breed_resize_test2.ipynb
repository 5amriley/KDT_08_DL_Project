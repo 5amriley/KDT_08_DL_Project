{
 "cells": [
  {
   "cell_type": "markdown",
   "source": [
    "### 개의 품종 분류\n",
    "- 딥러닝 팀 프로젝트\n",
    "- 데이터 출처 : https://www.kaggle.com/datasets/amandam1/120-dog-breeds-breed-classification"
   ],
   "metadata": {
    "collapsed": false
   },
   "id": "521ca9bc66dbe991"
  },
  {
   "cell_type": "markdown",
   "source": [
    "1) 모듈 준비, 데이터 준비\n",
    "2) 이미지 파일 픽셀값 전처리 (흑백으로 변환) -> 크기가 많이 클 경우, DataFrame으로 저장 후 csv 파일로 저장\n",
    "3) 데이터 전처리 - 피쳐 / 타겟 분리, 정규화\n",
    "4) 학습 데이터셋 준비\n",
    "    1. 사용자 정의 데이터셋 및 전체 데이터셋 준비\n",
    "    2. 학습용, 검증용, 테스트용 데이터셋 준비\n",
    "5) 데이터 로더 생성 (학습용, 검증용, 테스트용)\n",
    "6) 모델 클래스 정의\n",
    "7) 함수 정의 (학습, 검증, 테스트)\n",
    "8) 학습, 학습 후 평가 (평가척도)\n",
    "9) 테스트\n",
    "10) 학습 스케줄러\n",
    "11) 모델 저장 (불러와서 실행할 수 있게 하기 위해)"
   ],
   "metadata": {
    "collapsed": false
   },
   "id": "abb9b0c8d14c3fcd"
  },
  {
   "cell_type": "code",
   "outputs": [],
   "source": [
    "import os, sys\n",
    "from PIL import Image\n",
    "Image.ANTIALIAS = Image.LANCZOS"
   ],
   "metadata": {
    "collapsed": false,
    "ExecuteTime": {
     "end_time": "2024-03-20T04:00:26.791145Z",
     "start_time": "2024-03-20T03:59:49.091640900Z"
    }
   },
   "id": "272de966cb8e9c13",
   "execution_count": 102
  },
  {
   "cell_type": "code",
   "outputs": [
    {
     "name": "stdout",
     "output_type": "stream",
     "text": [
      "C:\\Users\\kdp\\PycharmProjects\\KDT_08_Deep_Learning\\WORK_DL\\WORK_TEAM_PROJECT\n"
     ]
    }
   ],
   "source": [
    "print(os.getcwd())"
   ],
   "metadata": {
    "collapsed": false,
    "ExecuteTime": {
     "end_time": "2024-03-20T02:04:48.440687900Z",
     "start_time": "2024-03-20T02:04:48.414628600Z"
    }
   },
   "id": "6374f6831385fd7a",
   "execution_count": 10
  },
  {
   "cell_type": "code",
   "outputs": [],
   "source": [
    "def resize_and_crop(img_path, modified_path, size, crop_type='middle'):\n",
    "    files = os.listdir(img_path)    # 파일명 리스트 (list)\n",
    "    \n",
    "    if not os.path.exists(modified_path):\n",
    "        os.makedirs(modified_path)  # resize 이미지가 저장될 폴더가 없을 경우 폴더 생성\n",
    "    \n",
    "    for file in files:\n",
    "        # name = str(file)\n",
    "        # os.chdir(img_path)\n",
    "        img = Image.open(img_path + '/' + file)           # <class 'PIL.JpegImagePlugin.JpegImageFile'>\n",
    "        img_ratio = img.size[0] / float(img.size[1])    # 해당 이미지 비율\n",
    "        ratio = size[0] / float(size[1])                # 목표 이미지 비율\n",
    "        \n",
    "        if ratio > img_ratio:\n",
    "            img = img.resize((size[0], int(round(size[0] * img.size[1] / img.size[0]))),   \n",
    "                             Image.ANTIALIAS)\n",
    "            if crop_type == 'middle':\n",
    "                box = (0, int(round((img.size[1] - size[1]) / 2)), \n",
    "                       img.size[0], int(round((img.size[1] + size[1]) / 2)))\n",
    "            img = img.crop(box)\n",
    "        elif ratio < img_ratio:\n",
    "            img = img.resize((int(round(size[1] * img.size[0] / img.size[1])), size[1]),\n",
    "                             Image.ANTIALIAS)\n",
    "            if crop_type == 'middle':\n",
    "                box = (int(round((img.size[0] - size[0]) / 2)), 0, \n",
    "                       int(round((img.size[0] + size[0]) / 2)), img.size[1])\n",
    "            img = img.crop(box)\n",
    "        else:\n",
    "            img = img.resize((size[0], size[1]), Image.ANTIALIAS)\n",
    "        \n",
    "        # os.chdir(modified_path)\n",
    "        img.save(modified_path + '/' + file)"
   ],
   "metadata": {
    "collapsed": true,
    "ExecuteTime": {
     "end_time": "2024-03-20T02:56:48.316043300Z",
     "start_time": "2024-03-20T02:56:48.299654600Z"
    }
   },
   "id": "initial_id",
   "execution_count": 27
  },
  {
   "cell_type": "code",
   "outputs": [],
   "source": [
    "def print_files(img_path, modified_path):\n",
    "    files = os.listdir(img_path)    # 파일명 리스트 (list)\n",
    "    \n",
    "    if not os.path.exists(modified_path):\n",
    "        os.makedirs(modified_path)  # resize 이미지가 저장될 폴더가 없을 경우 생성\n",
    "    \n",
    "    for file in files:\n",
    "        print(img_path + '/' + file)"
   ],
   "metadata": {
    "collapsed": false,
    "ExecuteTime": {
     "end_time": "2024-03-20T02:09:58.919611800Z",
     "start_time": "2024-03-20T02:09:58.864298300Z"
    }
   },
   "id": "890c7a07f4d74165",
   "execution_count": 14
  },
  {
   "cell_type": "code",
   "outputs": [
    {
     "ename": "OSError",
     "evalue": "cannot write mode RGBA as JPEG",
     "output_type": "error",
     "traceback": [
      "\u001B[1;31m---------------------------------------------------------------------------\u001B[0m",
      "\u001B[1;31mKeyError\u001B[0m                                  Traceback (most recent call last)",
      "File \u001B[1;32m~\\.conda\\envs\\Torch_38\\lib\\site-packages\\PIL\\JpegImagePlugin.py:650\u001B[0m, in \u001B[0;36m_save\u001B[1;34m(im, fp, filename)\u001B[0m\n\u001B[0;32m    649\u001B[0m \u001B[38;5;28;01mtry\u001B[39;00m:\n\u001B[1;32m--> 650\u001B[0m     rawmode \u001B[38;5;241m=\u001B[39m \u001B[43mRAWMODE\u001B[49m\u001B[43m[\u001B[49m\u001B[43mim\u001B[49m\u001B[38;5;241;43m.\u001B[39;49m\u001B[43mmode\u001B[49m\u001B[43m]\u001B[49m\n\u001B[0;32m    651\u001B[0m \u001B[38;5;28;01mexcept\u001B[39;00m \u001B[38;5;167;01mKeyError\u001B[39;00m \u001B[38;5;28;01mas\u001B[39;00m e:\n",
      "\u001B[1;31mKeyError\u001B[0m: 'RGBA'",
      "\nThe above exception was the direct cause of the following exception:\n",
      "\u001B[1;31mOSError\u001B[0m                                   Traceback (most recent call last)",
      "Cell \u001B[1;32mIn[37], line 6\u001B[0m\n\u001B[0;32m      3\u001B[0m modified_path2 \u001B[38;5;241m=\u001B[39m \u001B[38;5;124m\"\u001B[39m\u001B[38;5;124m./Images-resized\u001B[39m\u001B[38;5;124m\"\u001B[39m\n\u001B[0;32m      4\u001B[0m \u001B[38;5;28;01mfor\u001B[39;00m folder \u001B[38;5;129;01min\u001B[39;00m os\u001B[38;5;241m.\u001B[39mlistdir(path2):\n\u001B[0;32m      5\u001B[0m     \u001B[38;5;66;03m# print(path2 + folder)\u001B[39;00m\n\u001B[1;32m----> 6\u001B[0m     \u001B[43mresize_and_crop\u001B[49m\u001B[43m(\u001B[49m\u001B[43mpath2\u001B[49m\u001B[43m \u001B[49m\u001B[38;5;241;43m+\u001B[39;49m\u001B[43m \u001B[49m\u001B[38;5;124;43m'\u001B[39;49m\u001B[38;5;124;43m/\u001B[39;49m\u001B[38;5;124;43m'\u001B[39;49m\u001B[43m \u001B[49m\u001B[38;5;241;43m+\u001B[39;49m\u001B[43m \u001B[49m\u001B[43mfolder\u001B[49m\u001B[43m,\u001B[49m\u001B[43m \u001B[49m\u001B[43mmodified_path2\u001B[49m\u001B[43m \u001B[49m\u001B[38;5;241;43m+\u001B[39;49m\u001B[43m \u001B[49m\u001B[38;5;124;43m'\u001B[39;49m\u001B[38;5;124;43m/\u001B[39;49m\u001B[38;5;124;43m'\u001B[39;49m\u001B[43m \u001B[49m\u001B[38;5;241;43m+\u001B[39;49m\u001B[43m \u001B[49m\u001B[43mfolder\u001B[49m\u001B[43m,\u001B[49m\u001B[43m \u001B[49m\u001B[43msize\u001B[49m\u001B[43m)\u001B[49m\n",
      "Cell \u001B[1;32mIn[27], line 32\u001B[0m, in \u001B[0;36mresize_and_crop\u001B[1;34m(img_path, modified_path, size, crop_type)\u001B[0m\n\u001B[0;32m     29\u001B[0m     img \u001B[38;5;241m=\u001B[39m img\u001B[38;5;241m.\u001B[39mresize((size[\u001B[38;5;241m0\u001B[39m], size[\u001B[38;5;241m1\u001B[39m]), Image\u001B[38;5;241m.\u001B[39mANTIALIAS)\n\u001B[0;32m     31\u001B[0m \u001B[38;5;66;03m# os.chdir(modified_path)\u001B[39;00m\n\u001B[1;32m---> 32\u001B[0m \u001B[43mimg\u001B[49m\u001B[38;5;241;43m.\u001B[39;49m\u001B[43msave\u001B[49m\u001B[43m(\u001B[49m\u001B[43mmodified_path\u001B[49m\u001B[43m \u001B[49m\u001B[38;5;241;43m+\u001B[39;49m\u001B[43m \u001B[49m\u001B[38;5;124;43m'\u001B[39;49m\u001B[38;5;124;43m/\u001B[39;49m\u001B[38;5;124;43m'\u001B[39;49m\u001B[43m \u001B[49m\u001B[38;5;241;43m+\u001B[39;49m\u001B[43m \u001B[49m\u001B[43mfile\u001B[49m\u001B[43m)\u001B[49m\n",
      "File \u001B[1;32m~\\.conda\\envs\\Torch_38\\lib\\site-packages\\PIL\\Image.py:2439\u001B[0m, in \u001B[0;36mImage.save\u001B[1;34m(self, fp, format, **params)\u001B[0m\n\u001B[0;32m   2436\u001B[0m         fp \u001B[38;5;241m=\u001B[39m builtins\u001B[38;5;241m.\u001B[39mopen(filename, \u001B[38;5;124m\"\u001B[39m\u001B[38;5;124mw+b\u001B[39m\u001B[38;5;124m\"\u001B[39m)\n\u001B[0;32m   2438\u001B[0m \u001B[38;5;28;01mtry\u001B[39;00m:\n\u001B[1;32m-> 2439\u001B[0m     \u001B[43msave_handler\u001B[49m\u001B[43m(\u001B[49m\u001B[38;5;28;43mself\u001B[39;49m\u001B[43m,\u001B[49m\u001B[43m \u001B[49m\u001B[43mfp\u001B[49m\u001B[43m,\u001B[49m\u001B[43m \u001B[49m\u001B[43mfilename\u001B[49m\u001B[43m)\u001B[49m\n\u001B[0;32m   2440\u001B[0m \u001B[38;5;28;01mexcept\u001B[39;00m \u001B[38;5;167;01mException\u001B[39;00m:\n\u001B[0;32m   2441\u001B[0m     \u001B[38;5;28;01mif\u001B[39;00m open_fp:\n",
      "File \u001B[1;32m~\\.conda\\envs\\Torch_38\\lib\\site-packages\\PIL\\JpegImagePlugin.py:653\u001B[0m, in \u001B[0;36m_save\u001B[1;34m(im, fp, filename)\u001B[0m\n\u001B[0;32m    651\u001B[0m \u001B[38;5;28;01mexcept\u001B[39;00m \u001B[38;5;167;01mKeyError\u001B[39;00m \u001B[38;5;28;01mas\u001B[39;00m e:\n\u001B[0;32m    652\u001B[0m     msg \u001B[38;5;241m=\u001B[39m \u001B[38;5;124mf\u001B[39m\u001B[38;5;124m\"\u001B[39m\u001B[38;5;124mcannot write mode \u001B[39m\u001B[38;5;132;01m{\u001B[39;00mim\u001B[38;5;241m.\u001B[39mmode\u001B[38;5;132;01m}\u001B[39;00m\u001B[38;5;124m as JPEG\u001B[39m\u001B[38;5;124m\"\u001B[39m\n\u001B[1;32m--> 653\u001B[0m     \u001B[38;5;28;01mraise\u001B[39;00m \u001B[38;5;167;01mOSError\u001B[39;00m(msg) \u001B[38;5;28;01mfrom\u001B[39;00m \u001B[38;5;21;01me\u001B[39;00m\n\u001B[0;32m    655\u001B[0m info \u001B[38;5;241m=\u001B[39m im\u001B[38;5;241m.\u001B[39mencoderinfo\n\u001B[0;32m    657\u001B[0m dpi \u001B[38;5;241m=\u001B[39m [\u001B[38;5;28mround\u001B[39m(x) \u001B[38;5;28;01mfor\u001B[39;00m x \u001B[38;5;129;01min\u001B[39;00m info\u001B[38;5;241m.\u001B[39mget(\u001B[38;5;124m\"\u001B[39m\u001B[38;5;124mdpi\u001B[39m\u001B[38;5;124m\"\u001B[39m, (\u001B[38;5;241m0\u001B[39m, \u001B[38;5;241m0\u001B[39m))]\n",
      "\u001B[1;31mOSError\u001B[0m: cannot write mode RGBA as JPEG"
     ]
    }
   ],
   "source": [
    "size = 64, 64\n",
    "path2 = \"./Images\"\n",
    "modified_path2 = \"./Images-resized\"\n",
    "for folder in os.listdir(path2):\n",
    "    # print(path2 + folder)\n",
    "    resize_and_crop(path2 + '/' + folder, modified_path2 + '/' + folder, size)"
   ],
   "metadata": {
    "collapsed": false,
    "ExecuteTime": {
     "end_time": "2024-03-20T03:09:23.412304600Z",
     "start_time": "2024-03-20T03:07:30.783030300Z"
    }
   },
   "id": "aa19abd695254dfa",
   "execution_count": 37
  },
  {
   "cell_type": "code",
   "outputs": [],
   "source": [
    "# size = 128, 128 # 바꾸고 싶은 사이즈\n",
    "# path = \"./dog-breeds/rottweiler/\"  # 이미지 경로\n",
    "# modified_path = \"./dog-breeds-resized/rottweiler/\"    # resize된 이미지가 저장될 경로\n",
    "# resize_and_crop(path, modified_path, size)"
   ],
   "metadata": {
    "collapsed": false,
    "ExecuteTime": {
     "end_time": "2024-03-20T00:43:07.994697200Z",
     "start_time": "2024-03-20T00:43:05.191112400Z"
    }
   },
   "id": "6e04bfbc487c0660",
   "execution_count": 4
  },
  {
   "cell_type": "code",
   "outputs": [],
   "source": [
    "# resize 예제\n",
    "# test_img = Image.open('./dog-breeds/beagle/beagle1.jpg')\n",
    "# resized_img = test_img.resize((128, 128), Image.LANCZOS)\n",
    "# resized_img.save('output_image.jpg')"
   ],
   "metadata": {
    "collapsed": false,
    "ExecuteTime": {
     "end_time": "2024-03-19T10:26:24.966198400Z",
     "start_time": "2024-03-19T10:26:24.955443100Z"
    }
   },
   "id": "2de877ca8445ac81",
   "execution_count": 40
  },
  {
   "cell_type": "code",
   "outputs": [
    {
     "name": "stderr",
     "output_type": "stream",
     "text": [
      "C:\\Users\\kdp\\.conda\\envs\\Torch_38\\lib\\site-packages\\torchvision\\io\\image.py:13: UserWarning: Failed to load image Python extension: '[WinError 127] 지정된 프로시저를 찾을 수 없습니다'If you don't plan on using image functionality from `torchvision.io`, you can ignore this warning. Otherwise, there might be something wrong with your environment. Did you have `libjpeg` or `libpng` installed before building `torchvision` from source?\n",
      "  warn(\n"
     ]
    }
   ],
   "source": [
    "import torch\n",
    "import torchvision.transforms.functional as TF\n",
    "import numpy as np\n",
    "import pandas as pd\n",
    "\n",
    "def convert_to_grayscale_tensor(image_path):\n",
    "    \"\"\" 컬러 이미지를 그레이스케일로 변환 후, 텐서로 저장하는 함수 \"\"\"\n",
    "    \n",
    "    # Pillow로 컬러이미지 읽어오기\n",
    "    color_image = Image.open(image_path)\n",
    "    \n",
    "    # 이미지를 grayscale로 변환\n",
    "    grayscale_image = color_image.convert('L')\n",
    "    \n",
    "    # 이미지를 PyTorch 텐서로 변환 (+ 0~1 범위로 정규화)\n",
    "    image_tensor = TF.to_tensor(grayscale_image)\n",
    "    print(type(image_tensor), image_tensor.shape)\n",
    "\n",
    "\n",
    "def convert_to_grayscale_array(image_path):\n",
    "    \"\"\" 컬러 이미지를 그레이스케일로 변환 후, 1차원 리스트로 저장하는 함수 \"\"\"\n",
    "    \n",
    "    # Pillow로 컬러이미지 읽어오기\n",
    "    color_image = Image.open(image_path)\n",
    "    \n",
    "    # 이미지를 grayscale로 변환\n",
    "    grayscale_image = color_image.convert('L')\n",
    "    \n",
    "    # 이미지 -> ndarray -> list\n",
    "    image_array = np.array(grayscale_image)\n",
    "    image_array =  image_array.reshape(-1)\n",
    "    image_list = image_array.tolist()\n",
    "    # print(type(image_list), len(image_list))\n",
    "    \n",
    "    return image_list   # 1차원 리스트 반환\n",
    "\n",
    "\n",
    "def save_tensor_as_image(tensor, file_path):\n",
    "    \"\"\" 텐서를 이미지 파일로 저장하는 함수 \"\"\"\n",
    "    \n",
    "    # 텐서를 이미지로 변환\n",
    "    image = TF.to_pil_image(tensor)\n",
    "    \n",
    "    # 이미지 파일로 저장\n",
    "    image.save(file_path)"
   ],
   "metadata": {
    "collapsed": false,
    "ExecuteTime": {
     "end_time": "2024-03-20T03:00:05.441204100Z",
     "start_time": "2024-03-20T03:00:00.466439800Z"
    }
   },
   "id": "740b603b308f6940",
   "execution_count": 29
  },
  {
   "cell_type": "code",
   "outputs": [
    {
     "name": "stdout",
     "output_type": "stream",
     "text": [
      "<class 'torch.Tensor'> torch.Size([1, 128, 128])\n"
     ]
    }
   ],
   "source": [
    "convert_to_grayscale_tensor('./beagle1.jpg')"
   ],
   "metadata": {
    "collapsed": false,
    "ExecuteTime": {
     "end_time": "2024-03-20T03:00:16.369565Z",
     "start_time": "2024-03-20T03:00:16.345487800Z"
    }
   },
   "id": "2a381d58579e99ae",
   "execution_count": 30
  },
  {
   "cell_type": "code",
   "outputs": [
    {
     "data": {
      "text/plain": "list"
     },
     "execution_count": 31,
     "metadata": {},
     "output_type": "execute_result"
    }
   ],
   "source": [
    "type(convert_to_grayscale_array('./beagle1.jpg'))"
   ],
   "metadata": {
    "collapsed": false,
    "ExecuteTime": {
     "end_time": "2024-03-20T03:00:19.048278Z",
     "start_time": "2024-03-20T03:00:19.009325200Z"
    }
   },
   "id": "6ff7fe314745b31e",
   "execution_count": 31
  },
  {
   "cell_type": "code",
   "outputs": [],
   "source": [
    "# 컬러이미지 -> 흑백이미지 -> 저장 (예시)\n",
    "color_image = Image.open('./beagle1.jpg')\n",
    "grayscale_image = color_image.convert('L')\n",
    "grayscale_image.save('./beagle.jpg')"
   ],
   "metadata": {
    "collapsed": false,
    "ExecuteTime": {
     "end_time": "2024-03-20T03:00:31.405800500Z",
     "start_time": "2024-03-20T03:00:31.381731Z"
    }
   },
   "id": "1b795fb880c0a465",
   "execution_count": 32
  },
  {
   "cell_type": "code",
   "outputs": [
    {
     "name": "stdout",
     "output_type": "stream",
     "text": [
      "tensor([[0.4118, 0.4118, 0.4157,  ..., 0.3569, 0.3529, 0.3490],\n",
      "        [0.4118, 0.4118, 0.4157,  ..., 0.3686, 0.3608, 0.3569],\n",
      "        [0.4118, 0.4157, 0.4157,  ..., 0.3843, 0.3725, 0.3647],\n",
      "        ...,\n",
      "        [0.7216, 0.7137, 0.7216,  ..., 0.7490, 0.7725, 0.7843],\n",
      "        [0.7412, 0.7333, 0.7373,  ..., 0.7569, 0.7608, 0.7569],\n",
      "        [0.7373, 0.7294, 0.7333,  ..., 0.7451, 0.7294, 0.7098]])\n"
     ]
    }
   ],
   "source": [
    "image = Image.open('./beagle.jpg')\n",
    "image = TF.to_tensor(image)\n",
    "print(image.squeeze())"
   ],
   "metadata": {
    "collapsed": false,
    "ExecuteTime": {
     "end_time": "2024-03-20T03:00:31.736793900Z",
     "start_time": "2024-03-20T03:00:31.708794Z"
    }
   },
   "id": "5363398bad4b8390",
   "execution_count": 33
  },
  {
   "cell_type": "code",
   "outputs": [
    {
     "name": "stdout",
     "output_type": "stream",
     "text": [
      "[ Chihuahua ]\n",
      "[ Japanese_spaniel ]\n",
      "[ Maltese_dog ]\n",
      "[ Pekinese ]\n",
      "[ Shih-Tzu ]\n",
      "[ Blenheim_spaniel ]\n",
      "[ papillon ]\n",
      "[ toy_terrier ]\n",
      "[ Rhodesian_ridgeback ]\n",
      "[ Afghan_hound ]\n",
      "[ basset ]\n",
      "[ beagle ]\n",
      "[ bloodhound ]\n",
      "[ bluetick ]\n",
      "[ black-and-tan_coonhound ]\n",
      "[ Walker_hound ]\n",
      "[ English_foxhound ]\n",
      "[ redbone ]\n",
      "[ borzoi ]\n",
      "[ Irish_wolfhound ]\n",
      "[ Italian_greyhound ]\n",
      "[ whippet ]\n",
      "[ Ibizan_hound ]\n",
      "[ Norwegian_elkhound ]\n",
      "[ otterhound ]\n",
      "[ Saluki ]\n",
      "[ Scottish_deerhound ]\n",
      "[ Weimaraner ]\n",
      "[ Staffordshire_bullterrier ]\n",
      "[ American_Staffordshire_terrier ]\n",
      "[ Bedlington_terrier ]\n",
      "[ Border_terrier ]\n",
      "[ Kerry_blue_terrier ]\n",
      "[ Irish_terrier ]\n",
      "[ Norfolk_terrier ]\n",
      "[ Norwich_terrier ]\n",
      "[ Yorkshire_terrier ]\n",
      "[ wire-haired_fox_terrier ]\n",
      "[ Lakeland_terrier ]\n",
      "[ Sealyham_terrier ]\n",
      "[ Airedale ]\n",
      "[ cairn ]\n",
      "[ Australian_terrier ]\n",
      "[ Dandie_Dinmont ]\n",
      "[ Boston_bull ]\n",
      "[ miniature_schnauzer ]\n",
      "[ giant_schnauzer ]\n",
      "[ standard_schnauzer ]\n",
      "[ Scotch_terrier ]\n",
      "[ Tibetan_terrier ]\n",
      "[ silky_terrier ]\n",
      "[ soft-coated_wheaten_terrier ]\n",
      "[ West_Highland_white_terrier ]\n",
      "[ Lhasa ]\n",
      "[ flat-coated_retriever ]\n",
      "[ curly-coated_retriever ]\n",
      "[ golden_retriever ]\n",
      "[ Labrador_retriever ]\n",
      "[ Chesapeake_Bay_retriever ]\n",
      "[ German_short-haired_pointer ]\n",
      "[ vizsla ]\n",
      "[ English_setter ]\n",
      "[ Irish_setter ]\n",
      "[ Gordon_setter ]\n",
      "[ Brittany_spaniel ]\n",
      "[ clumber ]\n",
      "[ English_springer ]\n",
      "[ Welsh_springer_spaniel ]\n",
      "[ cocker_spaniel ]\n",
      "[ Sussex_spaniel ]\n",
      "[ Irish_water_spaniel ]\n",
      "[ kuvasz ]\n",
      "[ schipperke ]\n",
      "[ groenendael ]\n",
      "[ malinois ]\n",
      "[ briard ]\n",
      "[ kelpie ]\n",
      "[ komondor ]\n",
      "[ Old_English_sheepdog ]\n",
      "[ Shetland_sheepdog ]\n"
     ]
    }
   ],
   "source": [
    "### 컬러이미지 -> 흑백이미지 -> 저장 (전체 데이터)\n",
    "pixel_list = []   # 모든 이미지 파일들의 픽셀값을 담을 리스트\n",
    "target_list = []    # 각 이미지 파일들의 타겟값을 담을 리스트 (개 품종)\n",
    "\n",
    "# path2 = './dog-breeds-resized'\n",
    "path2 = './Images-resized'\n",
    "for f in os.listdir(path2):\n",
    "    sep_idx = f.find('-')\n",
    "    dog_breed = f[sep_idx+1:]\n",
    "    print(f'[ {dog_breed} ]')\n",
    "    cnt = 0\n",
    "    for ff in os.listdir(path2 + '/' + f):\n",
    "        filename = path2 + '/' + f + '/' + ff\n",
    "        pixel_list.extend(convert_to_grayscale_array(filename))\n",
    "        # dog_image = Image.open(filename)\n",
    "        # dog_image = TF.to_tensor(dog_image)\n",
    "        # print(dog_image.squeeze().shape)\n",
    "        cnt += 1\n",
    "    target_list.extend([dog_breed for i in range(cnt)])"
   ],
   "metadata": {
    "collapsed": false,
    "ExecuteTime": {
     "end_time": "2024-03-20T03:16:24.719804100Z",
     "start_time": "2024-03-20T03:15:28.982482400Z"
    }
   },
   "id": "bead7c865f19b4f5",
   "execution_count": 38
  },
  {
   "cell_type": "code",
   "outputs": [
    {
     "data": {
      "text/plain": "(56033280, 13680)"
     },
     "execution_count": 39,
     "metadata": {},
     "output_type": "execute_result"
    }
   ],
   "source": [
    "len(pixel_list), len(target_list)"
   ],
   "metadata": {
    "collapsed": false,
    "ExecuteTime": {
     "end_time": "2024-03-20T03:16:30.308859800Z",
     "start_time": "2024-03-20T03:16:30.283780600Z"
    }
   },
   "id": "32aca695914ae954",
   "execution_count": 39
  },
  {
   "cell_type": "code",
   "outputs": [],
   "source": [
    "dog_image_array = np.array(pixel_list)\n",
    "dog_image_array = dog_image_array.reshape(-1, size[0] * size[1])"
   ],
   "metadata": {
    "collapsed": false,
    "ExecuteTime": {
     "end_time": "2024-03-20T03:18:18.459832Z",
     "start_time": "2024-03-20T03:18:18.437813600Z"
    }
   },
   "id": "1211445cb4e4cba7",
   "execution_count": 43
  },
  {
   "cell_type": "code",
   "outputs": [
    {
     "data": {
      "text/plain": "(13680, 4096)"
     },
     "execution_count": 45,
     "metadata": {},
     "output_type": "execute_result"
    }
   ],
   "source": [
    "dog_image_array.shape      # 사진 13680장, 각각 (64 * 64 픽셀)"
   ],
   "metadata": {
    "collapsed": false,
    "ExecuteTime": {
     "end_time": "2024-03-20T03:18:43.977064600Z",
     "start_time": "2024-03-20T03:18:43.945896700Z"
    }
   },
   "id": "faee1cab0cebf9c2",
   "execution_count": 45
  },
  {
   "cell_type": "code",
   "outputs": [
    {
     "data": {
      "text/plain": "array([23, 36, 56, 71, 76])"
     },
     "execution_count": 46,
     "metadata": {},
     "output_type": "execute_result"
    }
   ],
   "source": [
    "dog_image_array[0, :5]"
   ],
   "metadata": {
    "collapsed": false,
    "ExecuteTime": {
     "end_time": "2024-03-20T03:18:48.073712400Z",
     "start_time": "2024-03-20T03:18:48.048714500Z"
    }
   },
   "id": "78de57a43264cfe4",
   "execution_count": 46
  },
  {
   "cell_type": "code",
   "outputs": [],
   "source": [
    "dog_image_array = dog_image_array / 255.    # 0~1 범위로 정규화"
   ],
   "metadata": {
    "collapsed": false,
    "ExecuteTime": {
     "end_time": "2024-03-20T03:18:53.561203600Z",
     "start_time": "2024-03-20T03:18:53.435179900Z"
    }
   },
   "id": "f26bf7e253385756",
   "execution_count": 47
  },
  {
   "cell_type": "code",
   "outputs": [
    {
     "data": {
      "text/plain": "array([0.09019608, 0.14117647, 0.21960784, 0.27843137, 0.29803922])"
     },
     "execution_count": 48,
     "metadata": {},
     "output_type": "execute_result"
    }
   ],
   "source": [
    "dog_image_array[0, :5]"
   ],
   "metadata": {
    "collapsed": false,
    "ExecuteTime": {
     "end_time": "2024-03-20T03:18:53.753162500Z",
     "start_time": "2024-03-20T03:18:53.719152Z"
    }
   },
   "id": "3ed22971417c36b3",
   "execution_count": 48
  },
  {
   "cell_type": "code",
   "outputs": [],
   "source": [
    "from sklearn.preprocessing import LabelEncoder\n",
    "\n",
    "label_encoder = LabelEncoder()\n",
    "\n",
    "# 문자열 리스트를 숫자로 변환\n",
    "encoded_list = label_encoder.fit_transform(target_list)\n",
    "dog_breed_array = np.array(encoded_list)\n",
    "dog_breed_array = dog_breed_array"
   ],
   "metadata": {
    "collapsed": false,
    "ExecuteTime": {
     "end_time": "2024-03-20T03:19:04.504162700Z",
     "start_time": "2024-03-20T03:19:02.167946Z"
    }
   },
   "id": "e6cc948ccdb6a6a9",
   "execution_count": 49
  },
  {
   "cell_type": "code",
   "outputs": [
    {
     "data": {
      "text/plain": "(13680,)"
     },
     "execution_count": 50,
     "metadata": {},
     "output_type": "execute_result"
    }
   ],
   "source": [
    "dog_breed_array.shape   # 1D (CrossEntropyLoss 함수 때문에)"
   ],
   "metadata": {
    "collapsed": false,
    "ExecuteTime": {
     "end_time": "2024-03-20T03:19:07.373069800Z",
     "start_time": "2024-03-20T03:19:07.340999100Z"
    }
   },
   "id": "fac26560136a8cef",
   "execution_count": 50
  },
  {
   "cell_type": "code",
   "outputs": [
    {
     "data": {
      "text/plain": "dtype('int64')"
     },
     "execution_count": 51,
     "metadata": {},
     "output_type": "execute_result"
    }
   ],
   "source": [
    "dog_breed_array.dtype"
   ],
   "metadata": {
    "collapsed": false,
    "ExecuteTime": {
     "end_time": "2024-03-20T03:19:54.390170Z",
     "start_time": "2024-03-20T03:19:54.364154600Z"
    }
   },
   "id": "f9919429132fbec2",
   "execution_count": 51
  },
  {
   "cell_type": "code",
   "outputs": [
    {
     "data": {
      "text/plain": "array(['Afghan_hound', 'Airedale', 'American_Staffordshire_terrier',\n       'Australian_terrier', 'Bedlington_terrier', 'Blenheim_spaniel',\n       'Border_terrier', 'Boston_bull', 'Brittany_spaniel',\n       'Chesapeake_Bay_retriever', 'Chihuahua', 'Dandie_Dinmont',\n       'English_foxhound', 'English_setter', 'English_springer',\n       'German_short-haired_pointer', 'Gordon_setter', 'Ibizan_hound',\n       'Irish_setter', 'Irish_terrier', 'Irish_water_spaniel',\n       'Irish_wolfhound', 'Italian_greyhound', 'Japanese_spaniel',\n       'Kerry_blue_terrier', 'Labrador_retriever', 'Lakeland_terrier',\n       'Lhasa', 'Maltese_dog', 'Norfolk_terrier', 'Norwegian_elkhound',\n       'Norwich_terrier', 'Old_English_sheepdog', 'Pekinese',\n       'Rhodesian_ridgeback', 'Saluki', 'Scotch_terrier',\n       'Scottish_deerhound', 'Sealyham_terrier', 'Shetland_sheepdog',\n       'Shih-Tzu', 'Staffordshire_bullterrier', 'Sussex_spaniel',\n       'Tibetan_terrier', 'Walker_hound', 'Weimaraner',\n       'Welsh_springer_spaniel', 'West_Highland_white_terrier',\n       'Yorkshire_terrier', 'basset', 'beagle', 'black-and-tan_coonhound',\n       'bloodhound', 'bluetick', 'borzoi', 'briard', 'cairn', 'clumber',\n       'cocker_spaniel', 'curly-coated_retriever',\n       'flat-coated_retriever', 'giant_schnauzer', 'golden_retriever',\n       'groenendael', 'kelpie', 'komondor', 'kuvasz', 'malinois',\n       'miniature_schnauzer', 'otterhound', 'papillon', 'redbone',\n       'schipperke', 'silky_terrier', 'soft-coated_wheaten_terrier',\n       'standard_schnauzer', 'toy_terrier', 'vizsla', 'whippet',\n       'wire-haired_fox_terrier'], dtype='<U30')"
     },
     "execution_count": 52,
     "metadata": {},
     "output_type": "execute_result"
    }
   ],
   "source": [
    "label_encoder.classes_  # 각 숫자가 의미하는 것 (품종)"
   ],
   "metadata": {
    "collapsed": false,
    "ExecuteTime": {
     "end_time": "2024-03-20T03:20:13.133237300Z",
     "start_time": "2024-03-20T03:20:13.098892300Z"
    }
   },
   "id": "ef3d4603f82c6c00",
   "execution_count": 52
  },
  {
   "cell_type": "markdown",
   "source": [
    "(4-1) 데이터셋(Dataset) 생성"
   ],
   "metadata": {
    "collapsed": false
   },
   "id": "29292f33c611a3c5"
  },
  {
   "cell_type": "code",
   "outputs": [],
   "source": [
    "from torch.utils.data import Dataset, DataLoader\n",
    "from torch.utils.data import TensorDataset"
   ],
   "metadata": {
    "collapsed": false,
    "ExecuteTime": {
     "end_time": "2024-03-20T03:20:49.289500200Z",
     "start_time": "2024-03-20T03:20:49.263498800Z"
    }
   },
   "id": "77d476ba68eaf54c",
   "execution_count": 53
  },
  {
   "cell_type": "code",
   "outputs": [],
   "source": [
    "## 사용자 정의 Dataset 클래스\n",
    "class DogDataset(Dataset):\n",
    "    \n",
    "    def __init__(self, x_data, y_data):\n",
    "        super().__init__()\n",
    "        \n",
    "        # x, y 데이터가 DF라면 ndarray로 바꾸고, ndarray라면 그대로 저장\n",
    "        x_data = x_data.values if isinstance(x_data, pd.DataFrame) else x_data\n",
    "        y_data = y_data.values if isinstance(y_data, pd.DataFrame) else y_data\n",
    "        \n",
    "        # ndarray -> tensor\n",
    "        self.feature = torch.FloatTensor(x_data)    # Float\n",
    "        self.target = torch.LongTensor(y_data)      # Long\n",
    "    \n",
    "    # 데이터셋의 개수 체크 콜백함수\n",
    "    def __len__(self):\n",
    "        return self.target.shape[0]\n",
    "    \n",
    "    # 특정 인덱스 데이터 + 라벨 반환 콜백함수\n",
    "    def __getitem__(self, index):\n",
    "        return self.feature[index], self.target[index]"
   ],
   "metadata": {
    "collapsed": false,
    "ExecuteTime": {
     "end_time": "2024-03-20T03:20:53.916271900Z",
     "start_time": "2024-03-20T03:20:53.893589300Z"
    }
   },
   "id": "1b48c25224266859",
   "execution_count": 54
  },
  {
   "cell_type": "code",
   "outputs": [],
   "source": [
    "# 데이터셋 생성\n",
    "dog_dataset = DogDataset(dog_image_array, dog_breed_array)"
   ],
   "metadata": {
    "collapsed": false,
    "ExecuteTime": {
     "end_time": "2024-03-20T03:20:56.658345100Z",
     "start_time": "2024-03-20T03:20:56.606754400Z"
    }
   },
   "id": "8e384a81e846dad0",
   "execution_count": 55
  },
  {
   "cell_type": "code",
   "outputs": [
    {
     "data": {
      "text/plain": "((tensor([0.0902, 0.1412, 0.2196,  ..., 0.0275, 0.0314, 0.0314]), tensor(10)),\n array([0.09019608, 0.14117647, 0.21960784, ..., 0.02745098, 0.03137255,\n        0.03137255]),\n 10)"
     },
     "execution_count": 56,
     "metadata": {},
     "output_type": "execute_result"
    }
   ],
   "source": [
    "dog_dataset[0], dog_image_array[0], dog_breed_array[0]"
   ],
   "metadata": {
    "collapsed": false,
    "ExecuteTime": {
     "end_time": "2024-03-20T03:20:56.929436300Z",
     "start_time": "2024-03-20T03:20:56.888625500Z"
    }
   },
   "id": "defaacc64a620583",
   "execution_count": 56
  },
  {
   "cell_type": "code",
   "outputs": [
    {
     "name": "stdout",
     "output_type": "stream",
     "text": [
      "(tensor([0.0902, 0.1412, 0.2196,  ..., 0.0275, 0.0314, 0.0314]), tensor(10))\n",
      "(tensor([0.3804, 0.4118, 0.4431,  ..., 0.1647, 0.1451, 0.1294]), tensor(10))\n",
      "(tensor([0.4941, 0.4941, 0.5020,  ..., 0.6078, 0.6588, 0.2196]), tensor(10))\n",
      "(tensor([0.1804, 0.1490, 0.2196,  ..., 0.1647, 0.1333, 0.1686]), tensor(10))\n",
      "(tensor([0.3333, 0.3529, 0.3059,  ..., 0.5255, 0.5412, 0.5529]), tensor(10))\n",
      "(tensor([0.1490, 0.1647, 0.1647,  ..., 0.5176, 0.5216, 0.5098]), tensor(10))\n",
      "(tensor([0.9059, 0.8902, 0.9059,  ..., 0.6039, 0.6078, 0.5765]), tensor(10))\n",
      "(tensor([0.4902, 0.4941, 0.4902,  ..., 0.5098, 0.5373, 0.5176]), tensor(10))\n",
      "(tensor([0.6941, 0.6824, 0.6784,  ..., 0.6039, 0.6039, 0.6275]), tensor(10))\n",
      "(tensor([0.5137, 0.5176, 0.5216,  ..., 0.2706, 0.2980, 0.3255]), tensor(10))\n"
     ]
    }
   ],
   "source": [
    "import time\n",
    "for i in range(10):\n",
    "    print(dog_dataset[i])\n",
    "    time.sleep(1)"
   ],
   "metadata": {
    "collapsed": false,
    "ExecuteTime": {
     "end_time": "2024-03-20T03:21:18.543189200Z",
     "start_time": "2024-03-20T03:21:08.440537100Z"
    }
   },
   "id": "7fd830283589a9a2",
   "execution_count": 57
  },
  {
   "cell_type": "markdown",
   "source": [
    "(4-2) 학습용, 검증용, 테스트용 데이터셋 분리"
   ],
   "metadata": {
    "collapsed": false
   },
   "id": "ceeb0238edcd2fd8"
  },
  {
   "cell_type": "code",
   "outputs": [],
   "source": [
    "### 파이토치판 train_test_split\n",
    "from torch.utils.data import random_split\n",
    "\n",
    "# 학습용, 검증용, 테스트 데이터 비율\n",
    "trainDS, validDS, testDS = random_split(dog_dataset, [0.7, 0.1, 0.2], generator=torch.Generator().manual_seed(24))"
   ],
   "metadata": {
    "collapsed": false,
    "ExecuteTime": {
     "end_time": "2024-03-20T03:21:43.764901200Z",
     "start_time": "2024-03-20T03:21:43.725831500Z"
    }
   },
   "id": "3965d2972bd195a1",
   "execution_count": 58
  },
  {
   "cell_type": "code",
   "outputs": [
    {
     "data": {
      "text/plain": "torch.utils.data.dataset.Subset"
     },
     "execution_count": 59,
     "metadata": {},
     "output_type": "execute_result"
    }
   ],
   "source": [
    "type(trainDS)"
   ],
   "metadata": {
    "collapsed": false,
    "ExecuteTime": {
     "end_time": "2024-03-20T03:21:44.508184Z",
     "start_time": "2024-03-20T03:21:44.474944700Z"
    }
   },
   "id": "b3395f83ae0f2b8",
   "execution_count": 59
  },
  {
   "cell_type": "code",
   "outputs": [
    {
     "data": {
      "text/plain": "(9576, 1368, 2736)"
     },
     "execution_count": 60,
     "metadata": {},
     "output_type": "execute_result"
    }
   ],
   "source": [
    "len(trainDS), len(validDS), len(testDS)     # 각각 들어있는 데이터 수"
   ],
   "metadata": {
    "collapsed": false,
    "ExecuteTime": {
     "end_time": "2024-03-20T03:21:46.130082200Z",
     "start_time": "2024-03-20T03:21:46.102072700Z"
    }
   },
   "id": "a34836f706dcc298",
   "execution_count": 60
  },
  {
   "cell_type": "markdown",
   "source": [
    "(5) 데이터 로더 생성 (학습용, 검증용, 테스트용)"
   ],
   "metadata": {
    "collapsed": false
   },
   "id": "37dc13427af5bba1"
  },
  {
   "cell_type": "code",
   "outputs": [
    {
     "data": {
      "text/plain": "(31, 5, 10)"
     },
     "execution_count": 63,
     "metadata": {},
     "output_type": "execute_result"
    }
   ],
   "source": [
    "### DataLoader 생성\n",
    "BATCH_SIZE = 300\n",
    "TRAIN_DL = DataLoader(trainDS, batch_size=BATCH_SIZE, drop_last=True)\n",
    "VALID_DL = DataLoader(validDS, batch_size=BATCH_SIZE)\n",
    "TEST_DL = DataLoader(testDS, batch_size=BATCH_SIZE)\n",
    "\n",
    "len(TRAIN_DL), len(VALID_DL), len(TEST_DL) # Epoch 당 반복 단위"
   ],
   "metadata": {
    "collapsed": false,
    "ExecuteTime": {
     "end_time": "2024-03-20T03:22:36.263598600Z",
     "start_time": "2024-03-20T03:22:36.220554700Z"
    }
   },
   "id": "a2ff3fe1fb1fe490",
   "execution_count": 63
  },
  {
   "cell_type": "code",
   "outputs": [
    {
     "name": "stdout",
     "output_type": "stream",
     "text": [
      "[0] feature torch.Size([300, 4096]) target torch.Size([300])\n",
      "[1] feature torch.Size([300, 4096]) target torch.Size([300])\n",
      "[2] feature torch.Size([300, 4096]) target torch.Size([300])\n",
      "[3] feature torch.Size([300, 4096]) target torch.Size([300])\n",
      "[4] feature torch.Size([300, 4096]) target torch.Size([300])\n",
      "[5] feature torch.Size([300, 4096]) target torch.Size([300])\n",
      "[6] feature torch.Size([300, 4096]) target torch.Size([300])\n",
      "[7] feature torch.Size([300, 4096]) target torch.Size([300])\n",
      "[8] feature torch.Size([300, 4096]) target torch.Size([300])\n",
      "[9] feature torch.Size([300, 4096]) target torch.Size([300])\n",
      "[10] feature torch.Size([300, 4096]) target torch.Size([300])\n",
      "[11] feature torch.Size([300, 4096]) target torch.Size([300])\n",
      "[12] feature torch.Size([300, 4096]) target torch.Size([300])\n",
      "[13] feature torch.Size([300, 4096]) target torch.Size([300])\n",
      "[14] feature torch.Size([300, 4096]) target torch.Size([300])\n",
      "[15] feature torch.Size([300, 4096]) target torch.Size([300])\n",
      "[16] feature torch.Size([300, 4096]) target torch.Size([300])\n",
      "[17] feature torch.Size([300, 4096]) target torch.Size([300])\n",
      "[18] feature torch.Size([300, 4096]) target torch.Size([300])\n",
      "[19] feature torch.Size([300, 4096]) target torch.Size([300])\n",
      "[20] feature torch.Size([300, 4096]) target torch.Size([300])\n",
      "[21] feature torch.Size([300, 4096]) target torch.Size([300])\n",
      "[22] feature torch.Size([300, 4096]) target torch.Size([300])\n",
      "[23] feature torch.Size([300, 4096]) target torch.Size([300])\n",
      "[24] feature torch.Size([300, 4096]) target torch.Size([300])\n",
      "[25] feature torch.Size([300, 4096]) target torch.Size([300])\n",
      "[26] feature torch.Size([300, 4096]) target torch.Size([300])\n",
      "[27] feature torch.Size([300, 4096]) target torch.Size([300])\n",
      "[28] feature torch.Size([300, 4096]) target torch.Size([300])\n",
      "[29] feature torch.Size([300, 4096]) target torch.Size([300])\n",
      "[30] feature torch.Size([300, 4096]) target torch.Size([300])\n"
     ]
    }
   ],
   "source": [
    "for _, (feature, target) in enumerate(TRAIN_DL):\n",
    "    print(f'[{_}] feature {feature.shape} target {target.shape}')"
   ],
   "metadata": {
    "collapsed": false,
    "ExecuteTime": {
     "end_time": "2024-03-20T03:22:46.970985900Z",
     "start_time": "2024-03-20T03:22:46.868559200Z"
    }
   },
   "id": "f99023b259026c67",
   "execution_count": 64
  },
  {
   "cell_type": "markdown",
   "source": [
    "(6) 모델 클래스 정의"
   ],
   "metadata": {
    "collapsed": false
   },
   "id": "8d4d7cd51b60270b"
  },
  {
   "cell_type": "code",
   "outputs": [],
   "source": [
    "import torch.nn as nn\n",
    "import torch.optim as optim"
   ],
   "metadata": {
    "collapsed": false,
    "ExecuteTime": {
     "end_time": "2024-03-20T03:22:59.062672700Z",
     "start_time": "2024-03-20T03:22:59.042673500Z"
    }
   },
   "id": "eac211e747d10914",
   "execution_count": 65
  },
  {
   "cell_type": "code",
   "outputs": [],
   "source": [
    "### 모델 클래스 정의\n",
    "class DogBreedModel1(nn.Module):\n",
    "    # 구성요소 정의 함수\n",
    "    def __init__(self, in_, out_):\n",
    "        super().__init__()  # 부모 클래스 생성자\n",
    "        self.layer1 = nn.Linear(in_, 4000)\n",
    "        self.layer2 = nn.Linear(4000, 3000)\n",
    "        self.layer3 = nn.Linear(3000, 2000)\n",
    "        self.layer4 = nn.Linear(2000, 1000)\n",
    "        self.drop = nn.Dropout(0.5)\n",
    "        self.layer5 = nn.Linear(1000, 500)\n",
    "        self.layer6 = nn.Linear(500, 100)\n",
    "        self.layer7 = nn.Linear(100, out_)\n",
    "        self.relu = nn.ReLU()\n",
    "    \n",
    "    def forward(self, x):\n",
    "        x = self.layer1(x)\n",
    "        x = self.relu(x)\n",
    "        x = self.layer2(x)\n",
    "        x = self.relu(x)\n",
    "        x = self.layer3(x)\n",
    "        x = self.relu(x)\n",
    "        x = self.layer4(x)\n",
    "        x = self.drop(x)\n",
    "        x = self.relu(x)\n",
    "        x = self.layer5(x)\n",
    "        x = self.relu(x)\n",
    "        x = self.layer6(x)\n",
    "        x = self.relu(x)\n",
    "        x = self.layer7(x)\n",
    "        return x"
   ],
   "metadata": {
    "collapsed": false,
    "ExecuteTime": {
     "end_time": "2024-03-20T03:32:29.730035300Z",
     "start_time": "2024-03-20T03:32:29.684823100Z"
    }
   },
   "id": "9f0e41a8cdbbb200",
   "execution_count": 78
  },
  {
   "cell_type": "code",
   "outputs": [],
   "source": [
    "model_dir = \"./model\"\n",
    "model_name = model_dir + '/best_model2.pth'\n",
    "\n",
    "if not os.path.exists(model_dir):\n",
    "    os.mkdir(model_dir)   # model 폴더 없을 시 생성"
   ],
   "metadata": {
    "collapsed": false,
    "ExecuteTime": {
     "end_time": "2024-03-20T03:32:32.280293600Z",
     "start_time": "2024-03-20T03:32:32.255376600Z"
    }
   },
   "id": "eb26f91c34f07974",
   "execution_count": 79
  },
  {
   "cell_type": "code",
   "outputs": [],
   "source": [
    "# 실행 디바이스\n",
    "DEVICE = 'cuda' if torch.cuda.is_available() else 'cpu'\n",
    "\n",
    "# 입출력 피쳐\n",
    "IN_DIM, OUT_DIM = dog_image_array.shape[1], np.unique(dog_breed_array).size\n",
    "\n",
    "# 모델 인스턴스\n",
    "MODEL = DogBreedModel1(IN_DIM, OUT_DIM)\n",
    "\n",
    "# 최적화 인스턴스 생성\n",
    "OPTIMIZER = optim.SGD(MODEL.parameters())   # w, b 넘겨줌\n",
    "\n",
    "# 손실 함수\n",
    "LOSS_FN = nn.CrossEntropyLoss().to(DEVICE)\n",
    "\n",
    "# 학습 횟수 설정\n",
    "EPOCHS = 10\n",
    "\n",
    "# 분류 개수\n",
    "CLASSES = len(label_encoder.classes_)   # OUT_DIM"
   ],
   "metadata": {
    "collapsed": false,
    "ExecuteTime": {
     "end_time": "2024-03-20T03:32:32.763871900Z",
     "start_time": "2024-03-20T03:32:32.557148400Z"
    }
   },
   "id": "76399ac12e2727fd",
   "execution_count": 80
  },
  {
   "cell_type": "code",
   "outputs": [
    {
     "data": {
      "text/plain": "(4096, 80)"
     },
     "execution_count": 69,
     "metadata": {},
     "output_type": "execute_result"
    }
   ],
   "source": [
    "IN_DIM, OUT_DIM"
   ],
   "metadata": {
    "collapsed": false,
    "ExecuteTime": {
     "end_time": "2024-03-20T03:24:42.474585300Z",
     "start_time": "2024-03-20T03:24:42.418260Z"
    }
   },
   "id": "832393af2c1e94c5",
   "execution_count": 69
  },
  {
   "cell_type": "code",
   "outputs": [
    {
     "name": "stdout",
     "output_type": "stream",
     "text": [
      "('layer1.weight', Parameter containing:\n",
      "tensor([[ 0.0118,  0.0128, -0.0126,  ...,  0.0043, -0.0054, -0.0129],\n",
      "        [-0.0030, -0.0088, -0.0141,  ..., -0.0081, -0.0119, -0.0105],\n",
      "        [-0.0096,  0.0065,  0.0025,  ...,  0.0151,  0.0103, -0.0129],\n",
      "        ...,\n",
      "        [-0.0011, -0.0095, -0.0002,  ...,  0.0030,  0.0004,  0.0034],\n",
      "        [ 0.0028, -0.0137,  0.0111,  ..., -0.0107,  0.0099, -0.0143],\n",
      "        [-0.0047, -0.0153,  0.0110,  ...,  0.0078,  0.0062, -0.0047]],\n",
      "       requires_grad=True))\n",
      "('layer1.bias', Parameter containing:\n",
      "tensor([-0.0143, -0.0022, -0.0088,  ..., -0.0042, -0.0108, -0.0018],\n",
      "       requires_grad=True))\n",
      "('layer2.weight', Parameter containing:\n",
      "tensor([[ 0.0019,  0.0085,  0.0099,  ...,  0.0050, -0.0030, -0.0152],\n",
      "        [ 0.0101, -0.0025,  0.0010,  ..., -0.0114,  0.0047,  0.0010],\n",
      "        [-0.0156,  0.0051, -0.0090,  ..., -0.0092, -0.0147,  0.0045],\n",
      "        ...,\n",
      "        [-0.0139, -0.0007,  0.0044,  ...,  0.0039,  0.0122,  0.0104],\n",
      "        [-0.0098, -0.0144, -0.0039,  ...,  0.0067, -0.0125, -0.0146],\n",
      "        [-0.0012, -0.0029, -0.0063,  ..., -0.0119, -0.0007,  0.0151]],\n",
      "       requires_grad=True))\n",
      "('layer2.bias', Parameter containing:\n",
      "tensor([-0.0076, -0.0115, -0.0044,  ..., -0.0063, -0.0030, -0.0075],\n",
      "       requires_grad=True))\n",
      "('layer3.weight', Parameter containing:\n",
      "tensor([[-0.0046,  0.0142,  0.0027,  ...,  0.0174, -0.0025, -0.0048],\n",
      "        [ 0.0053, -0.0144,  0.0062,  ..., -0.0094, -0.0028, -0.0005],\n",
      "        [ 0.0086,  0.0162, -0.0020,  ...,  0.0122,  0.0096, -0.0093],\n",
      "        ...,\n",
      "        [-0.0123, -0.0120, -0.0029,  ..., -0.0056, -0.0088,  0.0002],\n",
      "        [-0.0069, -0.0021,  0.0122,  ..., -0.0112, -0.0083, -0.0168],\n",
      "        [-0.0096,  0.0174, -0.0105,  ..., -0.0042, -0.0132, -0.0122]],\n",
      "       requires_grad=True))\n",
      "('layer3.bias', Parameter containing:\n",
      "tensor([ 0.0096,  0.0078,  0.0049,  ...,  0.0026, -0.0142, -0.0074],\n",
      "       requires_grad=True))\n",
      "('layer4.weight', Parameter containing:\n",
      "tensor([[ 0.0169,  0.0110,  0.0155,  ..., -0.0144, -0.0193, -0.0121],\n",
      "        [ 0.0139, -0.0119, -0.0156,  ..., -0.0052, -0.0188,  0.0208],\n",
      "        [-0.0165, -0.0075,  0.0084,  ...,  0.0124, -0.0174, -0.0192],\n",
      "        ...,\n",
      "        [-0.0159, -0.0087,  0.0222,  ..., -0.0074,  0.0139, -0.0116],\n",
      "        [-0.0018, -0.0002,  0.0029,  ...,  0.0116, -0.0092,  0.0142],\n",
      "        [-0.0011,  0.0031,  0.0195,  ..., -0.0070, -0.0035, -0.0153]],\n",
      "       requires_grad=True))\n",
      "('layer4.bias', Parameter containing:\n",
      "tensor([ 3.4760e-03,  1.2903e-03, -1.9187e-02, -4.6658e-03,  1.2600e-02,\n",
      "        -6.7156e-03,  1.9377e-02, -1.4572e-02, -9.9239e-03, -1.0326e-02,\n",
      "         1.4006e-03, -9.1427e-03,  6.7399e-03,  6.9613e-03,  1.4403e-02,\n",
      "        -1.0208e-03, -1.2618e-02,  1.5231e-02,  6.7752e-03, -2.0083e-02,\n",
      "         2.1484e-03, -1.0649e-02, -1.6645e-02,  1.0520e-02, -2.0570e-02,\n",
      "        -1.6597e-02, -1.3263e-02,  9.8828e-03, -7.2421e-03,  7.8339e-03,\n",
      "        -8.3185e-03,  1.6880e-03, -1.5274e-02,  1.6854e-02,  3.4628e-05,\n",
      "        -1.6175e-02, -8.0335e-03, -1.1763e-02, -1.5092e-02,  8.9435e-03,\n",
      "         1.1624e-02, -4.3111e-03,  1.0244e-02,  1.6140e-02, -1.6510e-02,\n",
      "         1.2789e-02,  1.5918e-02, -8.5938e-04,  1.7131e-02, -6.9210e-05,\n",
      "        -1.1620e-02,  4.4940e-03, -1.0952e-02, -2.0065e-02, -1.5683e-02,\n",
      "        -1.9203e-02,  9.0998e-03,  1.8411e-02, -1.9436e-02, -1.6412e-02,\n",
      "         2.5264e-03,  3.4905e-03, -3.0149e-03,  2.0518e-02,  1.2277e-02,\n",
      "        -2.3831e-03,  2.1886e-02,  3.4891e-03, -6.1144e-03, -5.6496e-03,\n",
      "         2.1137e-02,  1.1053e-02,  4.5613e-03,  2.2269e-02, -2.0175e-02,\n",
      "         1.1677e-02, -1.3809e-02, -1.9489e-02, -2.8687e-03,  2.6910e-03,\n",
      "         2.0267e-02,  1.1291e-02, -1.1202e-03, -1.1698e-02, -1.3853e-02,\n",
      "         1.2913e-02,  1.7050e-02, -2.1455e-04, -7.6300e-03,  9.3073e-03,\n",
      "        -1.4759e-02,  1.5708e-02,  4.0295e-03, -8.8276e-03,  2.3066e-03,\n",
      "         1.2572e-02, -1.4281e-03,  9.0279e-03, -1.5275e-02, -1.7527e-02,\n",
      "        -9.8050e-04, -7.6619e-03,  1.2435e-02,  3.0470e-03,  2.0389e-02,\n",
      "        -8.9388e-03, -8.8645e-03, -1.9727e-02,  8.3710e-03,  2.2144e-02,\n",
      "         2.0477e-02,  3.6023e-03, -1.9878e-03,  2.1298e-02,  7.5334e-03,\n",
      "        -9.6067e-03, -1.8593e-02, -1.9189e-02, -1.9083e-02,  1.9863e-03,\n",
      "        -1.3102e-02,  2.1109e-03,  9.7227e-03,  2.1276e-02, -3.1386e-03,\n",
      "         2.9700e-03, -2.0434e-02, -2.3065e-03,  6.1342e-03,  1.2038e-02,\n",
      "         2.1003e-03,  1.0997e-02, -4.6282e-03, -2.2719e-03, -4.6867e-03,\n",
      "        -7.8925e-03, -1.4037e-02, -2.1038e-02, -2.1184e-02, -1.9722e-02,\n",
      "         5.5171e-03, -1.9686e-02, -1.5188e-02, -1.4690e-02,  9.1917e-03,\n",
      "         1.4725e-02,  4.8400e-03, -1.8241e-03, -1.5388e-02, -5.0424e-03,\n",
      "        -5.9777e-03, -9.7837e-04, -1.7535e-02, -1.4837e-02, -1.9651e-02,\n",
      "         5.2259e-03,  2.4891e-03, -9.9185e-03,  1.3040e-02,  1.1025e-02,\n",
      "         1.1810e-03,  6.2271e-03, -3.4650e-03,  1.4164e-02, -2.8176e-03,\n",
      "         1.5858e-02,  2.0782e-02, -2.0877e-02,  5.2866e-03,  4.8331e-03,\n",
      "         1.9941e-03, -1.6429e-02, -9.0887e-03,  2.6022e-03,  2.1210e-02,\n",
      "        -1.2771e-02, -2.1021e-02,  1.7407e-02, -9.3687e-03, -7.9112e-03,\n",
      "         7.6341e-03, -2.2355e-02,  1.5911e-02, -1.9404e-03,  2.0022e-02,\n",
      "        -1.6176e-02, -1.3820e-03,  1.5562e-02,  2.1878e-02, -1.6611e-02,\n",
      "        -1.0052e-02, -1.6775e-02,  1.3682e-02,  1.4160e-02,  4.3496e-04,\n",
      "        -1.2826e-02,  2.2176e-02, -5.8215e-03, -1.9733e-02,  2.7961e-03,\n",
      "         3.6296e-03, -1.7207e-02, -2.7515e-03, -5.3819e-03, -4.1536e-03,\n",
      "        -1.1128e-03,  1.2896e-02,  6.4784e-03,  1.1267e-03,  2.1666e-02,\n",
      "         2.0473e-02,  1.0758e-02, -9.2145e-03,  3.7392e-03,  7.9352e-03,\n",
      "        -1.6322e-03,  1.7663e-03,  2.2115e-02, -1.9792e-03, -1.7215e-02,\n",
      "        -3.6845e-03, -1.7686e-02,  1.8265e-02, -6.1518e-03,  8.5512e-03,\n",
      "         7.2507e-04,  1.0328e-02, -2.1673e-02,  8.8125e-03,  1.4437e-02,\n",
      "         1.2004e-02,  2.4364e-03,  1.9189e-02,  1.2446e-02,  1.3282e-02,\n",
      "        -8.8972e-03, -1.9524e-02,  1.8143e-02, -1.0838e-02,  2.1705e-02,\n",
      "         2.1329e-02, -3.3714e-03, -1.1996e-03, -9.9270e-03, -7.5699e-03,\n",
      "         8.9824e-03, -4.7231e-03,  9.4870e-03,  2.2179e-02, -1.0316e-02,\n",
      "         1.1606e-02,  2.7134e-04,  1.4103e-02, -3.4716e-03, -8.2492e-03,\n",
      "         1.0835e-02,  1.8503e-02, -2.1439e-02,  8.1556e-03, -2.1805e-02,\n",
      "         1.0557e-02, -9.1496e-03,  9.4998e-03, -1.6770e-02, -1.4048e-02,\n",
      "        -1.2330e-02,  8.1315e-03, -1.2168e-02, -1.4937e-02, -1.5182e-02,\n",
      "        -6.4233e-03,  8.5751e-03, -1.8408e-02,  9.9595e-03, -1.5278e-02,\n",
      "        -1.9037e-02, -1.0731e-02,  9.8644e-03,  1.1368e-02,  1.9387e-03,\n",
      "        -1.2559e-02,  1.6043e-02,  7.6699e-03, -2.9396e-03,  1.0602e-02,\n",
      "         1.4544e-02, -6.5393e-03,  1.5772e-02,  1.5319e-02, -5.9774e-03,\n",
      "        -2.9528e-03, -2.1949e-02,  1.9158e-02,  2.1804e-02,  1.3432e-02,\n",
      "        -1.4412e-02, -1.8601e-02, -1.4788e-02, -1.2211e-02, -2.0431e-02,\n",
      "         1.3182e-02,  2.9213e-04,  1.2986e-02, -2.0825e-02, -2.1894e-02,\n",
      "         6.9206e-03,  1.3069e-02, -2.5441e-03,  2.1750e-02, -1.7789e-02,\n",
      "         1.9647e-02,  9.9245e-03, -1.9827e-02, -1.6453e-02,  1.3520e-03,\n",
      "         7.5190e-03, -1.7742e-02, -1.1709e-02,  1.7566e-02,  8.5510e-04,\n",
      "        -6.5901e-03, -1.0699e-02,  1.9203e-02, -7.1126e-03, -1.4203e-02,\n",
      "         1.5032e-02,  4.4896e-04, -1.4693e-02,  9.0599e-03, -1.9886e-02,\n",
      "         8.7083e-03,  2.3791e-03,  1.8829e-03, -1.5691e-02, -1.6412e-02,\n",
      "         1.8968e-02, -5.9007e-03, -1.1289e-02,  6.0007e-03, -1.4315e-02,\n",
      "         1.9155e-02,  1.6321e-02,  1.5951e-03, -1.3679e-02,  1.3095e-02,\n",
      "         5.3150e-03,  5.4559e-03, -1.5978e-02,  8.5921e-03,  2.2300e-02,\n",
      "        -2.0229e-02,  5.8833e-03, -1.8029e-02, -1.0799e-02,  2.6310e-03,\n",
      "        -2.0157e-02,  1.7445e-03,  1.0526e-02,  5.5555e-03,  2.0394e-02,\n",
      "         1.4979e-02,  6.0933e-03,  8.9761e-03,  3.2951e-03, -1.4929e-02,\n",
      "        -7.6128e-03,  1.1340e-02, -6.0682e-03,  2.0763e-02, -1.8568e-02,\n",
      "        -1.7648e-02, -3.5599e-03, -1.8131e-02, -3.5914e-04,  7.5205e-03,\n",
      "         1.0020e-02,  3.7983e-03,  1.3736e-02,  1.1925e-02,  1.2283e-02,\n",
      "        -4.9761e-03,  2.0982e-02,  2.0896e-02, -5.2303e-03,  1.8595e-02,\n",
      "         9.3301e-03,  1.6394e-02, -5.3785e-03,  1.2728e-02,  1.4427e-02,\n",
      "         1.1816e-03, -6.3031e-03,  8.6463e-03,  1.1740e-02, -9.6295e-03,\n",
      "         1.2059e-02, -4.6817e-03,  1.9994e-02, -1.4350e-02, -6.0341e-03,\n",
      "         9.0051e-03, -6.5862e-03,  6.2098e-03, -1.7059e-03, -2.1892e-02,\n",
      "         2.9475e-03, -1.7846e-02,  1.4790e-02, -9.2907e-03,  3.8601e-03,\n",
      "        -9.4347e-03,  6.3994e-03,  9.0062e-03, -1.1177e-02, -5.7419e-03,\n",
      "        -1.8405e-02, -2.1754e-03, -1.4649e-03,  5.9861e-03,  2.1119e-02,\n",
      "        -5.3257e-04,  9.8051e-03,  1.0122e-02,  6.6517e-03,  2.0246e-02,\n",
      "         9.5252e-03, -1.8061e-02, -8.4486e-04,  1.3650e-02, -1.1743e-02,\n",
      "        -2.1700e-02,  2.1191e-02,  8.2838e-03,  1.9003e-02, -1.8638e-03,\n",
      "         9.4626e-03,  1.4462e-02,  9.2961e-03, -1.1062e-02, -6.4855e-03,\n",
      "         4.1198e-03, -1.6310e-02,  1.9909e-02,  5.0339e-03, -4.0149e-03,\n",
      "        -1.6015e-02, -1.4246e-02, -4.2811e-04,  1.4954e-02,  3.7063e-03,\n",
      "         1.7345e-02,  1.1575e-02,  1.3986e-02, -1.3471e-02,  1.4988e-02,\n",
      "         1.3904e-02,  1.0071e-02,  1.5765e-02, -2.0944e-02,  5.6404e-03,\n",
      "         6.1496e-04,  2.2283e-02,  4.8875e-03, -2.1827e-02, -1.4499e-02,\n",
      "        -1.8167e-02, -1.0046e-02, -1.9299e-02, -1.5751e-02, -1.5293e-02,\n",
      "        -1.8388e-02, -8.7939e-03, -1.9073e-02,  8.3560e-03, -2.1849e-02,\n",
      "        -1.5140e-02, -1.5313e-02, -3.3796e-03,  1.8875e-02, -1.4858e-02,\n",
      "        -1.8856e-02, -1.4218e-02, -9.8648e-03,  2.1746e-03, -1.4925e-02,\n",
      "         1.8418e-02, -1.6350e-03, -1.4236e-02, -1.2651e-02, -1.5019e-02,\n",
      "         3.6966e-03,  6.5630e-03, -5.4198e-03,  2.0765e-02, -1.3439e-02,\n",
      "         5.4730e-03,  2.1077e-02,  1.1432e-02, -1.6215e-02,  2.2271e-02,\n",
      "        -1.5860e-02, -1.1063e-02,  2.0443e-02, -1.4642e-02, -1.3141e-02,\n",
      "        -1.2713e-02,  1.9859e-02,  2.2298e-02, -6.5395e-03,  1.8013e-02,\n",
      "         1.7672e-02, -7.9620e-03,  1.1794e-02,  1.7061e-02,  4.3151e-03,\n",
      "        -2.0189e-02,  1.6787e-02,  4.0975e-03,  5.6734e-03,  6.0467e-04,\n",
      "         2.8294e-03,  6.1722e-04, -1.1399e-02,  1.0023e-02, -1.3247e-02,\n",
      "        -1.9771e-02,  1.1236e-02, -6.4994e-03,  3.9288e-03,  1.5699e-02,\n",
      "        -2.6682e-03, -2.0242e-02,  1.3833e-02, -1.3830e-02,  1.2440e-02,\n",
      "         1.0202e-02,  1.3033e-02,  1.5003e-02,  1.1162e-02,  1.1561e-02,\n",
      "         3.7546e-03,  1.0562e-02,  1.9726e-02,  1.9141e-02,  1.4935e-02,\n",
      "        -6.9399e-03, -8.8267e-03,  1.5371e-02,  1.6746e-02,  9.5349e-03,\n",
      "         3.1087e-03,  1.9932e-02,  1.5330e-02, -1.7672e-02,  3.1051e-04,\n",
      "        -2.1287e-02, -9.9540e-03, -2.2206e-02, -4.3119e-03, -6.6716e-03,\n",
      "         1.0202e-02, -9.6099e-03, -8.3242e-03, -1.8047e-02,  2.1264e-02,\n",
      "         1.9210e-02,  1.0987e-03,  1.2705e-02,  1.7287e-03,  3.7239e-04,\n",
      "        -1.6610e-02,  2.0224e-02, -2.2197e-02, -1.2427e-02, -4.5984e-03,\n",
      "         2.1933e-02,  3.4134e-03,  1.7330e-03,  8.9072e-03,  2.0719e-03,\n",
      "         3.8811e-03,  1.7445e-02,  1.5722e-02, -1.3038e-02, -1.8789e-02,\n",
      "        -1.0864e-02, -1.5424e-02, -2.9989e-03,  2.2345e-02, -4.8568e-03,\n",
      "         6.2542e-04, -1.0412e-02,  8.6754e-03,  6.4814e-03,  6.2404e-03,\n",
      "         3.0261e-03, -2.4785e-03, -1.7114e-02,  9.3663e-03,  2.1051e-02,\n",
      "        -1.1702e-03, -1.8911e-02, -6.1606e-03,  3.1058e-03, -8.7172e-03,\n",
      "         8.9653e-03,  2.1875e-02, -5.7206e-03,  6.8942e-03, -4.8643e-03,\n",
      "         8.7114e-04,  1.5882e-02, -9.0958e-03, -6.6128e-03,  3.2522e-03,\n",
      "         1.9572e-03,  8.3735e-04,  8.2396e-03,  2.2170e-02, -1.4102e-02,\n",
      "        -1.6759e-02, -6.0145e-04,  1.3569e-02,  1.0030e-02,  1.6192e-02,\n",
      "         4.4023e-03, -1.4834e-02,  1.4017e-02, -4.4910e-03, -7.3895e-03,\n",
      "         1.4294e-02,  1.7019e-02,  3.2890e-03, -4.5098e-03,  2.0433e-02,\n",
      "         9.4097e-03, -1.6558e-02, -1.7918e-02,  1.4794e-03, -5.5292e-03,\n",
      "         6.6836e-03,  1.8442e-02,  1.2942e-02,  2.1804e-02,  1.0388e-02,\n",
      "        -9.3344e-03,  1.2275e-02,  1.1984e-02,  1.6878e-02, -1.7774e-02,\n",
      "         3.7377e-03,  1.8950e-02, -5.7135e-03,  1.1188e-02, -9.9266e-03,\n",
      "         1.2135e-02,  1.4164e-02,  1.3340e-02,  8.1965e-03,  1.9830e-02,\n",
      "        -1.6425e-02, -1.8118e-02,  1.0901e-02, -2.0215e-02,  1.9675e-02,\n",
      "         4.6845e-03,  1.0219e-02,  8.3337e-03, -1.3877e-02, -1.6262e-02,\n",
      "         1.5849e-02,  1.6677e-02,  4.5891e-03,  4.8906e-03,  1.8995e-02,\n",
      "        -1.5680e-02,  8.9183e-03, -1.2526e-02,  1.4882e-02,  8.6006e-03,\n",
      "        -2.1526e-02,  5.3265e-03,  2.0711e-02,  1.9465e-02, -5.4903e-03,\n",
      "        -4.8437e-03,  1.6902e-03,  1.2667e-02, -3.4929e-03,  3.3657e-03,\n",
      "        -7.0363e-03,  6.0332e-03,  1.1884e-02,  1.4129e-02, -6.0488e-04,\n",
      "        -6.4742e-03,  7.4878e-03, -1.7740e-02,  5.5520e-03, -2.0665e-02,\n",
      "        -1.9090e-02, -4.2446e-03,  1.2424e-02,  1.6007e-02, -2.2256e-02,\n",
      "         7.4624e-03,  9.7650e-03,  1.8495e-02,  1.4867e-02, -1.4270e-02,\n",
      "        -2.4683e-03, -8.5239e-03,  1.0113e-02,  1.0701e-02, -1.3039e-02,\n",
      "        -1.8924e-03,  1.4604e-02,  1.7649e-03, -9.2464e-03,  1.2662e-02,\n",
      "         3.0871e-03,  6.4056e-03,  1.9253e-02, -1.8483e-02,  2.6961e-03,\n",
      "        -2.0263e-02,  6.7726e-03, -1.8487e-02,  1.3896e-02,  6.6271e-03,\n",
      "        -2.0290e-02,  2.2617e-04, -8.0685e-03, -1.5375e-02,  1.4379e-02,\n",
      "         1.7465e-02, -2.1059e-02,  1.4762e-02,  2.1372e-02,  7.1310e-04,\n",
      "        -1.6192e-02,  1.7127e-02,  8.2006e-03, -1.8883e-02,  1.5069e-02,\n",
      "        -3.0350e-03, -3.5604e-03, -1.9820e-02,  1.9376e-02,  2.0104e-02,\n",
      "        -7.0938e-03, -6.7895e-03,  1.1514e-02,  5.3169e-03, -1.0669e-02,\n",
      "        -2.1035e-02, -1.8346e-02, -2.0019e-02,  6.5058e-03, -1.5417e-02,\n",
      "         7.9029e-03,  1.0898e-02,  9.9155e-03,  9.2845e-03, -1.1942e-02,\n",
      "         1.7943e-02, -5.9320e-03,  1.4047e-02, -1.1558e-02, -7.7177e-03,\n",
      "         1.1017e-02, -7.1571e-03, -9.5991e-03, -5.1764e-03, -2.2298e-02,\n",
      "        -5.5364e-03, -1.0759e-02, -1.9167e-03,  1.2951e-02,  7.5507e-03,\n",
      "         7.8580e-03, -8.1242e-03,  4.5094e-03,  1.6797e-02, -8.7302e-03,\n",
      "         7.3658e-04,  1.0350e-02, -1.9256e-03,  2.9553e-05, -8.5117e-03,\n",
      "         5.7601e-03, -2.6576e-03,  1.4394e-02, -1.1147e-02, -2.1214e-02,\n",
      "        -1.8017e-02, -6.9580e-03, -8.9228e-03,  9.1814e-03, -4.6430e-03,\n",
      "        -1.5934e-02,  3.5672e-03, -1.6822e-02, -3.9937e-03, -1.6949e-02,\n",
      "         1.8256e-02,  1.8203e-02,  1.4948e-02, -1.4135e-02,  2.2136e-02,\n",
      "         1.2426e-02,  9.1050e-03, -1.4354e-02, -5.0069e-03,  1.3583e-02,\n",
      "        -4.7976e-03,  1.4964e-03, -2.0674e-02, -1.9499e-03, -3.2449e-03,\n",
      "         2.1156e-02,  2.1325e-02,  4.0973e-03,  2.3581e-04, -4.9871e-03,\n",
      "        -1.3241e-02, -1.7216e-03, -1.7724e-02,  9.8834e-03, -1.3744e-02,\n",
      "         4.1599e-03,  1.5718e-02, -1.6644e-02, -1.3281e-02, -1.5801e-02,\n",
      "         9.3196e-03, -6.9924e-04,  9.6589e-03,  1.4174e-02,  1.2604e-02,\n",
      "        -1.1669e-03,  1.6828e-02, -4.1771e-03,  1.0372e-02, -2.0950e-02,\n",
      "         1.7822e-02,  3.0791e-03,  3.2922e-03, -1.7465e-02,  7.3348e-03,\n",
      "         2.1992e-02,  6.7499e-03, -8.6226e-03,  2.2007e-02, -2.1851e-02,\n",
      "         5.9607e-03, -8.1429e-03, -1.8332e-02,  1.4370e-02, -1.4266e-02,\n",
      "        -2.0006e-02,  1.4435e-02,  1.4944e-02,  2.2046e-02, -1.0710e-03,\n",
      "        -1.3791e-02, -2.3116e-04,  8.2802e-03, -6.8525e-03, -1.8436e-02,\n",
      "        -3.7765e-03, -1.0130e-02,  1.2718e-02, -6.8004e-03, -1.7693e-02,\n",
      "        -2.2247e-02, -6.7086e-04,  1.5216e-03,  8.1305e-03, -1.8701e-02,\n",
      "         1.8301e-02,  1.1773e-02,  1.9339e-03,  1.7411e-02, -1.4438e-02,\n",
      "         8.1948e-03,  3.0395e-04, -6.1724e-03,  2.1770e-02,  8.5184e-03,\n",
      "         3.1177e-03, -4.9230e-03,  1.6929e-02, -1.0568e-02,  1.0610e-02,\n",
      "        -1.1056e-02,  3.1449e-03,  1.9983e-02, -1.4370e-02,  8.8764e-03,\n",
      "         7.3309e-03,  9.7583e-03,  1.7503e-02,  7.6530e-03, -1.6001e-02,\n",
      "         1.7410e-02, -1.6674e-02, -2.1312e-02,  5.6692e-03, -1.4842e-02,\n",
      "        -7.2998e-03,  1.0235e-02,  2.1624e-03, -1.0309e-02,  1.1411e-02,\n",
      "         7.6652e-03,  1.7780e-02,  1.9678e-02,  2.2224e-02,  9.3799e-03,\n",
      "        -2.0169e-02,  1.1465e-02,  6.3525e-03, -1.4437e-03, -1.2786e-02,\n",
      "        -1.3956e-02,  1.6404e-03,  2.6976e-03,  7.8743e-03, -1.5270e-02,\n",
      "         1.4172e-02,  1.2479e-02,  2.1542e-02, -2.1409e-02,  1.8017e-02,\n",
      "        -9.4696e-03, -7.5381e-03,  1.4890e-02,  2.1834e-02,  1.9034e-02,\n",
      "        -1.1998e-02,  5.8737e-03,  1.0515e-02, -1.5755e-02, -1.4603e-02,\n",
      "        -1.6890e-02,  1.2373e-02, -1.2219e-02, -3.1133e-03, -9.0042e-03,\n",
      "        -4.7841e-03, -1.3701e-02,  1.0022e-02, -1.6651e-02,  1.3462e-03,\n",
      "        -1.5649e-02,  1.7204e-02,  1.4882e-02,  2.2165e-02,  1.5257e-02,\n",
      "         1.6504e-02,  1.0193e-02,  1.8823e-02,  1.2951e-02,  3.8742e-03,\n",
      "         1.9221e-02,  7.4939e-03,  1.6870e-02,  1.9006e-02,  1.8820e-02,\n",
      "         1.3281e-02, -1.9154e-03,  2.2045e-02, -1.1846e-02, -1.9286e-02,\n",
      "         1.9724e-02, -1.3478e-03,  2.1239e-02,  1.4999e-02, -1.2096e-02,\n",
      "         1.5868e-02,  2.1204e-02, -2.1462e-02, -1.6487e-02, -1.4652e-02,\n",
      "        -1.9117e-02, -1.8622e-02,  1.7697e-02, -4.3354e-03, -2.9814e-03,\n",
      "         8.3051e-03,  4.4156e-03,  1.0074e-02, -2.0130e-02, -1.0552e-02,\n",
      "         1.3883e-02, -9.9313e-04, -1.0574e-03,  1.5838e-02,  6.9682e-03],\n",
      "       requires_grad=True))\n",
      "('layer5.weight', Parameter containing:\n",
      "tensor([[ 0.0208,  0.0294,  0.0099,  ...,  0.0117, -0.0195,  0.0284],\n",
      "        [-0.0279, -0.0134, -0.0145,  ...,  0.0142,  0.0282,  0.0302],\n",
      "        [ 0.0009, -0.0025, -0.0083,  ..., -0.0149, -0.0200, -0.0049],\n",
      "        ...,\n",
      "        [-0.0055, -0.0074,  0.0206,  ...,  0.0021,  0.0244, -0.0117],\n",
      "        [-0.0088, -0.0244, -0.0217,  ...,  0.0267, -0.0142,  0.0189],\n",
      "        [-0.0244,  0.0292, -0.0227,  ..., -0.0230, -0.0088,  0.0300]],\n",
      "       requires_grad=True))\n",
      "('layer5.bias', Parameter containing:\n",
      "tensor([ 0.0114, -0.0306, -0.0157,  0.0312,  0.0056, -0.0153,  0.0132, -0.0097,\n",
      "         0.0018, -0.0306,  0.0152, -0.0179, -0.0250, -0.0068,  0.0063,  0.0122,\n",
      "         0.0141, -0.0196,  0.0288,  0.0125, -0.0083,  0.0211,  0.0191,  0.0272,\n",
      "         0.0141,  0.0105,  0.0049, -0.0117,  0.0158,  0.0095,  0.0051, -0.0176,\n",
      "        -0.0267,  0.0128,  0.0046,  0.0092, -0.0306, -0.0008,  0.0260,  0.0250,\n",
      "         0.0287, -0.0101, -0.0310,  0.0258,  0.0219, -0.0241,  0.0062,  0.0116,\n",
      "         0.0008,  0.0200, -0.0067,  0.0060,  0.0188, -0.0041,  0.0275, -0.0087,\n",
      "         0.0119, -0.0295,  0.0026, -0.0009, -0.0301,  0.0055,  0.0116,  0.0294,\n",
      "         0.0044,  0.0060, -0.0222, -0.0185,  0.0230,  0.0195, -0.0062,  0.0224,\n",
      "        -0.0105,  0.0105, -0.0073,  0.0006,  0.0115, -0.0295,  0.0292, -0.0115,\n",
      "         0.0044,  0.0007,  0.0053,  0.0244, -0.0038, -0.0088, -0.0087,  0.0248,\n",
      "         0.0175, -0.0306, -0.0293,  0.0077,  0.0045,  0.0315, -0.0311, -0.0176,\n",
      "        -0.0199, -0.0219,  0.0085, -0.0244,  0.0152,  0.0119, -0.0173, -0.0128,\n",
      "        -0.0020, -0.0166, -0.0070,  0.0016,  0.0015,  0.0119, -0.0107, -0.0193,\n",
      "         0.0098,  0.0034, -0.0144,  0.0120,  0.0074, -0.0310,  0.0026,  0.0087,\n",
      "        -0.0034,  0.0149, -0.0074,  0.0184,  0.0181,  0.0137,  0.0088, -0.0060,\n",
      "        -0.0227, -0.0114, -0.0297, -0.0212, -0.0239, -0.0094, -0.0081,  0.0149,\n",
      "        -0.0276, -0.0215,  0.0069, -0.0213,  0.0292,  0.0146, -0.0039,  0.0226,\n",
      "        -0.0305, -0.0260, -0.0009, -0.0122,  0.0203,  0.0095, -0.0109,  0.0155,\n",
      "        -0.0228, -0.0232, -0.0022, -0.0299,  0.0088, -0.0128,  0.0159, -0.0302,\n",
      "         0.0020, -0.0165, -0.0044,  0.0298,  0.0292, -0.0042,  0.0294,  0.0196,\n",
      "        -0.0096,  0.0086, -0.0306,  0.0158,  0.0232,  0.0099, -0.0003,  0.0260,\n",
      "        -0.0162,  0.0144, -0.0003, -0.0113, -0.0046, -0.0056, -0.0266, -0.0099,\n",
      "        -0.0165,  0.0242,  0.0255,  0.0183,  0.0217,  0.0016,  0.0262, -0.0263,\n",
      "         0.0162, -0.0048,  0.0139, -0.0127,  0.0250,  0.0173, -0.0017,  0.0014,\n",
      "         0.0033, -0.0223,  0.0287,  0.0233,  0.0252, -0.0231, -0.0283, -0.0114,\n",
      "         0.0158,  0.0159,  0.0201,  0.0291,  0.0235,  0.0313, -0.0169, -0.0281,\n",
      "        -0.0159,  0.0154, -0.0109,  0.0311,  0.0083, -0.0033, -0.0124,  0.0034,\n",
      "        -0.0291,  0.0123,  0.0064, -0.0088,  0.0043,  0.0187, -0.0044, -0.0013,\n",
      "         0.0003, -0.0134, -0.0055, -0.0093, -0.0166, -0.0256,  0.0228,  0.0271,\n",
      "        -0.0189,  0.0132,  0.0023, -0.0297, -0.0022, -0.0166,  0.0023, -0.0247,\n",
      "         0.0313, -0.0082,  0.0121,  0.0125,  0.0240, -0.0047, -0.0009, -0.0188,\n",
      "        -0.0135, -0.0219, -0.0217,  0.0015,  0.0308,  0.0299, -0.0130,  0.0147,\n",
      "         0.0077, -0.0104, -0.0004, -0.0264,  0.0225, -0.0080, -0.0192, -0.0082,\n",
      "        -0.0008,  0.0253,  0.0067,  0.0302,  0.0084,  0.0030, -0.0291, -0.0050,\n",
      "         0.0296, -0.0239, -0.0233, -0.0096,  0.0196, -0.0055,  0.0178, -0.0073,\n",
      "        -0.0174, -0.0261,  0.0157,  0.0057,  0.0093, -0.0169,  0.0125, -0.0278,\n",
      "         0.0228,  0.0287,  0.0304, -0.0168, -0.0046,  0.0029,  0.0050,  0.0293,\n",
      "        -0.0166,  0.0089, -0.0262, -0.0122, -0.0156,  0.0091,  0.0185, -0.0204,\n",
      "         0.0065,  0.0251, -0.0051, -0.0154, -0.0136, -0.0210,  0.0288, -0.0312,\n",
      "        -0.0068, -0.0305, -0.0149, -0.0137,  0.0011, -0.0282, -0.0289,  0.0076,\n",
      "         0.0246, -0.0089, -0.0267, -0.0149, -0.0193,  0.0074, -0.0265, -0.0145,\n",
      "         0.0315,  0.0241, -0.0007,  0.0033, -0.0263, -0.0204, -0.0028,  0.0091,\n",
      "         0.0272,  0.0023,  0.0089, -0.0010, -0.0292,  0.0002,  0.0150,  0.0098,\n",
      "         0.0013, -0.0299,  0.0194,  0.0096, -0.0095, -0.0134, -0.0107,  0.0243,\n",
      "        -0.0315, -0.0070,  0.0170, -0.0219, -0.0042,  0.0018,  0.0025, -0.0299,\n",
      "         0.0292, -0.0294, -0.0231,  0.0296,  0.0007, -0.0304, -0.0279,  0.0150,\n",
      "        -0.0177,  0.0230, -0.0028,  0.0271,  0.0009,  0.0189,  0.0304,  0.0223,\n",
      "        -0.0221,  0.0023,  0.0146,  0.0303, -0.0133, -0.0150,  0.0174, -0.0044,\n",
      "         0.0054,  0.0010,  0.0291, -0.0156,  0.0205, -0.0194,  0.0179,  0.0213,\n",
      "         0.0257, -0.0084, -0.0299, -0.0137,  0.0301,  0.0006,  0.0178,  0.0095,\n",
      "        -0.0220,  0.0041, -0.0205,  0.0130,  0.0095, -0.0040,  0.0026, -0.0246,\n",
      "         0.0172,  0.0298, -0.0078,  0.0191, -0.0279,  0.0274, -0.0120, -0.0226,\n",
      "        -0.0055, -0.0309, -0.0187, -0.0299, -0.0225, -0.0299, -0.0249,  0.0004,\n",
      "        -0.0017, -0.0228,  0.0294,  0.0221, -0.0071, -0.0052, -0.0250, -0.0180,\n",
      "        -0.0189, -0.0284, -0.0106,  0.0272,  0.0279,  0.0156,  0.0231,  0.0112,\n",
      "         0.0010,  0.0308,  0.0051,  0.0247,  0.0226,  0.0174,  0.0281,  0.0128,\n",
      "        -0.0295, -0.0117, -0.0005, -0.0079, -0.0015, -0.0248, -0.0038, -0.0257,\n",
      "        -0.0208,  0.0123,  0.0009, -0.0265, -0.0121, -0.0219, -0.0154, -0.0184,\n",
      "        -0.0008, -0.0292, -0.0309,  0.0195, -0.0244, -0.0168, -0.0280, -0.0082,\n",
      "        -0.0266,  0.0136,  0.0283,  0.0157,  0.0017,  0.0195,  0.0026,  0.0220,\n",
      "        -0.0211,  0.0073, -0.0109,  0.0231, -0.0252,  0.0146, -0.0097,  0.0158,\n",
      "        -0.0023, -0.0198,  0.0100,  0.0070], requires_grad=True))\n",
      "('layer6.weight', Parameter containing:\n",
      "tensor([[ 0.0050, -0.0067, -0.0356,  ...,  0.0126, -0.0169, -0.0021],\n",
      "        [-0.0153,  0.0259, -0.0435,  ...,  0.0004, -0.0110,  0.0176],\n",
      "        [-0.0019, -0.0028, -0.0182,  ..., -0.0171,  0.0374,  0.0412],\n",
      "        ...,\n",
      "        [-0.0113,  0.0314, -0.0116,  ...,  0.0197, -0.0151,  0.0272],\n",
      "        [-0.0243, -0.0204,  0.0139,  ...,  0.0143,  0.0082, -0.0396],\n",
      "        [-0.0414, -0.0218,  0.0277,  ...,  0.0186, -0.0213, -0.0417]],\n",
      "       requires_grad=True))\n",
      "('layer6.bias', Parameter containing:\n",
      "tensor([ 0.0094,  0.0327,  0.0254,  0.0207, -0.0391, -0.0292, -0.0008, -0.0062,\n",
      "         0.0067, -0.0030, -0.0323,  0.0318,  0.0305,  0.0387, -0.0353, -0.0113,\n",
      "         0.0168, -0.0378,  0.0382, -0.0245, -0.0020, -0.0020, -0.0194,  0.0254,\n",
      "         0.0196, -0.0226,  0.0199,  0.0388,  0.0393,  0.0370, -0.0373,  0.0398,\n",
      "        -0.0152,  0.0241,  0.0345,  0.0317,  0.0260, -0.0005,  0.0379,  0.0427,\n",
      "         0.0134, -0.0144, -0.0264, -0.0203, -0.0268,  0.0146,  0.0109,  0.0380,\n",
      "        -0.0374, -0.0367,  0.0225, -0.0365, -0.0284,  0.0169, -0.0044, -0.0072,\n",
      "         0.0053,  0.0137,  0.0252, -0.0011, -0.0223, -0.0077,  0.0183,  0.0046,\n",
      "         0.0104, -0.0090, -0.0445,  0.0111,  0.0379, -0.0068,  0.0200,  0.0074,\n",
      "        -0.0277,  0.0277,  0.0105,  0.0211, -0.0284,  0.0307,  0.0340,  0.0158,\n",
      "         0.0416,  0.0103, -0.0054,  0.0037,  0.0144,  0.0190,  0.0379, -0.0223,\n",
      "         0.0159, -0.0382,  0.0251, -0.0332,  0.0224, -0.0382,  0.0053,  0.0322,\n",
      "        -0.0412,  0.0244,  0.0369, -0.0027], requires_grad=True))\n",
      "('layer7.weight', Parameter containing:\n",
      "tensor([[ 0.0367, -0.0818, -0.0109,  ...,  0.0303,  0.0139, -0.0058],\n",
      "        [ 0.0248, -0.0947,  0.0454,  ...,  0.0506,  0.0790, -0.0041],\n",
      "        [ 0.0641,  0.0242,  0.0927,  ...,  0.0962,  0.0031, -0.0957],\n",
      "        ...,\n",
      "        [ 0.0368,  0.0135,  0.0300,  ...,  0.0467, -0.0149,  0.0909],\n",
      "        [ 0.0969, -0.0421, -0.0338,  ...,  0.0002,  0.0597, -0.0426],\n",
      "        [-0.0799,  0.0789, -0.0731,  ..., -0.0495, -0.0269, -0.0608]],\n",
      "       requires_grad=True))\n",
      "('layer7.bias', Parameter containing:\n",
      "tensor([ 0.0207,  0.0721,  0.0757,  0.0530,  0.0763,  0.0715, -0.0701, -0.0393,\n",
      "         0.0117, -0.0605, -0.0123, -0.0917, -0.0553,  0.0784,  0.0212, -0.0275,\n",
      "        -0.0045,  0.0253,  0.0486, -0.0980, -0.0853,  0.0923,  0.0778,  0.0800,\n",
      "        -0.0822, -0.0144,  0.0950,  0.0626, -0.0213, -0.0916,  0.0053,  0.0617,\n",
      "        -0.0264,  0.0483,  0.0951,  0.0821, -0.0568, -0.0202, -0.0115, -0.0122,\n",
      "         0.0799,  0.0081, -0.0967, -0.0268, -0.0181,  0.0628,  0.0214,  0.0016,\n",
      "         0.0701,  0.0468, -0.0243,  0.0892, -0.0474,  0.0955,  0.0413, -0.0113,\n",
      "         0.0860,  0.0227,  0.0885,  0.0748,  0.0533, -0.0148, -0.0025,  0.0407,\n",
      "        -0.0481, -0.0476,  0.0950,  0.0905,  0.0824, -0.0536, -0.0603,  0.0664,\n",
      "        -0.0306, -0.0980,  0.0760, -0.0831, -0.0155, -0.0113,  0.0186, -0.0449],\n",
      "       requires_grad=True))\n"
     ]
    }
   ],
   "source": [
    "for para in MODEL.named_parameters():\n",
    "    print(para)"
   ],
   "metadata": {
    "collapsed": false,
    "ExecuteTime": {
     "end_time": "2024-03-20T03:34:41.472254400Z",
     "start_time": "2024-03-20T03:34:41.435393400Z"
    }
   },
   "id": "46430c0ee502cd79",
   "execution_count": 85
  },
  {
   "cell_type": "markdown",
   "source": [
    "(7) 함수 정의 (학습, 검증, 테스트)"
   ],
   "metadata": {
    "collapsed": false
   },
   "id": "469b5d1d83ac0388"
  },
  {
   "cell_type": "code",
   "outputs": [
    {
     "name": "stdout",
     "output_type": "stream",
     "text": [
      "model => 2233545369824\n"
     ]
    }
   ],
   "source": [
    " print(f'model => {id(MODEL)}')"
   ],
   "metadata": {
    "collapsed": false,
    "ExecuteTime": {
     "end_time": "2024-03-20T03:35:53.868047900Z",
     "start_time": "2024-03-20T03:35:53.794477800Z"
    }
   },
   "id": "bc3473df367b4c54",
   "execution_count": 86
  },
  {
   "cell_type": "code",
   "outputs": [],
   "source": [
    "import torchmetrics.functional as metrics"
   ],
   "metadata": {
    "collapsed": false,
    "ExecuteTime": {
     "end_time": "2024-03-20T03:24:55.753293900Z",
     "start_time": "2024-03-20T03:24:54.317785100Z"
    }
   },
   "id": "7ba8cefca4ca46cb",
   "execution_count": 71
  },
  {
   "cell_type": "code",
   "outputs": [],
   "source": [
    "### 학습 진행함수\n",
    "def training(device, epoch, model, dataLoader, optimizer, loss_fn, classes):\n",
    "    print(f'model => {id(model)}')\n",
    "    # 학습모드\n",
    "    model.train()\n",
    "\n",
    "    # 배치크기만큼 학습진행 및 저장\n",
    "    train_report = [[], [], []] # loss, acc, f1\n",
    "    for idx, (feature, target) in enumerate(dataLoader):\n",
    "        # 배치크기만큼의 학습 데이터 준비\n",
    "        # 입력된 device로 이동한 텐서 반환(복사본)\n",
    "        feature, target = feature.to(device), target.to(device)\n",
    "\n",
    "        # 배치크기만큼 학습\n",
    "        pre_target = model(feature)\n",
    "\n",
    "        # 손실계산\n",
    "        loss = loss_fn(pre_target, target)\n",
    "        train_report[0].append(loss)\n",
    "\n",
    "        # 성능 평가\n",
    "        acc = metrics.accuracy(pre_target, target, task='multiclass', num_classes=classes)\n",
    "        train_report[1].append(acc)\n",
    "        print(pre_target.argmax(dim=1)[:10], target[:10], sep='\\n')\n",
    "        # f1-score\n",
    "        f1 = metrics.f1_score(pre_target, target, task='multiclass', num_classes=classes)\n",
    "        train_report[2].append(f1)\n",
    "\n",
    "        # W, b 업데이트\n",
    "        optimizer.zero_grad()\n",
    "        loss.backward()\n",
    "        optimizer.step()\n",
    "\n",
    "        if not idx % 50: print('.', end='')\n",
    "\n",
    "    # 에포크 단위 학습 진행 메시지 출력\n",
    "    # 에포크 단위 학습 진행 메시지 출력\n",
    "    loss_score = (sum(train_report[0])/BATCH_SIZE).item()\n",
    "    acc_score = (sum(train_report[1])/BATCH_SIZE).item()\n",
    "    f1_score = (sum(train_report[2])/BATCH_SIZE).item()\n",
    "    print(f'\\n[{epoch+1} Train ] Loss ==> {loss_score:.3f} Acc ==> {acc_score:.3f} F1 ==> {f1_score:.3f}')\n",
    "    \n",
    "    return loss_score, acc_score, f1_score"
   ],
   "metadata": {
    "collapsed": false,
    "ExecuteTime": {
     "end_time": "2024-03-20T03:42:30.938429600Z",
     "start_time": "2024-03-20T03:42:30.905739900Z"
    }
   },
   "id": "72e27df4f6539c4",
   "execution_count": 99
  },
  {
   "cell_type": "code",
   "outputs": [
    {
     "name": "stdout",
     "output_type": "stream",
     "text": [
      "model => 2233545369824\n",
      "tensor([13, 13, 66, 13, 66, 66, 13, 66, 66, 66])\n",
      "tensor([43,  5, 36, 14, 25, 72, 56, 31, 19, 16])\n",
      ".tensor([66, 66, 13, 66, 13, 66, 66, 66, 66, 66])\n",
      "tensor([ 7, 53, 66, 28, 13, 41,  9, 31, 70, 57])\n",
      "tensor([66, 13, 13, 66, 66, 66, 66, 66, 66, 66])\n",
      "tensor([26, 31, 71, 52,  6, 31, 15, 38, 60, 53])\n",
      "tensor([66, 66, 13, 13, 13, 66, 66, 66, 66, 66])\n",
      "tensor([48, 64,  1, 67, 77, 41, 57,  9, 34, 37])\n",
      "tensor([13, 66, 66, 13, 66, 13, 13, 66, 66, 66])\n",
      "tensor([32, 20, 69, 24, 42, 26, 39, 45, 49, 61])\n",
      "tensor([66, 66, 13, 66, 66, 66, 66, 13, 66, 13])\n",
      "tensor([ 4, 28, 21, 52, 41,  6, 56, 27, 20,  6])\n",
      "tensor([66, 66, 66, 66, 66, 66, 66, 66, 66, 13])\n",
      "tensor([68, 59, 57, 53, 51, 29, 47, 45, 79,  0])\n",
      "tensor([66, 66, 13, 66, 66, 13, 13, 66, 13, 13])\n",
      "tensor([28, 59,  5, 67, 11, 69, 78, 16, 10, 56])\n",
      "tensor([66, 13, 66, 66, 66, 66, 13, 66, 66, 13])\n",
      "tensor([23, 24, 38,  7, 46, 64, 57, 28, 65, 73])\n",
      "tensor([66, 13, 66, 66, 66, 66, 13, 66, 13, 66])\n",
      "tensor([73, 77, 51, 78,  7, 40, 19, 66, 33, 56])\n",
      "tensor([66, 13, 66, 13, 13, 66, 13, 66, 66, 66])\n",
      "tensor([17, 38, 74, 49, 14, 28, 30, 15, 30, 12])\n",
      "tensor([66, 13, 13, 66, 13, 13, 13, 66, 66, 66])\n",
      "tensor([56, 17, 42, 35, 33, 31, 70, 37,  2, 48])\n",
      "tensor([66, 13, 13, 13, 13, 13, 66, 66, 66, 66])\n",
      "tensor([21, 17, 72, 21,  2, 25, 45,  5, 11, 62])\n",
      "tensor([13, 66, 66, 66, 66, 13, 13, 13, 13, 13])\n",
      "tensor([23, 70, 40,  9, 23, 33, 45, 21,  2, 20])\n",
      "tensor([13, 13, 66, 66, 66, 66, 13, 66, 66, 13])\n",
      "tensor([22, 64, 52, 56, 46, 33, 17, 54,  4, 74])\n",
      "tensor([66, 66, 66, 13, 66, 13, 66, 66, 66, 66])\n",
      "tensor([42,  8, 49,  9, 18, 53, 59, 59, 28,  4])\n",
      "tensor([66, 13, 66, 66, 66, 13, 13, 13, 66, 13])\n",
      "tensor([33, 17, 29, 65, 56, 49, 47, 69, 64, 41])\n",
      "tensor([66, 66, 66, 66, 13, 66, 66, 66, 13, 66])\n",
      "tensor([ 1, 33, 41, 34, 15, 29, 23, 34, 46, 65])\n",
      "tensor([66, 66, 13, 13, 66, 13, 13, 66, 66, 13])\n",
      "tensor([ 3, 79, 68, 77, 68, 37, 17, 31, 43, 63])\n",
      "tensor([66, 66, 13, 66, 66, 13, 13, 13, 66, 66])\n",
      "tensor([70, 37,  3, 24, 53, 39, 40, 49,  2, 67])\n",
      "tensor([66, 13, 13, 66, 13, 66, 66, 66, 13, 66])\n",
      "tensor([77, 75, 28, 17, 49, 22, 60, 27, 51,  4])\n",
      "tensor([66, 66, 66, 66, 13, 66, 13, 13, 13, 13])\n",
      "tensor([52, 27, 14, 14, 70, 18, 45, 48, 44, 12])\n",
      "tensor([66, 66, 66, 66, 66, 13, 13, 66, 66, 66])\n",
      "tensor([51, 79, 77, 52, 61, 30, 34, 75, 56, 16])\n",
      "tensor([66, 13, 66, 13, 13, 66, 66, 66, 66, 66])\n",
      "tensor([ 5, 28, 63, 55, 46, 23, 15, 42, 49, 60])\n",
      "tensor([66, 66, 66, 13, 13, 66, 66, 13, 66, 66])\n",
      "tensor([48, 66, 11, 21, 25, 36, 62, 35, 11, 73])\n",
      "tensor([66, 66, 13, 66, 13, 13, 66, 66, 13, 66])\n",
      "tensor([39, 25, 62, 69,  5, 66, 59, 47, 77, 10])\n",
      "tensor([66, 13, 66, 66, 13, 66, 66, 66, 66, 66])\n",
      "tensor([72, 23, 26, 62, 11, 58,  1,  8, 50,  7])\n",
      "tensor([66, 66, 66, 66, 66, 66, 13, 66, 66, 66])\n",
      "tensor([19, 78, 13, 24, 31, 48, 62, 60, 32, 77])\n",
      "tensor([13, 66, 66, 66, 66, 66, 66, 66, 13, 66])\n",
      "tensor([64, 53, 10, 75,  4, 28, 78, 58, 29,  0])\n",
      "tensor([13, 13, 66, 66, 66, 66, 13, 66, 13, 66])\n",
      "tensor([75, 34, 18, 25, 72,  2, 51, 79, 14,  3])\n",
      "tensor([66, 13, 66, 13, 66, 66, 66, 13, 66, 66])\n",
      "tensor([67, 26, 30,  7, 27,  9, 25, 51, 10, 46])\n",
      "\n",
      "[11 Train ] Loss ==> 0.453 Acc ==> 0.001 F1 ==> 0.001\n"
     ]
    },
    {
     "data": {
      "text/plain": "(0.45290541648864746, 0.0011777777690440416, 0.0011777777690440416)"
     },
     "execution_count": 101,
     "metadata": {},
     "output_type": "execute_result"
    }
   ],
   "source": [
    "training(DEVICE, 10, MODEL, TRAIN_DL, OPTIMIZER, LOSS_FN, CLASSES)    "
   ],
   "metadata": {
    "collapsed": false,
    "ExecuteTime": {
     "end_time": "2024-03-20T03:43:03.122281900Z",
     "start_time": "2024-03-20T03:42:54.847852300Z"
    }
   },
   "id": "12d01d40bf87f9fc",
   "execution_count": 101
  },
  {
   "cell_type": "code",
   "outputs": [],
   "source": [
    "### 검증 및 테스트 진행함수\n",
    "def testing(device, epoch, model, dataLoader, loss_fn, classes, kind='valid'):\n",
    "    # 테스트 모드\n",
    "    model.eval()\n",
    "    \n",
    "    with torch.no_grad():\n",
    "        # 배치크기 만큼의 테스트 데이터 준비\n",
    "        test_report = [[], [], []]\n",
    "        for idx, (feature, target) in enumerate(dataLoader):\n",
    "            # 배치크기만큼의 테스트 데이터 준비\n",
    "            feature, target = feature.to(device), target.to(device)\n",
    "            \n",
    "            # 학습\n",
    "            pre_target = model(feature)\n",
    "            \n",
    "            # 손실계산\n",
    "            loss = loss_fn(pre_target, target)\n",
    "            test_report[0].append(loss)\n",
    "            \n",
    "            # 성능 평가\n",
    "            acc = metrics.accuracy(pre_target, target, task='multiclass', num_classes=classes)\n",
    "            test_report[1].append(acc)\n",
    "            \n",
    "            #f1-score\n",
    "            f1 = metrics.f1_score(pre_target, target, task='multiclass', num_classes=classes)\n",
    "            test_report[2].append(f1)\n",
    "    \n",
    "    testing_type = 'Valid' if kind == 'valid' else 'Test'\n",
    "    \n",
    "    # 에포크 단위 학습 진행 메시지 출력\n",
    "    loss_score = (sum(test_report[0])/BATCH_SIZE).item()\n",
    "    acc_score = (sum(test_report[1])/BATCH_SIZE).item()\n",
    "    f1_score = (sum(test_report[2])/BATCH_SIZE).item() \n",
    "    print(f'[{epoch+1} {testing_type} ] Loss ==> {loss_score:.3f} Acc ==> {acc_score:.3f} F1 ==> {f1_score:.3f}\\n')\n",
    "    \n",
    "    return loss_score, acc_score, f1_score"
   ],
   "metadata": {
    "collapsed": false,
    "ExecuteTime": {
     "end_time": "2024-03-20T03:32:41.322496800Z",
     "start_time": "2024-03-20T03:32:41.291047700Z"
    }
   },
   "id": "e7b0bfb512e16232",
   "execution_count": 82
  },
  {
   "cell_type": "markdown",
   "source": [
    "(8) 학습 진행, 학습 성능평가"
   ],
   "metadata": {
    "collapsed": false
   },
   "id": "5acc3c073a442f46"
  },
  {
   "cell_type": "code",
   "outputs": [
    {
     "name": "stdout",
     "output_type": "stream",
     "text": [
      "[Epoch 1/10] .\n",
      "[1 Train ] Loss ==> 0.453 Acc ==> 0.001 F1 ==> 0.001\n",
      "[1 Valid ] Loss ==> 0.073 Acc ==> 0.000 F1 ==> 0.000\n",
      "\n",
      "SAVED\n",
      "\n",
      "[Epoch 2/10] .\n",
      "[2 Train ] Loss ==> 0.453 Acc ==> 0.001 F1 ==> 0.001\n",
      "[2 Valid ] Loss ==> 0.073 Acc ==> 0.000 F1 ==> 0.000\n",
      "\n",
      "SAVED\n",
      "\n",
      "[Epoch 3/10] .\n",
      "[3 Train ] Loss ==> 0.453 Acc ==> 0.001 F1 ==> 0.001\n",
      "[3 Valid ] Loss ==> 0.073 Acc ==> 0.000 F1 ==> 0.000\n",
      "\n",
      "SAVED\n",
      "\n",
      "[Epoch 4/10] .\n",
      "[4 Train ] Loss ==> 0.453 Acc ==> 0.001 F1 ==> 0.001\n",
      "[4 Valid ] Loss ==> 0.073 Acc ==> 0.000 F1 ==> 0.000\n",
      "\n",
      "SAVED\n",
      "\n",
      "[Epoch 5/10] .\n",
      "[5 Train ] Loss ==> 0.453 Acc ==> 0.001 F1 ==> 0.001\n",
      "[5 Valid ] Loss ==> 0.073 Acc ==> 0.000 F1 ==> 0.000\n",
      "\n",
      "SAVED\n",
      "\n",
      "[Epoch 6/10] .\n",
      "[6 Train ] Loss ==> 0.453 Acc ==> 0.001 F1 ==> 0.001\n",
      "[6 Valid ] Loss ==> 0.073 Acc ==> 0.000 F1 ==> 0.000\n",
      "\n",
      "SAVED\n",
      "\n",
      "[Epoch 7/10] .\n",
      "[7 Train ] Loss ==> 0.453 Acc ==> 0.001 F1 ==> 0.001\n",
      "[7 Valid ] Loss ==> 0.073 Acc ==> 0.000 F1 ==> 0.000\n",
      "\n",
      "SAVED\n",
      "\n",
      "[Epoch 8/10] .\n",
      "[8 Train ] Loss ==> 0.453 Acc ==> 0.001 F1 ==> 0.001\n",
      "[8 Valid ] Loss ==> 0.073 Acc ==> 0.000 F1 ==> 0.000\n",
      "\n",
      "SAVED\n",
      "\n",
      "[Epoch 9/10] .\n",
      "[9 Train ] Loss ==> 0.453 Acc ==> 0.001 F1 ==> 0.001\n",
      "[9 Valid ] Loss ==> 0.073 Acc ==> 0.000 F1 ==> 0.000\n",
      "SAVED\n",
      "\n",
      "[Epoch 10/10] .\n",
      "[10 Train ] Loss ==> 0.453 Acc ==> 0.001 F1 ==> 0.001\n",
      "[10 Valid ] Loss ==> 0.073 Acc ==> 0.000 F1 ==> 0.000\n",
      "\n",
      "SAVED\n",
      "\n",
      "Done!\n"
     ]
    }
   ],
   "source": [
    "# 학습 및 검증 데이터별 성능지표값\n",
    "train_ = {'loss':[], 'acc':[], 'f1':[]}\n",
    "val_ = {'loss':[], 'acc':[], 'f1':[]}\n",
    "\n",
    "# 모델 저장 기준 변수\n",
    "pred_va_score = 100\n",
    "\n",
    "# 학습 진행\n",
    "for epo in range(EPOCHS):\n",
    "    print(f'[Epoch {epo+1}/{EPOCHS}]', end=' ')\n",
    "    tr_score = training(DEVICE, epo, MODEL, TRAIN_DL, OPTIMIZER, LOSS_FN, OUT_DIM)\n",
    "    va_score = testing(DEVICE, epo, MODEL, VALID_DL, LOSS_FN, OUT_DIM)\n",
    "    \n",
    "    # 검증 데이터 기준 학습된 모델 저장 => Loss가 이전보다 작을 경우 저장 / Acc 또는 F1이면 이전보다 큰 경우 저장\n",
    "    if pred_va_score > va_score[0]:\n",
    "        torch.save(MODEL, model_name)\n",
    "        pred_va_score = va_score[0]\n",
    "        print('SAVED\\n')\n",
    "    \n",
    "    for idx, key in enumerate(train_):\n",
    "        train_[key].append(tr_score[idx])\n",
    "        val_[key].append(va_score[idx])\n",
    "\n",
    "print('Done!')"
   ],
   "metadata": {
    "collapsed": false,
    "ExecuteTime": {
     "end_time": "2024-03-20T03:34:24.548959200Z",
     "start_time": "2024-03-20T03:32:43.496663Z"
    }
   },
   "id": "24ee85ce987c9de3",
   "execution_count": 83
  },
  {
   "cell_type": "code",
   "outputs": [
    {
     "data": {
      "text/plain": "<Figure size 640x480 with 2 Axes>",
      "image/png": "[encoded data removed]"
     },
     "metadata": {},
     "output_type": "display_data"
    }
   ],
   "source": [
    "### Loss와 Acc F1 시각화\n",
    "import matplotlib.pyplot as plt\n",
    "import koreanize_matplotlib\n",
    "\n",
    "metric = 'f1'\n",
    "fig, ax1 = plt.subplots()\n",
    "ax1.plot(train_[metric], label='train', color='red')\n",
    "\n",
    "ax2 = ax1.twinx()\n",
    "ax2.plot(val_[metric], label='val', color='blue')\n",
    "\n",
    "# ax3 = ax1.twinx()\n",
    "# ax3.plot(train_['f1'], label='f1', color='orange')\n",
    "ax1.legend(loc='upper center')\n",
    "ax2.legend(loc='upper right')\n",
    "plt.title(f'{metric} 비교')\n",
    "\n",
    "plt.show()"
   ],
   "metadata": {
    "collapsed": false,
    "ExecuteTime": {
     "end_time": "2024-03-20T03:29:31.291251300Z",
     "start_time": "2024-03-20T03:29:31.048022200Z"
    }
   },
   "id": "d6605c4413f82eb7",
   "execution_count": 77
  },
  {
   "cell_type": "code",
   "outputs": [],
   "source": [],
   "metadata": {
    "collapsed": false
   },
   "id": "702656aee145c084"
  }
 ],
 "metadata": {
  "kernelspec": {
   "display_name": "Python 3",
   "language": "python",
   "name": "python3"
  },
  "language_info": {
   "codemirror_mode": {
    "name": "ipython",
    "version": 2
   },
   "file_extension": ".py",
   "mimetype": "text/x-python",
   "name": "python",
   "nbconvert_exporter": "python",
   "pygments_lexer": "ipython2",
   "version": "2.7.6"
  }
 },
 "nbformat": 4,
 "nbformat_minor": 5
}
