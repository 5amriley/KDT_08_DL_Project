{
 "cells": [
  {
   "cell_type": "markdown",
   "source": [
    "### 개의 품종 분류\n",
    "- 딥러닝 팀 프로젝트\n",
    "- 데이터 출처 : https://www.kaggle.com/datasets/mohamedchahed/dog-breeds"
   ],
   "metadata": {
    "collapsed": false
   },
   "id": "521ca9bc66dbe991"
  },
  {
   "cell_type": "markdown",
   "source": [
    "1) 모듈 준비, 데이터 준비\n",
    "2) 이미지 파일 픽셀값 전처리 (흑백으로 변환) -> 크기가 많이 클 경우, DataFrame으로 저장 후 csv 파일로 저장\n",
    "3) 데이터 전처리 - 피쳐 / 타겟 분리, 정규화\n",
    "4) 학습 데이터셋 준비\n",
    "    1. 사용자 정의 데이터셋 및 전체 데이터셋 준비\n",
    "    2. 학습용, 검증용, 테스트용 데이터셋 준비\n",
    "5) 데이터 로더 생성 (학습용, 검증용, 테스트용)\n",
    "6) 모델 클래스 정의\n",
    "7) 함수 정의 (학습, 검증, 테스트)\n",
    "8) 학습, 학습 후 평가 (평가척도)\n",
    "9) 테스트\n",
    "10) 학습 스케줄러\n",
    "11) 모델 저장 (불러와서 실행할 수 있게 하기 위해)"
   ],
   "metadata": {
    "collapsed": false
   },
   "id": "abb9b0c8d14c3fcd"
  },
  {
   "cell_type": "code",
   "outputs": [],
   "source": [
    "import os, sys\n",
    "from PIL import Image\n",
    "Image.ANTIALIAS = Image.LANCZOS"
   ],
   "metadata": {
    "collapsed": false,
    "ExecuteTime": {
     "end_time": "2024-03-20T02:02:44.752282Z",
     "start_time": "2024-03-20T02:02:44.733188Z"
    }
   },
   "id": "272de966cb8e9c13",
   "execution_count": 3
  },
  {
   "cell_type": "code",
   "outputs": [
    {
     "name": "stdout",
     "output_type": "stream",
     "text": [
      "C:\\Users\\kdp\\PycharmProjects\\KDT_08_Deep_Learning\\WORK_DL\\WORK_TEAM_PROJECT\n"
     ]
    }
   ],
   "source": [
    "print(os.getcwd())"
   ],
   "metadata": {
    "collapsed": false,
    "ExecuteTime": {
     "end_time": "2024-03-20T02:02:45.082812400Z",
     "start_time": "2024-03-20T02:02:45.067714600Z"
    }
   },
   "id": "6374f6831385fd7a",
   "execution_count": 4
  },
  {
   "cell_type": "code",
   "outputs": [],
   "source": [
    "def resize_and_crop(img_path, modified_path, size, crop_type='middle'):\n",
    "    files = os.listdir(img_path)    # 파일명 리스트 (list)\n",
    "    \n",
    "    if not os.path.exists(modified_path):\n",
    "        os.makedirs(modified_path)  # resize 이미지가 저장될 폴더가 없을 경우 생성\n",
    "    \n",
    "    for file in files:\n",
    "        # name = str(file)\n",
    "        # os.chdir(img_path)\n",
    "        img = Image.open(img_path + file)           # <class 'PIL.JpegImagePlugin.JpegImageFile'>\n",
    "        img_ratio = img.size[0] / float(img.size[1])    # 해당 이미지 비율\n",
    "        ratio = size[0] / float(size[1])                # 목표 이미지 비율\n",
    "        \n",
    "        if ratio > img_ratio:\n",
    "            img = img.resize((size[0], int(round(size[0] * img.size[1] / img.size[0]))),   \n",
    "                             Image.ANTIALIAS)\n",
    "            if crop_type == 'middle':\n",
    "                box = (0, int(round((img.size[1] - size[1]) / 2)), \n",
    "                       img.size[0], int(round((img.size[1] + size[1]) / 2)))\n",
    "            img = img.crop(box)\n",
    "        elif ratio < img_ratio:\n",
    "            img = img.resize((int(round(size[1] * img.size[0] / img.size[1])), size[1]),\n",
    "                             Image.ANTIALIAS)\n",
    "            if crop_type == 'middle':\n",
    "                box = (int(round((img.size[0] - size[0]) / 2)), 0, \n",
    "                       int(round((img.size[0] + size[0]) / 2)), img.size[1])\n",
    "            img = img.crop(box)\n",
    "        else:\n",
    "            img = img.resize((size[0], size[1]), Image.ANTIALIAS)\n",
    "        \n",
    "        # os.chdir(modified_path)\n",
    "        img.save(modified_path + file)"
   ],
   "metadata": {
    "collapsed": true,
    "ExecuteTime": {
     "end_time": "2024-03-20T02:02:45.411206800Z",
     "start_time": "2024-03-20T02:02:45.371685Z"
    }
   },
   "id": "initial_id",
   "execution_count": 5
  },
  {
   "cell_type": "code",
   "outputs": [
    {
     "name": "stdout",
     "output_type": "stream",
     "text": [
      "beagle시작\n",
      "beagle종료\n",
      "bulldog시작\n",
      "bulldog종료\n",
      "dalmatian시작\n",
      "dalmatian종료\n",
      "german-shepherd시작\n",
      "german-shepherd종료\n",
      "husky시작\n",
      "husky종료\n",
      "labrador-retriever시작\n",
      "labrador-retriever종료\n",
      "poodle시작\n",
      "poodle종료\n",
      "rottweiler시작\n",
      "rottweiler종료\n"
     ]
    }
   ],
   "source": [
    "size = 128, 128\n",
    "path1 = \"./dog-breeds/\"\n",
    "modified_path1 = \"./dog-breeds-resized/\"\n",
    "for f in os.listdir(path1):\n",
    "    # print(path1 + f + '/', modified_path1 + f + '/')\n",
    "    print(f +'시작')\n",
    "    resize_and_crop(path1 + f + '/', modified_path1 + f + '/', size)\n",
    "    print(f + '종료')"
   ],
   "metadata": {
    "collapsed": false,
    "ExecuteTime": {
     "end_time": "2024-03-20T02:03:21.636749700Z",
     "start_time": "2024-03-20T02:03:04.962587200Z"
    }
   },
   "id": "b59dc28496c1a8ac",
   "execution_count": 6
  },
  {
   "cell_type": "code",
   "outputs": [],
   "source": [
    "# size = 128, 128 # 바꾸고 싶은 사이즈\n",
    "# path = \"./dog-breeds/rottweiler/\"  # 이미지 경로\n",
    "# modified_path = \"./dog-breeds-resized/rottweiler/\"    # resize된 이미지가 저장될 경로\n",
    "# resize_and_crop(path, modified_path, size)"
   ],
   "metadata": {
    "collapsed": false,
    "ExecuteTime": {
     "end_time": "2024-03-20T00:43:07.994697200Z",
     "start_time": "2024-03-20T00:43:05.191112400Z"
    }
   },
   "id": "6e04bfbc487c0660",
   "execution_count": 4
  },
  {
   "cell_type": "code",
   "outputs": [],
   "source": [
    "# resize 예제\n",
    "# test_img = Image.open('./dog-breeds/beagle/beagle1.jpg')\n",
    "# resized_img = test_img.resize((128, 128), Image.LANCZOS)\n",
    "# resized_img.save('output_image.jpg')"
   ],
   "metadata": {
    "collapsed": false,
    "ExecuteTime": {
     "end_time": "2024-03-19T10:26:24.966198400Z",
     "start_time": "2024-03-19T10:26:24.955443100Z"
    }
   },
   "id": "2de877ca8445ac81",
   "execution_count": 40
  },
  {
   "cell_type": "code",
   "outputs": [
    {
     "name": "stderr",
     "output_type": "stream",
     "text": [
      "C:\\Users\\kdp\\.conda\\envs\\Torch_38\\lib\\site-packages\\torchvision\\io\\image.py:13: UserWarning: Failed to load image Python extension: '[WinError 127] 지정된 프로시저를 찾을 수 없습니다'If you don't plan on using image functionality from `torchvision.io`, you can ignore this warning. Otherwise, there might be something wrong with your environment. Did you have `libjpeg` or `libpng` installed before building `torchvision` from source?\n",
      "  warn(\n"
     ]
    }
   ],
   "source": [
    "import torch\n",
    "import torchvision.transforms.functional as TF\n",
    "import numpy as np\n",
    "import pandas as pd\n",
    "\n",
    "def convert_to_grayscale_tensor(image_path):\n",
    "    \"\"\" 컬러 이미지를 그레이스케일로 변환 후, 텐서로 저장하는 함수 \"\"\"\n",
    "    \n",
    "    # Pillow로 컬러이미지 읽어오기\n",
    "    color_image = Image.open(image_path)\n",
    "    \n",
    "    # 이미지를 grayscale로 변환\n",
    "    grayscale_image = color_image.convert('L')\n",
    "    \n",
    "    # 이미지를 PyTorch 텐서로 변환 (+ 0~1 범위로 정규화)\n",
    "    image_tensor = TF.to_tensor(grayscale_image)\n",
    "    print(type(image_tensor), image_tensor.shape)\n",
    "\n",
    "\n",
    "def convert_to_grayscale_array(image_path):\n",
    "    \"\"\" 컬러 이미지를 그레이스케일로 변환 후, 1차원 리스트로 저장하는 함수 \"\"\"\n",
    "    \n",
    "    # Pillow로 컬러이미지 읽어오기\n",
    "    color_image = Image.open(image_path)\n",
    "    \n",
    "    # 이미지를 grayscale로 변환\n",
    "    grayscale_image = color_image.convert('L')\n",
    "    \n",
    "    # 이미지 -> ndarray -> list\n",
    "    image_array = np.array(grayscale_image)\n",
    "    image_array =  image_array.reshape(-1)\n",
    "    image_list = image_array.tolist()\n",
    "    # print(type(image_list), len(image_list))\n",
    "    \n",
    "    return image_list   # 1차원 리스트 반환\n",
    "\n",
    "\n",
    "def save_tensor_as_image(tensor, file_path):\n",
    "    \"\"\" 텐서를 이미지 파일로 저장하는 함수 \"\"\"\n",
    "    \n",
    "    # 텐서를 이미지로 변환\n",
    "    image = TF.to_pil_image(tensor)\n",
    "    \n",
    "    # 이미지 파일로 저장\n",
    "    image.save(file_path)"
   ],
   "metadata": {
    "collapsed": false,
    "ExecuteTime": {
     "end_time": "2024-03-20T00:44:20.798069800Z",
     "start_time": "2024-03-20T00:44:17.565603100Z"
    }
   },
   "id": "740b603b308f6940",
   "execution_count": 5
  },
  {
   "cell_type": "code",
   "outputs": [
    {
     "name": "stdout",
     "output_type": "stream",
     "text": [
      "<class 'torch.Tensor'> torch.Size([1, 128, 128])\n"
     ]
    }
   ],
   "source": [
    "convert_to_grayscale_tensor('./beagle1.jpg')"
   ],
   "metadata": {
    "collapsed": false,
    "ExecuteTime": {
     "end_time": "2024-03-20T00:44:20.816074400Z",
     "start_time": "2024-03-20T00:44:20.801513300Z"
    }
   },
   "id": "2a381d58579e99ae",
   "execution_count": 6
  },
  {
   "cell_type": "code",
   "outputs": [
    {
     "data": {
      "text/plain": "list"
     },
     "execution_count": 7,
     "metadata": {},
     "output_type": "execute_result"
    }
   ],
   "source": [
    "type(convert_to_grayscale_array('./beagle1.jpg'))"
   ],
   "metadata": {
    "collapsed": false,
    "ExecuteTime": {
     "end_time": "2024-03-20T00:44:21.769994200Z",
     "start_time": "2024-03-20T00:44:21.742290800Z"
    }
   },
   "id": "6ff7fe314745b31e",
   "execution_count": 7
  },
  {
   "cell_type": "code",
   "outputs": [],
   "source": [
    "# 컬러이미지 -> 흑백이미지 -> 저장\n",
    "color_image = Image.open('./beagle1.jpg')\n",
    "grayscale_image = color_image.convert('L')\n",
    "grayscale_image.save('./beagle.jpg')"
   ],
   "metadata": {
    "collapsed": false,
    "ExecuteTime": {
     "end_time": "2024-03-20T00:44:25.944353200Z",
     "start_time": "2024-03-20T00:44:25.917995800Z"
    }
   },
   "id": "1b795fb880c0a465",
   "execution_count": 8
  },
  {
   "cell_type": "code",
   "outputs": [
    {
     "name": "stdout",
     "output_type": "stream",
     "text": [
      "tensor([[0.4118, 0.4118, 0.4157,  ..., 0.3569, 0.3529, 0.3490],\n",
      "        [0.4118, 0.4118, 0.4157,  ..., 0.3686, 0.3608, 0.3569],\n",
      "        [0.4118, 0.4157, 0.4157,  ..., 0.3843, 0.3725, 0.3647],\n",
      "        ...,\n",
      "        [0.7216, 0.7137, 0.7216,  ..., 0.7490, 0.7725, 0.7843],\n",
      "        [0.7412, 0.7333, 0.7373,  ..., 0.7569, 0.7608, 0.7569],\n",
      "        [0.7373, 0.7294, 0.7333,  ..., 0.7451, 0.7294, 0.7098]])\n"
     ]
    }
   ],
   "source": [
    "image = Image.open('./beagle.jpg')\n",
    "image = TF.to_tensor(image)\n",
    "print(image.squeeze())"
   ],
   "metadata": {
    "collapsed": false,
    "ExecuteTime": {
     "end_time": "2024-03-20T00:44:28.327247500Z",
     "start_time": "2024-03-20T00:44:28.285465300Z"
    }
   },
   "id": "5363398bad4b8390",
   "execution_count": 9
  },
  {
   "cell_type": "code",
   "outputs": [
    {
     "name": "stdout",
     "output_type": "stream",
     "text": [
      "[ beagle ]\n",
      "[ bulldog ]\n",
      "[ dalmatian ]\n",
      "[ german-shepherd ]\n",
      "[ husky ]\n",
      "[ labrador-retriever ]\n",
      "[ poodle ]\n",
      "[ rottweiler ]\n"
     ]
    }
   ],
   "source": [
    "pixel_list = []   # 모든 이미지 파일들의 픽셀값을 담을 리스트\n",
    "target_list = []    # 각 이미지 파일들의 타겟값을 담을 리스트 (개 품종)\n",
    "\n",
    "path2 = './dog-breeds-resized/'\n",
    "for f in os.listdir(path2):\n",
    "    print(f'[ {f} ]')\n",
    "    cnt = 0\n",
    "    for ff in os.listdir(path2 + f + '/'):\n",
    "        filename = path2 + f + '/' + ff\n",
    "        pixel_list.extend(convert_to_grayscale_array(filename))\n",
    "        # dog_image = Image.open(filename)\n",
    "        # dog_image = TF.to_tensor(dog_image)\n",
    "        # print(dog_image.squeeze().shape)\n",
    "        cnt += 1\n",
    "    target_list.extend([f for i in range(cnt)])"
   ],
   "metadata": {
    "collapsed": false,
    "ExecuteTime": {
     "end_time": "2024-03-20T00:44:37.178622200Z",
     "start_time": "2024-03-20T00:44:36.092853700Z"
    }
   },
   "id": "bead7c865f19b4f5",
   "execution_count": 10
  },
  {
   "cell_type": "code",
   "outputs": [
    {
     "data": {
      "text/plain": "(8863744, 541)"
     },
     "execution_count": 11,
     "metadata": {},
     "output_type": "execute_result"
    }
   ],
   "source": [
    "len(pixel_list), len(target_list)"
   ],
   "metadata": {
    "collapsed": false,
    "ExecuteTime": {
     "end_time": "2024-03-20T00:44:39.611576200Z",
     "start_time": "2024-03-20T00:44:39.580597700Z"
    }
   },
   "id": "32aca695914ae954",
   "execution_count": 11
  },
  {
   "cell_type": "code",
   "outputs": [],
   "source": [
    "dog_image_array = np.array(pixel_list)\n",
    "dog_image_array = dog_image_array.reshape(-1, 128 * 128)"
   ],
   "metadata": {
    "collapsed": false,
    "ExecuteTime": {
     "end_time": "2024-03-20T00:44:42.623211400Z",
     "start_time": "2024-03-20T00:44:42.308685600Z"
    }
   },
   "id": "1211445cb4e4cba7",
   "execution_count": 12
  },
  {
   "cell_type": "code",
   "outputs": [
    {
     "data": {
      "text/plain": "(541, 16384)"
     },
     "execution_count": 13,
     "metadata": {},
     "output_type": "execute_result"
    }
   ],
   "source": [
    "dog_image_array.shape      # 사진 541장, 각각 (128 * 128 픽셀)"
   ],
   "metadata": {
    "collapsed": false,
    "ExecuteTime": {
     "end_time": "2024-03-20T00:44:42.731453700Z",
     "start_time": "2024-03-20T00:44:42.714516800Z"
    }
   },
   "id": "faee1cab0cebf9c2",
   "execution_count": 13
  },
  {
   "cell_type": "code",
   "outputs": [
    {
     "data": {
      "text/plain": "array([105, 105, 106, 107, 107])"
     },
     "execution_count": 14,
     "metadata": {},
     "output_type": "execute_result"
    }
   ],
   "source": [
    "dog_image_array[0, :5]"
   ],
   "metadata": {
    "collapsed": false,
    "ExecuteTime": {
     "end_time": "2024-03-20T00:44:44.707464800Z",
     "start_time": "2024-03-20T00:44:44.652896500Z"
    }
   },
   "id": "78de57a43264cfe4",
   "execution_count": 14
  },
  {
   "cell_type": "code",
   "outputs": [],
   "source": [
    "dog_image_array = dog_image_array / 255.    # 0~1 범위로 정규화"
   ],
   "metadata": {
    "collapsed": false,
    "ExecuteTime": {
     "end_time": "2024-03-20T00:44:48.647036200Z",
     "start_time": "2024-03-20T00:44:48.611542Z"
    }
   },
   "id": "f26bf7e253385756",
   "execution_count": 15
  },
  {
   "cell_type": "code",
   "outputs": [
    {
     "data": {
      "text/plain": "array([0.41176471, 0.41176471, 0.41568627, 0.41960784, 0.41960784])"
     },
     "execution_count": 16,
     "metadata": {},
     "output_type": "execute_result"
    }
   ],
   "source": [
    "dog_image_array[0, :5]"
   ],
   "metadata": {
    "collapsed": false,
    "ExecuteTime": {
     "end_time": "2024-03-20T00:44:48.916695600Z",
     "start_time": "2024-03-20T00:44:48.873665500Z"
    }
   },
   "id": "3ed22971417c36b3",
   "execution_count": 16
  },
  {
   "cell_type": "code",
   "outputs": [],
   "source": [
    "from sklearn.preprocessing import LabelEncoder\n",
    "\n",
    "label_encoder = LabelEncoder()\n",
    "\n",
    "# 문자열 리스트를 숫자로 변환\n",
    "encoded_list = label_encoder.fit_transform(target_list)\n",
    "dog_breed_array = np.array(encoded_list)\n",
    "dog_breed_array = dog_breed_array"
   ],
   "metadata": {
    "collapsed": false,
    "ExecuteTime": {
     "end_time": "2024-03-20T00:44:55.364421300Z",
     "start_time": "2024-03-20T00:44:53.731527900Z"
    }
   },
   "id": "e6cc948ccdb6a6a9",
   "execution_count": 17
  },
  {
   "cell_type": "code",
   "outputs": [
    {
     "data": {
      "text/plain": "(541,)"
     },
     "execution_count": 18,
     "metadata": {},
     "output_type": "execute_result"
    }
   ],
   "source": [
    "dog_breed_array.shape   # 1D (CrossEntropyLoss 함수 때문에)"
   ],
   "metadata": {
    "collapsed": false,
    "ExecuteTime": {
     "end_time": "2024-03-20T00:44:55.384312700Z",
     "start_time": "2024-03-20T00:44:55.368836700Z"
    }
   },
   "id": "fac26560136a8cef",
   "execution_count": 18
  },
  {
   "cell_type": "code",
   "outputs": [
    {
     "data": {
      "text/plain": "dtype('int64')"
     },
     "execution_count": 19,
     "metadata": {},
     "output_type": "execute_result"
    }
   ],
   "source": [
    "dog_breed_array.dtype"
   ],
   "metadata": {
    "collapsed": false,
    "ExecuteTime": {
     "end_time": "2024-03-20T00:44:57.948030200Z",
     "start_time": "2024-03-20T00:44:57.924210500Z"
    }
   },
   "id": "f9919429132fbec2",
   "execution_count": 19
  },
  {
   "cell_type": "code",
   "outputs": [
    {
     "data": {
      "text/plain": "array(['beagle', 'bulldog', 'dalmatian', 'german-shepherd', 'husky',\n       'labrador-retriever', 'poodle', 'rottweiler'], dtype='<U18')"
     },
     "execution_count": 20,
     "metadata": {},
     "output_type": "execute_result"
    }
   ],
   "source": [
    "label_encoder.classes_  # 각 숫자가 의미하는 것 (품종)"
   ],
   "metadata": {
    "collapsed": false,
    "ExecuteTime": {
     "end_time": "2024-03-20T00:44:58.884585100Z",
     "start_time": "2024-03-20T00:44:58.858592200Z"
    }
   },
   "id": "ef3d4603f82c6c00",
   "execution_count": 20
  },
  {
   "cell_type": "markdown",
   "source": [
    "(4-1) 데이터셋(Dataset) 생성"
   ],
   "metadata": {
    "collapsed": false
   },
   "id": "29292f33c611a3c5"
  },
  {
   "cell_type": "code",
   "outputs": [],
   "source": [
    "from torch.utils.data import Dataset, DataLoader\n",
    "from torch.utils.data import TensorDataset"
   ],
   "metadata": {
    "collapsed": false,
    "ExecuteTime": {
     "end_time": "2024-03-20T00:45:05.279488500Z",
     "start_time": "2024-03-20T00:45:05.247974Z"
    }
   },
   "id": "77d476ba68eaf54c",
   "execution_count": 21
  },
  {
   "cell_type": "code",
   "outputs": [],
   "source": [
    "## 사용자 정의 Dataset 클래스\n",
    "class DogDataset(Dataset):\n",
    "    \n",
    "    def __init__(self, x_data, y_data):\n",
    "        super().__init__()\n",
    "        \n",
    "        # x, y 데이터가 DF라면 ndarray로 바꾸고, ndarray라면 그대로 저장\n",
    "        x_data = x_data.values if isinstance(x_data, pd.DataFrame) else x_data\n",
    "        y_data = y_data.values if isinstance(y_data, pd.DataFrame) else y_data\n",
    "        \n",
    "        # ndarray -> tensor\n",
    "        self.feature = torch.FloatTensor(x_data)    # Float\n",
    "        self.target = torch.LongTensor(y_data)      # Long\n",
    "    \n",
    "    # 데이터셋의 개수 체크 콜백함수\n",
    "    def __len__(self):\n",
    "        return self.target.shape[0]\n",
    "    \n",
    "    # 특정 인덱스 데이터 + 라벨 반환 콜백함수\n",
    "    def __getitem__(self, index):\n",
    "        return self.feature[index], self.target[index]"
   ],
   "metadata": {
    "collapsed": false,
    "ExecuteTime": {
     "end_time": "2024-03-20T00:45:09.685466700Z",
     "start_time": "2024-03-20T00:45:09.656028100Z"
    }
   },
   "id": "1b48c25224266859",
   "execution_count": 22
  },
  {
   "cell_type": "code",
   "outputs": [],
   "source": [
    "# 데이터셋 생성\n",
    "dog_dataset = DogDataset(dog_image_array, dog_breed_array)"
   ],
   "metadata": {
    "collapsed": false,
    "ExecuteTime": {
     "end_time": "2024-03-20T00:45:10.900357300Z",
     "start_time": "2024-03-20T00:45:10.854679600Z"
    }
   },
   "id": "8e384a81e846dad0",
   "execution_count": 23
  },
  {
   "cell_type": "code",
   "outputs": [
    {
     "data": {
      "text/plain": "((tensor([0.4118, 0.4118, 0.4157,  ..., 0.7451, 0.7294, 0.7098]), tensor(0)),\n array([0.41176471, 0.41176471, 0.41568627, ..., 0.74509804, 0.72941176,\n        0.70980392]),\n 0)"
     },
     "execution_count": 24,
     "metadata": {},
     "output_type": "execute_result"
    }
   ],
   "source": [
    "dog_dataset[0], dog_image_array[0], dog_breed_array[0]"
   ],
   "metadata": {
    "collapsed": false,
    "ExecuteTime": {
     "end_time": "2024-03-20T00:45:11.897470700Z",
     "start_time": "2024-03-20T00:45:11.861997800Z"
    }
   },
   "id": "defaacc64a620583",
   "execution_count": 24
  },
  {
   "cell_type": "code",
   "outputs": [
    {
     "name": "stdout",
     "output_type": "stream",
     "text": [
      "(tensor([0.4118, 0.4118, 0.4157,  ..., 0.7451, 0.7294, 0.7098]), tensor(0))\n",
      "(tensor([0.7059, 0.7059, 0.7059,  ..., 0.2353, 0.2196, 0.2235]), tensor(0))\n",
      "(tensor([0.5608, 0.5569, 0.4941,  ..., 0.0745, 0.2000, 0.1843]), tensor(0))\n",
      "(tensor([0.8902, 0.8902, 0.8863,  ..., 0.9373, 0.9529, 0.9686]), tensor(0))\n",
      "(tensor([0.2039, 0.2078, 0.2157,  ..., 0.3255, 0.3020, 0.2902]), tensor(0))\n",
      "(tensor([1., 1., 1.,  ..., 1., 1., 1.]), tensor(0))\n",
      "(tensor([0.6314, 0.6824, 0.7137,  ..., 0.2902, 0.3294, 0.3725]), tensor(0))\n",
      "(tensor([0.4235, 0.4235, 0.4275,  ..., 0.3373, 0.2745, 0.2392]), tensor(0))\n",
      "(tensor([0.4118, 0.4157, 0.4235,  ..., 0.9020, 0.8902, 0.8824]), tensor(0))\n",
      "(tensor([1., 1., 1.,  ..., 1., 1., 1.]), tensor(0))\n"
     ]
    }
   ],
   "source": [
    "import time\n",
    "for i in range(10):\n",
    "    print(dog_dataset[i])\n",
    "    time.sleep(1)"
   ],
   "metadata": {
    "collapsed": false,
    "ExecuteTime": {
     "end_time": "2024-03-20T01:11:35.210402Z",
     "start_time": "2024-03-20T01:11:25.106069900Z"
    }
   },
   "id": "7fd830283589a9a2",
   "execution_count": 60
  },
  {
   "cell_type": "markdown",
   "source": [
    "(4-2) 학습용, 검증용, 테스트용 데이터셋 분리"
   ],
   "metadata": {
    "collapsed": false
   },
   "id": "ceeb0238edcd2fd8"
  },
  {
   "cell_type": "code",
   "outputs": [],
   "source": [
    "### 파이토치판 train_test_split\n",
    "from torch.utils.data import random_split\n",
    "\n",
    "# 학습용, 검증용, 테스트 데이터 비율\n",
    "trainDS, validDS, testDS = random_split(dog_dataset, [0.7, 0.1, 0.2], generator=torch.Generator().manual_seed(24))"
   ],
   "metadata": {
    "collapsed": false,
    "ExecuteTime": {
     "end_time": "2024-03-20T00:45:14.705083800Z",
     "start_time": "2024-03-20T00:45:14.667472100Z"
    }
   },
   "id": "3965d2972bd195a1",
   "execution_count": 25
  },
  {
   "cell_type": "code",
   "outputs": [
    {
     "data": {
      "text/plain": "torch.utils.data.dataset.Subset"
     },
     "execution_count": 26,
     "metadata": {},
     "output_type": "execute_result"
    }
   ],
   "source": [
    "type(trainDS)"
   ],
   "metadata": {
    "collapsed": false,
    "ExecuteTime": {
     "end_time": "2024-03-20T00:45:15.393907200Z",
     "start_time": "2024-03-20T00:45:15.348795400Z"
    }
   },
   "id": "b3395f83ae0f2b8",
   "execution_count": 26
  },
  {
   "cell_type": "code",
   "outputs": [
    {
     "data": {
      "text/plain": "(379, 54, 108)"
     },
     "execution_count": 27,
     "metadata": {},
     "output_type": "execute_result"
    }
   ],
   "source": [
    "len(trainDS), len(validDS), len(testDS)"
   ],
   "metadata": {
    "collapsed": false,
    "ExecuteTime": {
     "end_time": "2024-03-20T00:45:15.871509Z",
     "start_time": "2024-03-20T00:45:15.822484300Z"
    }
   },
   "id": "a34836f706dcc298",
   "execution_count": 27
  },
  {
   "cell_type": "markdown",
   "source": [
    "(5) 데이터 로더 생성 (학습용, 검증용, 테스트용)"
   ],
   "metadata": {
    "collapsed": false
   },
   "id": "37dc13427af5bba1"
  },
  {
   "cell_type": "code",
   "outputs": [
    {
     "data": {
      "text/plain": "(12, 2, 4)"
     },
     "execution_count": 28,
     "metadata": {},
     "output_type": "execute_result"
    }
   ],
   "source": [
    "### DataLoader 생성\n",
    "BATCH_SIZE = 30\n",
    "TRAIN_DL = DataLoader(trainDS, batch_size=BATCH_SIZE, drop_last=True)\n",
    "VALID_DL = DataLoader(validDS, batch_size=BATCH_SIZE)\n",
    "TEST_DL = DataLoader(testDS, batch_size=BATCH_SIZE)\n",
    "\n",
    "len(TRAIN_DL), len(VALID_DL), len(TEST_DL) # Epoch 당 반복 단위"
   ],
   "metadata": {
    "collapsed": false,
    "ExecuteTime": {
     "end_time": "2024-03-20T00:45:19.286316400Z",
     "start_time": "2024-03-20T00:45:19.252316400Z"
    }
   },
   "id": "a2ff3fe1fb1fe490",
   "execution_count": 28
  },
  {
   "cell_type": "code",
   "outputs": [
    {
     "name": "stdout",
     "output_type": "stream",
     "text": [
      "[0] feature torch.Size([30, 16384]) target torch.Size([30])\n",
      "[1] feature torch.Size([30, 16384]) target torch.Size([30])\n",
      "[2] feature torch.Size([30, 16384]) target torch.Size([30])\n",
      "[3] feature torch.Size([30, 16384]) target torch.Size([30])\n",
      "[4] feature torch.Size([30, 16384]) target torch.Size([30])\n",
      "[5] feature torch.Size([30, 16384]) target torch.Size([30])\n",
      "[6] feature torch.Size([30, 16384]) target torch.Size([30])\n",
      "[7] feature torch.Size([30, 16384]) target torch.Size([30])\n",
      "[8] feature torch.Size([30, 16384]) target torch.Size([30])\n",
      "[9] feature torch.Size([30, 16384]) target torch.Size([30])\n",
      "[10] feature torch.Size([30, 16384]) target torch.Size([30])\n",
      "[11] feature torch.Size([30, 16384]) target torch.Size([30])\n"
     ]
    }
   ],
   "source": [
    "for _, (feature, target) in enumerate(TRAIN_DL):\n",
    "    print(f'[{_}] feature {feature.shape} target {target.shape}')"
   ],
   "metadata": {
    "collapsed": false,
    "ExecuteTime": {
     "end_time": "2024-03-20T00:45:22.721397800Z",
     "start_time": "2024-03-20T00:45:22.646698600Z"
    }
   },
   "id": "f99023b259026c67",
   "execution_count": 29
  },
  {
   "cell_type": "markdown",
   "source": [
    "(6) 모델 클래스 정의"
   ],
   "metadata": {
    "collapsed": false
   },
   "id": "8d4d7cd51b60270b"
  },
  {
   "cell_type": "code",
   "outputs": [],
   "source": [
    "import torch.nn as nn\n",
    "import torch.optim as optim"
   ],
   "metadata": {
    "collapsed": false,
    "ExecuteTime": {
     "end_time": "2024-03-20T00:45:27.862152100Z",
     "start_time": "2024-03-20T00:45:27.821955100Z"
    }
   },
   "id": "eac211e747d10914",
   "execution_count": 30
  },
  {
   "cell_type": "code",
   "outputs": [],
   "source": [
    "### 모델 클래스 정의\n",
    "class DogBreedModel1(nn.Module):\n",
    "    # 구성요소 정의 함수\n",
    "    def __init__(self, in_, out_):\n",
    "        super().__init__()  # 부모 클래스 생성자\n",
    "        self.layer1 = nn.Linear(in_, 5000)\n",
    "        self.layer2 = nn.Linear(5000, 5000)\n",
    "        self.layer3 = nn.Linear(5000, 2500)\n",
    "        self.layer4 = nn.Linear(2500, 1000)\n",
    "        self.drop = nn.Dropout(0.5)\n",
    "        self.layer5 = nn.Linear(1000, 500)\n",
    "        self.layer6 = nn.Linear(500, 100)\n",
    "        self.layer7 = nn.Linear(100, out_)\n",
    "        self.relu = nn.ReLU()\n",
    "    \n",
    "    def forward(self, x):\n",
    "        x = self.layer1(x)\n",
    "        # x = self.relu(x)\n",
    "        x = self.layer2(x)\n",
    "        # x = self.relu(x)\n",
    "        x = self.layer3(x)\n",
    "        # x = self.relu(x)\n",
    "        x = self.layer4(x)\n",
    "        x = self.drop(x)\n",
    "        # x = self.relu(x)\n",
    "        x = self.layer5(x)\n",
    "        # x = self.relu(x)\n",
    "        x = self.layer6(x)\n",
    "        # x = self.relu(x)\n",
    "        x = self.layer7(x)\n",
    "        return x"
   ],
   "metadata": {
    "collapsed": false,
    "ExecuteTime": {
     "end_time": "2024-03-20T01:24:26.398614400Z",
     "start_time": "2024-03-20T01:24:26.358679100Z"
    }
   },
   "id": "9f0e41a8cdbbb200",
   "execution_count": 61
  },
  {
   "cell_type": "code",
   "outputs": [],
   "source": [
    "model_dir = \"./model\"\n",
    "model_name = model_dir + '/best_model.pth'\n",
    "\n",
    "if not os.path.exists(model_dir):\n",
    "    os.mkdir(model_dir)   # model 폴더 없을 시 생성"
   ],
   "metadata": {
    "collapsed": false,
    "ExecuteTime": {
     "end_time": "2024-03-20T00:45:32.096446400Z",
     "start_time": "2024-03-20T00:45:32.057183400Z"
    }
   },
   "id": "eb26f91c34f07974",
   "execution_count": 32
  },
  {
   "cell_type": "code",
   "outputs": [],
   "source": [
    "# 실행 디바이스\n",
    "DEVICE = 'cuda' if torch.cuda.is_available() else 'cpu'\n",
    "\n",
    "# 입출력 피쳐\n",
    "IN_DIM, OUT_DIM = dog_image_array.shape[1], np.unique(dog_breed_array).size\n",
    "\n",
    "# 모델 인스턴스\n",
    "MODEL = DogBreedModel1(IN_DIM, OUT_DIM)\n",
    "\n",
    "# 최적화 인스턴스 생성\n",
    "OPTIMIZER = optim.SGD(MODEL.parameters())   # w, b 넘겨줌\n",
    "\n",
    "# 손실 함수\n",
    "LOSS_FN = nn.CrossEntropyLoss().to(DEVICE)\n",
    "\n",
    "# 학습 횟수 설정\n",
    "EPOCHS = 20\n",
    "\n",
    "# 분류 개수\n",
    "CLASSES = len(label_encoder.classes_)   # OUT_DIM"
   ],
   "metadata": {
    "collapsed": false,
    "ExecuteTime": {
     "end_time": "2024-03-20T01:24:30.715050900Z",
     "start_time": "2024-03-20T01:24:29.747423500Z"
    }
   },
   "id": "76399ac12e2727fd",
   "execution_count": 62
  },
  {
   "cell_type": "code",
   "outputs": [
    {
     "name": "stdout",
     "output_type": "stream",
     "text": [
      "torch.Size([5000, 16384])\n",
      "torch.Size([5000])\n",
      "torch.Size([5000, 5000])\n",
      "torch.Size([5000])\n",
      "torch.Size([2500, 5000])\n",
      "torch.Size([2500])\n",
      "torch.Size([1000, 2500])\n",
      "torch.Size([1000])\n",
      "torch.Size([500, 1000])\n",
      "torch.Size([500])\n",
      "torch.Size([100, 500])\n",
      "torch.Size([100])\n",
      "torch.Size([8, 100])\n",
      "torch.Size([8])\n"
     ]
    }
   ],
   "source": [
    "for para in MODEL.parameters():\n",
    "    print(para.shape)"
   ],
   "metadata": {
    "collapsed": false,
    "ExecuteTime": {
     "end_time": "2024-03-20T01:24:34.488549800Z",
     "start_time": "2024-03-20T01:24:34.477005200Z"
    }
   },
   "id": "46430c0ee502cd79",
   "execution_count": 63
  },
  {
   "cell_type": "markdown",
   "source": [
    "(7) 함수 정의 (학습, 검증, 테스트)"
   ],
   "metadata": {
    "collapsed": false
   },
   "id": "469b5d1d83ac0388"
  },
  {
   "cell_type": "code",
   "outputs": [],
   "source": [
    "import torchmetrics.functional as metrics"
   ],
   "metadata": {
    "collapsed": false,
    "ExecuteTime": {
     "end_time": "2024-03-20T00:45:46.102662200Z",
     "start_time": "2024-03-20T00:45:45.286853800Z"
    }
   },
   "id": "7ba8cefca4ca46cb",
   "execution_count": 34
  },
  {
   "cell_type": "code",
   "outputs": [],
   "source": [
    "### 학습 진행함수\n",
    "def training(device, epoch, model, dataLoader, optimizer, loss_fn, classes):\n",
    "    # 학습모드\n",
    "    model.train()\n",
    "    \n",
    "    # 배치크기만큼 학습진행 및 저장\n",
    "    train_report = [[], [], []] # loss, acc, f1\n",
    "    for idx, (feature, target) in enumerate(dataLoader):\n",
    "        # 배치크기만큼의 학습 데이터 준비\n",
    "        # 입력된 device로 이동한 텐서 반환(복사본)\n",
    "        feature, target = feature.to(device), target.to(device)\n",
    "        \n",
    "        # 배치크기만큼 학습\n",
    "        pre_target = model(feature)\n",
    "        \n",
    "        # 손실계산\n",
    "        loss = loss_fn(pre_target, target)\n",
    "        train_report[0].append(loss)\n",
    "        \n",
    "        # 성능 평가\n",
    "        acc = metrics.accuracy(pre_target, target, task='multiclass', num_classes=classes)\n",
    "        train_report[1].append(acc)\n",
    "        \n",
    "        # f1-score\n",
    "        f1 = metrics.f1_score(pre_target, target, task='multiclass', num_classes=classes)\n",
    "        train_report[2].append(f1)\n",
    "        \n",
    "        # W, b 업데이트\n",
    "        optimizer.zero_grad()\n",
    "        loss.backward()\n",
    "        optimizer.step()\n",
    "        \n",
    "        if not idx % 50: print('.', end='')\n",
    "    \n",
    "    # 에포크 단위 학습 진행 메시지 출력\n",
    "    # 에포크 단위 학습 진행 메시지 출력\n",
    "    loss_score = (sum(train_report[0])/BATCH_SIZE).item()\n",
    "    acc_score = (sum(train_report[1])/BATCH_SIZE).item()\n",
    "    f1_score = (sum(train_report[2])/BATCH_SIZE).item()\n",
    "    print(f'\\n[{epoch+1} Train ] Loss ==> {loss_score:.3f} Acc ==> {acc_score:.3f} F1 ==> {f1_score:.3f}')\n",
    "    \n",
    "    return loss_score, acc_score, f1_score"
   ],
   "metadata": {
    "collapsed": false,
    "ExecuteTime": {
     "end_time": "2024-03-20T00:57:04.169678900Z",
     "start_time": "2024-03-20T00:57:04.133174400Z"
    }
   },
   "id": "72e27df4f6539c4",
   "execution_count": 50
  },
  {
   "cell_type": "code",
   "outputs": [],
   "source": [
    "### 검증 및 테스트 진행함수\n",
    "def testing(device, epoch, model, dataLoader, loss_fn, classes, kind='valid'):\n",
    "    # 테스트 모드\n",
    "    model.eval()\n",
    "    \n",
    "    with torch.no_grad():\n",
    "        # 배치크기 만큼의 테스트 데이터 준비\n",
    "        test_report = [[], [], []]\n",
    "        for idx, (feature, target) in enumerate(dataLoader):\n",
    "            # 배치크기만큼의 테스트 데이터 준비\n",
    "            feature, target = feature.to(device), target.to(device)\n",
    "            \n",
    "            # 학습\n",
    "            pre_target = model(feature)\n",
    "            \n",
    "            # 손실계산\n",
    "            loss = loss_fn(pre_target, target)\n",
    "            test_report[0].append(loss)\n",
    "            \n",
    "            # 성능 평가\n",
    "            acc = metrics.accuracy(pre_target, target, task='multiclass', num_classes=classes)\n",
    "            test_report[1].append(acc)\n",
    "            \n",
    "            #f1-score\n",
    "            f1 = metrics.f1_score(pre_target, target, task='multiclass', num_classes=classes)\n",
    "            test_report[2].append(f1)\n",
    "    \n",
    "    testing_type = 'Valid' if kind == 'valid' else 'Test'\n",
    "    \n",
    "    # 에포크 단위 학습 진행 메시지 출력\n",
    "    loss_score = (sum(test_report[0])/BATCH_SIZE).item()\n",
    "    acc_score = (sum(test_report[1])/BATCH_SIZE).item()\n",
    "    f1_score = (sum(test_report[2])/BATCH_SIZE).item() \n",
    "    print(f'[{epoch+1} {testing_type} ] Loss ==> {loss_score:.3f} Acc ==> {acc_score:.3f} F1 ==> {f1_score:.3f}\\n')\n",
    "    \n",
    "    return loss_score, acc_score, f1_score"
   ],
   "metadata": {
    "collapsed": false,
    "ExecuteTime": {
     "end_time": "2024-03-20T00:57:05.924337600Z",
     "start_time": "2024-03-20T00:57:05.903117900Z"
    }
   },
   "id": "e7b0bfb512e16232",
   "execution_count": 51
  },
  {
   "cell_type": "markdown",
   "source": [
    "(8) 학습 진행, 학습 성능평가"
   ],
   "metadata": {
    "collapsed": false
   },
   "id": "5acc3c073a442f46"
  },
  {
   "cell_type": "code",
   "outputs": [
    {
     "name": "stdout",
     "output_type": "stream",
     "text": [
      "[Epoch 1/20] .\n",
      "[1 Train ] Loss ==> 0.830 Acc ==> 0.051 F1 ==> 0.051\n",
      "[1 Valid ] Loss ==> 0.139 Acc ==> 0.012 F1 ==> 0.012\n",
      "SAVED\n",
      "\n",
      "[Epoch 2/20] .\n",
      "[2 Train ] Loss ==> 0.830 Acc ==> 0.059 F1 ==> 0.059\n",
      "[2 Valid ] Loss ==> 0.139 Acc ==> 0.012 F1 ==> 0.012\n",
      "SAVED\n",
      "\n",
      "[Epoch 3/20] .\n",
      "[3 Train ] Loss ==> 0.830 Acc ==> 0.059 F1 ==> 0.059\n",
      "[3 Valid ] Loss ==> 0.139 Acc ==> 0.012 F1 ==> 0.012\n",
      "SAVED\n",
      "\n",
      "[Epoch 4/20] .\n",
      "[4 Train ] Loss ==> 0.830 Acc ==> 0.057 F1 ==> 0.057\n",
      "[4 Valid ] Loss ==> 0.139 Acc ==> 0.012 F1 ==> 0.012\n",
      "SAVED\n",
      "\n",
      "[Epoch 5/20] .\n",
      "[5 Train ] Loss ==> 0.829 Acc ==> 0.056 F1 ==> 0.056\n",
      "[5 Valid ] Loss ==> 0.139 Acc ==> 0.012 F1 ==> 0.012\n",
      "SAVED\n",
      "\n",
      "[Epoch 6/20] .\n",
      "[6 Train ] Loss ==> 0.829 Acc ==> 0.059 F1 ==> 0.059\n",
      "[6 Valid ] Loss ==> 0.139 Acc ==> 0.012 F1 ==> 0.012\n",
      "SAVED\n",
      "\n",
      "[Epoch 7/20] .\n",
      "[7 Train ] Loss ==> 0.829 Acc ==> 0.059 F1 ==> 0.059\n",
      "[7 Valid ] Loss ==> 0.139 Acc ==> 0.012 F1 ==> 0.012\n",
      "SAVED\n",
      "\n",
      "[Epoch 8/20] .\n",
      "[8 Train ] Loss ==> 0.829 Acc ==> 0.057 F1 ==> 0.057\n",
      "[8 Valid ] Loss ==> 0.139 Acc ==> 0.012 F1 ==> 0.012\n",
      "SAVED\n",
      "\n",
      "[Epoch 9/20] .\n",
      "[9 Train ] Loss ==> 0.828 Acc ==> 0.056 F1 ==> 0.056\n",
      "[9 Valid ] Loss ==> 0.139 Acc ==> 0.012 F1 ==> 0.012\n",
      "SAVED\n",
      "\n",
      "[Epoch 10/20] .\n",
      "[10 Train ] Loss ==> 0.828 Acc ==> 0.058 F1 ==> 0.058\n",
      "[10 Valid ] Loss ==> 0.139 Acc ==> 0.012 F1 ==> 0.012\n",
      "SAVED\n",
      "\n",
      "[Epoch 11/20] .\n",
      "[11 Train ] Loss ==> 0.828 Acc ==> 0.059 F1 ==> 0.059\n",
      "[11 Valid ] Loss ==> 0.139 Acc ==> 0.012 F1 ==> 0.012\n",
      "SAVED\n",
      "\n",
      "[Epoch 12/20] .\n",
      "[12 Train ] Loss ==> 0.828 Acc ==> 0.060 F1 ==> 0.060\n",
      "[12 Valid ] Loss ==> 0.139 Acc ==> 0.012 F1 ==> 0.012\n",
      "SAVED\n",
      "\n",
      "[Epoch 13/20] .\n",
      "[13 Train ] Loss ==> 0.827 Acc ==> 0.058 F1 ==> 0.058\n",
      "[13 Valid ] Loss ==> 0.139 Acc ==> 0.012 F1 ==> 0.012\n",
      "SAVED\n",
      "\n",
      "[Epoch 14/20] .\n",
      "[14 Train ] Loss ==> 0.828 Acc ==> 0.056 F1 ==> 0.056\n",
      "[14 Valid ] Loss ==> 0.139 Acc ==> 0.012 F1 ==> 0.012\n",
      "SAVED\n",
      "\n",
      "[Epoch 15/20] .\n",
      "[15 Train ] Loss ==> 0.827 Acc ==> 0.054 F1 ==> 0.054\n",
      "[15 Valid ] Loss ==> 0.139 Acc ==> 0.012 F1 ==> 0.012\n",
      "SAVED\n",
      "\n",
      "[Epoch 16/20] .\n",
      "[16 Train ] Loss ==> 0.827 Acc ==> 0.056 F1 ==> 0.056\n",
      "[16 Valid ] Loss ==> 0.139 Acc ==> 0.012 F1 ==> 0.012\n",
      "SAVED\n",
      "\n",
      "[Epoch 17/20] .\n",
      "[17 Train ] Loss ==> 0.827 Acc ==> 0.056 F1 ==> 0.056\n",
      "[17 Valid ] Loss ==> 0.138 Acc ==> 0.012 F1 ==> 0.012\n",
      "SAVED\n",
      "\n",
      "[Epoch 18/20] .\n",
      "[18 Train ] Loss ==> 0.827 Acc ==> 0.060 F1 ==> 0.060\n",
      "[18 Valid ] Loss ==> 0.138 Acc ==> 0.012 F1 ==> 0.012\n",
      "SAVED\n",
      "\n",
      "[Epoch 19/20] .\n",
      "[19 Train ] Loss ==> 0.827 Acc ==> 0.060 F1 ==> 0.060\n",
      "[19 Valid ] Loss ==> 0.138 Acc ==> 0.012 F1 ==> 0.012\n",
      "SAVED\n",
      "\n",
      "[Epoch 20/20] .\n",
      "[20 Train ] Loss ==> 0.827 Acc ==> 0.056 F1 ==> 0.056\n",
      "[20 Valid ] Loss ==> 0.138 Acc ==> 0.012 F1 ==> 0.012\n",
      "\n",
      "SAVED\n",
      "\n",
      "Done!\n"
     ]
    }
   ],
   "source": [
    "# 학습 및 검증 데이터별 성능지표값\n",
    "train_ = {'loss':[], 'acc':[], 'f1':[]}\n",
    "val_ = {'loss':[], 'acc':[], 'f1':[]}\n",
    "\n",
    "# 모델 저장 기준 변수\n",
    "pred_va_score = 100\n",
    "\n",
    "# 학습 진행\n",
    "for epo in range(EPOCHS):\n",
    "    print(f'[Epoch {epo+1}/{EPOCHS}]', end=' ')\n",
    "    tr_score = training(DEVICE, epo, MODEL, TRAIN_DL, OPTIMIZER, LOSS_FN, OUT_DIM)\n",
    "    va_score = testing(DEVICE, epo, MODEL, VALID_DL, LOSS_FN, OUT_DIM)\n",
    "    \n",
    "    # 검증 데이터 기준 학습된 모델 저장 => Loss가 이전보다 작을 경우 저장 / Acc 또는 F1이면 이전보다 큰 경우 저장\n",
    "    if pred_va_score > va_score[0]:\n",
    "        torch.save(MODEL, model_name)\n",
    "        pred_va_score = va_score[0]\n",
    "        print('SAVED\\n')\n",
    "    \n",
    "    for idx, key in enumerate(train_):\n",
    "        train_[key].append(tr_score[idx])\n",
    "        val_[key].append(va_score[idx])\n",
    "\n",
    "print('Done!')"
   ],
   "metadata": {
    "collapsed": false,
    "ExecuteTime": {
     "end_time": "2024-03-20T01:25:40.436877Z",
     "start_time": "2024-03-20T01:24:41.454043Z"
    }
   },
   "id": "24ee85ce987c9de3",
   "execution_count": 64
  },
  {
   "cell_type": "code",
   "outputs": [
    {
     "data": {
      "text/plain": "<Figure size 640x480 with 2 Axes>",
      "image/png": "[encoded data removed]"
     },
     "metadata": {},
     "output_type": "display_data"
    }
   ],
   "source": [
    "### Loss와 Acc F1 시각화\n",
    "import matplotlib.pyplot as plt\n",
    "import koreanize_matplotlib\n",
    "\n",
    "metric = 'loss'\n",
    "fig, ax1 = plt.subplots()\n",
    "ax1.plot(train_[metric], label='train', color='red')\n",
    "\n",
    "ax2 = ax1.twinx()\n",
    "ax2.plot(val_[metric], label='val', color='blue')\n",
    "\n",
    "# ax3 = ax1.twinx()\n",
    "# ax3.plot(train_['f1'], label='f1', color='orange')\n",
    "ax1.legend(loc='upper center')\n",
    "ax2.legend(loc='upper right')\n",
    "plt.title(f'{metric} 비교')\n",
    "plt.show()"
   ],
   "metadata": {
    "collapsed": false,
    "ExecuteTime": {
     "end_time": "2024-03-20T01:43:46.602166800Z",
     "start_time": "2024-03-20T01:43:45.826441600Z"
    }
   },
   "id": "d6605c4413f82eb7",
   "execution_count": 74
  },
  {
   "cell_type": "code",
   "outputs": [],
   "source": [],
   "metadata": {
    "collapsed": false
   },
   "id": "702656aee145c084"
  }
 ],
 "metadata": {
  "kernelspec": {
   "display_name": "Python 3",
   "language": "python",
   "name": "python3"
  },
  "language_info": {
   "codemirror_mode": {
    "name": "ipython",
    "version": 2
   },
   "file_extension": ".py",
   "mimetype": "text/x-python",
   "name": "python",
   "nbconvert_exporter": "python",
   "pygments_lexer": "ipython2",
   "version": "2.7.6"
  }
 },
 "nbformat": 4,
 "nbformat_minor": 5
}
