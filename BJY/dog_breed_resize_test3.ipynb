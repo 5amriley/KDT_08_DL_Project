{
 "cells": [
  {
   "cell_type": "markdown",
   "source": [
    "### 개의 품종 분류\n",
    "- 딥러닝 팀 프로젝트\n",
    "- 데이터 출처 : https://www.kaggle.com/datasets/amandam1/120-dog-breeds-breed-classification"
   ],
   "metadata": {
    "collapsed": false
   },
   "id": "521ca9bc66dbe991"
  },
  {
   "cell_type": "markdown",
   "source": [
    "1) 모듈 준비, 데이터 준비\n",
    "2) 이미지 파일 픽셀값 전처리 (흑백으로 변환) -> 크기가 많이 클 경우, DataFrame으로 저장 후 csv 파일로 저장\n",
    "3) 데이터 전처리 - 피쳐 / 타겟 분리, 정규화\n",
    "4) 학습 데이터셋 준비\n",
    "    1. 사용자 정의 데이터셋 및 전체 데이터셋 준비\n",
    "    2. 학습용, 검증용, 테스트용 데이터셋 준비\n",
    "5) 데이터 로더 생성 (학습용, 검증용, 테스트용)\n",
    "6) 모델 클래스 정의\n",
    "7) 함수 정의 (학습, 검증, 테스트)\n",
    "8) 학습, 학습 후 평가 (평가척도)\n",
    "9) 테스트\n",
    "10) 학습 스케줄러\n",
    "11) 모델 저장 (불러와서 실행할 수 있게 하기 위해)"
   ],
   "metadata": {
    "collapsed": false
   },
   "id": "abb9b0c8d14c3fcd"
  },
  {
   "cell_type": "code",
   "outputs": [],
   "source": [
    "import os, sys\n",
    "from rembg import remove\n",
    "from PIL import Image\n",
    "Image.ANTIALIAS = Image.LANCZOS"
   ],
   "metadata": {
    "collapsed": false,
    "ExecuteTime": {
     "end_time": "2024-03-20T04:01:09.413119200Z",
     "start_time": "2024-03-20T04:01:07.777779900Z"
    }
   },
   "id": "272de966cb8e9c13",
   "execution_count": 1
  },
  {
   "cell_type": "code",
   "outputs": [
    {
     "name": "stdout",
     "output_type": "stream",
     "text": [
      "C:\\Users\\kdp\\PycharmProjects\\KDT_08_Deep_Learning\\WORK_DL\\WORK_TEAM_PROJECT\n"
     ]
    }
   ],
   "source": [
    "print(os.getcwd())"
   ],
   "metadata": {
    "collapsed": false,
    "ExecuteTime": {
     "end_time": "2024-03-20T04:01:13.134190300Z",
     "start_time": "2024-03-20T04:01:13.109894900Z"
    }
   },
   "id": "6374f6831385fd7a",
   "execution_count": 2
  },
  {
   "cell_type": "code",
   "outputs": [],
   "source": [
    "input = Image.open('./beagle1.jpg')\n",
    "input = input.convert('RGBA')\n",
    "output = remove(input)\n",
    "output.save('./beagle-rembg.png')       # 'RGBA' 모드의 이미지는 'jpg'로 저장할 수 없다."
   ],
   "metadata": {
    "collapsed": false,
    "ExecuteTime": {
     "end_time": "2024-03-20T04:18:53.220913Z",
     "start_time": "2024-03-20T04:18:51.347775400Z"
    }
   },
   "id": "9316f096ac873599",
   "execution_count": 7
  },
  {
   "cell_type": "code",
   "outputs": [],
   "source": [
    "def resize_and_crop(img_path, modified_path, size, crop_type='middle'):\n",
    "    files = os.listdir(img_path)    # 파일명 리스트 (list)\n",
    "    \n",
    "    if not os.path.exists(modified_path):\n",
    "        os.makedirs(modified_path)  # resize 이미지가 저장될 폴더가 없을 경우 생성\n",
    "    \n",
    "    for file in files:\n",
    "        # name = str(file)\n",
    "        # os.chdir(img_path)\n",
    "        img = Image.open(img_path + '/' + file)           # <class 'PIL.JpegImagePlugin.JpegImageFile'>\n",
    "        img = img.convert('RGBA')\n",
    "        img = remove(img)\n",
    "        img_ratio = img.size[0] / float(img.size[1])    # 해당 이미지 비율\n",
    "        ratio = size[0] / float(size[1])                # 목표 이미지 비율\n",
    "        \n",
    "        if ratio > img_ratio:\n",
    "            img = img.resize((size[0], int(round(size[0] * img.size[1] / img.size[0]))),   \n",
    "                             Image.ANTIALIAS)\n",
    "            if crop_type == 'middle':\n",
    "                box = (0, int(round((img.size[1] - size[1]) / 2)), \n",
    "                       img.size[0], int(round((img.size[1] + size[1]) / 2)))\n",
    "            img = img.crop(box)\n",
    "        elif ratio < img_ratio:\n",
    "            img = img.resize((int(round(size[1] * img.size[0] / img.size[1])), size[1]),\n",
    "                             Image.ANTIALIAS)\n",
    "            if crop_type == 'middle':\n",
    "                box = (int(round((img.size[0] - size[0]) / 2)), 0, \n",
    "                       int(round((img.size[0] + size[0]) / 2)), img.size[1])\n",
    "            img = img.crop(box)\n",
    "        else:\n",
    "            img = img.resize((size[0], size[1]), Image.ANTIALIAS)\n",
    "        \n",
    "        # os.chdir(modified_path)\n",
    "        img.save(modified_path + '/' + file.replace('jpg', 'png'))"
   ],
   "metadata": {
    "collapsed": true,
    "ExecuteTime": {
     "end_time": "2024-03-20T04:25:03.928238300Z",
     "start_time": "2024-03-20T04:25:03.848283400Z"
    }
   },
   "id": "initial_id",
   "execution_count": 16
  },
  {
   "cell_type": "code",
   "outputs": [
    {
     "data": {
      "text/plain": "'beagle.png'"
     },
     "execution_count": 11,
     "metadata": {},
     "output_type": "execute_result"
    }
   ],
   "source": [
    "'beagle.jpg'.replace('jpg', 'png')"
   ],
   "metadata": {
    "collapsed": false,
    "ExecuteTime": {
     "end_time": "2024-03-20T04:22:50.125179100Z",
     "start_time": "2024-03-20T04:22:50.071123100Z"
    }
   },
   "id": "f35a8a54078855ab",
   "execution_count": 11
  },
  {
   "cell_type": "code",
   "outputs": [
    {
     "name": "stdout",
     "output_type": "stream",
     "text": [
      "beagle1.jpg\n",
      "beagle10.jpg\n",
      "beagle101.jpg\n",
      "beagle105.jpg\n",
      "beagle106.jpg\n",
      "beagle108.jpg\n",
      "beagle109.jpg\n",
      "beagle11.jpg\n",
      "beagle110.jpg\n",
      "beagle112.jpg\n",
      "beagle114.jpg\n",
      "beagle115.jpg\n",
      "beagle116.jpg\n",
      "beagle118.jpg\n",
      "beagle12.jpg\n",
      "beagle13.jpg\n",
      "beagle14.jpg\n",
      "beagle15.jpg\n",
      "beagle16.jpg\n",
      "beagle17.jpg\n",
      "beagle18.jpg\n",
      "beagle2.jpg\n",
      "beagle20.jpg\n",
      "beagle22.jpg\n",
      "beagle24.jpg\n",
      "beagle26.jpg\n",
      "beagle28.jpg\n",
      "beagle30.jpg\n",
      "beagle32.jpg\n",
      "beagle34.jpg\n",
      "beagle36.jpg\n",
      "beagle38.jpg\n",
      "beagle4.jpg\n",
      "beagle40.jpg\n",
      "beagle42.jpg\n",
      "beagle44.jpg\n",
      "beagle46.jpg\n",
      "beagle48.jpg\n",
      "beagle5.jpg\n",
      "beagle50.jpg\n",
      "beagle52.jpg\n",
      "beagle54.jpg\n",
      "beagle56.jpg\n",
      "beagle58.jpg\n",
      "beagle60.jpg\n",
      "beagle61.jpg\n",
      "beagle62.jpg\n",
      "beagle63.jpg\n",
      "beagle64.jpg\n",
      "beagle65.jpg\n",
      "beagle66.jpg\n",
      "beagle67.jpg\n",
      "beagle68.jpg\n",
      "beagle69.jpg\n",
      "beagle7.jpg\n",
      "beagle70.jpg\n",
      "beagle71.jpg\n",
      "beagle72.jpg\n",
      "beagle73.jpg\n",
      "beagle74.jpg\n",
      "beagle75.jpg\n",
      "beagle76.jpg\n",
      "beagle77.jpg\n",
      "beagle78.jpg\n",
      "beagle79.jpg\n",
      "beagle8.jpg\n",
      "beagle83.jpg\n",
      "beagle84.jpg\n",
      "beagle85.jpg\n",
      "beagle86.jpg\n",
      "beagle87.jpg\n",
      "beagle88.jpg\n",
      "beagle89.jpg\n",
      "beagle90.jpg\n",
      "beagle91.jpg\n",
      "beagle92.jpg\n",
      "beagle93.jpg\n",
      "beagle94.jpg\n",
      "beagle95.jpg\n",
      "beagle96.jpg\n",
      "beagle97.jpg\n",
      "beagle98.jpg\n",
      "beagle99.jpg\n"
     ]
    }
   ],
   "source": [
    "files = os.listdir('./dog-breeds/beagle')\n",
    "for file in files:\n",
    "    print(file)"
   ],
   "metadata": {
    "collapsed": false,
    "ExecuteTime": {
     "end_time": "2024-03-20T04:22:16.756668900Z",
     "start_time": "2024-03-20T04:22:16.705740800Z"
    }
   },
   "id": "50c530d4f197d7fa",
   "execution_count": 10
  },
  {
   "cell_type": "code",
   "outputs": [],
   "source": [
    "def print_files(img_path, modified_path):\n",
    "    files = os.listdir(img_path)    # 파일명 리스트 (list)\n",
    "    \n",
    "    if not os.path.exists(modified_path):\n",
    "        os.makedirs(modified_path)  # resize 이미지가 저장될 폴더가 없을 경우 생성\n",
    "    \n",
    "    for file in files:\n",
    "        print(img_path + '/' + file)"
   ],
   "metadata": {
    "collapsed": false,
    "ExecuteTime": {
     "end_time": "2024-03-20T04:23:12.943894800Z",
     "start_time": "2024-03-20T04:23:12.919587100Z"
    }
   },
   "id": "890c7a07f4d74165",
   "execution_count": 13
  },
  {
   "cell_type": "code",
   "outputs": [
    {
     "ename": "KeyboardInterrupt",
     "evalue": "",
     "output_type": "error",
     "traceback": [
      "\u001B[1;31m---------------------------------------------------------------------------\u001B[0m",
      "\u001B[1;31mKeyboardInterrupt\u001B[0m                         Traceback (most recent call last)",
      "Cell \u001B[1;32mIn[17], line 6\u001B[0m\n\u001B[0;32m      3\u001B[0m modified_path2 \u001B[38;5;241m=\u001B[39m \u001B[38;5;124m\"\u001B[39m\u001B[38;5;124m./Images-resized\u001B[39m\u001B[38;5;124m\"\u001B[39m\n\u001B[0;32m      4\u001B[0m \u001B[38;5;28;01mfor\u001B[39;00m folder \u001B[38;5;129;01min\u001B[39;00m os\u001B[38;5;241m.\u001B[39mlistdir(path2):\n\u001B[0;32m      5\u001B[0m     \u001B[38;5;66;03m# print(path2 + folder)\u001B[39;00m\n\u001B[1;32m----> 6\u001B[0m     \u001B[43mresize_and_crop\u001B[49m\u001B[43m(\u001B[49m\u001B[43mpath2\u001B[49m\u001B[43m \u001B[49m\u001B[38;5;241;43m+\u001B[39;49m\u001B[43m \u001B[49m\u001B[38;5;124;43m'\u001B[39;49m\u001B[38;5;124;43m/\u001B[39;49m\u001B[38;5;124;43m'\u001B[39;49m\u001B[43m \u001B[49m\u001B[38;5;241;43m+\u001B[39;49m\u001B[43m \u001B[49m\u001B[43mfolder\u001B[49m\u001B[43m,\u001B[49m\u001B[43m \u001B[49m\u001B[43mmodified_path2\u001B[49m\u001B[43m \u001B[49m\u001B[38;5;241;43m+\u001B[39;49m\u001B[43m \u001B[49m\u001B[38;5;124;43m'\u001B[39;49m\u001B[38;5;124;43m/\u001B[39;49m\u001B[38;5;124;43m'\u001B[39;49m\u001B[43m \u001B[49m\u001B[38;5;241;43m+\u001B[39;49m\u001B[43m \u001B[49m\u001B[43mfolder\u001B[49m\u001B[43m,\u001B[49m\u001B[43m \u001B[49m\u001B[43msize\u001B[49m\u001B[43m)\u001B[49m\n",
      "Cell \u001B[1;32mIn[16], line 12\u001B[0m, in \u001B[0;36mresize_and_crop\u001B[1;34m(img_path, modified_path, size, crop_type)\u001B[0m\n\u001B[0;32m     10\u001B[0m img \u001B[38;5;241m=\u001B[39m Image\u001B[38;5;241m.\u001B[39mopen(img_path \u001B[38;5;241m+\u001B[39m \u001B[38;5;124m'\u001B[39m\u001B[38;5;124m/\u001B[39m\u001B[38;5;124m'\u001B[39m \u001B[38;5;241m+\u001B[39m file)           \u001B[38;5;66;03m# <class 'PIL.JpegImagePlugin.JpegImageFile'>\u001B[39;00m\n\u001B[0;32m     11\u001B[0m img \u001B[38;5;241m=\u001B[39m img\u001B[38;5;241m.\u001B[39mconvert(\u001B[38;5;124m'\u001B[39m\u001B[38;5;124mRGBA\u001B[39m\u001B[38;5;124m'\u001B[39m)\n\u001B[1;32m---> 12\u001B[0m img \u001B[38;5;241m=\u001B[39m \u001B[43mremove\u001B[49m\u001B[43m(\u001B[49m\u001B[43mimg\u001B[49m\u001B[43m)\u001B[49m\n\u001B[0;32m     13\u001B[0m img_ratio \u001B[38;5;241m=\u001B[39m img\u001B[38;5;241m.\u001B[39msize[\u001B[38;5;241m0\u001B[39m] \u001B[38;5;241m/\u001B[39m \u001B[38;5;28mfloat\u001B[39m(img\u001B[38;5;241m.\u001B[39msize[\u001B[38;5;241m1\u001B[39m])    \u001B[38;5;66;03m# 해당 이미지 비율\u001B[39;00m\n\u001B[0;32m     14\u001B[0m ratio \u001B[38;5;241m=\u001B[39m size[\u001B[38;5;241m0\u001B[39m] \u001B[38;5;241m/\u001B[39m \u001B[38;5;28mfloat\u001B[39m(size[\u001B[38;5;241m1\u001B[39m])                \u001B[38;5;66;03m# 목표 이미지 비율\u001B[39;00m\n",
      "File \u001B[1;32m~\\.conda\\envs\\Torch_38\\lib\\site-packages\\rembg\\bg.py:258\u001B[0m, in \u001B[0;36mremove\u001B[1;34m(data, alpha_matting, alpha_matting_foreground_threshold, alpha_matting_background_threshold, alpha_matting_erode_size, session, only_mask, post_process_mask, bgcolor, *args, **kwargs)\u001B[0m\n\u001B[0;32m    255\u001B[0m img \u001B[38;5;241m=\u001B[39m fix_image_orientation(img)\n\u001B[0;32m    257\u001B[0m \u001B[38;5;28;01mif\u001B[39;00m session \u001B[38;5;129;01mis\u001B[39;00m \u001B[38;5;28;01mNone\u001B[39;00m:\n\u001B[1;32m--> 258\u001B[0m     session \u001B[38;5;241m=\u001B[39m \u001B[43mnew_session\u001B[49m\u001B[43m(\u001B[49m\u001B[38;5;124;43m\"\u001B[39;49m\u001B[38;5;124;43mu2net\u001B[39;49m\u001B[38;5;124;43m\"\u001B[39;49m\u001B[43m,\u001B[49m\u001B[43m \u001B[49m\u001B[38;5;241;43m*\u001B[39;49m\u001B[43margs\u001B[49m\u001B[43m,\u001B[49m\u001B[43m \u001B[49m\u001B[38;5;241;43m*\u001B[39;49m\u001B[38;5;241;43m*\u001B[39;49m\u001B[43mkwargs\u001B[49m\u001B[43m)\u001B[49m\n\u001B[0;32m    260\u001B[0m masks \u001B[38;5;241m=\u001B[39m session\u001B[38;5;241m.\u001B[39mpredict(img, \u001B[38;5;241m*\u001B[39margs, \u001B[38;5;241m*\u001B[39m\u001B[38;5;241m*\u001B[39mkwargs)\n\u001B[0;32m    261\u001B[0m cutouts \u001B[38;5;241m=\u001B[39m []\n",
      "File \u001B[1;32m~\\.conda\\envs\\Torch_38\\lib\\site-packages\\rembg\\session_factory.py:44\u001B[0m, in \u001B[0;36mnew_session\u001B[1;34m(model_name, providers, *args, **kwargs)\u001B[0m\n\u001B[0;32m     41\u001B[0m     sess_opts\u001B[38;5;241m.\u001B[39minter_op_num_threads \u001B[38;5;241m=\u001B[39m \u001B[38;5;28mint\u001B[39m(os\u001B[38;5;241m.\u001B[39menviron[\u001B[38;5;124m\"\u001B[39m\u001B[38;5;124mOMP_NUM_THREADS\u001B[39m\u001B[38;5;124m\"\u001B[39m])\n\u001B[0;32m     42\u001B[0m     sess_opts\u001B[38;5;241m.\u001B[39mintra_op_num_threads \u001B[38;5;241m=\u001B[39m \u001B[38;5;28mint\u001B[39m(os\u001B[38;5;241m.\u001B[39menviron[\u001B[38;5;124m\"\u001B[39m\u001B[38;5;124mOMP_NUM_THREADS\u001B[39m\u001B[38;5;124m\"\u001B[39m])\n\u001B[1;32m---> 44\u001B[0m \u001B[38;5;28;01mreturn\u001B[39;00m \u001B[43msession_class\u001B[49m\u001B[43m(\u001B[49m\u001B[43mmodel_name\u001B[49m\u001B[43m,\u001B[49m\u001B[43m \u001B[49m\u001B[43msess_opts\u001B[49m\u001B[43m,\u001B[49m\u001B[43m \u001B[49m\u001B[43mproviders\u001B[49m\u001B[43m,\u001B[49m\u001B[43m \u001B[49m\u001B[38;5;241;43m*\u001B[39;49m\u001B[43margs\u001B[49m\u001B[43m,\u001B[49m\u001B[43m \u001B[49m\u001B[38;5;241;43m*\u001B[39;49m\u001B[38;5;241;43m*\u001B[39;49m\u001B[43mkwargs\u001B[49m\u001B[43m)\u001B[49m\n",
      "File \u001B[1;32m~\\.conda\\envs\\Torch_38\\lib\\site-packages\\rembg\\sessions\\base.py:35\u001B[0m, in \u001B[0;36mBaseSession.__init__\u001B[1;34m(self, model_name, sess_opts, providers, *args, **kwargs)\u001B[0m\n\u001B[0;32m     31\u001B[0m \u001B[38;5;28;01melse\u001B[39;00m:\n\u001B[0;32m     32\u001B[0m     \u001B[38;5;28mself\u001B[39m\u001B[38;5;241m.\u001B[39mproviders\u001B[38;5;241m.\u001B[39mextend(_providers)\n\u001B[0;32m     34\u001B[0m \u001B[38;5;28mself\u001B[39m\u001B[38;5;241m.\u001B[39minner_session \u001B[38;5;241m=\u001B[39m ort\u001B[38;5;241m.\u001B[39mInferenceSession(\n\u001B[1;32m---> 35\u001B[0m     \u001B[38;5;28mstr\u001B[39m(\u001B[38;5;28;43mself\u001B[39;49m\u001B[38;5;241;43m.\u001B[39;49m\u001B[38;5;18;43m__class__\u001B[39;49m\u001B[38;5;241;43m.\u001B[39;49m\u001B[43mdownload_models\u001B[49m\u001B[43m(\u001B[49m\u001B[38;5;241;43m*\u001B[39;49m\u001B[43margs\u001B[49m\u001B[43m,\u001B[49m\u001B[43m \u001B[49m\u001B[38;5;241;43m*\u001B[39;49m\u001B[38;5;241;43m*\u001B[39;49m\u001B[43mkwargs\u001B[49m\u001B[43m)\u001B[49m),\n\u001B[0;32m     36\u001B[0m     providers\u001B[38;5;241m=\u001B[39m\u001B[38;5;28mself\u001B[39m\u001B[38;5;241m.\u001B[39mproviders,\n\u001B[0;32m     37\u001B[0m     sess_options\u001B[38;5;241m=\u001B[39msess_opts,\n\u001B[0;32m     38\u001B[0m )\n",
      "File \u001B[1;32m~\\.conda\\envs\\Torch_38\\lib\\site-packages\\rembg\\sessions\\u2net.py:62\u001B[0m, in \u001B[0;36mU2netSession.download_models\u001B[1;34m(cls, *args, **kwargs)\u001B[0m\n\u001B[0;32m     51\u001B[0m \u001B[38;5;250m\u001B[39m\u001B[38;5;124;03m\"\"\"\u001B[39;00m\n\u001B[0;32m     52\u001B[0m \u001B[38;5;124;03mDownloads the U2net model file from a specific URL and saves it.\u001B[39;00m\n\u001B[0;32m     53\u001B[0m \n\u001B[1;32m   (...)\u001B[0m\n\u001B[0;32m     59\u001B[0m \u001B[38;5;124;03m    str: The path to the downloaded model file.\u001B[39;00m\n\u001B[0;32m     60\u001B[0m \u001B[38;5;124;03m\"\"\"\u001B[39;00m\n\u001B[0;32m     61\u001B[0m fname \u001B[38;5;241m=\u001B[39m \u001B[38;5;124mf\u001B[39m\u001B[38;5;124m\"\u001B[39m\u001B[38;5;132;01m{\u001B[39;00m\u001B[38;5;28mcls\u001B[39m\u001B[38;5;241m.\u001B[39mname(\u001B[38;5;241m*\u001B[39margs,\u001B[38;5;250m \u001B[39m\u001B[38;5;241m*\u001B[39m\u001B[38;5;241m*\u001B[39mkwargs)\u001B[38;5;132;01m}\u001B[39;00m\u001B[38;5;124m.onnx\u001B[39m\u001B[38;5;124m\"\u001B[39m\n\u001B[1;32m---> 62\u001B[0m \u001B[43mpooch\u001B[49m\u001B[38;5;241;43m.\u001B[39;49m\u001B[43mretrieve\u001B[49m\u001B[43m(\u001B[49m\n\u001B[0;32m     63\u001B[0m \u001B[43m    \u001B[49m\u001B[38;5;124;43m\"\u001B[39;49m\u001B[38;5;124;43mhttps://github.com/danielgatis/rembg/releases/download/v0.0.0/u2net.onnx\u001B[39;49m\u001B[38;5;124;43m\"\u001B[39;49m\u001B[43m,\u001B[49m\n\u001B[0;32m     64\u001B[0m \u001B[43m    \u001B[49m\u001B[43m(\u001B[49m\n\u001B[0;32m     65\u001B[0m \u001B[43m        \u001B[49m\u001B[38;5;28;43;01mNone\u001B[39;49;00m\n\u001B[0;32m     66\u001B[0m \u001B[43m        \u001B[49m\u001B[38;5;28;43;01mif\u001B[39;49;00m\u001B[43m \u001B[49m\u001B[38;5;28;43mcls\u001B[39;49m\u001B[38;5;241;43m.\u001B[39;49m\u001B[43mchecksum_disabled\u001B[49m\u001B[43m(\u001B[49m\u001B[38;5;241;43m*\u001B[39;49m\u001B[43margs\u001B[49m\u001B[43m,\u001B[49m\u001B[43m \u001B[49m\u001B[38;5;241;43m*\u001B[39;49m\u001B[38;5;241;43m*\u001B[39;49m\u001B[43mkwargs\u001B[49m\u001B[43m)\u001B[49m\n\u001B[0;32m     67\u001B[0m \u001B[43m        \u001B[49m\u001B[38;5;28;43;01melse\u001B[39;49;00m\u001B[43m \u001B[49m\u001B[38;5;124;43m\"\u001B[39;49m\u001B[38;5;124;43mmd5:60024c5c889badc19c04ad937298a77b\u001B[39;49m\u001B[38;5;124;43m\"\u001B[39;49m\n\u001B[0;32m     68\u001B[0m \u001B[43m    \u001B[49m\u001B[43m)\u001B[49m\u001B[43m,\u001B[49m\n\u001B[0;32m     69\u001B[0m \u001B[43m    \u001B[49m\u001B[43mfname\u001B[49m\u001B[38;5;241;43m=\u001B[39;49m\u001B[43mfname\u001B[49m\u001B[43m,\u001B[49m\n\u001B[0;32m     70\u001B[0m \u001B[43m    \u001B[49m\u001B[43mpath\u001B[49m\u001B[38;5;241;43m=\u001B[39;49m\u001B[38;5;28;43mcls\u001B[39;49m\u001B[38;5;241;43m.\u001B[39;49m\u001B[43mu2net_home\u001B[49m\u001B[43m(\u001B[49m\u001B[38;5;241;43m*\u001B[39;49m\u001B[43margs\u001B[49m\u001B[43m,\u001B[49m\u001B[43m \u001B[49m\u001B[38;5;241;43m*\u001B[39;49m\u001B[38;5;241;43m*\u001B[39;49m\u001B[43mkwargs\u001B[49m\u001B[43m)\u001B[49m\u001B[43m,\u001B[49m\n\u001B[0;32m     71\u001B[0m \u001B[43m    \u001B[49m\u001B[43mprogressbar\u001B[49m\u001B[38;5;241;43m=\u001B[39;49m\u001B[38;5;28;43;01mTrue\u001B[39;49;00m\u001B[43m,\u001B[49m\n\u001B[0;32m     72\u001B[0m \u001B[43m\u001B[49m\u001B[43m)\u001B[49m\n\u001B[0;32m     74\u001B[0m \u001B[38;5;28;01mreturn\u001B[39;00m os\u001B[38;5;241m.\u001B[39mpath\u001B[38;5;241m.\u001B[39mjoin(\u001B[38;5;28mcls\u001B[39m\u001B[38;5;241m.\u001B[39mu2net_home(\u001B[38;5;241m*\u001B[39margs, \u001B[38;5;241m*\u001B[39m\u001B[38;5;241m*\u001B[39mkwargs), fname)\n",
      "File \u001B[1;32m~\\.conda\\envs\\Torch_38\\lib\\site-packages\\pooch\\core.py:226\u001B[0m, in \u001B[0;36mretrieve\u001B[1;34m(url, known_hash, fname, path, processor, downloader, progressbar)\u001B[0m\n\u001B[0;32m    223\u001B[0m make_local_storage(path)\n\u001B[0;32m    225\u001B[0m full_path \u001B[38;5;241m=\u001B[39m path\u001B[38;5;241m.\u001B[39mresolve() \u001B[38;5;241m/\u001B[39m fname\n\u001B[1;32m--> 226\u001B[0m action, verb \u001B[38;5;241m=\u001B[39m \u001B[43mdownload_action\u001B[49m\u001B[43m(\u001B[49m\u001B[43mfull_path\u001B[49m\u001B[43m,\u001B[49m\u001B[43m \u001B[49m\u001B[43mknown_hash\u001B[49m\u001B[43m)\u001B[49m\n\u001B[0;32m    228\u001B[0m \u001B[38;5;28;01mif\u001B[39;00m action \u001B[38;5;129;01min\u001B[39;00m (\u001B[38;5;124m\"\u001B[39m\u001B[38;5;124mdownload\u001B[39m\u001B[38;5;124m\"\u001B[39m, \u001B[38;5;124m\"\u001B[39m\u001B[38;5;124mupdate\u001B[39m\u001B[38;5;124m\"\u001B[39m):\n\u001B[0;32m    229\u001B[0m     get_logger()\u001B[38;5;241m.\u001B[39minfo(\n\u001B[0;32m    230\u001B[0m         \u001B[38;5;124m\"\u001B[39m\u001B[38;5;132;01m%s\u001B[39;00m\u001B[38;5;124m data from \u001B[39m\u001B[38;5;124m'\u001B[39m\u001B[38;5;132;01m%s\u001B[39;00m\u001B[38;5;124m'\u001B[39m\u001B[38;5;124m to file \u001B[39m\u001B[38;5;124m'\u001B[39m\u001B[38;5;132;01m%s\u001B[39;00m\u001B[38;5;124m'\u001B[39m\u001B[38;5;124m.\u001B[39m\u001B[38;5;124m\"\u001B[39m,\n\u001B[0;32m    231\u001B[0m         verb,\n\u001B[0;32m    232\u001B[0m         url,\n\u001B[0;32m    233\u001B[0m         \u001B[38;5;28mstr\u001B[39m(full_path),\n\u001B[0;32m    234\u001B[0m     )\n",
      "File \u001B[1;32m~\\.conda\\envs\\Torch_38\\lib\\site-packages\\pooch\\core.py:771\u001B[0m, in \u001B[0;36mdownload_action\u001B[1;34m(path, known_hash)\u001B[0m\n\u001B[0;32m    769\u001B[0m     action \u001B[38;5;241m=\u001B[39m \u001B[38;5;124m\"\u001B[39m\u001B[38;5;124mdownload\u001B[39m\u001B[38;5;124m\"\u001B[39m\n\u001B[0;32m    770\u001B[0m     verb \u001B[38;5;241m=\u001B[39m \u001B[38;5;124m\"\u001B[39m\u001B[38;5;124mDownloading\u001B[39m\u001B[38;5;124m\"\u001B[39m\n\u001B[1;32m--> 771\u001B[0m \u001B[38;5;28;01melif\u001B[39;00m \u001B[38;5;129;01mnot\u001B[39;00m \u001B[43mhash_matches\u001B[49m\u001B[43m(\u001B[49m\u001B[38;5;28;43mstr\u001B[39;49m\u001B[43m(\u001B[49m\u001B[43mpath\u001B[49m\u001B[43m)\u001B[49m\u001B[43m,\u001B[49m\u001B[43m \u001B[49m\u001B[43mknown_hash\u001B[49m\u001B[43m)\u001B[49m:\n\u001B[0;32m    772\u001B[0m     action \u001B[38;5;241m=\u001B[39m \u001B[38;5;124m\"\u001B[39m\u001B[38;5;124mupdate\u001B[39m\u001B[38;5;124m\"\u001B[39m\n\u001B[0;32m    773\u001B[0m     verb \u001B[38;5;241m=\u001B[39m \u001B[38;5;124m\"\u001B[39m\u001B[38;5;124mUpdating\u001B[39m\u001B[38;5;124m\"\u001B[39m\n",
      "File \u001B[1;32m~\\.conda\\envs\\Torch_38\\lib\\site-packages\\pooch\\hashes.py:171\u001B[0m, in \u001B[0;36mhash_matches\u001B[1;34m(fname, known_hash, strict, source)\u001B[0m\n\u001B[0;32m    169\u001B[0m     \u001B[38;5;28;01mreturn\u001B[39;00m \u001B[38;5;28;01mTrue\u001B[39;00m\n\u001B[0;32m    170\u001B[0m algorithm \u001B[38;5;241m=\u001B[39m hash_algorithm(known_hash)\n\u001B[1;32m--> 171\u001B[0m new_hash \u001B[38;5;241m=\u001B[39m \u001B[43mfile_hash\u001B[49m\u001B[43m(\u001B[49m\u001B[43mfname\u001B[49m\u001B[43m,\u001B[49m\u001B[43m \u001B[49m\u001B[43malg\u001B[49m\u001B[38;5;241;43m=\u001B[39;49m\u001B[43malgorithm\u001B[49m\u001B[43m)\u001B[49m\n\u001B[0;32m    172\u001B[0m matches \u001B[38;5;241m=\u001B[39m new_hash\u001B[38;5;241m.\u001B[39mlower() \u001B[38;5;241m==\u001B[39m known_hash\u001B[38;5;241m.\u001B[39msplit(\u001B[38;5;124m\"\u001B[39m\u001B[38;5;124m:\u001B[39m\u001B[38;5;124m\"\u001B[39m)[\u001B[38;5;241m-\u001B[39m\u001B[38;5;241m1\u001B[39m]\u001B[38;5;241m.\u001B[39mlower()\n\u001B[0;32m    173\u001B[0m \u001B[38;5;28;01mif\u001B[39;00m strict \u001B[38;5;129;01mand\u001B[39;00m \u001B[38;5;129;01mnot\u001B[39;00m matches:\n",
      "File \u001B[1;32m~\\.conda\\envs\\Torch_38\\lib\\site-packages\\pooch\\hashes.py:86\u001B[0m, in \u001B[0;36mfile_hash\u001B[1;34m(fname, alg)\u001B[0m\n\u001B[0;32m     84\u001B[0m     \u001B[38;5;28;01mwhile\u001B[39;00m buff:\n\u001B[0;32m     85\u001B[0m         hasher\u001B[38;5;241m.\u001B[39mupdate(buff)\n\u001B[1;32m---> 86\u001B[0m         buff \u001B[38;5;241m=\u001B[39m \u001B[43mfin\u001B[49m\u001B[38;5;241;43m.\u001B[39;49m\u001B[43mread\u001B[49m\u001B[43m(\u001B[49m\u001B[43mchunksize\u001B[49m\u001B[43m)\u001B[49m\n\u001B[0;32m     87\u001B[0m \u001B[38;5;28;01mreturn\u001B[39;00m hasher\u001B[38;5;241m.\u001B[39mhexdigest()\n",
      "\u001B[1;31mKeyboardInterrupt\u001B[0m: "
     ]
    }
   ],
   "source": [
    "# 시간 없어서 다 못 돌림\n",
    "size = 64, 64\n",
    "path2 = \"./Images\"\n",
    "modified_path2 = \"./Images-resized\"\n",
    "for folder in os.listdir(path2):\n",
    "    # print(path2 + folder)\n",
    "    resize_and_crop(path2 + '/' + folder, modified_path2 + '/' + folder, size)"
   ],
   "metadata": {
    "collapsed": false,
    "ExecuteTime": {
     "end_time": "2024-03-20T05:46:47.347778100Z",
     "start_time": "2024-03-20T04:25:12.400245800Z"
    }
   },
   "id": "aa19abd695254dfa",
   "execution_count": 17
  },
  {
   "cell_type": "code",
   "outputs": [],
   "source": [
    "# size = 128, 128 # 바꾸고 싶은 사이즈\n",
    "# path = \"./dog-breeds/rottweiler/\"  # 이미지 경로\n",
    "# modified_path = \"./dog-breeds-resized/rottweiler/\"    # resize된 이미지가 저장될 경로\n",
    "# resize_and_crop(path, modified_path, size)"
   ],
   "metadata": {
    "collapsed": false,
    "ExecuteTime": {
     "end_time": "2024-03-20T00:43:07.994697200Z",
     "start_time": "2024-03-20T00:43:05.191112400Z"
    }
   },
   "id": "6e04bfbc487c0660",
   "execution_count": 4
  },
  {
   "cell_type": "code",
   "outputs": [],
   "source": [
    "# resize 예제\n",
    "# test_img = Image.open('./dog-breeds/beagle/beagle1.jpg')\n",
    "# resized_img = test_img.resize((128, 128), Image.LANCZOS)\n",
    "# resized_img.save('output_image.jpg')"
   ],
   "metadata": {
    "collapsed": false,
    "ExecuteTime": {
     "end_time": "2024-03-19T10:26:24.966198400Z",
     "start_time": "2024-03-19T10:26:24.955443100Z"
    }
   },
   "id": "2de877ca8445ac81",
   "execution_count": 40
  },
  {
   "cell_type": "code",
   "outputs": [
    {
     "name": "stderr",
     "output_type": "stream",
     "text": [
      "C:\\Users\\kdp\\.conda\\envs\\Torch_38\\lib\\site-packages\\torchvision\\io\\image.py:13: UserWarning: Failed to load image Python extension: '[WinError 127] 지정된 프로시저를 찾을 수 없습니다'If you don't plan on using image functionality from `torchvision.io`, you can ignore this warning. Otherwise, there might be something wrong with your environment. Did you have `libjpeg` or `libpng` installed before building `torchvision` from source?\n",
      "  warn(\n"
     ]
    }
   ],
   "source": [
    "import torch\n",
    "import torchvision.transforms.functional as TF\n",
    "import numpy as np\n",
    "import pandas as pd\n",
    "\n",
    "def convert_to_grayscale_tensor(image_path):\n",
    "    \"\"\" 컬러 이미지를 그레이스케일로 변환 후, 텐서로 저장하는 함수 \"\"\"\n",
    "    \n",
    "    # Pillow로 컬러이미지 읽어오기\n",
    "    color_image = Image.open(image_path)\n",
    "    \n",
    "    # 이미지를 grayscale로 변환\n",
    "    grayscale_image = color_image.convert('L')\n",
    "    \n",
    "    # 이미지를 PyTorch 텐서로 변환 (+ 0~1 범위로 정규화)\n",
    "    image_tensor = TF.to_tensor(grayscale_image)\n",
    "    print(type(image_tensor), image_tensor.shape)\n",
    "\n",
    "\n",
    "def convert_to_grayscale_array(image_path):\n",
    "    \"\"\" 컬러 이미지를 그레이스케일로 변환 후, 1차원 리스트로 저장하는 함수 \"\"\"\n",
    "    \n",
    "    # Pillow로 컬러이미지 읽어오기\n",
    "    color_image = Image.open(image_path)\n",
    "    \n",
    "    # 이미지를 grayscale로 변환\n",
    "    grayscale_image = color_image.convert('L')\n",
    "    \n",
    "    # 이미지 -> ndarray -> list\n",
    "    image_array = np.array(grayscale_image)\n",
    "    image_array =  image_array.reshape(-1)\n",
    "    image_list = image_array.tolist()\n",
    "    # print(type(image_list), len(image_list))\n",
    "    \n",
    "    return image_list   # 1차원 리스트 반환\n",
    "\n",
    "\n",
    "def save_tensor_as_image(tensor, file_path):\n",
    "    \"\"\" 텐서를 이미지 파일로 저장하는 함수 \"\"\"\n",
    "    \n",
    "    # 텐서를 이미지로 변환\n",
    "    image = TF.to_pil_image(tensor)\n",
    "    \n",
    "    # 이미지 파일로 저장\n",
    "    image.save(file_path)"
   ],
   "metadata": {
    "collapsed": false,
    "ExecuteTime": {
     "end_time": "2024-03-20T05:49:41.907108100Z",
     "start_time": "2024-03-20T05:49:38.504167800Z"
    }
   },
   "id": "740b603b308f6940",
   "execution_count": 18
  },
  {
   "cell_type": "code",
   "outputs": [
    {
     "name": "stdout",
     "output_type": "stream",
     "text": [
      "<class 'torch.Tensor'> torch.Size([1, 128, 128])\n"
     ]
    }
   ],
   "source": [
    "convert_to_grayscale_tensor('./beagle1.jpg')"
   ],
   "metadata": {
    "collapsed": false,
    "ExecuteTime": {
     "end_time": "2024-03-20T03:00:16.369565Z",
     "start_time": "2024-03-20T03:00:16.345487800Z"
    }
   },
   "id": "2a381d58579e99ae",
   "execution_count": 30
  },
  {
   "cell_type": "code",
   "outputs": [
    {
     "data": {
      "text/plain": "list"
     },
     "execution_count": 31,
     "metadata": {},
     "output_type": "execute_result"
    }
   ],
   "source": [
    "type(convert_to_grayscale_array('./beagle1.jpg'))"
   ],
   "metadata": {
    "collapsed": false,
    "ExecuteTime": {
     "end_time": "2024-03-20T03:00:19.048278Z",
     "start_time": "2024-03-20T03:00:19.009325200Z"
    }
   },
   "id": "6ff7fe314745b31e",
   "execution_count": 31
  },
  {
   "cell_type": "code",
   "outputs": [],
   "source": [
    "color_image = Image.open('./blenheim.png')\n",
    "grayscale_image = color_image.convert('L')\n",
    "grayscale_image.save('./blenheim-gray.png')"
   ],
   "metadata": {
    "collapsed": false,
    "ExecuteTime": {
     "end_time": "2024-03-20T06:56:02.484527300Z",
     "start_time": "2024-03-20T06:56:02.411322800Z"
    }
   },
   "id": "30bbb13cbe9d1f16",
   "execution_count": 147
  },
  {
   "cell_type": "code",
   "outputs": [],
   "source": [
    "# 컬러이미지 -> 흑백이미지 -> 저장 (예시)\n",
    "color_image = Image.open('./beagle1.jpg')\n",
    "grayscale_image = color_image.convert('L')\n",
    "grayscale_image.save('./beagle-gray.jpg')"
   ],
   "metadata": {
    "collapsed": false,
    "ExecuteTime": {
     "end_time": "2024-03-20T03:00:31.405800500Z",
     "start_time": "2024-03-20T03:00:31.381731Z"
    }
   },
   "id": "1b795fb880c0a465",
   "execution_count": 32
  },
  {
   "cell_type": "code",
   "outputs": [
    {
     "name": "stdout",
     "output_type": "stream",
     "text": [
      "tensor([[0.4118, 0.4118, 0.4157,  ..., 0.3569, 0.3529, 0.3490],\n",
      "        [0.4118, 0.4118, 0.4157,  ..., 0.3686, 0.3608, 0.3569],\n",
      "        [0.4118, 0.4157, 0.4157,  ..., 0.3843, 0.3725, 0.3647],\n",
      "        ...,\n",
      "        [0.7216, 0.7137, 0.7216,  ..., 0.7490, 0.7725, 0.7843],\n",
      "        [0.7412, 0.7333, 0.7373,  ..., 0.7569, 0.7608, 0.7569],\n",
      "        [0.7373, 0.7294, 0.7333,  ..., 0.7451, 0.7294, 0.7098]])\n"
     ]
    }
   ],
   "source": [
    "image = Image.open('./beagle-gray.jpg')\n",
    "image = TF.to_tensor(image)\n",
    "print(image.squeeze())"
   ],
   "metadata": {
    "collapsed": false,
    "ExecuteTime": {
     "end_time": "2024-03-20T03:00:31.736793900Z",
     "start_time": "2024-03-20T03:00:31.708794Z"
    }
   },
   "id": "5363398bad4b8390",
   "execution_count": 33
  },
  {
   "cell_type": "code",
   "outputs": [
    {
     "name": "stdout",
     "output_type": "stream",
     "text": [
      "[ Chihuahua ]\n",
      "[ Japanese_spaniel ]\n",
      "[ Maltese_dog ]\n",
      "[ Pekinese ]\n",
      "[ Shih-Tzu ]\n",
      "[ Blenheim_spaniel ]\n",
      "[ papillon ]\n",
      "[ toy_terrier ]\n",
      "[ Rhodesian_ridgeback ]\n",
      "[ Afghan_hound ]\n",
      "[ basset ]\n",
      "[ beagle ]\n",
      "[ bloodhound ]\n",
      "[ bluetick ]\n"
     ]
    }
   ],
   "source": [
    "### 컬러이미지 -> 흑백이미지 -> 저장 (전체 데이터)\n",
    "pixel_list = []   # 모든 이미지 파일들의 픽셀값을 담을 리스트\n",
    "target_list = []    # 각 이미지 파일들의 타겟값을 담을 리스트 (개 품종)\n",
    "\n",
    "# path2 = './dog-breeds-resized'\n",
    "path2 = './Images-resized'\n",
    "for f in os.listdir(path2):\n",
    "    sep_idx = f.find('-')\n",
    "    dog_breed = f[sep_idx+1:]\n",
    "    print(f'[ {dog_breed} ]')\n",
    "    cnt = 0\n",
    "    for ff in os.listdir(path2 + '/' + f):\n",
    "        filename = path2 + '/' + f + '/' + ff\n",
    "        pixel_list.extend(convert_to_grayscale_array(filename))\n",
    "        # dog_image = Image.open(filename)\n",
    "        # dog_image = TF.to_tensor(dog_image)\n",
    "        # print(dog_image.squeeze().shape)\n",
    "        cnt += 1\n",
    "    target_list.extend([dog_breed for i in range(cnt)])"
   ],
   "metadata": {
    "collapsed": false,
    "ExecuteTime": {
     "end_time": "2024-03-20T05:50:18.507133700Z",
     "start_time": "2024-03-20T05:50:01.439929700Z"
    }
   },
   "id": "bead7c865f19b4f5",
   "execution_count": 19
  },
  {
   "cell_type": "code",
   "outputs": [
    {
     "data": {
      "text/plain": "(10711040, 2615)"
     },
     "execution_count": 20,
     "metadata": {},
     "output_type": "execute_result"
    }
   ],
   "source": [
    "len(pixel_list), len(target_list)"
   ],
   "metadata": {
    "collapsed": false,
    "ExecuteTime": {
     "end_time": "2024-03-20T05:50:22.857765900Z",
     "start_time": "2024-03-20T05:50:22.830254500Z"
    }
   },
   "id": "32aca695914ae954",
   "execution_count": 20
  },
  {
   "cell_type": "code",
   "outputs": [],
   "source": [
    "dog_image_array = np.array(pixel_list)\n",
    "dog_image_array = dog_image_array.reshape(-1, size[0] * size[1])"
   ],
   "metadata": {
    "collapsed": false,
    "ExecuteTime": {
     "end_time": "2024-03-20T05:50:41.708627100Z",
     "start_time": "2024-03-20T05:50:41.690120100Z"
    }
   },
   "id": "1211445cb4e4cba7",
   "execution_count": 21
  },
  {
   "cell_type": "code",
   "outputs": [
    {
     "data": {
      "text/plain": "(2615, 4096)"
     },
     "execution_count": 22,
     "metadata": {},
     "output_type": "execute_result"
    }
   ],
   "source": [
    "dog_image_array.shape      # 사진 13680장, 각각 (64 * 64 픽셀)"
   ],
   "metadata": {
    "collapsed": false,
    "ExecuteTime": {
     "end_time": "2024-03-20T05:50:41.742950Z",
     "start_time": "2024-03-20T05:50:41.707468900Z"
    }
   },
   "id": "faee1cab0cebf9c2",
   "execution_count": 22
  },
  {
   "cell_type": "code",
   "outputs": [
    {
     "data": {
      "text/plain": "array([  0,   0,   0,   0,   0,   0,   0,  38, 127,   0])"
     },
     "execution_count": 26,
     "metadata": {},
     "output_type": "execute_result"
    }
   ],
   "source": [
    "dog_image_array[33, :10]"
   ],
   "metadata": {
    "collapsed": false,
    "ExecuteTime": {
     "end_time": "2024-03-20T05:52:00.085828400Z",
     "start_time": "2024-03-20T05:52:00.023698900Z"
    }
   },
   "id": "78de57a43264cfe4",
   "execution_count": 26
  },
  {
   "cell_type": "code",
   "outputs": [],
   "source": [
    "dog_image_array = dog_image_array / 255.    # 0~1 범위로 정규화"
   ],
   "metadata": {
    "collapsed": false,
    "ExecuteTime": {
     "end_time": "2024-03-20T05:52:34.643870800Z",
     "start_time": "2024-03-20T05:52:34.581676500Z"
    }
   },
   "id": "f26bf7e253385756",
   "execution_count": 27
  },
  {
   "cell_type": "code",
   "outputs": [
    {
     "data": {
      "text/plain": "array([0.        , 0.        , 0.        , 0.        , 0.        ,\n       0.        , 0.        , 0.14901961, 0.49803922, 0.        ])"
     },
     "execution_count": 28,
     "metadata": {},
     "output_type": "execute_result"
    }
   ],
   "source": [
    "dog_image_array[33, :10]"
   ],
   "metadata": {
    "collapsed": false,
    "ExecuteTime": {
     "end_time": "2024-03-20T05:53:01.015831500Z",
     "start_time": "2024-03-20T05:53:00.834873100Z"
    }
   },
   "id": "3ed22971417c36b3",
   "execution_count": 28
  },
  {
   "cell_type": "code",
   "outputs": [],
   "source": [
    "from sklearn.preprocessing import LabelEncoder\n",
    "\n",
    "label_encoder = LabelEncoder()\n",
    "\n",
    "# 문자열 리스트를 숫자로 변환\n",
    "encoded_list = label_encoder.fit_transform(target_list)\n",
    "dog_breed_array = np.array(encoded_list)\n",
    "dog_breed_array = dog_breed_array"
   ],
   "metadata": {
    "collapsed": false,
    "ExecuteTime": {
     "end_time": "2024-03-20T05:53:08.631453400Z",
     "start_time": "2024-03-20T05:53:07.918772800Z"
    }
   },
   "id": "e6cc948ccdb6a6a9",
   "execution_count": 29
  },
  {
   "cell_type": "code",
   "outputs": [
    {
     "data": {
      "text/plain": "(2615,)"
     },
     "execution_count": 30,
     "metadata": {},
     "output_type": "execute_result"
    }
   ],
   "source": [
    "dog_breed_array.shape   # 1D (CrossEntropyLoss 함수 때문에)"
   ],
   "metadata": {
    "collapsed": false,
    "ExecuteTime": {
     "end_time": "2024-03-20T05:53:09.512764500Z",
     "start_time": "2024-03-20T05:53:09.471208900Z"
    }
   },
   "id": "fac26560136a8cef",
   "execution_count": 30
  },
  {
   "cell_type": "code",
   "outputs": [
    {
     "data": {
      "text/plain": "dtype('int64')"
     },
     "execution_count": 31,
     "metadata": {},
     "output_type": "execute_result"
    }
   ],
   "source": [
    "dog_breed_array.dtype"
   ],
   "metadata": {
    "collapsed": false,
    "ExecuteTime": {
     "end_time": "2024-03-20T05:53:11.780243400Z",
     "start_time": "2024-03-20T05:53:11.751293600Z"
    }
   },
   "id": "f9919429132fbec2",
   "execution_count": 31
  },
  {
   "cell_type": "code",
   "outputs": [
    {
     "data": {
      "text/plain": "array(['Afghan_hound', 'Blenheim_spaniel', 'Chihuahua',\n       'Japanese_spaniel', 'Maltese_dog', 'Pekinese',\n       'Rhodesian_ridgeback', 'Shih-Tzu', 'basset', 'beagle',\n       'bloodhound', 'bluetick', 'papillon', 'toy_terrier'], dtype='<U19')"
     },
     "execution_count": 32,
     "metadata": {},
     "output_type": "execute_result"
    }
   ],
   "source": [
    "label_encoder.classes_  # 각 숫자가 의미하는 것 (품종)"
   ],
   "metadata": {
    "collapsed": false,
    "ExecuteTime": {
     "end_time": "2024-03-20T05:53:14.686056200Z",
     "start_time": "2024-03-20T05:53:14.642360300Z"
    }
   },
   "id": "ef3d4603f82c6c00",
   "execution_count": 32
  },
  {
   "cell_type": "markdown",
   "source": [
    "(4-1) 데이터셋(Dataset) 생성"
   ],
   "metadata": {
    "collapsed": false
   },
   "id": "29292f33c611a3c5"
  },
  {
   "cell_type": "code",
   "outputs": [],
   "source": [
    "from torch.utils.data import Dataset, DataLoader\n",
    "from torch.utils.data import TensorDataset"
   ],
   "metadata": {
    "collapsed": false,
    "ExecuteTime": {
     "end_time": "2024-03-20T05:53:19.059511Z",
     "start_time": "2024-03-20T05:53:19.034431500Z"
    }
   },
   "id": "77d476ba68eaf54c",
   "execution_count": 33
  },
  {
   "cell_type": "code",
   "outputs": [],
   "source": [
    "## 사용자 정의 Dataset 클래스\n",
    "class DogDataset(Dataset):\n",
    "    \n",
    "    def __init__(self, x_data, y_data):\n",
    "        super().__init__()\n",
    "        \n",
    "        # x, y 데이터가 DF라면 ndarray로 바꾸고, ndarray라면 그대로 저장\n",
    "        x_data = x_data.values if isinstance(x_data, pd.DataFrame) else x_data\n",
    "        y_data = y_data.values if isinstance(y_data, pd.DataFrame) else y_data\n",
    "        \n",
    "        # ndarray -> tensor\n",
    "        self.feature = torch.FloatTensor(x_data)    # Float\n",
    "        self.target = torch.LongTensor(y_data)      # Long\n",
    "    \n",
    "    # 데이터셋의 개수 체크 콜백함수\n",
    "    def __len__(self):\n",
    "        return self.target.shape[0]\n",
    "    \n",
    "    # 특정 인덱스 데이터 + 라벨 반환 콜백함수\n",
    "    def __getitem__(self, index):\n",
    "        return self.feature[index], self.target[index]"
   ],
   "metadata": {
    "collapsed": false,
    "ExecuteTime": {
     "end_time": "2024-03-20T05:53:22.783831700Z",
     "start_time": "2024-03-20T05:53:22.758194400Z"
    }
   },
   "id": "1b48c25224266859",
   "execution_count": 34
  },
  {
   "cell_type": "code",
   "outputs": [],
   "source": [
    "# 데이터셋 생성\n",
    "dog_dataset = DogDataset(dog_image_array, dog_breed_array)"
   ],
   "metadata": {
    "collapsed": false,
    "ExecuteTime": {
     "end_time": "2024-03-20T05:53:26.015875800Z",
     "start_time": "2024-03-20T05:53:25.979639700Z"
    }
   },
   "id": "8e384a81e846dad0",
   "execution_count": 35
  },
  {
   "cell_type": "code",
   "outputs": [
    {
     "data": {
      "text/plain": "((tensor([0., 0., 0.,  ..., 0., 0., 0.]), tensor(2)),\n array([0., 0., 0., ..., 0., 0., 0.]),\n 2)"
     },
     "execution_count": 36,
     "metadata": {},
     "output_type": "execute_result"
    }
   ],
   "source": [
    "dog_dataset[0], dog_image_array[0], dog_breed_array[0]"
   ],
   "metadata": {
    "collapsed": false,
    "ExecuteTime": {
     "end_time": "2024-03-20T05:53:27.072630400Z",
     "start_time": "2024-03-20T05:53:27.020165500Z"
    }
   },
   "id": "defaacc64a620583",
   "execution_count": 36
  },
  {
   "cell_type": "code",
   "outputs": [
    {
     "name": "stdout",
     "output_type": "stream",
     "text": [
      "(tensor([0., 0., 0.,  ..., 0., 0., 0.]), tensor(2))\n",
      "(tensor([0., 0., 0.,  ..., 0., 0., 0.]), tensor(2))\n",
      "(tensor([0.0000, 0.0000, 0.0000,  ..., 0.0000, 0.0039, 0.0941]), tensor(2))\n",
      "(tensor([0., 0., 0.,  ..., 0., 0., 0.]), tensor(2))\n",
      "(tensor([0., 0., 0.,  ..., 0., 0., 0.]), tensor(2))\n",
      "(tensor([0., 0., 0.,  ..., 0., 0., 0.]), tensor(2))\n",
      "(tensor([0.0000, 0.0000, 0.0000,  ..., 0.3490, 0.0000, 0.0000]), tensor(2))\n",
      "(tensor([0., 0., 0.,  ..., 0., 0., 0.]), tensor(2))\n",
      "(tensor([0., 0., 0.,  ..., 0., 0., 0.]), tensor(2))\n",
      "(tensor([0., 0., 0.,  ..., 0., 0., 0.]), tensor(2))\n"
     ]
    }
   ],
   "source": [
    "import time\n",
    "for i in range(10):\n",
    "    print(dog_dataset[i])\n",
    "    time.sleep(1)"
   ],
   "metadata": {
    "collapsed": false,
    "ExecuteTime": {
     "end_time": "2024-03-20T05:54:18.613114300Z",
     "start_time": "2024-03-20T05:54:08.498552100Z"
    }
   },
   "id": "7fd830283589a9a2",
   "execution_count": 37
  },
  {
   "cell_type": "markdown",
   "source": [
    "(4-2) 학습용, 검증용, 테스트용 데이터셋 분리"
   ],
   "metadata": {
    "collapsed": false
   },
   "id": "ceeb0238edcd2fd8"
  },
  {
   "cell_type": "code",
   "outputs": [],
   "source": [
    "### 파이토치판 train_test_split\n",
    "from torch.utils.data import random_split\n",
    "\n",
    "# 학습용, 검증용, 테스트 데이터 비율\n",
    "trainDS, validDS, testDS = random_split(dog_dataset, [0.7, 0.1, 0.2], generator=torch.Generator().manual_seed(24))"
   ],
   "metadata": {
    "collapsed": false,
    "ExecuteTime": {
     "end_time": "2024-03-20T05:54:30.913068200Z",
     "start_time": "2024-03-20T05:54:30.883877100Z"
    }
   },
   "id": "3965d2972bd195a1",
   "execution_count": 38
  },
  {
   "cell_type": "code",
   "outputs": [
    {
     "data": {
      "text/plain": "torch.utils.data.dataset.Subset"
     },
     "execution_count": 39,
     "metadata": {},
     "output_type": "execute_result"
    }
   ],
   "source": [
    "type(trainDS)"
   ],
   "metadata": {
    "collapsed": false,
    "ExecuteTime": {
     "end_time": "2024-03-20T05:54:31.258844100Z",
     "start_time": "2024-03-20T05:54:31.208838500Z"
    }
   },
   "id": "b3395f83ae0f2b8",
   "execution_count": 39
  },
  {
   "cell_type": "code",
   "outputs": [
    {
     "data": {
      "text/plain": "(1831, 261, 523)"
     },
     "execution_count": 40,
     "metadata": {},
     "output_type": "execute_result"
    }
   ],
   "source": [
    "len(trainDS), len(validDS), len(testDS)     # 각각 들어있는 데이터 수"
   ],
   "metadata": {
    "collapsed": false,
    "ExecuteTime": {
     "end_time": "2024-03-20T05:54:33.191007300Z",
     "start_time": "2024-03-20T05:54:33.148044200Z"
    }
   },
   "id": "a34836f706dcc298",
   "execution_count": 40
  },
  {
   "cell_type": "markdown",
   "source": [
    "(5) 데이터 로더 생성 (학습용, 검증용, 테스트용)"
   ],
   "metadata": {
    "collapsed": false
   },
   "id": "37dc13427af5bba1"
  },
  {
   "cell_type": "code",
   "outputs": [
    {
     "data": {
      "text/plain": "(12, 2, 4)"
     },
     "execution_count": 93,
     "metadata": {},
     "output_type": "execute_result"
    }
   ],
   "source": [
    "### DataLoader 생성\n",
    "BATCH_SIZE = 150\n",
    "TRAIN_DL = DataLoader(trainDS, batch_size=BATCH_SIZE, drop_last=True, shuffle=True)\n",
    "VALID_DL = DataLoader(validDS, batch_size=BATCH_SIZE, shuffle=True)\n",
    "TEST_DL = DataLoader(testDS, batch_size=BATCH_SIZE)\n",
    "\n",
    "len(TRAIN_DL), len(VALID_DL), len(TEST_DL) # Epoch 당 반복 단위"
   ],
   "metadata": {
    "collapsed": false,
    "ExecuteTime": {
     "end_time": "2024-03-20T06:17:38.777956Z",
     "start_time": "2024-03-20T06:17:38.710841200Z"
    }
   },
   "id": "a2ff3fe1fb1fe490",
   "execution_count": 93
  },
  {
   "cell_type": "code",
   "outputs": [
    {
     "name": "stdout",
     "output_type": "stream",
     "text": [
      "[0] feature torch.Size([150, 4096]) target torch.Size([150])\n",
      "[1] feature torch.Size([150, 4096]) target torch.Size([150])\n",
      "[2] feature torch.Size([150, 4096]) target torch.Size([150])\n",
      "[3] feature torch.Size([150, 4096]) target torch.Size([150])\n",
      "[4] feature torch.Size([150, 4096]) target torch.Size([150])\n",
      "[5] feature torch.Size([150, 4096]) target torch.Size([150])\n",
      "[6] feature torch.Size([150, 4096]) target torch.Size([150])\n",
      "[7] feature torch.Size([150, 4096]) target torch.Size([150])\n",
      "[8] feature torch.Size([150, 4096]) target torch.Size([150])\n",
      "[9] feature torch.Size([150, 4096]) target torch.Size([150])\n",
      "[10] feature torch.Size([150, 4096]) target torch.Size([150])\n",
      "[11] feature torch.Size([150, 4096]) target torch.Size([150])\n"
     ]
    }
   ],
   "source": [
    "for _, (feature, target) in enumerate(TRAIN_DL):\n",
    "    print(f'[{_}] feature {feature.shape} target {target.shape}')"
   ],
   "metadata": {
    "collapsed": false,
    "ExecuteTime": {
     "end_time": "2024-03-20T06:17:39.076812500Z",
     "start_time": "2024-03-20T06:17:39.021590300Z"
    }
   },
   "id": "f99023b259026c67",
   "execution_count": 94
  },
  {
   "cell_type": "markdown",
   "source": [
    "(6) 모델 클래스 정의"
   ],
   "metadata": {
    "collapsed": false
   },
   "id": "8d4d7cd51b60270b"
  },
  {
   "cell_type": "code",
   "outputs": [],
   "source": [
    "import torch.nn as nn\n",
    "import torch.optim as optim"
   ],
   "metadata": {
    "collapsed": false,
    "ExecuteTime": {
     "end_time": "2024-03-20T06:17:40.756530500Z",
     "start_time": "2024-03-20T06:17:40.726504500Z"
    }
   },
   "id": "eac211e747d10914",
   "execution_count": 95
  },
  {
   "cell_type": "code",
   "outputs": [],
   "source": [
    "### 모델 클래스 정의\n",
    "class DogBreedModel1(nn.Module):\n",
    "    # 구성요소 정의 함수\n",
    "    def __init__(self, in_, out_):\n",
    "        super().__init__()  # 부모 클래스 생성자\n",
    "        self.layer1 = nn.Linear(in_, 4000)\n",
    "        self.layer2 = nn.Linear(4000, 3000)\n",
    "        self.layer3 = nn.Linear(3000, 2000)\n",
    "        self.layer4 = nn.Linear(2000, 1000)\n",
    "        self.layer5 = nn.Linear(1000, 500)\n",
    "        self.layer6 = nn.Linear(500, 100)\n",
    "        self.layer7 = nn.Linear(100, out_)\n",
    "        self.relu = nn.ReLU()\n",
    "    \n",
    "    def forward(self, x):\n",
    "        x = self.layer1(x)\n",
    "        x = self.relu(x)\n",
    "        x = self.layer2(x)\n",
    "        x = self.relu(x)\n",
    "        x = self.layer3(x)\n",
    "        x = self.relu(x)\n",
    "        x = self.layer4(x)\n",
    "        x = self.relu(x)\n",
    "        x = self.layer5(x)\n",
    "        x = self.relu(x)\n",
    "        x = self.layer6(x)\n",
    "        x = self.relu(x)\n",
    "        x = self.layer7(x)\n",
    "        return x"
   ],
   "metadata": {
    "collapsed": false,
    "ExecuteTime": {
     "end_time": "2024-03-20T06:27:55.151177600Z",
     "start_time": "2024-03-20T06:27:55.050839200Z"
    }
   },
   "id": "9f0e41a8cdbbb200",
   "execution_count": 125
  },
  {
   "cell_type": "code",
   "outputs": [],
   "source": [
    "class DogBreedModel2(nn.Module):\n",
    "    def __init__(self, in_, out_):\n",
    "        super().__init__()\n",
    "        self.layer1 = nn.Linear(in_, 3000)\n",
    "        self.layer2 = nn.Linear(3000, 3000)\n",
    "        self.layer3 = nn.Linear(3000, 1000)\n",
    "        self.layer4 = nn.Linear(1000, 1000)\n",
    "        self.layer5 = nn.Linear(1000, out_)\n",
    "        self.relu = nn.ReLU()\n",
    "    \n",
    "    def forward(self, x):\n",
    "        x = self.layer1(x)\n",
    "        x = self.relu(x)\n",
    "        x = self.layer2(x)\n",
    "        x = self.relu(x)\n",
    "        x = self.layer3(x)\n",
    "        x = self.relu(x)\n",
    "        x = self.layer4(x)\n",
    "        x = self.relu(x)\n",
    "        x = self.layer5(x)\n",
    "        return x"
   ],
   "metadata": {
    "collapsed": false,
    "ExecuteTime": {
     "end_time": "2024-03-20T06:17:41.905292900Z",
     "start_time": "2024-03-20T06:17:41.856926Z"
    }
   },
   "id": "d391c039a550b59e",
   "execution_count": 97
  },
  {
   "cell_type": "code",
   "outputs": [],
   "source": [
    "class DogBreedModel3(nn.Module):\n",
    "    def __init__(self, in_, out_, hidden_sizes):\n",
    "        super().__init__()\n",
    "        self.input_size = in_\n",
    "        self.hidden_sizes = hidden_sizes\n",
    "        self.output_size = out_\n",
    "        \n",
    "        self.layers = nn.ModuleList()\n",
    "        \n",
    "        self.layers.append(nn.Linear(in_, hidden_sizes[0]))\n",
    "        for i in range(len(hidden_sizes)-1):\n",
    "            self.layers.append(nn.Linear(hidden_sizes[i], hidden_sizes[i+1]))\n",
    "        self.layers.append(nn.Linear(hidden_sizes[-1], out_))\n",
    "    \n",
    "    def forward(self, x):\n",
    "        for layer in self.layers:\n",
    "            x = torch.relu(layer(x))\n",
    "        return x"
   ],
   "metadata": {
    "collapsed": false,
    "ExecuteTime": {
     "end_time": "2024-03-20T06:44:03.209799Z",
     "start_time": "2024-03-20T06:44:03.103502500Z"
    }
   },
   "id": "e4ecbacc6a6ac88a",
   "execution_count": 135
  },
  {
   "cell_type": "code",
   "outputs": [],
   "source": [
    "model_dir = \"./model\"\n",
    "model_name = model_dir + '/best_model3.pth'\n",
    "\n",
    "if not os.path.exists(model_dir):\n",
    "    os.mkdir(model_dir)   # model 폴더 없을 시 생성"
   ],
   "metadata": {
    "collapsed": false,
    "ExecuteTime": {
     "end_time": "2024-03-20T06:17:42.571287400Z",
     "start_time": "2024-03-20T06:17:42.528047700Z"
    }
   },
   "id": "eb26f91c34f07974",
   "execution_count": 98
  },
  {
   "cell_type": "code",
   "outputs": [],
   "source": [
    "# 실행 디바이스\n",
    "DEVICE = 'cuda' if torch.cuda.is_available() else 'cpu'\n",
    "\n",
    "# 입출력 피쳐\n",
    "IN_DIM, OUT_DIM = dog_image_array.shape[1], np.unique(dog_breed_array).size\n",
    "\n",
    "# 모델 인스턴스\n",
    "# MODEL = DogBreedModel1(IN_DIM, OUT_DIM)\n",
    "MODEL = DogBreedModel3(IN_DIM, OUT_DIM, [4000, 3500, 3000, 2500, 2000, \n",
    "                                         1500, 1000, 750, 500, 250, \n",
    "                                         100, 75, 50, 25])\n",
    "\n",
    "# 최적화 인스턴스 생성\n",
    "OPTIMIZER = optim.SGD(MODEL.parameters())   # w, b 넘겨줌\n",
    "\n",
    "# 손실 함수\n",
    "LOSS_FN = nn.CrossEntropyLoss().to(DEVICE)\n",
    "\n",
    "# 학습 횟수 설정\n",
    "EPOCHS = 10\n",
    "\n",
    "# 분류 개수\n",
    "CLASSES = len(label_encoder.classes_)   # OUT_DIM"
   ],
   "metadata": {
    "collapsed": false,
    "ExecuteTime": {
     "end_time": "2024-03-20T06:44:52.871570800Z",
     "start_time": "2024-03-20T06:44:52.541331500Z"
    }
   },
   "id": "76399ac12e2727fd",
   "execution_count": 137
  },
  {
   "cell_type": "code",
   "outputs": [
    {
     "data": {
      "text/plain": "(4096, 14)"
     },
     "execution_count": 138,
     "metadata": {},
     "output_type": "execute_result"
    }
   ],
   "source": [
    "IN_DIM, OUT_DIM"
   ],
   "metadata": {
    "collapsed": false,
    "ExecuteTime": {
     "end_time": "2024-03-20T06:44:56.878930100Z",
     "start_time": "2024-03-20T06:44:56.834389900Z"
    }
   },
   "id": "832393af2c1e94c5",
   "execution_count": 138
  },
  {
   "cell_type": "code",
   "outputs": [
    {
     "name": "stdout",
     "output_type": "stream",
     "text": [
      "('layers.0.weight', Parameter containing:\n",
      "tensor([[ 0.0134,  0.0143, -0.0130,  ...,  0.0022,  0.0039, -0.0002],\n",
      "        [-0.0056,  0.0129,  0.0109,  ..., -0.0100,  0.0060,  0.0050],\n",
      "        [-0.0037,  0.0102,  0.0094,  ...,  0.0154,  0.0044, -0.0023],\n",
      "        ...,\n",
      "        [-0.0087,  0.0076, -0.0149,  ...,  0.0022,  0.0033, -0.0021],\n",
      "        [ 0.0014,  0.0053,  0.0072,  ..., -0.0020,  0.0052, -0.0143],\n",
      "        [ 0.0046,  0.0091, -0.0123,  ..., -0.0083,  0.0035, -0.0138]],\n",
      "       requires_grad=True))\n",
      "('layers.0.bias', Parameter containing:\n",
      "tensor([ 0.0125, -0.0066, -0.0140,  ...,  0.0071,  0.0019,  0.0054],\n",
      "       requires_grad=True))\n",
      "('layers.1.weight', Parameter containing:\n",
      "tensor([[-1.4306e-02, -1.8788e-03, -1.4407e-02,  ..., -9.0109e-03,\n",
      "          1.2789e-02,  1.3775e-02],\n",
      "        [-5.2157e-03, -1.7219e-03, -1.2602e-02,  ..., -1.2115e-02,\n",
      "          7.7815e-03, -1.4352e-02],\n",
      "        [ 8.1945e-03, -6.8284e-03, -1.4576e-02,  ..., -7.4218e-03,\n",
      "         -1.0133e-02,  7.6335e-03],\n",
      "        ...,\n",
      "        [ 6.5207e-03,  1.4836e-02,  7.8883e-05,  ...,  8.3024e-03,\n",
      "         -8.6083e-03, -2.5220e-03],\n",
      "        [-9.5416e-03, -7.6539e-03, -1.3601e-02,  ...,  1.1482e-02,\n",
      "         -6.5130e-03, -1.1938e-02],\n",
      "        [-4.1416e-03, -1.4542e-02,  3.0382e-03,  ...,  1.1895e-04,\n",
      "          5.5393e-03,  1.5954e-03]], requires_grad=True))\n",
      "('layers.1.bias', Parameter containing:\n",
      "tensor([ 0.0075,  0.0102, -0.0093,  ...,  0.0113,  0.0042,  0.0048],\n",
      "       requires_grad=True))\n",
      "('layers.2.weight', Parameter containing:\n",
      "tensor([[ 0.0163,  0.0168,  0.0110,  ...,  0.0023,  0.0063, -0.0084],\n",
      "        [-0.0148,  0.0035, -0.0070,  ...,  0.0046,  0.0158, -0.0163],\n",
      "        [ 0.0035, -0.0135, -0.0091,  ...,  0.0134, -0.0052, -0.0166],\n",
      "        ...,\n",
      "        [ 0.0101, -0.0006,  0.0060,  ...,  0.0022,  0.0062, -0.0031],\n",
      "        [ 0.0021,  0.0163,  0.0049,  ...,  0.0029, -0.0092,  0.0162],\n",
      "        [ 0.0111,  0.0023, -0.0071,  ..., -0.0073,  0.0005, -0.0023]],\n",
      "       requires_grad=True))\n",
      "('layers.2.bias', Parameter containing:\n",
      "tensor([-0.0075, -0.0152, -0.0087,  ...,  0.0093,  0.0101,  0.0025],\n",
      "       requires_grad=True))\n",
      "('layers.3.weight', Parameter containing:\n",
      "tensor([[ 0.0058, -0.0081,  0.0074,  ...,  0.0022,  0.0149, -0.0107],\n",
      "        [ 0.0168,  0.0004,  0.0125,  ...,  0.0050,  0.0177, -0.0115],\n",
      "        [-0.0128, -0.0151,  0.0126,  ..., -0.0032,  0.0076,  0.0074],\n",
      "        ...,\n",
      "        [-0.0052, -0.0027,  0.0101,  ...,  0.0036,  0.0074,  0.0021],\n",
      "        [ 0.0087,  0.0095, -0.0060,  ...,  0.0096,  0.0088,  0.0119],\n",
      "        [-0.0005, -0.0093,  0.0179,  ...,  0.0165,  0.0081, -0.0076]],\n",
      "       requires_grad=True))\n",
      "('layers.3.bias', Parameter containing:\n",
      "tensor([ 0.0023,  0.0035,  0.0015,  ..., -0.0058,  0.0058, -0.0036],\n",
      "       requires_grad=True))\n",
      "('layers.4.weight', Parameter containing:\n",
      "tensor([[ 0.0064,  0.0103, -0.0039,  ..., -0.0114,  0.0032,  0.0111],\n",
      "        [-0.0096,  0.0127, -0.0058,  ..., -0.0129, -0.0044,  0.0138],\n",
      "        [ 0.0163,  0.0195, -0.0140,  ..., -0.0192,  0.0094, -0.0175],\n",
      "        ...,\n",
      "        [-0.0067,  0.0012,  0.0060,  ..., -0.0199,  0.0185,  0.0043],\n",
      "        [-0.0146,  0.0027, -0.0055,  ...,  0.0037,  0.0032,  0.0002],\n",
      "        [-0.0033,  0.0106,  0.0171,  ...,  0.0082,  0.0043, -0.0048]],\n",
      "       requires_grad=True))\n",
      "('layers.4.bias', Parameter containing:\n",
      "tensor([ 0.0114, -0.0116,  0.0181,  ...,  0.0158, -0.0123, -0.0083],\n",
      "       requires_grad=True))\n",
      "('layers.5.weight', Parameter containing:\n",
      "tensor([[-1.5287e-02,  1.6930e-02,  1.0895e-02,  ...,  2.1143e-02,\n",
      "         -1.8789e-02,  6.5745e-03],\n",
      "        [-1.8165e-02,  4.4443e-03, -1.6589e-02,  ..., -1.7169e-02,\n",
      "         -1.0363e-02,  7.2726e-03],\n",
      "        [ 7.2390e-03,  3.4629e-04,  2.2269e-02,  ..., -4.7684e-07,\n",
      "         -1.9726e-02,  1.8216e-02],\n",
      "        ...,\n",
      "        [-1.3143e-02, -5.1569e-03, -1.0816e-02,  ...,  2.1814e-02,\n",
      "          9.1034e-03, -3.1710e-03],\n",
      "        [ 3.5839e-05, -1.1269e-02, -1.6714e-03,  ..., -1.3039e-02,\n",
      "         -1.4783e-02,  1.1458e-02],\n",
      "        [-3.0609e-03, -1.4050e-02, -2.2755e-04,  ...,  2.2237e-02,\n",
      "         -2.0841e-02, -1.4589e-02]], requires_grad=True))\n",
      "('layers.5.bias', Parameter containing:\n",
      "tensor([ 0.0026, -0.0126, -0.0165,  ..., -0.0013, -0.0135,  0.0129],\n",
      "       requires_grad=True))\n",
      "('layers.6.weight', Parameter containing:\n",
      "tensor([[ 0.0221, -0.0018,  0.0221,  ...,  0.0148, -0.0130, -0.0101],\n",
      "        [-0.0230, -0.0042,  0.0243,  ...,  0.0119, -0.0252, -0.0251],\n",
      "        [ 0.0181, -0.0099, -0.0049,  ..., -0.0117,  0.0140,  0.0057],\n",
      "        ...,\n",
      "        [ 0.0063, -0.0120, -0.0116,  ..., -0.0012, -0.0175, -0.0035],\n",
      "        [ 0.0256, -0.0136, -0.0024,  ...,  0.0232, -0.0223,  0.0161],\n",
      "        [-0.0027,  0.0228, -0.0119,  ..., -0.0220,  0.0084,  0.0145]],\n",
      "       requires_grad=True))\n",
      "('layers.6.bias', Parameter containing:\n",
      "tensor([ 6.3678e-03,  1.6733e-02,  1.8206e-02,  2.5746e-02, -1.3826e-02,\n",
      "         1.8707e-02,  1.3381e-02,  1.0883e-02,  1.9160e-02, -2.2405e-02,\n",
      "        -1.1359e-02, -1.2814e-02,  2.4171e-02, -3.2992e-03,  2.4028e-02,\n",
      "        -1.4019e-02, -1.1717e-02, -1.9298e-02,  1.3175e-02,  1.9285e-02,\n",
      "        -1.9667e-03, -9.3556e-03,  3.8455e-03,  1.0102e-02, -2.4586e-02,\n",
      "         2.1254e-02, -2.2167e-02, -1.4729e-02, -5.3690e-03, -8.9788e-03,\n",
      "         1.0734e-02,  6.5474e-03,  1.1477e-02,  3.5492e-03, -5.7909e-03,\n",
      "        -2.5443e-02,  7.7085e-03,  8.2322e-03, -2.2284e-02, -4.8385e-03,\n",
      "        -1.0702e-02, -1.6489e-02,  2.4996e-02,  2.4111e-03, -4.9209e-03,\n",
      "        -1.2355e-02, -3.9866e-03, -1.0692e-02, -1.9734e-02,  6.6897e-05,\n",
      "         5.3088e-03, -9.0813e-04, -1.2207e-02,  2.6366e-03,  6.8876e-03,\n",
      "         2.1449e-02, -1.9399e-02, -2.3273e-02, -2.7059e-03, -4.7383e-03,\n",
      "        -7.1790e-03, -8.9143e-03,  1.4852e-02, -2.5151e-02,  2.0484e-02,\n",
      "        -1.3886e-02,  9.1889e-03, -1.3636e-02,  2.4290e-02,  1.9578e-03,\n",
      "         2.1392e-02,  2.2747e-02,  1.3805e-03, -1.8972e-03, -1.1927e-03,\n",
      "         7.1015e-04,  7.5933e-03,  2.3959e-02, -1.4450e-02,  2.3005e-02,\n",
      "         1.7059e-02,  1.6432e-02,  1.9161e-02, -2.3479e-02, -1.9937e-02,\n",
      "         1.2846e-03, -5.6483e-03,  1.3869e-02, -3.5135e-03,  3.8581e-03,\n",
      "        -1.2287e-02,  1.3462e-02, -2.5029e-02,  2.4377e-02, -2.3182e-02,\n",
      "         4.3213e-03,  1.3093e-02, -7.2203e-03, -3.3171e-03,  1.1464e-03,\n",
      "         1.7175e-02,  2.2902e-02, -1.2102e-02, -7.3545e-03,  2.2518e-02,\n",
      "        -1.2161e-02,  2.0209e-02,  1.0387e-03,  8.1505e-03, -1.8519e-02,\n",
      "         8.2593e-03, -1.6585e-02,  2.8620e-04, -4.7325e-03, -6.8419e-03,\n",
      "        -2.0232e-02, -1.9275e-03,  2.3374e-02,  8.6826e-03, -1.1889e-02,\n",
      "        -7.2076e-03,  1.4081e-02, -1.8262e-02,  3.5079e-03,  1.5029e-02,\n",
      "         2.5079e-02,  2.1815e-02,  4.3510e-03, -1.5713e-03, -1.5627e-02,\n",
      "         2.5353e-02,  1.5955e-02, -1.5118e-02,  5.1491e-05, -1.1026e-02,\n",
      "        -1.8796e-02, -3.8913e-03,  1.8765e-02, -1.0586e-02,  1.7899e-02,\n",
      "        -1.9204e-02,  9.7240e-03, -5.1816e-04, -2.2775e-03,  1.6689e-02,\n",
      "        -1.0650e-02, -7.6994e-03, -1.6089e-02,  1.3491e-02,  5.5529e-03,\n",
      "        -1.3102e-02,  1.4903e-02,  2.3638e-02,  1.6572e-02,  1.5998e-02,\n",
      "        -2.0167e-02,  2.0266e-02,  8.2807e-03, -7.9102e-03,  1.0383e-02,\n",
      "         2.2226e-02, -1.7586e-03, -2.5088e-02, -1.0092e-02,  1.2980e-02,\n",
      "         2.4851e-02,  3.2362e-03,  1.8649e-02, -1.9895e-02,  1.6435e-02,\n",
      "         1.1316e-02,  1.4466e-02, -1.6699e-03, -2.0273e-02, -5.8268e-04,\n",
      "         2.4269e-02, -4.1652e-03,  2.0940e-02,  8.0716e-03, -1.6555e-02,\n",
      "         2.5676e-03,  3.6964e-03, -2.0033e-02, -1.8957e-02, -1.3387e-02,\n",
      "        -3.8017e-03,  5.3987e-03, -8.2532e-03, -1.7497e-02,  1.1977e-02,\n",
      "         1.5367e-02, -6.4090e-03, -7.0055e-03, -2.1020e-02,  5.9889e-03,\n",
      "         1.9929e-02,  1.9009e-02,  1.4944e-02,  1.6493e-02, -4.1625e-03,\n",
      "         1.2514e-02, -1.7424e-02, -1.6307e-02,  2.5739e-02, -8.3797e-03,\n",
      "        -1.3804e-02,  2.5455e-02, -1.7688e-02,  6.0114e-03,  2.3412e-02,\n",
      "        -1.0823e-02,  6.4208e-03,  2.2082e-02, -1.4144e-02, -1.4127e-02,\n",
      "        -4.8468e-03, -2.3068e-02,  2.3741e-02, -2.2769e-02,  1.3218e-02,\n",
      "         2.2036e-03, -1.9377e-03, -5.8048e-03,  1.8977e-02,  1.7140e-02,\n",
      "         1.0713e-02,  1.4316e-02, -1.6561e-02,  1.1395e-02,  1.1832e-02,\n",
      "        -5.5962e-03,  2.0359e-02,  9.9100e-03, -1.9551e-02, -1.7389e-02,\n",
      "         1.9425e-02, -8.0052e-03,  9.4196e-03,  1.5506e-02, -1.7046e-02,\n",
      "        -3.3698e-04,  1.4602e-02, -1.7031e-02,  1.3916e-02, -1.8568e-02,\n",
      "         9.0059e-03,  1.4107e-03,  3.7607e-03,  7.4062e-03,  1.2701e-02,\n",
      "         1.7181e-03, -1.9753e-02,  1.6795e-02,  2.4601e-02, -2.7958e-04,\n",
      "         2.0878e-02, -1.3981e-03, -7.6803e-03, -5.5102e-04, -2.4034e-02,\n",
      "        -2.0461e-02,  1.2519e-02,  5.2859e-03, -1.8949e-02, -1.5288e-02,\n",
      "         9.0951e-03,  8.5817e-03,  2.0575e-02,  4.1575e-03, -1.3923e-02,\n",
      "         5.0455e-03, -4.4766e-03,  2.2628e-02, -1.3662e-02,  1.9670e-02,\n",
      "        -5.4563e-04, -2.8550e-03,  3.7463e-04,  2.0808e-02,  1.0808e-02,\n",
      "         2.1713e-02,  8.7027e-03,  2.6996e-03,  2.4523e-02, -1.5348e-02,\n",
      "         2.5539e-02,  9.6748e-03,  2.5757e-02, -4.6038e-03,  1.8836e-02,\n",
      "        -8.1850e-03,  4.3014e-03, -5.1988e-03,  9.8996e-05,  7.2697e-03,\n",
      "         3.5499e-03,  2.8113e-03, -1.4129e-02, -4.9209e-03, -7.4292e-03,\n",
      "         8.0937e-03, -2.2467e-02,  1.3756e-02,  5.0591e-04,  2.3545e-02,\n",
      "         1.8096e-02, -2.5808e-03, -1.9192e-02,  2.4573e-02,  2.1242e-02,\n",
      "        -6.1036e-03,  2.0028e-02,  9.0262e-03, -3.6400e-03,  1.0011e-02,\n",
      "        -1.8470e-02, -9.0154e-03, -4.0529e-04, -3.1386e-03, -2.3377e-02,\n",
      "        -6.6138e-03, -1.9605e-02,  2.3614e-02, -2.2481e-02, -2.5162e-02,\n",
      "         5.8503e-03, -5.3435e-04,  1.6557e-02,  2.0245e-02, -2.5353e-02,\n",
      "        -2.0194e-03,  1.3106e-02,  1.2934e-02, -7.4464e-03,  1.2544e-02,\n",
      "         1.6468e-02,  2.1774e-03,  1.1614e-02, -1.0799e-02, -1.7006e-02,\n",
      "        -6.0563e-03,  2.2385e-02, -2.1983e-02, -1.9154e-02,  2.3649e-03,\n",
      "        -1.3892e-02, -9.9416e-03,  4.4299e-03,  6.0428e-03,  6.7222e-03,\n",
      "        -4.1859e-03,  7.8616e-03,  1.7139e-02, -2.4321e-02, -8.9188e-03,\n",
      "         2.2527e-02,  1.4043e-02, -2.8610e-03,  1.5688e-02, -2.3931e-02,\n",
      "        -1.3488e-02,  4.5148e-03,  4.5429e-03, -2.5089e-02,  9.3084e-03,\n",
      "        -1.3786e-02, -1.6984e-02, -5.7175e-03, -3.9161e-03, -2.0862e-02,\n",
      "        -1.8114e-02,  7.4230e-03, -2.4207e-02, -1.4538e-03,  4.0312e-04,\n",
      "         2.9972e-03,  1.6325e-02, -1.4924e-02,  2.5509e-02,  1.7208e-02,\n",
      "         1.9472e-02, -1.4810e-02,  1.1799e-02,  1.4286e-02,  2.4447e-02,\n",
      "        -2.1959e-02, -2.9353e-03, -1.9745e-02,  2.4837e-02, -8.9664e-03,\n",
      "         7.5522e-03, -1.9750e-02, -1.3029e-02,  2.2453e-02,  1.3821e-02,\n",
      "        -2.2334e-03,  4.6905e-03,  2.0428e-02, -5.4538e-05, -1.8285e-02,\n",
      "         2.4403e-02,  1.6997e-02, -2.5203e-02,  2.0391e-03,  1.7968e-02,\n",
      "         1.2308e-02, -2.4267e-02, -1.0375e-02, -2.2545e-02, -1.1469e-02,\n",
      "        -1.8200e-03,  2.2757e-02,  1.0831e-02,  9.3104e-03,  7.8643e-03,\n",
      "         2.3039e-02, -1.1136e-03,  5.3943e-03,  3.8226e-03, -3.9292e-03,\n",
      "        -1.5234e-02, -1.1410e-02, -1.1484e-02,  7.2243e-03,  1.8329e-02,\n",
      "         2.3160e-02, -2.2003e-02, -2.7823e-03,  9.9869e-04,  1.9143e-02,\n",
      "         1.2702e-02, -2.2853e-02,  5.3528e-03, -1.3821e-02, -2.3335e-02,\n",
      "         1.8154e-02, -4.2624e-03, -9.7253e-03,  9.9402e-03,  1.3172e-02,\n",
      "         1.4936e-02,  1.3868e-02,  2.4210e-02,  1.7658e-02,  1.9765e-02,\n",
      "        -7.0998e-03,  4.5473e-03, -1.8764e-02, -3.3474e-03,  2.0437e-02,\n",
      "         1.2416e-02, -1.5694e-02,  2.5950e-03,  1.2265e-02,  1.3256e-03,\n",
      "        -8.4173e-03, -3.6339e-03, -1.3979e-02,  9.1327e-03, -1.5677e-03,\n",
      "         1.0897e-02,  8.3993e-03,  2.2598e-03,  1.9113e-02, -2.2724e-02,\n",
      "         1.6218e-02, -2.1619e-02,  2.3768e-02, -2.5481e-02,  1.7085e-02,\n",
      "         2.2003e-02,  5.3439e-03, -2.0733e-02, -8.3546e-03,  1.2577e-02,\n",
      "         4.0413e-04,  3.5133e-03,  1.2091e-02,  8.0612e-03,  1.3995e-02,\n",
      "         1.8069e-02,  2.9669e-03,  2.2588e-02, -2.4575e-02,  5.2537e-03,\n",
      "         2.4062e-03, -1.1190e-02, -6.4795e-03, -1.9760e-02, -1.7142e-02,\n",
      "        -2.0770e-02,  2.2170e-02, -2.2404e-04, -1.5312e-02, -1.6728e-02,\n",
      "        -2.0815e-03,  1.4854e-02,  8.4390e-04, -5.3179e-03,  9.6920e-03,\n",
      "        -2.2066e-02,  7.0492e-03,  2.0914e-02,  2.2667e-03, -1.7552e-03,\n",
      "         1.5459e-03,  3.6835e-03,  6.3911e-03,  2.1093e-02, -2.0164e-02,\n",
      "        -2.4498e-02,  2.5031e-02, -9.6771e-03, -2.0622e-02, -1.1484e-02,\n",
      "         6.5075e-04,  1.2869e-02, -1.7902e-02, -1.8619e-02,  8.3579e-03,\n",
      "        -3.9453e-03,  2.0777e-03, -2.1909e-02, -1.6251e-02,  2.3723e-02,\n",
      "        -1.9982e-03,  2.5263e-02, -1.0239e-02,  8.7985e-03,  2.1614e-02,\n",
      "         1.0191e-02,  1.5639e-02, -2.3759e-02, -2.5173e-02,  1.9341e-02,\n",
      "         1.8497e-02,  2.3402e-02, -1.1447e-02, -5.3465e-03, -1.6159e-02,\n",
      "        -6.1523e-03, -1.3669e-02,  4.2129e-03, -5.7005e-03,  3.7279e-03,\n",
      "         7.9147e-03,  2.5263e-02,  1.2844e-02,  1.0138e-02,  1.9256e-02,\n",
      "         1.8466e-02, -6.1313e-03, -1.7941e-02, -1.8971e-02, -1.1842e-02,\n",
      "        -9.0719e-03,  2.3476e-02, -6.4281e-03,  5.6228e-04,  2.2456e-02,\n",
      "        -2.0882e-02, -2.3414e-02, -2.4354e-02, -1.0870e-02, -2.4370e-02,\n",
      "         2.0082e-02, -3.7531e-03, -5.0989e-03, -2.0574e-02, -1.3044e-02,\n",
      "        -5.2422e-03,  4.9216e-04,  2.1209e-03,  5.3415e-03, -1.2239e-02,\n",
      "         4.4744e-03,  1.8409e-02, -5.5179e-03,  2.2907e-02, -2.2002e-02,\n",
      "        -1.3626e-03,  2.5019e-02,  1.0336e-02,  1.0992e-03,  1.7817e-02,\n",
      "         2.4132e-03, -8.9162e-03,  1.2087e-02, -9.4585e-03,  8.2603e-03,\n",
      "         3.6358e-03, -2.3097e-02, -2.1800e-02, -2.1215e-04, -1.7955e-02,\n",
      "        -7.2866e-03, -6.2613e-03,  1.4490e-02,  6.5515e-03,  1.9520e-02,\n",
      "        -2.2749e-03,  1.8483e-02,  1.4824e-02, -2.5228e-02, -1.9270e-03,\n",
      "        -2.4061e-02, -5.0847e-03,  2.0567e-02,  1.4808e-02, -3.9988e-03,\n",
      "         1.2708e-02,  2.3038e-03,  1.3186e-02, -1.4308e-02, -1.1993e-02,\n",
      "        -1.4472e-02,  6.9325e-03,  2.3939e-02, -1.1130e-03, -2.0270e-02,\n",
      "        -1.4139e-02, -2.4075e-03,  2.0392e-02, -6.8212e-03, -2.1116e-02,\n",
      "        -8.2900e-03,  7.2908e-03, -2.1537e-02,  1.6417e-02, -1.3178e-02,\n",
      "        -4.9439e-03,  1.5601e-02,  5.3436e-03,  8.2280e-03,  5.1329e-03,\n",
      "        -1.2827e-03, -1.2568e-02, -1.3692e-02, -2.1522e-02,  3.5498e-03,\n",
      "        -4.3774e-03, -4.9443e-03,  1.4675e-02, -2.2105e-02,  1.4342e-02,\n",
      "        -1.6214e-02, -1.4673e-02,  1.4283e-02,  1.1551e-03,  1.2815e-02,\n",
      "        -1.9664e-02,  1.3176e-02,  8.8744e-03,  5.9776e-03, -1.0197e-02,\n",
      "        -2.4348e-02, -1.5752e-02, -2.9966e-03, -5.3723e-03, -1.8647e-03,\n",
      "         2.1558e-02,  1.2144e-02,  1.4737e-02,  2.4384e-02,  1.2162e-02,\n",
      "        -1.6767e-02,  1.2954e-02, -1.5094e-02,  1.0444e-03,  1.0438e-03,\n",
      "        -1.0299e-02,  1.7260e-02, -7.9774e-03,  2.1523e-02, -1.0774e-02,\n",
      "         9.1236e-03, -9.9772e-03,  2.4925e-02,  2.4156e-02, -2.1402e-02,\n",
      "        -1.3444e-02, -1.6528e-04, -1.2815e-02, -8.4443e-03, -2.2182e-02,\n",
      "        -1.2645e-02,  7.6234e-03, -1.2699e-02, -1.6546e-02,  1.8445e-02,\n",
      "         6.6677e-03,  1.7344e-02, -9.2596e-03, -2.5541e-02,  1.7652e-02,\n",
      "        -6.1342e-03,  8.5086e-03,  2.1750e-02, -2.3463e-03, -9.2281e-04,\n",
      "        -3.5761e-03,  2.6805e-03,  4.2752e-04, -2.1751e-03,  1.6541e-02,\n",
      "         1.7169e-02,  3.7712e-03,  1.6479e-03, -9.8045e-04,  2.7010e-03,\n",
      "         1.4226e-02, -1.1081e-03, -4.4186e-03, -8.5280e-04,  8.3327e-03,\n",
      "        -1.3228e-02, -2.1941e-02, -5.2875e-04,  5.5032e-04,  2.4786e-02,\n",
      "         2.6164e-03,  2.1002e-02,  1.2536e-02, -9.7686e-03,  1.4204e-02,\n",
      "        -7.1897e-03,  8.7595e-03, -9.6585e-03, -2.0510e-02,  1.1588e-02,\n",
      "         2.2274e-03,  2.4902e-02, -3.1408e-04,  2.4851e-02,  2.0296e-02,\n",
      "        -1.3813e-02,  5.0957e-03, -2.4444e-02,  1.2259e-02, -5.3340e-03,\n",
      "        -9.3229e-03,  2.0098e-03, -3.4570e-03,  3.7119e-03, -1.1442e-02,\n",
      "         2.1706e-02, -1.7175e-02, -1.6583e-03, -3.1489e-03, -2.9374e-03,\n",
      "         2.2484e-02,  2.1988e-02,  7.1143e-03,  1.3327e-02, -1.9057e-02,\n",
      "         2.8566e-03, -1.4369e-02,  2.5688e-02, -4.2045e-03,  2.2586e-02,\n",
      "        -1.2032e-02,  3.0284e-03,  1.8434e-02,  2.4773e-02,  1.4282e-02,\n",
      "        -1.0838e-02,  4.8651e-03,  2.9507e-03,  6.4403e-03, -2.4366e-02,\n",
      "        -7.9809e-04,  2.6893e-03, -4.3212e-03,  5.3084e-03, -1.9759e-02,\n",
      "        -2.0610e-02, -1.7436e-02, -5.9691e-03,  8.3654e-03, -2.2753e-02,\n",
      "        -8.5847e-05, -9.0521e-03, -2.0941e-02, -4.7544e-03,  4.8181e-03,\n",
      "        -5.5073e-03, -2.1697e-02,  5.9505e-03,  2.1638e-02,  8.9785e-03,\n",
      "        -2.3694e-02,  1.6480e-02,  4.8674e-03, -2.0404e-02, -9.8685e-03,\n",
      "        -2.2602e-03, -2.0028e-02, -2.3521e-02,  1.6569e-03, -7.6954e-03,\n",
      "        -1.1977e-02,  8.0327e-03, -1.3310e-02,  1.4722e-02, -4.5555e-03,\n",
      "        -2.4648e-02, -2.2660e-02, -6.4155e-03,  2.0642e-02,  1.4657e-02,\n",
      "        -2.0695e-02, -5.3522e-03,  2.5099e-02, -1.9180e-02, -1.6305e-03,\n",
      "         1.5757e-02,  1.2222e-02,  2.0913e-02, -2.0442e-02,  3.8125e-03,\n",
      "        -1.7527e-02,  1.2697e-02,  2.0579e-02, -2.1777e-02, -1.2071e-02,\n",
      "        -2.2319e-02,  9.3782e-04, -1.6324e-02,  2.2854e-02, -1.4287e-02,\n",
      "         1.0053e-02,  1.7798e-04, -2.6157e-03,  2.1185e-02,  1.1424e-02,\n",
      "        -1.6111e-02, -1.8184e-02, -2.5658e-03, -1.0522e-02, -1.7987e-02,\n",
      "        -3.8951e-03,  6.2517e-03, -1.4306e-02, -9.9468e-03,  1.2090e-02,\n",
      "         9.2622e-03, -1.4470e-02, -2.1743e-02, -2.2842e-03,  1.5761e-02,\n",
      "        -2.1986e-02,  5.9578e-03,  2.0207e-02, -8.4282e-03,  1.0629e-04,\n",
      "         2.4270e-02, -1.9175e-02, -2.1596e-02,  3.4688e-03, -4.8388e-03,\n",
      "        -2.4829e-02,  1.8247e-03, -1.1929e-02, -3.8549e-03, -2.0999e-02,\n",
      "        -7.0576e-03,  2.2881e-02,  1.9428e-02, -1.3003e-02,  2.4974e-02,\n",
      "        -4.8959e-03,  2.5811e-02, -1.5910e-02,  3.0091e-03, -3.5729e-03,\n",
      "         1.6854e-03,  1.5136e-02,  1.0802e-02, -4.1061e-04,  8.1867e-03,\n",
      "        -2.3728e-02, -2.5455e-02,  1.8384e-03, -2.0829e-02,  8.7325e-03,\n",
      "         1.4476e-02, -1.0503e-02, -9.9744e-03, -1.1292e-02, -1.6294e-02,\n",
      "        -1.0082e-02,  2.4555e-02, -8.0952e-03, -2.1804e-02,  1.0711e-02,\n",
      "         2.5454e-02, -1.3626e-02,  4.6440e-03, -1.5631e-02, -2.2313e-02,\n",
      "         1.5316e-02,  9.8244e-03,  1.4142e-02,  2.2838e-02,  2.3475e-02,\n",
      "         9.6571e-03, -8.9209e-03, -2.5729e-02,  5.1126e-03, -4.0042e-04,\n",
      "        -2.2216e-02,  1.0746e-02, -1.9565e-02,  1.1043e-02,  5.4460e-03,\n",
      "         1.0116e-02, -1.1931e-02, -4.3230e-04,  1.3309e-02, -1.8179e-02,\n",
      "        -6.7132e-03,  4.3903e-04, -1.1938e-02,  1.6337e-02,  1.7396e-02,\n",
      "        -8.7851e-03, -1.8052e-02, -5.1173e-03, -1.1745e-03, -9.2159e-03,\n",
      "         9.4935e-03, -3.0932e-03,  9.2574e-03,  1.3783e-02, -1.9154e-02,\n",
      "        -1.4083e-02,  1.2696e-02,  3.1931e-03, -5.7397e-03, -1.9793e-02,\n",
      "        -1.5168e-02, -2.4546e-02,  1.1832e-02, -2.4815e-02, -2.5372e-02,\n",
      "        -2.3407e-02, -1.4285e-02, -3.6761e-03,  4.3713e-03, -2.2919e-02,\n",
      "        -2.1858e-02,  2.4753e-02, -7.7563e-03,  9.1242e-03, -1.4608e-02,\n",
      "         1.2886e-02, -2.4393e-02, -8.8456e-03, -1.3824e-02, -2.9884e-03,\n",
      "         9.6436e-03,  2.2435e-02, -7.8606e-03,  1.3342e-02,  2.2935e-02,\n",
      "         1.2145e-02,  6.9403e-03,  3.2688e-03,  2.3356e-02,  2.5645e-02,\n",
      "        -1.3691e-02,  1.6744e-02, -1.9464e-02, -1.0367e-03,  2.3844e-02,\n",
      "         2.4374e-02, -1.9272e-02, -2.3321e-02,  1.0626e-02, -2.0839e-02,\n",
      "         1.6655e-02,  7.6161e-03,  4.0179e-03,  3.2760e-03,  1.0371e-02,\n",
      "        -3.0446e-03, -7.2955e-03,  1.5121e-02,  2.0970e-03, -1.0341e-02,\n",
      "         9.4192e-03, -2.3545e-02,  2.3682e-02,  4.8292e-04,  1.5202e-02,\n",
      "         2.5411e-02,  5.7297e-05,  1.7557e-03,  2.4026e-02,  2.3723e-03],\n",
      "       requires_grad=True))\n",
      "('layers.7.weight', Parameter containing:\n",
      "tensor([[ 0.0052,  0.0152, -0.0185,  ...,  0.0049, -0.0249,  0.0104],\n",
      "        [ 0.0101, -0.0040,  0.0219,  ...,  0.0179,  0.0155, -0.0202],\n",
      "        [ 0.0270,  0.0054, -0.0074,  ...,  0.0137,  0.0276, -0.0285],\n",
      "        ...,\n",
      "        [-0.0098,  0.0312,  0.0005,  ..., -0.0169,  0.0094, -0.0199],\n",
      "        [-0.0110,  0.0253, -0.0212,  ...,  0.0137,  0.0194,  0.0070],\n",
      "        [ 0.0149, -0.0120, -0.0124,  ...,  0.0264, -0.0180,  0.0091]],\n",
      "       requires_grad=True))\n",
      "('layers.7.bias', Parameter containing:\n",
      "tensor([-1.9471e-02, -1.2581e-02, -8.6953e-04, -1.2106e-03,  2.5958e-02,\n",
      "         2.1956e-02, -8.2844e-03,  2.4216e-02,  1.5289e-02, -3.1469e-02,\n",
      "         1.0135e-02, -2.3790e-02,  9.1912e-03, -3.1385e-02,  1.9413e-02,\n",
      "         2.7122e-02,  2.9404e-02,  3.1328e-02, -7.0053e-04,  2.3735e-02,\n",
      "         6.8462e-03,  1.0898e-02, -1.8229e-03,  2.2810e-02, -2.9695e-02,\n",
      "         2.4973e-02, -4.9897e-04,  7.6769e-03,  1.8749e-02,  3.0424e-02,\n",
      "        -2.9966e-02, -1.4735e-02,  2.2415e-02,  7.7337e-03, -2.2901e-02,\n",
      "         2.6807e-02, -7.5358e-03, -2.5103e-02,  7.9610e-03,  2.3277e-02,\n",
      "         2.1977e-02, -8.3701e-03, -2.5056e-02, -1.7769e-02,  1.5772e-02,\n",
      "        -3.1474e-02, -1.5679e-02, -3.0063e-02,  3.6052e-03, -3.6730e-03,\n",
      "         5.9385e-03, -2.6743e-02, -4.6460e-03,  2.5352e-02, -6.8151e-03,\n",
      "        -7.0597e-03,  1.7647e-02,  1.4354e-02, -3.6230e-03, -7.0690e-04,\n",
      "        -2.4614e-02, -1.9746e-03,  2.3587e-02,  2.1303e-02, -2.2625e-02,\n",
      "        -1.3344e-02,  1.7530e-02, -1.4816e-02,  6.3327e-04, -8.3791e-03,\n",
      "         2.6460e-02, -2.7855e-02,  2.2845e-02, -1.3187e-02, -1.2853e-02,\n",
      "         1.3816e-02, -9.9400e-03, -2.6619e-02,  2.1203e-02,  1.5807e-02,\n",
      "        -3.1032e-02, -2.9537e-02,  4.6316e-03, -1.4644e-02, -2.5626e-02,\n",
      "        -2.8895e-02, -1.5028e-02, -5.2369e-03, -2.1189e-03,  3.0706e-02,\n",
      "         8.4013e-03, -2.8765e-02,  3.1400e-02,  5.6145e-03,  1.9646e-02,\n",
      "        -2.5938e-02,  1.7675e-03,  1.9069e-02,  1.6427e-02, -7.9175e-03,\n",
      "         2.2317e-02, -3.1460e-02,  3.1537e-02, -2.9802e-03,  1.1171e-02,\n",
      "         2.5968e-02, -5.8027e-04,  1.6706e-02, -1.7904e-02,  2.5816e-06,\n",
      "         1.1897e-02,  4.2731e-04,  1.5808e-02,  1.3389e-02, -2.5627e-02,\n",
      "        -2.4881e-02,  5.6502e-03,  2.3332e-02,  2.0422e-02, -1.2083e-02,\n",
      "        -5.6316e-03, -2.3727e-02,  2.1119e-02,  5.7856e-03, -3.0967e-02,\n",
      "         2.1381e-02, -1.2711e-02,  2.3628e-02,  3.1468e-03, -2.7058e-02,\n",
      "        -1.4570e-02, -2.5625e-02, -1.9450e-02,  2.9148e-02,  1.5787e-04,\n",
      "        -6.9499e-03,  1.9413e-03, -2.1925e-02,  2.6607e-02, -1.6732e-02,\n",
      "        -3.1383e-02, -2.8906e-02,  1.1548e-02,  2.6595e-02,  9.3998e-03,\n",
      "         1.3913e-02, -3.1416e-03, -2.8879e-03, -6.5901e-03,  1.0507e-02,\n",
      "         1.8079e-02,  2.1625e-03, -1.9675e-02, -7.3078e-03,  1.9293e-02,\n",
      "        -1.0786e-02,  1.7957e-02, -1.2252e-02,  5.5958e-03,  1.6838e-02,\n",
      "         2.6343e-02,  2.6955e-02, -6.6502e-03, -2.4657e-02,  2.6033e-02,\n",
      "         1.1863e-02,  2.8231e-02, -3.0989e-03,  1.9126e-03, -1.5661e-02,\n",
      "        -1.7409e-02, -3.0844e-02, -1.6248e-02, -2.0191e-02,  2.1052e-03,\n",
      "         5.3615e-03,  2.5033e-02,  1.6248e-02,  1.0091e-02,  6.9682e-03,\n",
      "         1.5167e-02,  7.9544e-04,  1.8093e-02, -2.3929e-02, -1.6398e-02,\n",
      "        -2.4717e-02, -1.5288e-02,  2.8582e-03, -1.2529e-02, -2.8220e-02,\n",
      "        -2.0160e-02,  3.1289e-02, -1.7815e-02, -1.2974e-02,  1.0779e-02,\n",
      "         1.9811e-02,  1.6069e-02,  1.4289e-02,  9.9661e-03,  6.2110e-03,\n",
      "        -1.2799e-02,  3.5389e-03, -1.2454e-02, -2.6806e-02,  3.6045e-03,\n",
      "         7.2564e-03, -1.7448e-02,  1.7043e-02, -6.4647e-03, -7.1056e-03,\n",
      "         3.7502e-03, -5.1174e-03,  2.5189e-02,  9.3903e-03, -2.5043e-02,\n",
      "        -5.5015e-03,  3.0491e-02,  5.0213e-03,  2.9310e-02, -1.1071e-02,\n",
      "        -3.1352e-02, -2.5071e-02, -2.2563e-02, -3.0054e-02, -6.7456e-03,\n",
      "         1.6831e-03,  1.7909e-02,  4.4923e-03, -2.5804e-02, -2.2391e-02,\n",
      "        -1.2426e-03,  2.4555e-02,  1.8685e-02, -3.1415e-02, -2.1873e-02,\n",
      "         1.6258e-02, -5.2149e-03,  2.6766e-02,  1.3104e-02, -2.6488e-02,\n",
      "        -2.5463e-02,  8.7093e-03,  2.5355e-02,  5.2431e-03,  2.4049e-02,\n",
      "         2.4918e-02,  9.8986e-03,  7.2819e-03,  1.5738e-02,  5.0455e-05,\n",
      "        -8.2608e-03, -9.6400e-03, -3.7102e-03,  2.9579e-02, -1.1327e-02,\n",
      "        -9.9523e-03,  2.8334e-02, -8.9955e-03, -1.2120e-02, -2.4685e-02,\n",
      "        -2.6005e-02, -9.7349e-03,  1.9311e-02, -4.3777e-03, -2.2642e-02,\n",
      "         1.8981e-02,  1.6585e-02,  3.1103e-03,  2.6071e-02,  3.0211e-02,\n",
      "        -5.4771e-03, -5.3161e-03, -6.3972e-03,  2.2734e-02, -6.3773e-03,\n",
      "        -4.0978e-03,  2.2365e-02, -5.3620e-03, -3.0986e-02, -1.6405e-02,\n",
      "         3.1866e-03, -6.0930e-03, -1.8554e-02,  2.7404e-02,  7.2865e-03,\n",
      "         2.8417e-02,  2.2883e-02,  1.0757e-03, -2.6716e-02, -1.2887e-02,\n",
      "        -1.3472e-02, -6.1212e-03, -6.8939e-03, -1.5107e-02, -2.2447e-02,\n",
      "        -2.2074e-02,  1.2561e-02, -2.5282e-02, -2.3527e-03, -2.0455e-02,\n",
      "        -1.5046e-02,  1.2279e-02, -3.6273e-03, -3.4866e-03,  7.9191e-03,\n",
      "         2.5466e-02, -7.6808e-03, -7.9904e-03, -1.2646e-02, -3.7317e-04,\n",
      "         1.0314e-03,  2.9921e-02,  4.6763e-03,  1.3712e-02,  1.3116e-03,\n",
      "        -1.9522e-02,  1.4065e-02,  5.8265e-03, -4.8778e-03,  2.1592e-02,\n",
      "        -3.0745e-02, -1.7902e-02, -7.4336e-03,  1.2767e-03,  7.2639e-03,\n",
      "         3.0974e-02, -5.6703e-03,  1.5145e-02, -1.8223e-02,  6.7448e-03,\n",
      "         2.1964e-04, -2.3969e-02, -2.2790e-03,  5.4703e-03,  5.7802e-03,\n",
      "        -4.8941e-03, -1.9273e-02, -2.6214e-02, -1.5035e-04,  4.5321e-03,\n",
      "         2.6525e-02,  2.8503e-02, -2.2499e-02,  2.4926e-02, -5.4847e-03,\n",
      "         5.9336e-03,  2.0321e-03,  8.3193e-03,  7.3953e-04, -1.6333e-03,\n",
      "        -2.7406e-02,  3.1523e-02, -2.7615e-02, -2.3609e-02,  2.9107e-02,\n",
      "        -2.5620e-02, -2.8354e-02,  2.9141e-02,  1.9453e-02,  1.3862e-02,\n",
      "         3.1416e-02,  1.0316e-02,  1.2971e-02, -8.0861e-03,  1.7527e-02,\n",
      "         2.1075e-02,  1.4940e-02, -9.5882e-03,  2.7502e-02,  1.5013e-02,\n",
      "        -3.0507e-02,  1.8255e-02, -6.0328e-03,  2.5966e-02,  2.9566e-02,\n",
      "         9.3792e-03, -5.9918e-03,  1.6777e-02,  2.9860e-02, -1.3160e-02,\n",
      "        -4.8403e-03,  2.0815e-02, -1.2290e-02, -2.7644e-02, -9.6587e-03,\n",
      "        -2.2986e-02, -1.2317e-02,  2.7758e-02,  7.3992e-03, -5.2228e-03,\n",
      "         8.9802e-03,  8.0603e-03, -2.6306e-02, -3.1174e-03,  4.6783e-03,\n",
      "        -2.6567e-02,  2.7956e-02,  5.8438e-03,  1.7509e-02, -1.3834e-04,\n",
      "        -1.4093e-02,  2.4313e-02, -1.7396e-02, -1.0838e-02,  7.7699e-03,\n",
      "        -6.6676e-03,  5.6204e-03,  2.5987e-02, -1.2728e-02,  3.5985e-03,\n",
      "         2.3458e-02, -2.6199e-02,  1.1804e-02, -2.2895e-02, -2.1881e-03,\n",
      "         3.0080e-02,  1.3274e-02, -2.3320e-02, -9.1451e-04, -2.6028e-02,\n",
      "        -8.1752e-03,  2.4260e-02, -2.2943e-02, -6.7983e-03, -2.9819e-02,\n",
      "         1.0042e-02,  4.6006e-03,  1.0348e-02, -1.9202e-03, -1.4358e-02,\n",
      "        -2.7523e-02,  2.8499e-02,  1.3570e-02,  1.8875e-02,  2.9593e-02,\n",
      "        -7.2054e-03,  3.0769e-02,  3.0310e-02,  1.3513e-02, -2.5785e-02,\n",
      "        -2.8226e-02, -4.8156e-04, -4.5003e-03, -9.2205e-03,  6.2817e-03,\n",
      "        -2.0361e-03, -1.2671e-03,  1.6941e-02,  2.0658e-02, -1.2885e-02,\n",
      "        -8.7366e-03,  1.1866e-02,  1.0649e-02, -2.5092e-02,  2.8207e-02,\n",
      "        -1.0972e-02, -8.0794e-03,  2.7379e-02, -9.1415e-03,  2.9419e-03,\n",
      "        -5.4169e-03, -1.0243e-02,  3.1272e-03,  2.9047e-03, -2.3215e-02,\n",
      "         3.0250e-03, -2.7503e-02, -3.0589e-02,  3.7333e-03,  2.5651e-02,\n",
      "         1.3044e-02,  2.5415e-02,  1.5100e-03, -2.1821e-02,  4.8825e-03,\n",
      "        -2.0354e-02, -1.0962e-02,  3.0557e-03,  1.0709e-02, -2.8904e-02,\n",
      "        -5.4208e-03,  2.8687e-02, -1.5272e-02,  4.3624e-03,  3.0133e-02,\n",
      "         2.7901e-03,  1.3046e-02,  9.1874e-03, -2.7427e-02,  2.6833e-02,\n",
      "         1.0565e-02, -1.7424e-02,  1.0949e-02,  4.6081e-03,  1.8860e-02,\n",
      "        -8.0297e-03, -3.1592e-02, -2.8725e-02, -2.5740e-02, -2.1780e-02,\n",
      "         5.3116e-03,  5.4929e-03, -1.6052e-02,  2.2345e-02,  2.9507e-03,\n",
      "         1.3121e-02, -1.8598e-03,  8.5648e-03, -1.3552e-02, -5.7240e-03,\n",
      "        -9.5210e-03,  1.0938e-02,  1.5594e-02, -1.3638e-02,  4.2116e-03,\n",
      "        -1.8789e-02, -6.3627e-03, -2.9734e-02,  1.4547e-02, -3.0549e-02,\n",
      "        -1.7387e-04, -2.1861e-03, -8.1297e-03, -1.3949e-02,  2.6279e-02,\n",
      "        -2.9705e-02,  1.9312e-02, -4.0822e-03, -1.2566e-02,  1.6275e-02,\n",
      "         9.6573e-03,  6.5652e-03,  1.7556e-02, -1.9104e-02, -3.3271e-05,\n",
      "        -1.3646e-02,  1.4891e-03,  1.4986e-02, -1.8592e-02,  1.4353e-02,\n",
      "        -2.2370e-02, -9.4613e-03,  2.0161e-03, -2.2724e-02, -4.0261e-03,\n",
      "        -1.1131e-02,  1.4136e-02, -2.8622e-02,  2.9437e-02, -1.2488e-02,\n",
      "        -2.0871e-02,  1.5100e-02,  2.5459e-02, -3.9071e-03, -4.0553e-03,\n",
      "         2.4794e-02,  1.8279e-02, -2.0736e-02,  2.6995e-02,  2.4309e-02,\n",
      "        -1.2508e-02,  1.1764e-02, -2.9506e-02, -1.3170e-02,  1.6695e-02,\n",
      "         4.6512e-04, -5.6821e-03, -1.6282e-02,  4.4649e-03, -1.6671e-02,\n",
      "        -1.8856e-02,  3.1562e-03, -1.2564e-02,  2.6292e-02,  1.1923e-02,\n",
      "        -2.1152e-02, -2.9066e-02,  2.0425e-02, -2.2557e-02, -1.5051e-02,\n",
      "         2.3705e-02, -2.8011e-02, -8.5024e-04,  2.7474e-02,  2.2386e-02,\n",
      "        -9.1672e-03,  4.8187e-03, -2.9328e-02, -1.3844e-02, -1.3344e-02,\n",
      "        -9.5941e-03, -3.4929e-03, -3.0484e-02,  2.3478e-02,  2.3354e-02,\n",
      "        -1.2180e-02,  6.7812e-03,  2.1277e-02,  2.1169e-02,  1.0116e-03,\n",
      "        -1.5310e-02, -3.6176e-03,  2.7536e-02, -1.1457e-02, -2.0535e-02,\n",
      "        -1.1853e-02, -5.5134e-03,  1.2399e-02,  2.2861e-02, -7.0933e-03,\n",
      "        -1.7311e-02,  1.8509e-02, -9.1579e-03, -1.1870e-02, -2.2440e-02,\n",
      "         2.1553e-02, -4.9456e-03, -3.1574e-02,  1.8919e-02,  1.1398e-02,\n",
      "        -2.5151e-02,  1.4369e-02,  1.7331e-02,  3.3915e-03,  1.2649e-02,\n",
      "        -4.8935e-03,  2.5823e-02,  2.1486e-02,  2.1770e-02,  2.2609e-02,\n",
      "         1.0641e-02, -8.5092e-03,  2.4054e-02,  2.0817e-02, -2.8584e-02,\n",
      "        -2.8048e-04, -2.1162e-02,  2.4196e-02,  2.6175e-02,  1.8139e-02,\n",
      "         2.2687e-02, -2.3891e-02, -1.5654e-03,  2.4224e-02,  1.0697e-02,\n",
      "        -2.8169e-02,  9.9054e-03, -1.3754e-02, -7.4655e-03, -2.7682e-02,\n",
      "         8.5854e-03, -2.7088e-02, -6.0002e-04,  1.0532e-03, -6.8005e-03,\n",
      "        -2.7705e-02, -2.2997e-02,  1.4760e-03, -8.2567e-03, -2.2222e-02,\n",
      "        -6.0754e-03, -2.7907e-03, -5.8553e-03,  1.4209e-02, -2.8048e-02,\n",
      "         2.7069e-02,  4.7775e-03, -2.6332e-02,  3.6497e-03, -2.7133e-02,\n",
      "        -4.0953e-03,  1.2063e-02,  1.2976e-02, -1.0844e-02, -1.4025e-02,\n",
      "        -1.2060e-02,  3.5535e-03,  1.8851e-02,  5.1891e-03,  2.2480e-02,\n",
      "         1.0343e-02,  3.0862e-02,  1.3910e-02, -3.0883e-02, -2.7215e-02,\n",
      "        -1.8506e-02, -7.5986e-03, -1.6191e-02,  2.6757e-02, -8.4358e-03,\n",
      "        -1.4558e-02,  9.6431e-03,  3.0797e-02, -1.5048e-02, -2.7012e-02,\n",
      "         1.8158e-02,  2.2807e-02, -8.9613e-03,  2.3148e-02,  1.1418e-02,\n",
      "         1.9983e-02, -3.0191e-02,  1.2183e-02, -2.4910e-02, -1.1826e-02,\n",
      "         2.5477e-02, -1.7799e-02, -1.4773e-02,  2.8426e-02, -3.1404e-02,\n",
      "        -2.9296e-04,  2.9705e-02,  8.4774e-03,  7.4950e-04,  4.8182e-03,\n",
      "        -2.7074e-02, -1.7398e-02, -2.9404e-02, -2.2547e-02, -3.4986e-03,\n",
      "         2.8481e-02, -1.3870e-02, -2.3883e-02, -7.9394e-04, -8.3761e-03,\n",
      "        -9.4945e-04,  1.2070e-02, -1.1221e-03,  3.0272e-02, -1.9377e-02,\n",
      "        -2.6219e-02, -6.4017e-03, -8.8319e-03,  2.4980e-02,  2.5146e-02,\n",
      "         3.1138e-02, -2.9876e-02, -1.2179e-02,  1.2664e-02, -2.0788e-02,\n",
      "         2.6139e-03,  7.0541e-03, -2.0752e-02, -1.1870e-02, -3.3235e-03,\n",
      "        -1.2825e-03, -2.9133e-02,  9.9070e-03,  1.2273e-02,  1.0146e-02],\n",
      "       requires_grad=True))\n",
      "('layers.8.weight', Parameter containing:\n",
      "tensor([[-0.0333,  0.0297, -0.0253,  ...,  0.0077,  0.0065, -0.0027],\n",
      "        [ 0.0121,  0.0276,  0.0308,  ...,  0.0293, -0.0043,  0.0170],\n",
      "        [ 0.0070,  0.0048,  0.0274,  ..., -0.0018, -0.0003, -0.0347],\n",
      "        ...,\n",
      "        [ 0.0087, -0.0122,  0.0156,  ...,  0.0271,  0.0303, -0.0212],\n",
      "        [-0.0284,  0.0014, -0.0237,  ..., -0.0185, -0.0275,  0.0258],\n",
      "        [ 0.0045,  0.0100, -0.0146,  ..., -0.0346,  0.0088, -0.0158]],\n",
      "       requires_grad=True))\n",
      "('layers.8.bias', Parameter containing:\n",
      "tensor([ 0.0094,  0.0054, -0.0250, -0.0246,  0.0056,  0.0015,  0.0101,  0.0148,\n",
      "        -0.0075,  0.0024,  0.0287,  0.0230,  0.0324,  0.0211, -0.0204,  0.0109,\n",
      "        -0.0219,  0.0108, -0.0110,  0.0217,  0.0051, -0.0082, -0.0109,  0.0006,\n",
      "         0.0130, -0.0031,  0.0353, -0.0363,  0.0049,  0.0229, -0.0342, -0.0298,\n",
      "        -0.0362, -0.0064,  0.0323, -0.0254,  0.0003, -0.0325,  0.0168, -0.0012,\n",
      "        -0.0057, -0.0135,  0.0138, -0.0214,  0.0257, -0.0068, -0.0115,  0.0252,\n",
      "         0.0040, -0.0265, -0.0151, -0.0282, -0.0205, -0.0314,  0.0157, -0.0017,\n",
      "         0.0008, -0.0080,  0.0348,  0.0038, -0.0281,  0.0125, -0.0156, -0.0282,\n",
      "        -0.0023,  0.0028,  0.0218,  0.0160, -0.0223,  0.0095, -0.0227, -0.0084,\n",
      "         0.0169,  0.0238, -0.0283,  0.0078,  0.0177, -0.0189, -0.0137,  0.0094,\n",
      "        -0.0033,  0.0246, -0.0147, -0.0295,  0.0059, -0.0121,  0.0310,  0.0131,\n",
      "        -0.0202,  0.0245, -0.0179, -0.0200,  0.0209,  0.0187,  0.0325, -0.0244,\n",
      "        -0.0144, -0.0257, -0.0351, -0.0326, -0.0175, -0.0222,  0.0283, -0.0109,\n",
      "         0.0224,  0.0271,  0.0109,  0.0271,  0.0024, -0.0131, -0.0274, -0.0295,\n",
      "         0.0095,  0.0198, -0.0068,  0.0275,  0.0145,  0.0359,  0.0185,  0.0248,\n",
      "         0.0058,  0.0270,  0.0028,  0.0341,  0.0256, -0.0236,  0.0160, -0.0169,\n",
      "        -0.0043,  0.0033, -0.0049,  0.0147, -0.0351,  0.0319, -0.0326, -0.0083,\n",
      "        -0.0005, -0.0345, -0.0122,  0.0057, -0.0320,  0.0266, -0.0076,  0.0282,\n",
      "        -0.0191,  0.0152,  0.0096,  0.0264,  0.0088,  0.0178,  0.0312, -0.0348,\n",
      "        -0.0244,  0.0332,  0.0199,  0.0243, -0.0220,  0.0006,  0.0057, -0.0099,\n",
      "        -0.0081,  0.0239, -0.0245, -0.0303, -0.0349, -0.0164, -0.0224, -0.0159,\n",
      "        -0.0053,  0.0212,  0.0200,  0.0233, -0.0364,  0.0229, -0.0114, -0.0163,\n",
      "        -0.0172,  0.0072, -0.0164, -0.0278, -0.0002,  0.0320,  0.0339,  0.0169,\n",
      "        -0.0314,  0.0281,  0.0343, -0.0224,  0.0054,  0.0364, -0.0313, -0.0123,\n",
      "        -0.0164, -0.0033,  0.0298, -0.0313,  0.0134, -0.0238,  0.0114, -0.0259,\n",
      "        -0.0362, -0.0134,  0.0293, -0.0290, -0.0275,  0.0110, -0.0060,  0.0290,\n",
      "         0.0157, -0.0325,  0.0220,  0.0125,  0.0020, -0.0067, -0.0244, -0.0020,\n",
      "        -0.0293,  0.0012,  0.0358, -0.0046,  0.0245, -0.0128,  0.0023,  0.0354,\n",
      "        -0.0141, -0.0031, -0.0116, -0.0270,  0.0234,  0.0202, -0.0208, -0.0328,\n",
      "        -0.0322,  0.0342,  0.0239,  0.0132, -0.0144,  0.0247, -0.0197, -0.0180,\n",
      "         0.0277,  0.0362, -0.0251, -0.0359, -0.0009, -0.0183, -0.0356,  0.0196,\n",
      "         0.0094, -0.0225,  0.0100, -0.0193,  0.0118,  0.0174,  0.0016, -0.0021,\n",
      "        -0.0332,  0.0363, -0.0361, -0.0239, -0.0109,  0.0204,  0.0064,  0.0062,\n",
      "         0.0344,  0.0311, -0.0110,  0.0147, -0.0194,  0.0171, -0.0124, -0.0350,\n",
      "        -0.0096,  0.0231, -0.0185, -0.0223, -0.0255,  0.0026,  0.0216, -0.0264,\n",
      "         0.0052, -0.0052,  0.0283, -0.0113,  0.0217, -0.0212, -0.0021, -0.0306,\n",
      "         0.0099, -0.0137, -0.0010,  0.0153, -0.0365, -0.0327,  0.0327, -0.0109,\n",
      "        -0.0219, -0.0240,  0.0163,  0.0046, -0.0064, -0.0254, -0.0021,  0.0348,\n",
      "        -0.0299,  0.0102,  0.0069, -0.0124, -0.0005, -0.0245, -0.0036, -0.0097,\n",
      "         0.0228,  0.0047,  0.0120,  0.0287,  0.0176, -0.0169, -0.0068,  0.0169,\n",
      "         0.0304, -0.0333,  0.0160,  0.0262, -0.0105,  0.0259, -0.0352,  0.0206,\n",
      "        -0.0157,  0.0315, -0.0006,  0.0265,  0.0248,  0.0083,  0.0253,  0.0094,\n",
      "        -0.0015, -0.0039, -0.0133,  0.0168,  0.0288,  0.0133,  0.0244,  0.0262,\n",
      "         0.0095, -0.0128,  0.0006, -0.0308, -0.0328, -0.0258,  0.0247,  0.0154,\n",
      "        -0.0204,  0.0099, -0.0033, -0.0194, -0.0355,  0.0140, -0.0152, -0.0112,\n",
      "         0.0307, -0.0243, -0.0159,  0.0101,  0.0208,  0.0121,  0.0222,  0.0116,\n",
      "        -0.0161, -0.0047, -0.0071, -0.0255, -0.0287,  0.0007, -0.0234,  0.0148,\n",
      "        -0.0163, -0.0184,  0.0342,  0.0175,  0.0233, -0.0345,  0.0101,  0.0089,\n",
      "        -0.0191,  0.0179, -0.0030, -0.0248, -0.0076,  0.0256,  0.0214, -0.0183,\n",
      "        -0.0123,  0.0284, -0.0110,  0.0050,  0.0106, -0.0087,  0.0269,  0.0241,\n",
      "        -0.0082,  0.0090,  0.0064,  0.0365, -0.0055, -0.0123, -0.0123, -0.0047,\n",
      "        -0.0180,  0.0262,  0.0091,  0.0078,  0.0003, -0.0091, -0.0247,  0.0318,\n",
      "        -0.0323, -0.0224, -0.0357, -0.0227, -0.0267, -0.0121, -0.0129,  0.0328,\n",
      "        -0.0148, -0.0115,  0.0335,  0.0260,  0.0193,  0.0142,  0.0200, -0.0363,\n",
      "         0.0364, -0.0228,  0.0262,  0.0017, -0.0343,  0.0338,  0.0332, -0.0033,\n",
      "        -0.0342, -0.0317,  0.0270, -0.0168, -0.0043, -0.0048,  0.0164,  0.0084,\n",
      "        -0.0324,  0.0245, -0.0177,  0.0084, -0.0016, -0.0182,  0.0153,  0.0275,\n",
      "         0.0257,  0.0008, -0.0096,  0.0192,  0.0127, -0.0051, -0.0053,  0.0098,\n",
      "         0.0036, -0.0281, -0.0209,  0.0010, -0.0281,  0.0141, -0.0350,  0.0235,\n",
      "         0.0176, -0.0090,  0.0228, -0.0191,  0.0081, -0.0356,  0.0043,  0.0137,\n",
      "        -0.0358,  0.0234, -0.0193, -0.0260, -0.0032,  0.0111, -0.0191, -0.0137,\n",
      "         0.0346, -0.0230, -0.0324,  0.0133,  0.0044,  0.0105,  0.0029, -0.0234,\n",
      "        -0.0289, -0.0307,  0.0021,  0.0200], requires_grad=True))\n",
      "('layers.9.weight', Parameter containing:\n",
      "tensor([[-0.0215,  0.0335, -0.0243,  ..., -0.0084, -0.0129, -0.0072],\n",
      "        [ 0.0353, -0.0424,  0.0241,  ..., -0.0016, -0.0215, -0.0338],\n",
      "        [ 0.0089, -0.0169, -0.0250,  ...,  0.0304,  0.0282, -0.0258],\n",
      "        ...,\n",
      "        [-0.0441,  0.0184, -0.0287,  ...,  0.0164,  0.0212, -0.0221],\n",
      "        [-0.0283, -0.0237, -0.0160,  ...,  0.0279,  0.0379,  0.0218],\n",
      "        [-0.0031, -0.0252,  0.0156,  ..., -0.0317, -0.0166, -0.0250]],\n",
      "       requires_grad=True))\n",
      "('layers.9.bias', Parameter containing:\n",
      "tensor([-0.0405, -0.0240,  0.0019, -0.0241, -0.0022,  0.0197, -0.0239,  0.0359,\n",
      "         0.0299, -0.0306,  0.0216, -0.0107, -0.0406, -0.0301, -0.0125,  0.0368,\n",
      "         0.0376, -0.0041, -0.0009,  0.0279, -0.0033,  0.0004,  0.0042, -0.0234,\n",
      "         0.0152, -0.0333, -0.0305, -0.0442, -0.0397, -0.0427, -0.0201, -0.0384,\n",
      "         0.0096, -0.0105, -0.0403,  0.0276,  0.0100, -0.0171,  0.0008, -0.0427,\n",
      "         0.0084,  0.0249, -0.0287,  0.0320,  0.0152,  0.0217,  0.0383,  0.0354,\n",
      "        -0.0321,  0.0316,  0.0063,  0.0107,  0.0051, -0.0252,  0.0281, -0.0201,\n",
      "        -0.0222,  0.0224,  0.0199,  0.0228, -0.0260,  0.0338,  0.0008, -0.0232,\n",
      "        -0.0037,  0.0417,  0.0183, -0.0328, -0.0019, -0.0397, -0.0275, -0.0324,\n",
      "         0.0408,  0.0368, -0.0287,  0.0238,  0.0108, -0.0176, -0.0247,  0.0312,\n",
      "         0.0350, -0.0096,  0.0252, -0.0107,  0.0019,  0.0394, -0.0275,  0.0351,\n",
      "        -0.0377,  0.0113, -0.0033, -0.0419,  0.0212, -0.0272,  0.0183, -0.0255,\n",
      "         0.0145,  0.0161, -0.0360, -0.0330,  0.0338,  0.0076,  0.0156, -0.0324,\n",
      "         0.0432, -0.0371, -0.0063,  0.0069, -0.0131,  0.0267, -0.0291,  0.0013,\n",
      "        -0.0328, -0.0266,  0.0320,  0.0229,  0.0123, -0.0438, -0.0425, -0.0120,\n",
      "        -0.0430,  0.0239, -0.0176, -0.0008, -0.0331, -0.0095, -0.0344,  0.0268,\n",
      "         0.0265,  0.0105,  0.0412, -0.0380,  0.0422,  0.0136,  0.0272, -0.0181,\n",
      "         0.0281,  0.0102,  0.0065, -0.0129,  0.0282,  0.0242, -0.0326,  0.0129,\n",
      "         0.0003, -0.0271, -0.0366,  0.0287,  0.0445, -0.0241, -0.0017, -0.0147,\n",
      "         0.0125, -0.0056, -0.0191,  0.0052,  0.0215, -0.0014,  0.0309, -0.0063,\n",
      "        -0.0330, -0.0430, -0.0363, -0.0130,  0.0331,  0.0254, -0.0367,  0.0332,\n",
      "         0.0077, -0.0126,  0.0022,  0.0107,  0.0164, -0.0444,  0.0418,  0.0302,\n",
      "         0.0167,  0.0210,  0.0330, -0.0162, -0.0074, -0.0258,  0.0157,  0.0440,\n",
      "        -0.0217, -0.0240, -0.0413,  0.0420,  0.0317,  0.0330,  0.0170,  0.0245,\n",
      "         0.0325, -0.0212, -0.0406, -0.0207,  0.0083,  0.0191,  0.0184, -0.0008,\n",
      "        -0.0157,  0.0249, -0.0329, -0.0406,  0.0088, -0.0124, -0.0188,  0.0101,\n",
      "        -0.0341,  0.0093, -0.0419, -0.0315,  0.0242, -0.0165, -0.0084,  0.0424,\n",
      "        -0.0046, -0.0261,  0.0340,  0.0234,  0.0416,  0.0111,  0.0123, -0.0358,\n",
      "        -0.0419,  0.0107,  0.0111,  0.0102,  0.0115, -0.0160,  0.0444,  0.0064,\n",
      "         0.0252,  0.0390, -0.0415, -0.0135,  0.0397,  0.0062,  0.0118, -0.0004,\n",
      "         0.0407, -0.0037,  0.0258,  0.0378,  0.0391, -0.0224,  0.0131, -0.0168,\n",
      "         0.0291,  0.0175], requires_grad=True))\n",
      "('layers.10.weight', Parameter containing:\n",
      "tensor([[ 0.0536, -0.0358,  0.0384,  ..., -0.0006,  0.0479,  0.0568],\n",
      "        [ 0.0134, -0.0056,  0.0570,  ...,  0.0073,  0.0360,  0.0541],\n",
      "        [-0.0329, -0.0343, -0.0482,  ..., -0.0343,  0.0250, -0.0353],\n",
      "        ...,\n",
      "        [-0.0171,  0.0152, -0.0490,  ..., -0.0396, -0.0051, -0.0055],\n",
      "        [-0.0377, -0.0509,  0.0528,  ...,  0.0015,  0.0486, -0.0496],\n",
      "        [-0.0056, -0.0202, -0.0263,  ..., -0.0370,  0.0249, -0.0556]],\n",
      "       requires_grad=True))\n",
      "('layers.10.bias', Parameter containing:\n",
      "tensor([-1.9752e-02,  3.3140e-02,  3.6983e-02, -3.6128e-02,  4.5183e-02,\n",
      "         1.1351e-02,  5.9716e-02, -3.1177e-02, -3.6912e-02, -2.8831e-02,\n",
      "        -2.4628e-03, -3.1228e-02, -2.2614e-02,  4.6006e-02, -5.4595e-02,\n",
      "        -3.5159e-02, -1.7732e-02, -8.6145e-03, -5.4031e-02, -4.0989e-03,\n",
      "         4.0455e-02, -2.3363e-02, -1.8062e-02,  4.3124e-02,  4.8199e-02,\n",
      "         5.0515e-02, -3.5429e-02,  2.8320e-02, -4.7366e-02,  4.3834e-02,\n",
      "         6.3052e-02,  1.9501e-02, -2.5486e-02,  8.7173e-03, -6.1691e-02,\n",
      "         5.2991e-02, -3.8357e-02, -3.7148e-03, -5.8517e-02,  3.8426e-02,\n",
      "        -2.0621e-02,  4.6164e-02,  4.5907e-03, -5.2821e-02, -6.1924e-02,\n",
      "        -1.2398e-02, -6.1541e-02, -2.3769e-02, -2.3065e-02,  3.8984e-02,\n",
      "        -4.1139e-02,  3.1431e-02,  1.3581e-02,  6.0805e-02, -1.6963e-02,\n",
      "        -1.4174e-02, -4.2120e-02,  3.4702e-03,  6.1135e-02, -5.9115e-02,\n",
      "         2.5986e-02, -1.5352e-02, -1.9218e-02, -5.2840e-02,  1.0648e-02,\n",
      "         4.2642e-03,  3.8236e-02, -4.2291e-02, -1.4160e-02, -5.9523e-02,\n",
      "        -1.1200e-02, -1.2134e-02, -1.0971e-02, -3.0390e-02,  5.4099e-02,\n",
      "        -4.5843e-02,  1.7546e-02,  5.2357e-02, -2.8996e-02, -4.7258e-02,\n",
      "        -1.6930e-02, -6.0412e-02, -9.7629e-03,  6.2229e-02,  3.7222e-02,\n",
      "         2.3308e-02, -1.6120e-02,  3.2122e-02, -5.1978e-02,  5.9279e-02,\n",
      "        -1.5931e-02, -2.9465e-02, -8.4278e-03,  4.1520e-02,  9.6411e-03,\n",
      "        -1.5605e-02, -5.2618e-02, -7.7994e-03,  9.3102e-05,  3.7744e-02],\n",
      "       requires_grad=True))\n",
      "('layers.11.weight', Parameter containing:\n",
      "tensor([[-0.0289,  0.0417,  0.0976,  ...,  0.0051,  0.0389, -0.0823],\n",
      "        [-0.0280,  0.0169,  0.0522,  ...,  0.0360,  0.0874,  0.0220],\n",
      "        [-0.0401,  0.0517, -0.0781,  ...,  0.0626, -0.0455,  0.0616],\n",
      "        ...,\n",
      "        [-0.0841,  0.0144,  0.0819,  ...,  0.0511,  0.0700, -0.0635],\n",
      "        [-0.0564,  0.0285,  0.0436,  ..., -0.0302,  0.0110, -0.0188],\n",
      "        [ 0.0322,  0.0919,  0.0454,  ...,  0.0230, -0.0864, -0.0044]],\n",
      "       requires_grad=True))\n",
      "('layers.11.bias', Parameter containing:\n",
      "tensor([ 0.0052, -0.0464, -0.0661, -0.0430,  0.0490,  0.0583, -0.0862, -0.0964,\n",
      "        -0.0199, -0.0151,  0.0675, -0.0916, -0.0501, -0.0125,  0.0932,  0.0080,\n",
      "         0.0783, -0.0957,  0.0001,  0.0954,  0.0138, -0.0034,  0.0550,  0.0724,\n",
      "        -0.0599, -0.0163,  0.0160,  0.0155,  0.0569, -0.0146,  0.0201,  0.0921,\n",
      "        -0.0236, -0.0339, -0.0660,  0.0310,  0.0471,  0.0187, -0.0927,  0.0894,\n",
      "         0.0639,  0.0570, -0.0754, -0.0882,  0.0291, -0.0462, -0.0291,  0.0874,\n",
      "         0.0974, -0.0322,  0.0054, -0.0651,  0.0875,  0.0687, -0.0212, -0.0317,\n",
      "         0.0231,  0.0443,  0.0450,  0.0910,  0.0858,  0.0770, -0.0204,  0.0118,\n",
      "         0.0572,  0.0926, -0.0071, -0.0446,  0.0535, -0.0646,  0.0673,  0.0677,\n",
      "         0.0549, -0.0285, -0.0747], requires_grad=True))\n",
      "('layers.12.weight', Parameter containing:\n",
      "tensor([[ 0.0882,  0.0736, -0.1044,  ..., -0.0100,  0.0163, -0.1135],\n",
      "        [ 0.0422,  0.1153,  0.1133,  ...,  0.0775,  0.1041, -0.0061],\n",
      "        [-0.0327,  0.0264, -0.0517,  ..., -0.0773,  0.0858, -0.0145],\n",
      "        ...,\n",
      "        [-0.0394,  0.1086, -0.0011,  ...,  0.0738,  0.0184, -0.0085],\n",
      "        [-0.1008, -0.0861, -0.1127,  ...,  0.0402,  0.0161, -0.1036],\n",
      "        [-0.0780,  0.0094,  0.0180,  ..., -0.0555,  0.0362, -0.0072]],\n",
      "       requires_grad=True))\n",
      "('layers.12.bias', Parameter containing:\n",
      "tensor([-0.0248,  0.0076, -0.0676,  0.1006,  0.0811, -0.0836, -0.0544, -0.0278,\n",
      "         0.0628,  0.0558, -0.0101, -0.0057, -0.1078, -0.0457,  0.1099, -0.0402,\n",
      "        -0.0516, -0.0759, -0.0617, -0.0573,  0.0943, -0.0288,  0.0869, -0.0716,\n",
      "        -0.0020,  0.0228,  0.0612, -0.0613,  0.0398,  0.0618, -0.0679, -0.1129,\n",
      "         0.0711, -0.1014,  0.0530,  0.0979, -0.0860, -0.0344,  0.0765, -0.0624,\n",
      "        -0.0799, -0.1037, -0.0087,  0.1003, -0.0677,  0.0221, -0.0007,  0.0263,\n",
      "         0.0511, -0.0672], requires_grad=True))\n",
      "('layers.13.weight', Parameter containing:\n",
      "tensor([[ 0.1321, -0.1085, -0.1084,  ..., -0.0987, -0.0146,  0.0009],\n",
      "        [ 0.1004, -0.0372, -0.0384,  ...,  0.0195,  0.1294, -0.1109],\n",
      "        [ 0.0819,  0.0535,  0.0051,  ...,  0.0749,  0.0319,  0.0904],\n",
      "        ...,\n",
      "        [ 0.0726, -0.1039,  0.0023,  ...,  0.0165,  0.0649, -0.1285],\n",
      "        [-0.0390, -0.0697,  0.0419,  ..., -0.0765,  0.1411,  0.0998],\n",
      "        [ 0.1382, -0.1347,  0.0510,  ..., -0.0465,  0.0477,  0.0697]],\n",
      "       requires_grad=True))\n",
      "('layers.13.bias', Parameter containing:\n",
      "tensor([-0.1234,  0.0285, -0.0400,  0.1019, -0.0341,  0.1407, -0.0294, -0.0481,\n",
      "        -0.1185,  0.0888, -0.0033, -0.0029,  0.1050,  0.1069, -0.0115,  0.0417,\n",
      "        -0.0006,  0.1159, -0.0449,  0.0455, -0.0813,  0.0185,  0.0589, -0.1097,\n",
      "        -0.0737], requires_grad=True))\n",
      "('layers.14.weight', Parameter containing:\n",
      "tensor([[-1.6914e-01, -6.5946e-02,  7.8985e-03,  5.4674e-02, -1.3690e-01,\n",
      "         -5.0008e-04,  6.1620e-02, -1.0890e-01, -6.6161e-04,  2.8952e-02,\n",
      "         -1.5938e-01,  1.6884e-02,  9.6641e-02,  1.9486e-01, -1.4513e-01,\n",
      "         -3.4236e-02,  1.8935e-01,  5.1108e-02, -2.7061e-02,  1.5082e-01,\n",
      "          1.2271e-01,  1.6673e-01, -1.3504e-01, -1.1983e-01,  1.1034e-01],\n",
      "        [-1.5696e-01,  3.4006e-02,  2.3608e-02, -6.6709e-02,  3.1103e-02,\n",
      "         -7.0835e-02,  1.3880e-01, -5.8410e-02,  1.9279e-01,  1.2847e-01,\n",
      "          1.5374e-01,  1.4334e-01,  5.5958e-02, -1.5368e-01,  1.9768e-01,\n",
      "          5.3530e-02,  1.8364e-01, -1.3118e-01, -1.4837e-01, -1.3119e-01,\n",
      "          8.8279e-02,  4.8178e-02, -1.2018e-01, -5.5567e-02, -1.9560e-01],\n",
      "        [ 1.3262e-01, -1.1476e-01, -1.4468e-01, -4.5753e-02, -1.0514e-01,\n",
      "          1.4409e-02, -1.5267e-02, -1.9120e-01,  1.5042e-01, -6.6861e-02,\n",
      "         -6.5376e-03, -1.9796e-01,  1.0130e-01, -1.7119e-01, -2.8728e-02,\n",
      "          6.6441e-03, -9.1213e-02, -9.4316e-02,  1.0034e-01, -8.1260e-02,\n",
      "          1.8036e-01,  4.3239e-02, -1.6621e-01,  1.5539e-01, -1.7518e-01],\n",
      "        [-9.7615e-02,  1.4474e-01, -8.0203e-02,  1.0525e-01, -1.4393e-02,\n",
      "         -6.3957e-02,  8.4525e-02,  1.2073e-01, -1.2736e-01, -1.9461e-01,\n",
      "          8.2368e-02, -1.5512e-01, -2.5193e-02, -8.6863e-03,  1.7138e-01,\n",
      "          4.3154e-03, -1.2620e-01, -1.6242e-01,  1.2292e-01, -1.8645e-02,\n",
      "         -5.1529e-02, -7.4029e-02, -1.7692e-01,  1.9388e-01, -1.8142e-01],\n",
      "        [-1.2144e-01,  1.0639e-01,  5.1415e-02, -5.6342e-02,  3.7243e-02,\n",
      "         -2.6705e-02,  7.2233e-02, -1.7877e-02, -7.9398e-02,  1.5575e-01,\n",
      "          1.6294e-01, -2.2287e-02,  4.7327e-02,  5.6524e-02, -3.3944e-02,\n",
      "         -5.3525e-02, -3.5369e-02,  1.0936e-01,  1.8283e-01,  8.0041e-02,\n",
      "          6.7869e-02, -7.0590e-02,  9.3756e-02, -1.5179e-01,  7.0243e-02],\n",
      "        [-2.6337e-02, -7.4473e-02, -1.7183e-02, -1.3940e-01,  7.2189e-02,\n",
      "         -1.8051e-02, -1.0272e-01, -1.9734e-02,  1.9574e-01, -3.6438e-02,\n",
      "          1.1909e-01,  1.7677e-02, -5.6683e-02, -1.2717e-01, -1.5618e-01,\n",
      "         -1.2911e-01, -6.8992e-02,  7.4180e-02, -4.1018e-02,  7.6044e-02,\n",
      "          3.6288e-02, -9.4280e-02,  1.2144e-02, -1.3297e-01, -1.4058e-01],\n",
      "        [ 6.5693e-02,  1.9182e-01,  7.8338e-02,  7.0816e-02, -1.2497e-01,\n",
      "         -6.5816e-02, -5.2184e-02,  5.3826e-02,  7.8984e-02,  1.9375e-01,\n",
      "          4.6474e-02,  1.4250e-01, -1.7374e-01, -1.7747e-01,  1.0893e-01,\n",
      "         -3.5709e-02,  4.5477e-02,  1.0171e-01,  7.5657e-02, -1.6171e-02,\n",
      "          8.9524e-02,  2.4517e-02,  6.9084e-02,  1.0942e-01, -4.9144e-02],\n",
      "        [ 1.9664e-01,  1.4774e-01, -1.3310e-01, -1.4978e-01, -1.5496e-01,\n",
      "          7.5472e-02,  1.7836e-01, -1.9952e-01, -1.4328e-01,  1.3072e-01,\n",
      "         -2.8851e-02,  1.1275e-02, -8.8557e-02, -5.6912e-02,  1.9763e-02,\n",
      "         -3.1584e-02, -1.1033e-01,  1.7172e-01, -1.7416e-02, -1.2901e-01,\n",
      "         -1.2473e-02,  1.2761e-01,  1.3728e-01, -5.4179e-02, -9.8576e-02],\n",
      "        [-1.5887e-01,  7.7402e-02,  9.7261e-02, -1.2639e-01,  5.9372e-02,\n",
      "         -6.6966e-02, -1.2092e-01,  1.4964e-04, -1.5494e-01, -8.0650e-02,\n",
      "         -1.1242e-01,  1.3473e-01,  1.7714e-01, -1.5894e-01,  8.0763e-02,\n",
      "         -3.7768e-02,  2.1178e-02, -1.6782e-01, -1.3811e-01,  1.4595e-02,\n",
      "          1.9038e-02,  1.6441e-02, -1.4804e-01, -1.5445e-01,  9.9018e-02],\n",
      "        [-5.3792e-02, -1.9616e-01, -4.6688e-02, -1.5463e-01, -1.1788e-01,\n",
      "          5.0061e-02, -8.4570e-03, -6.9987e-02,  1.7212e-02, -9.6269e-02,\n",
      "         -3.0535e-02,  2.6653e-02,  2.9125e-02,  1.0831e-01, -1.6085e-01,\n",
      "         -6.1766e-02,  7.4688e-02,  1.5165e-01, -1.8780e-01,  1.5454e-01,\n",
      "         -6.3774e-02,  1.7325e-01,  3.6716e-02, -1.8216e-01, -1.8049e-01],\n",
      "        [ 1.4717e-01,  1.6876e-01, -9.7526e-02, -8.2236e-02,  7.8393e-02,\n",
      "          1.7086e-01, -6.9009e-02, -1.9371e-01,  1.8921e-01,  1.1563e-01,\n",
      "          1.1822e-01,  1.3149e-01, -1.4527e-01, -1.3045e-02, -1.4355e-01,\n",
      "         -1.0144e-01,  8.0985e-02,  8.7588e-02, -2.2766e-02, -1.3277e-03,\n",
      "          1.9411e-01,  5.9394e-02, -9.2523e-02,  1.4183e-01,  1.4350e-01],\n",
      "        [ 1.3592e-01, -1.9807e-01,  1.4742e-01, -1.2619e-01,  4.5918e-02,\n",
      "         -1.2344e-01,  1.5277e-01,  1.7316e-01,  1.0662e-01, -1.9690e-01,\n",
      "         -1.4113e-01, -1.6960e-01,  1.6812e-01, -1.6859e-01, -1.6988e-01,\n",
      "          1.5520e-01, -1.9658e-01,  1.1618e-01, -1.5816e-01, -1.6096e-01,\n",
      "         -1.3137e-01,  1.6188e-01, -1.4258e-01, -6.0181e-02,  4.5260e-02],\n",
      "        [ 7.1968e-02,  4.9139e-02,  1.1286e-01, -5.4972e-02, -6.2965e-02,\n",
      "          1.1246e-01, -1.2848e-01, -1.6288e-01,  1.9061e-01,  1.7483e-01,\n",
      "          8.3428e-02, -8.0943e-04, -1.2616e-01, -1.2961e-01, -1.0251e-01,\n",
      "         -1.7577e-01, -3.6528e-02,  7.2618e-02, -1.0295e-01, -1.7463e-01,\n",
      "          1.1248e-01,  8.6202e-02,  1.0870e-01,  1.1831e-01,  1.5263e-01],\n",
      "        [-1.5885e-01, -1.6189e-01,  6.9361e-02, -1.2607e-01, -6.9168e-02,\n",
      "          1.1939e-01, -3.8691e-02, -1.0331e-01,  1.0717e-01,  2.0297e-02,\n",
      "         -1.3610e-01, -1.2989e-01,  1.2964e-01,  4.2048e-03, -8.5539e-02,\n",
      "          7.6561e-03,  1.6605e-01,  7.1273e-02,  1.9473e-01,  6.1487e-03,\n",
      "         -1.3313e-01,  9.1309e-02, -4.3330e-02,  8.3455e-03, -1.2545e-01]],\n",
      "       requires_grad=True))\n",
      "('layers.14.bias', Parameter containing:\n",
      "tensor([-0.0725,  0.0854,  0.0522, -0.0865, -0.0673, -0.1671, -0.0374,  0.0807,\n",
      "         0.1760,  0.1483,  0.1248,  0.1904,  0.1761, -0.1113],\n",
      "       requires_grad=True))\n"
     ]
    }
   ],
   "source": [
    "for para in MODEL.named_parameters():\n",
    "    print(para)"
   ],
   "metadata": {
    "collapsed": false,
    "ExecuteTime": {
     "end_time": "2024-03-20T06:44:58.254880300Z",
     "start_time": "2024-03-20T06:44:58.166426500Z"
    }
   },
   "id": "46430c0ee502cd79",
   "execution_count": 139
  },
  {
   "cell_type": "markdown",
   "source": [
    "(7) 함수 정의 (학습, 검증, 테스트)"
   ],
   "metadata": {
    "collapsed": false
   },
   "id": "469b5d1d83ac0388"
  },
  {
   "cell_type": "code",
   "outputs": [
    {
     "name": "stdout",
     "output_type": "stream",
     "text": [
      "model => 2305169327920\n"
     ]
    }
   ],
   "source": [
    " print(f'model => {id(MODEL)}')"
   ],
   "metadata": {
    "collapsed": false,
    "ExecuteTime": {
     "end_time": "2024-03-20T06:22:12.768266800Z",
     "start_time": "2024-03-20T06:22:12.726181400Z"
    }
   },
   "id": "bc3473df367b4c54",
   "execution_count": 115
  },
  {
   "cell_type": "code",
   "outputs": [],
   "source": [
    "import torchmetrics.functional as metrics"
   ],
   "metadata": {
    "collapsed": false,
    "ExecuteTime": {
     "end_time": "2024-03-20T06:22:13.049980200Z",
     "start_time": "2024-03-20T06:22:13.017022200Z"
    }
   },
   "id": "7ba8cefca4ca46cb",
   "execution_count": 116
  },
  {
   "cell_type": "code",
   "outputs": [],
   "source": [
    "### 학습 진행함수\n",
    "def training(device, epoch, model, dataLoader, optimizer, loss_fn, classes):\n",
    "    print(f'model => {id(model)}')\n",
    "    # 학습모드\n",
    "    model.train()\n",
    "\n",
    "    # 배치크기만큼 학습진행 및 저장\n",
    "    train_report = [[], [], []] # loss, acc, f1\n",
    "    for idx, (feature, target) in enumerate(dataLoader):\n",
    "        # 배치크기만큼의 학습 데이터 준비\n",
    "        # 입력된 device로 이동한 텐서 반환(복사본)\n",
    "        feature, target = feature.to(device), target.to(device)\n",
    "\n",
    "        # 배치크기만큼 학습\n",
    "        pre_target = model(feature)\n",
    "        # print(pre_target)\n",
    "\n",
    "        # 손실계산\n",
    "        loss = loss_fn(pre_target, target)\n",
    "        train_report[0].append(loss)\n",
    "\n",
    "        # 성능 평가\n",
    "        acc = metrics.accuracy(pre_target, target, task='multiclass', num_classes=classes)\n",
    "        train_report[1].append(acc)\n",
    "        # print(pre_target.argmax(dim=1)[:10], target[:10], sep='\\n')\n",
    "        \n",
    "        # f1-score\n",
    "        f1 = metrics.f1_score(pre_target, target, task='multiclass', num_classes=classes)\n",
    "        train_report[2].append(f1)\n",
    "\n",
    "        # W, b 업데이트\n",
    "        optimizer.zero_grad()\n",
    "        loss.backward()\n",
    "        optimizer.step()\n",
    "\n",
    "        if not idx % 50: print('.', end='')\n",
    "\n",
    "    # 에포크 단위 학습 진행 메시지 출력\n",
    "    # 에포크 단위 학습 진행 메시지 출력\n",
    "    loss_score = (sum(train_report[0])/BATCH_SIZE).item()\n",
    "    acc_score = (sum(train_report[1])/BATCH_SIZE).item()\n",
    "    f1_score = (sum(train_report[2])/BATCH_SIZE).item()\n",
    "    print(f'\\n[{epoch+1} Train ] Loss ==> {loss_score:.3f} Acc ==> {acc_score:.3f} F1 ==> {f1_score:.3f}')\n",
    "    \n",
    "    return loss_score, acc_score, f1_score"
   ],
   "metadata": {
    "collapsed": false,
    "ExecuteTime": {
     "end_time": "2024-03-20T06:45:08.005422Z",
     "start_time": "2024-03-20T06:45:07.976121900Z"
    }
   },
   "id": "72e27df4f6539c4",
   "execution_count": 140
  },
  {
   "cell_type": "code",
   "outputs": [
    {
     "name": "stdout",
     "output_type": "stream",
     "text": [
      "model => 2305179253632\n",
      ".\n",
      "[11 Train ] Loss ==> 0.211 Acc ==> 0.006 F1 ==> 0.006\n"
     ]
    },
    {
     "data": {
      "text/plain": "(0.2113392949104309, 0.005777777638286352, 0.005777777638286352)"
     },
     "execution_count": 141,
     "metadata": {},
     "output_type": "execute_result"
    }
   ],
   "source": [
    "training(DEVICE, 10, MODEL, TRAIN_DL, OPTIMIZER, LOSS_FN, CLASSES)    "
   ],
   "metadata": {
    "collapsed": false,
    "ExecuteTime": {
     "end_time": "2024-03-20T06:45:12.055832200Z",
     "start_time": "2024-03-20T06:45:08.498525700Z"
    }
   },
   "id": "12d01d40bf87f9fc",
   "execution_count": 141
  },
  {
   "cell_type": "code",
   "outputs": [],
   "source": [
    "### 검증 및 테스트 진행함수\n",
    "def testing(device, epoch, model, dataLoader, loss_fn, classes, kind='valid'):\n",
    "    # 테스트 모드\n",
    "    model.eval()\n",
    "    \n",
    "    with torch.no_grad():\n",
    "        # 배치크기 만큼의 테스트 데이터 준비\n",
    "        test_report = [[], [], []]\n",
    "        for idx, (feature, target) in enumerate(dataLoader):\n",
    "            # 배치크기만큼의 테스트 데이터 준비\n",
    "            feature, target = feature.to(device), target.to(device)\n",
    "            \n",
    "            # 학습\n",
    "            pre_target = model(feature)\n",
    "            # print('pre_target.shape',pre_target.shape)\n",
    "            # print('target', target.shape)\n",
    "            # print(pre_target)\n",
    "            print(pre_target.argmax(dim=1))\n",
    "            \n",
    "            # 손실계산\n",
    "            loss = loss_fn(pre_target, target)\n",
    "            test_report[0].append(loss)\n",
    "            \n",
    "            # 성능 평가\n",
    "            acc = metrics.accuracy(pre_target, target, task='multiclass', num_classes=classes)\n",
    "            test_report[1].append(acc)\n",
    "            \n",
    "            #f1-score\n",
    "            f1 = metrics.f1_score(pre_target, target, task='multiclass', num_classes=classes)\n",
    "            test_report[2].append(f1)\n",
    "    \n",
    "    testing_type = 'Valid' if kind == 'valid' else 'Test'\n",
    "    \n",
    "    # 에포크 단위 학습 진행 메시지 출력\n",
    "    loss_score = (sum(test_report[0])/BATCH_SIZE).item()\n",
    "    acc_score = (sum(test_report[1])/BATCH_SIZE).item()\n",
    "    f1_score = (sum(test_report[2])/BATCH_SIZE).item() \n",
    "    print(f'[{epoch+1} {testing_type} ] Loss ==> {loss_score:.3f} Acc ==> {acc_score:.3f} F1 ==> {f1_score:.3f}\\n')\n",
    "    \n",
    "    return loss_score, acc_score, f1_score"
   ],
   "metadata": {
    "collapsed": false,
    "ExecuteTime": {
     "end_time": "2024-03-20T06:45:56.229799400Z",
     "start_time": "2024-03-20T06:45:56.207031700Z"
    }
   },
   "id": "e7b0bfb512e16232",
   "execution_count": 142
  },
  {
   "cell_type": "code",
   "outputs": [
    {
     "name": "stdout",
     "output_type": "stream",
     "text": [
      "tensor([12, 12, 12, 12, 12, 12, 12, 12, 12, 12, 12, 12, 12, 12, 12, 12, 12, 12,\n",
      "        12, 12, 12, 12, 12, 12, 12, 12, 12, 12, 12, 12, 12, 12, 12, 12, 12, 12,\n",
      "        12, 12, 12, 12, 12, 12, 12, 12, 12, 12, 12, 12, 12, 12, 12, 12, 12, 12,\n",
      "        12, 12, 12, 12, 12, 12, 12, 12, 12, 12, 12, 12, 12, 12, 12, 12, 12, 12,\n",
      "        12, 12, 12, 12, 12, 12, 12, 12, 12, 12, 12, 12, 12, 12, 12, 12, 12, 12,\n",
      "        12, 12, 12, 12, 12, 12, 12, 12, 12, 12, 12, 12, 12, 12, 12, 12, 12, 12,\n",
      "        12, 12, 12, 12, 12, 12, 12, 12, 12, 12, 12, 12, 12, 12, 12, 12, 12, 12,\n",
      "        12, 12, 12, 12, 12, 12, 12, 12, 12, 12, 12, 12, 12, 12, 12, 12, 12, 12,\n",
      "        12, 12, 12, 12, 12, 12])\n",
      "tensor([12, 12, 12, 12, 12, 12, 12, 12, 12, 12, 12, 12, 12, 12, 12, 12, 12, 12,\n",
      "        12, 12, 12, 12, 12, 12, 12, 12, 12, 12, 12, 12, 12, 12, 12, 12, 12, 12,\n",
      "        12, 12, 12, 12, 12, 12, 12, 12, 12, 12, 12, 12, 12, 12, 12, 12, 12, 12,\n",
      "        12, 12, 12, 12, 12, 12, 12, 12, 12, 12, 12, 12, 12, 12, 12, 12, 12, 12,\n",
      "        12, 12, 12, 12, 12, 12, 12, 12, 12, 12, 12, 12, 12, 12, 12, 12, 12, 12,\n",
      "        12, 12, 12, 12, 12, 12, 12, 12, 12, 12, 12, 12, 12, 12, 12, 12, 12, 12,\n",
      "        12, 12, 12])\n",
      "[11 Valid ] Loss ==> 0.035 Acc ==> 0.001 F1 ==> 0.001\n"
     ]
    },
    {
     "data": {
      "text/plain": "(0.03517653048038483, 0.0014498498057946563, 0.0014498498057946563)"
     },
     "execution_count": 143,
     "metadata": {},
     "output_type": "execute_result"
    }
   ],
   "source": [
    "testing(DEVICE, 10, MODEL, VALID_DL, LOSS_FN, OUT_DIM)"
   ],
   "metadata": {
    "collapsed": false,
    "ExecuteTime": {
     "end_time": "2024-03-20T06:45:58.603560Z",
     "start_time": "2024-03-20T06:45:58.361970900Z"
    }
   },
   "id": "b93612cea914a419",
   "execution_count": 143
  },
  {
   "cell_type": "markdown",
   "source": [
    "(8) 학습 진행, 학습 성능평가"
   ],
   "metadata": {
    "collapsed": false
   },
   "id": "5acc3c073a442f46"
  },
  {
   "cell_type": "code",
   "outputs": [
    {
     "name": "stdout",
     "output_type": "stream",
     "text": [
      "[Epoch 1/10] model => 2305179253632\n",
      ".\n",
      "[1 Train ] Loss ==> 0.211 Acc ==> 0.006 F1 ==> 0.006\n",
      "tensor([12, 12, 12, 12, 12, 12, 12, 12, 12, 12, 12, 12, 12, 12, 12, 12, 12, 12,\n",
      "        12, 12, 12, 12, 12, 12, 12, 12, 12, 12, 12, 12, 12, 12, 12, 12, 12, 12,\n",
      "        12, 12, 12, 12, 12, 12, 12, 12, 12, 12, 12, 12, 12, 12, 12, 12, 12, 12,\n",
      "        12, 12, 12, 12, 12, 12, 12, 12, 12, 12, 12, 12, 12, 12, 12, 12, 12, 12,\n",
      "        12, 12, 12, 12, 12, 12, 12, 12, 12, 12, 12, 12, 12, 12, 12, 12, 12, 12,\n",
      "        12, 12, 12, 12, 12, 12, 12, 12, 12, 12, 12, 12, 12, 12, 12, 12, 12, 12,\n",
      "        12, 12, 12, 12, 12, 12, 12, 12, 12, 12, 12, 12, 12, 12, 12, 12, 12, 12,\n",
      "        12, 12, 12, 12, 12, 12, 12, 12, 12, 12, 12, 12, 12, 12, 12, 12, 12, 12,\n",
      "        12, 12, 12, 12, 12, 12])\n",
      "tensor([12, 12, 12, 12, 12, 12, 12, 12, 12, 12, 12, 12, 12, 12, 12, 12, 12, 12,\n",
      "        12, 12, 12, 12, 12, 12, 12, 12, 12, 12, 12, 12, 12, 12, 12, 12, 12, 12,\n",
      "        12, 12, 12, 12, 12, 12, 12, 12, 12, 12, 12, 12, 12, 12, 12, 12, 12, 12,\n",
      "        12, 12, 12, 12, 12, 12, 12, 12, 12, 12, 12, 12, 12, 12, 12, 12, 12, 12,\n",
      "        12, 12, 12, 12, 12, 12, 12, 12, 12, 12, 12, 12, 12, 12, 12, 12, 12, 12,\n",
      "        12, 12, 12, 12, 12, 12, 12, 12, 12, 12, 12, 12, 12, 12, 12, 12, 12, 12,\n",
      "        12, 12, 12])\n",
      "[1 Valid ] Loss ==> 0.035 Acc ==> 0.001 F1 ==> 0.001\n",
      "SAVED\n",
      "\n",
      "[Epoch 2/10] model => 2305179253632\n",
      ".\n",
      "[2 Train ] Loss ==> 0.211 Acc ==> 0.006 F1 ==> 0.006\n",
      "tensor([12, 12, 12, 12, 12, 12, 12, 12, 12, 12, 12, 12, 12, 12, 12, 12, 12, 12,\n",
      "        12, 12, 12, 12, 12, 12, 12, 12, 12, 12, 12, 12, 12, 12, 12, 12, 12, 12,\n",
      "        12, 12, 12, 12, 12, 12, 12, 12, 12, 12, 12, 12, 12, 12, 12, 12, 12, 12,\n",
      "        12, 12, 12, 12, 12, 12, 12, 12, 12, 12, 12, 12, 12, 12, 12, 12, 12, 12,\n",
      "        12, 12, 12, 12, 12, 12, 12, 12, 12, 12, 12, 12, 12, 12, 12, 12, 12, 12,\n",
      "        12, 12, 12, 12, 12, 12, 12, 12, 12, 12, 12, 12, 12, 12, 12, 12, 12, 12,\n",
      "        12, 12, 12, 12, 12, 12, 12, 12, 12, 12, 12, 12, 12, 12, 12, 12, 12, 12,\n",
      "        12, 12, 12, 12, 12, 12, 12, 12, 12, 12, 12, 12, 12, 12, 12, 12, 12, 12,\n",
      "        12, 12, 12, 12, 12, 12])\n",
      "tensor([12, 12, 12, 12, 12, 12, 12, 12, 12, 12, 12, 12, 12, 12, 12, 12, 12, 12,\n",
      "        12, 12, 12, 12, 12, 12, 12, 12, 12, 12, 12, 12, 12, 12, 12, 12, 12, 12,\n",
      "        12, 12, 12, 12, 12, 12, 12, 12, 12, 12, 12, 12, 12, 12, 12, 12, 12, 12,\n",
      "        12, 12, 12, 12, 12, 12, 12, 12, 12, 12, 12, 12, 12, 12, 12, 12, 12, 12,\n",
      "        12, 12, 12, 12, 12, 12, 12, 12, 12, 12, 12, 12, 12, 12, 12, 12, 12, 12,\n",
      "        12, 12, 12, 12, 12, 12, 12, 12, 12, 12, 12, 12, 12, 12, 12, 12, 12, 12,\n",
      "        12, 12, 12])\n",
      "[2 Valid ] Loss ==> 0.035 Acc ==> 0.001 F1 ==> 0.001\n",
      "SAVED\n",
      "\n",
      "[Epoch 3/10] model => 2305179253632\n",
      ".\n",
      "[3 Train ] Loss ==> 0.211 Acc ==> 0.006 F1 ==> 0.006\n",
      "tensor([12, 12, 12, 12, 12, 12, 12, 12, 12, 12, 12, 12, 12, 12, 12, 12, 12, 12,\n",
      "        12, 12, 12, 12, 12, 12, 12, 12, 12, 12, 12, 12, 12, 12, 12, 12, 12, 12,\n",
      "        12, 12, 12, 12, 12, 12, 12, 12, 12, 12, 12, 12, 12, 12, 12, 12, 12, 12,\n",
      "        12, 12, 12, 12, 12, 12, 12, 12, 12, 12, 12, 12, 12, 12, 12, 12, 12, 12,\n",
      "        12, 12, 12, 12, 12, 12, 12, 12, 12, 12, 12, 12, 12, 12, 12, 12, 12, 12,\n",
      "        12, 12, 12, 12, 12, 12, 12, 12, 12, 12, 12, 12, 12, 12, 12, 12, 12, 12,\n",
      "        12, 12, 12, 12, 12, 12, 12, 12, 12, 12, 12, 12, 12, 12, 12, 12, 12, 12,\n",
      "        12, 12, 12, 12, 12, 12, 12, 12, 12, 12, 12, 12, 12, 12, 12, 12, 12, 12,\n",
      "        12, 12, 12, 12, 12, 12])\n",
      "tensor([12, 12, 12, 12, 12, 12, 12, 12, 12, 12, 12, 12, 12, 12, 12, 12, 12, 12,\n",
      "        12, 12, 12, 12, 12, 12, 12, 12, 12, 12, 12, 12, 12, 12, 12, 12, 12, 12,\n",
      "        12, 12, 12, 12, 12, 12, 12, 12, 12, 12, 12, 12, 12, 12, 12, 12, 12, 12,\n",
      "        12, 12, 12, 12, 12, 12, 12, 12, 12, 12, 12, 12, 12, 12, 12, 12, 12, 12,\n",
      "        12, 12, 12, 12, 12, 12, 12, 12, 12, 12, 12, 12, 12, 12, 12, 12, 12, 12,\n",
      "        12, 12, 12, 12, 12, 12, 12, 12, 12, 12, 12, 12, 12, 12, 12, 12, 12, 12,\n",
      "        12, 12, 12])\n",
      "[3 Valid ] Loss ==> 0.035 Acc ==> 0.001 F1 ==> 0.001\n",
      "\n",
      "[Epoch 4/10] model => 2305179253632\n",
      ".\n",
      "[4 Train ] Loss ==> 0.211 Acc ==> 0.006 F1 ==> 0.006\n",
      "tensor([12, 12, 12, 12, 12, 12, 12, 12, 12, 12, 12, 12, 12, 12, 12, 12, 12, 12,\n",
      "        12, 12, 12, 12, 12, 12, 12, 12, 12, 12, 12, 12, 12, 12, 12, 12, 12, 12,\n",
      "        12, 12, 12, 12, 12, 12, 12, 12, 12, 12, 12, 12, 12, 12, 12, 12, 12, 12,\n",
      "        12, 12, 12, 12, 12, 12, 12, 12, 12, 12, 12, 12, 12, 12, 12, 12, 12, 12,\n",
      "        12, 12, 12, 12, 12, 12, 12, 12, 12, 12, 12, 12, 12, 12, 12, 12, 12, 12,\n",
      "        12, 12, 12, 12, 12, 12, 12, 12, 12, 12, 12, 12, 12, 12, 12, 12, 12, 12,\n",
      "        12, 12, 12, 12, 12, 12, 12, 12, 12, 12, 12, 12, 12, 12, 12, 12, 12, 12,\n",
      "        12, 12, 12, 12, 12, 12, 12, 12, 12, 12, 12, 12, 12, 12, 12, 12, 12, 12,\n",
      "        12, 12, 12, 12, 12, 12])\n",
      "tensor([12, 12, 12, 12, 12, 12, 12, 12, 12, 12, 12, 12, 12, 12, 12, 12, 12, 12,\n",
      "        12, 12, 12, 12, 12, 12, 12, 12, 12, 12, 12, 12, 12, 12, 12, 12, 12, 12,\n",
      "        12, 12, 12, 12, 12, 12, 12, 12, 12, 12, 12, 12, 12, 12, 12, 12, 12, 12,\n",
      "        12, 12, 12, 12, 12, 12, 12, 12, 12, 12, 12, 12, 12, 12, 12, 12, 12, 12,\n",
      "        12, 12, 12, 12, 12, 12, 12, 12, 12, 12, 12, 12, 12, 12, 12, 12, 12, 12,\n",
      "        12, 12, 12, 12, 12, 12, 12, 12, 12, 12, 12, 12, 12, 12, 12, 12, 12, 12,\n",
      "        12, 12, 12])\n",
      "[4 Valid ] Loss ==> 0.035 Acc ==> 0.001 F1 ==> 0.001\n",
      "\n",
      "[Epoch 5/10] model => 2305179253632\n",
      ".\n",
      "[5 Train ] Loss ==> 0.211 Acc ==> 0.006 F1 ==> 0.006\n",
      "tensor([12, 12, 12, 12, 12, 12, 12, 12, 12, 12, 12, 12, 12, 12, 12, 12, 12, 12,\n",
      "        12, 12, 12, 12, 12, 12, 12, 12, 12, 12, 12, 12, 12, 12, 12, 12, 12, 12,\n",
      "        12, 12, 12, 12, 12, 12, 12, 12, 12, 12, 12, 12, 12, 12, 12, 12, 12, 12,\n",
      "        12, 12, 12, 12, 12, 12, 12, 12, 12, 12, 12, 12, 12, 12, 12, 12, 12, 12,\n",
      "        12, 12, 12, 12, 12, 12, 12, 12, 12, 12, 12, 12, 12, 12, 12, 12, 12, 12,\n",
      "        12, 12, 12, 12, 12, 12, 12, 12, 12, 12, 12, 12, 12, 12, 12, 12, 12, 12,\n",
      "        12, 12, 12, 12, 12, 12, 12, 12, 12, 12, 12, 12, 12, 12, 12, 12, 12, 12,\n",
      "        12, 12, 12, 12, 12, 12, 12, 12, 12, 12, 12, 12, 12, 12, 12, 12, 12, 12,\n",
      "        12, 12, 12, 12, 12, 12])\n",
      "tensor([12, 12, 12, 12, 12, 12, 12, 12, 12, 12, 12, 12, 12, 12, 12, 12, 12, 12,\n",
      "        12, 12, 12, 12, 12, 12, 12, 12, 12, 12, 12, 12, 12, 12, 12, 12, 12, 12,\n",
      "        12, 12, 12, 12, 12, 12, 12, 12, 12, 12, 12, 12, 12, 12, 12, 12, 12, 12,\n",
      "        12, 12, 12, 12, 12, 12, 12, 12, 12, 12, 12, 12, 12, 12, 12, 12, 12, 12,\n",
      "        12, 12, 12, 12, 12, 12, 12, 12, 12, 12, 12, 12, 12, 12, 12, 12, 12, 12,\n",
      "        12, 12, 12, 12, 12, 12, 12, 12, 12, 12, 12, 12, 12, 12, 12, 12, 12, 12,\n",
      "        12, 12, 12])\n",
      "[5 Valid ] Loss ==> 0.035 Acc ==> 0.001 F1 ==> 0.001\n",
      "\n",
      "[Epoch 6/10] model => 2305179253632\n",
      ".\n",
      "[6 Train ] Loss ==> 0.211 Acc ==> 0.006 F1 ==> 0.006\n",
      "tensor([12, 12, 12, 12, 12, 12, 12, 12, 12, 12, 12, 12, 12, 12, 12, 12, 12, 12,\n",
      "        12, 12, 12, 12, 12, 12, 12, 12, 12, 12, 12, 12, 12, 12, 12, 12, 12, 12,\n",
      "        12, 12, 12, 12, 12, 12, 12, 12, 12, 12, 12, 12, 12, 12, 12, 12, 12, 12,\n",
      "        12, 12, 12, 12, 12, 12, 12, 12, 12, 12, 12, 12, 12, 12, 12, 12, 12, 12,\n",
      "        12, 12, 12, 12, 12, 12, 12, 12, 12, 12, 12, 12, 12, 12, 12, 12, 12, 12,\n",
      "        12, 12, 12, 12, 12, 12, 12, 12, 12, 12, 12, 12, 12, 12, 12, 12, 12, 12,\n",
      "        12, 12, 12, 12, 12, 12, 12, 12, 12, 12, 12, 12, 12, 12, 12, 12, 12, 12,\n",
      "        12, 12, 12, 12, 12, 12, 12, 12, 12, 12, 12, 12, 12, 12, 12, 12, 12, 12,\n",
      "        12, 12, 12, 12, 12, 12])\n",
      "tensor([12, 12, 12, 12, 12, 12, 12, 12, 12, 12, 12, 12, 12, 12, 12, 12, 12, 12,\n",
      "        12, 12, 12, 12, 12, 12, 12, 12, 12, 12, 12, 12, 12, 12, 12, 12, 12, 12,\n",
      "        12, 12, 12, 12, 12, 12, 12, 12, 12, 12, 12, 12, 12, 12, 12, 12, 12, 12,\n",
      "        12, 12, 12, 12, 12, 12, 12, 12, 12, 12, 12, 12, 12, 12, 12, 12, 12, 12,\n",
      "        12, 12, 12, 12, 12, 12, 12, 12, 12, 12, 12, 12, 12, 12, 12, 12, 12, 12,\n",
      "        12, 12, 12, 12, 12, 12, 12, 12, 12, 12, 12, 12, 12, 12, 12, 12, 12, 12,\n",
      "        12, 12, 12])\n",
      "[6 Valid ] Loss ==> 0.035 Acc ==> 0.001 F1 ==> 0.001\n",
      "\n",
      "[Epoch 7/10] model => 2305179253632\n",
      ".\n",
      "[7 Train ] Loss ==> 0.211 Acc ==> 0.006 F1 ==> 0.006\n",
      "tensor([12, 12, 12, 12, 12, 12, 12, 12, 12, 12, 12, 12, 12, 12, 12, 12, 12, 12,\n",
      "        12, 12, 12, 12, 12, 12, 12, 12, 12, 12, 12, 12, 12, 12, 12, 12, 12, 12,\n",
      "        12, 12, 12, 12, 12, 12, 12, 12, 12, 12, 12, 12, 12, 12, 12, 12, 12, 12,\n",
      "        12, 12, 12, 12, 12, 12, 12, 12, 12, 12, 12, 12, 12, 12, 12, 12, 12, 12,\n",
      "        12, 12, 12, 12, 12, 12, 12, 12, 12, 12, 12, 12, 12, 12, 12, 12, 12, 12,\n",
      "        12, 12, 12, 12, 12, 12, 12, 12, 12, 12, 12, 12, 12, 12, 12, 12, 12, 12,\n",
      "        12, 12, 12, 12, 12, 12, 12, 12, 12, 12, 12, 12, 12, 12, 12, 12, 12, 12,\n",
      "        12, 12, 12, 12, 12, 12, 12, 12, 12, 12, 12, 12, 12, 12, 12, 12, 12, 12,\n",
      "        12, 12, 12, 12, 12, 12])\n",
      "tensor([12, 12, 12, 12, 12, 12, 12, 12, 12, 12, 12, 12, 12, 12, 12, 12, 12, 12,\n",
      "        12, 12, 12, 12, 12, 12, 12, 12, 12, 12, 12, 12, 12, 12, 12, 12, 12, 12,\n",
      "        12, 12, 12, 12, 12, 12, 12, 12, 12, 12, 12, 12, 12, 12, 12, 12, 12, 12,\n",
      "        12, 12, 12, 12, 12, 12, 12, 12, 12, 12, 12, 12, 12, 12, 12, 12, 12, 12,\n",
      "        12, 12, 12, 12, 12, 12, 12, 12, 12, 12, 12, 12, 12, 12, 12, 12, 12, 12,\n",
      "        12, 12, 12, 12, 12, 12, 12, 12, 12, 12, 12, 12, 12, 12, 12, 12, 12, 12,\n",
      "        12, 12, 12])\n",
      "[7 Valid ] Loss ==> 0.035 Acc ==> 0.001 F1 ==> 0.001\n",
      "\n",
      "[Epoch 8/10] model => 2305179253632\n",
      ".\n",
      "[8 Train ] Loss ==> 0.211 Acc ==> 0.006 F1 ==> 0.006\n",
      "tensor([12, 12, 12, 12, 12, 12, 12, 12, 12, 12, 12, 12, 12, 12, 12, 12, 12, 12,\n",
      "        12, 12, 12, 12, 12, 12, 12, 12, 12, 12, 12, 12, 12, 12, 12, 12, 12, 12,\n",
      "        12, 12, 12, 12, 12, 12, 12, 12, 12, 12, 12, 12, 12, 12, 12, 12, 12, 12,\n",
      "        12, 12, 12, 12, 12, 12, 12, 12, 12, 12, 12, 12, 12, 12, 12, 12, 12, 12,\n",
      "        12, 12, 12, 12, 12, 12, 12, 12, 12, 12, 12, 12, 12, 12, 12, 12, 12, 12,\n",
      "        12, 12, 12, 12, 12, 12, 12, 12, 12, 12, 12, 12, 12, 12, 12, 12, 12, 12,\n",
      "        12, 12, 12, 12, 12, 12, 12, 12, 12, 12, 12, 12, 12, 12, 12, 12, 12, 12,\n",
      "        12, 12, 12, 12, 12, 12, 12, 12, 12, 12, 12, 12, 12, 12, 12, 12, 12, 12,\n",
      "        12, 12, 12, 12, 12, 12])\n",
      "tensor([12, 12, 12, 12, 12, 12, 12, 12, 12, 12, 12, 12, 12, 12, 12, 12, 12, 12,\n",
      "        12, 12, 12, 12, 12, 12, 12, 12, 12, 12, 12, 12, 12, 12, 12, 12, 12, 12,\n",
      "        12, 12, 12, 12, 12, 12, 12, 12, 12, 12, 12, 12, 12, 12, 12, 12, 12, 12,\n",
      "        12, 12, 12, 12, 12, 12, 12, 12, 12, 12, 12, 12, 12, 12, 12, 12, 12, 12,\n",
      "        12, 12, 12, 12, 12, 12, 12, 12, 12, 12, 12, 12, 12, 12, 12, 12, 12, 12,\n",
      "        12, 12, 12, 12, 12, 12, 12, 12, 12, 12, 12, 12, 12, 12, 12, 12, 12, 12,\n",
      "        12, 12, 12])\n",
      "[8 Valid ] Loss ==> 0.035 Acc ==> 0.001 F1 ==> 0.001\n",
      "SAVED\n",
      "\n",
      "[Epoch 9/10] model => 2305179253632\n",
      ".\n",
      "[9 Train ] Loss ==> 0.211 Acc ==> 0.006 F1 ==> 0.006\n",
      "tensor([12, 12, 12, 12, 12, 12, 12, 12, 12, 12, 12, 12, 12, 12, 12, 12, 12, 12,\n",
      "        12, 12, 12, 12, 12, 12, 12, 12, 12, 12, 12, 12, 12, 12, 12, 12, 12, 12,\n",
      "        12, 12, 12, 12, 12, 12, 12, 12, 12, 12, 12, 12, 12, 12, 12, 12, 12, 12,\n",
      "        12, 12, 12, 12, 12, 12, 12, 12, 12, 12, 12, 12, 12, 12, 12, 12, 12, 12,\n",
      "        12, 12, 12, 12, 12, 12, 12, 12, 12, 12, 12, 12, 12, 12, 12, 12, 12, 12,\n",
      "        12, 12, 12, 12, 12, 12, 12, 12, 12, 12, 12, 12, 12, 12, 12, 12, 12, 12,\n",
      "        12, 12, 12, 12, 12, 12, 12, 12, 12, 12, 12, 12, 12, 12, 12, 12, 12, 12,\n",
      "        12, 12, 12, 12, 12, 12, 12, 12, 12, 12, 12, 12, 12, 12, 12, 12, 12, 12,\n",
      "        12, 12, 12, 12, 12, 12])\n",
      "tensor([12, 12, 12, 12, 12, 12, 12, 12, 12, 12, 12, 12, 12, 12, 12, 12, 12, 12,\n",
      "        12, 12, 12, 12, 12, 12, 12, 12, 12, 12, 12, 12, 12, 12, 12, 12, 12, 12,\n",
      "        12, 12, 12, 12, 12, 12, 12, 12, 12, 12, 12, 12, 12, 12, 12, 12, 12, 12,\n",
      "        12, 12, 12, 12, 12, 12, 12, 12, 12, 12, 12, 12, 12, 12, 12, 12, 12, 12,\n",
      "        12, 12, 12, 12, 12, 12, 12, 12, 12, 12, 12, 12, 12, 12, 12, 12, 12, 12,\n",
      "        12, 12, 12, 12, 12, 12, 12, 12, 12, 12, 12, 12, 12, 12, 12, 12, 12, 12,\n",
      "        12, 12, 12])\n",
      "[9 Valid ] Loss ==> 0.035 Acc ==> 0.001 F1 ==> 0.001\n",
      "\n",
      "[Epoch 10/10] model => 2305179253632\n",
      ".\n",
      "[10 Train ] Loss ==> 0.211 Acc ==> 0.006 F1 ==> 0.006\n",
      "tensor([12, 12, 12, 12, 12, 12, 12, 12, 12, 12, 12, 12, 12, 12, 12, 12, 12, 12,\n",
      "        12, 12, 12, 12, 12, 12, 12, 12, 12, 12, 12, 12, 12, 12, 12, 12, 12, 12,\n",
      "        12, 12, 12, 12, 12, 12, 12, 12, 12, 12, 12, 12, 12, 12, 12, 12, 12, 12,\n",
      "        12, 12, 12, 12, 12, 12, 12, 12, 12, 12, 12, 12, 12, 12, 12, 12, 12, 12,\n",
      "        12, 12, 12, 12, 12, 12, 12, 12, 12, 12, 12, 12, 12, 12, 12, 12, 12, 12,\n",
      "        12, 12, 12, 12, 12, 12, 12, 12, 12, 12, 12, 12, 12, 12, 12, 12, 12, 12,\n",
      "        12, 12, 12, 12, 12, 12, 12, 12, 12, 12, 12, 12, 12, 12, 12, 12, 12, 12,\n",
      "        12, 12, 12, 12, 12, 12, 12, 12, 12, 12, 12, 12, 12, 12, 12, 12, 12, 12,\n",
      "        12, 12, 12, 12, 12, 12])\n",
      "tensor([12, 12, 12, 12, 12, 12, 12, 12, 12, 12, 12, 12, 12, 12, 12, 12, 12, 12,\n",
      "        12, 12, 12, 12, 12, 12, 12, 12, 12, 12, 12, 12, 12, 12, 12, 12, 12, 12,\n",
      "        12, 12, 12, 12, 12, 12, 12, 12, 12, 12, 12, 12, 12, 12, 12, 12, 12, 12,\n",
      "        12, 12, 12, 12, 12, 12, 12, 12, 12, 12, 12, 12, 12, 12, 12, 12, 12, 12,\n",
      "        12, 12, 12, 12, 12, 12, 12, 12, 12, 12, 12, 12, 12, 12, 12, 12, 12, 12,\n",
      "        12, 12, 12, 12, 12, 12, 12, 12, 12, 12, 12, 12, 12, 12, 12, 12, 12, 12,\n",
      "        12, 12, 12])\n",
      "[10 Valid ] Loss ==> 0.035 Acc ==> 0.001 F1 ==> 0.001\n",
      "\n",
      "Done!\n"
     ]
    }
   ],
   "source": [
    "# 학습 및 검증 데이터별 성능지표값\n",
    "train_ = {'loss':[], 'acc':[], 'f1':[]}\n",
    "val_ = {'loss':[], 'acc':[], 'f1':[]}\n",
    "\n",
    "# 모델 저장 기준 변수\n",
    "pred_va_score = 100\n",
    "\n",
    "# 학습 진행\n",
    "for epo in range(EPOCHS):\n",
    "    print(f'[Epoch {epo+1}/{EPOCHS}]', end=' ')\n",
    "    tr_score = training(DEVICE, epo, MODEL, TRAIN_DL, OPTIMIZER, LOSS_FN, OUT_DIM)\n",
    "    va_score = testing(DEVICE, epo, MODEL, VALID_DL, LOSS_FN, OUT_DIM)\n",
    "    \n",
    "    # 검증 데이터 기준 학습된 모델 저장 => Loss가 이전보다 작을 경우 저장 / Acc 또는 F1이면 이전보다 큰 경우 저장\n",
    "    if pred_va_score > va_score[0]:\n",
    "        torch.save(MODEL, model_name)\n",
    "        pred_va_score = va_score[0]\n",
    "        print('SAVED\\n')\n",
    "    \n",
    "    for idx, key in enumerate(train_):\n",
    "        train_[key].append(tr_score[idx])\n",
    "        val_[key].append(va_score[idx])\n",
    "\n",
    "print('Done!')"
   ],
   "metadata": {
    "collapsed": false,
    "ExecuteTime": {
     "end_time": "2024-03-20T06:46:46.637621800Z",
     "start_time": "2024-03-20T06:46:12.230560900Z"
    }
   },
   "id": "24ee85ce987c9de3",
   "execution_count": 144
  },
  {
   "cell_type": "code",
   "outputs": [
    {
     "data": {
      "text/plain": "<Figure size 640x480 with 2 Axes>",
      "image/png": "[encoded data removed]"
     },
     "metadata": {},
     "output_type": "display_data"
    }
   ],
   "source": [
    "### Loss와 Acc F1 시각화\n",
    "import matplotlib.pyplot as plt\n",
    "import koreanize_matplotlib\n",
    "\n",
    "metric = 'acc'\n",
    "fig, ax1 = plt.subplots()\n",
    "ax1.plot(train_[metric], label='train', color='red')\n",
    "\n",
    "ax2 = ax1.twinx()\n",
    "ax2.plot(val_[metric], label='val', color='blue')\n",
    "\n",
    "# ax3 = ax1.twinx()\n",
    "# ax3.plot(train_['f1'], label='f1', color='orange')\n",
    "ax1.legend(loc='upper center')\n",
    "ax2.legend(loc='upper right')\n",
    "plt.title(f'{metric} 비교')\n",
    "\n",
    "plt.show()"
   ],
   "metadata": {
    "collapsed": false,
    "ExecuteTime": {
     "end_time": "2024-03-20T06:47:11.723891100Z",
     "start_time": "2024-03-20T06:47:11.479273500Z"
    }
   },
   "id": "d6605c4413f82eb7",
   "execution_count": 146
  },
  {
   "cell_type": "code",
   "outputs": [],
   "source": [],
   "metadata": {
    "collapsed": false
   },
   "id": "702656aee145c084"
  }
 ],
 "metadata": {
  "kernelspec": {
   "display_name": "Python 3",
   "language": "python",
   "name": "python3"
  },
  "language_info": {
   "codemirror_mode": {
    "name": "ipython",
    "version": 2
   },
   "file_extension": ".py",
   "mimetype": "text/x-python",
   "name": "python",
   "nbconvert_exporter": "python",
   "pygments_lexer": "ipython2",
   "version": "2.7.6"
  }
 },
 "nbformat": 4,
 "nbformat_minor": 5
}
