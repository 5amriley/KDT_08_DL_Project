{
 "cells": [
  {
   "cell_type": "markdown",
   "id": "4c6259b6-3156-45fc-a6fc-8d7c431fdf4e",
   "metadata": {},
   "source": [
    "## [DL 팀프로젝트]\n",
    "- 대주제 : 반려\n",
    "- 소주제 : 도지코인\n",
    "- 데이터셋 :\n",
    "- 데이터수 : 2164개\n",
    "- 피쳐갯수 : 5개 (날짜, 시가, 고가, 저가, 거래량)\n",
    "- 타겟갯수 : 1개 (종가)"
   ]
  },
  {
   "cell_type": "markdown",
   "id": "e01d1e2d-35f7-46ef-acce-76cec563bd23",
   "metadata": {},
   "source": [
    "[1] 모듈 로딩 및 데이터 준비 <hr>"
   ]
  },
  {
   "cell_type": "code",
   "execution_count": 277,
   "id": "9599a69a-e0ac-468c-989f-204161625b4d",
   "metadata": {},
   "outputs": [],
   "source": [
    "import pandas as pd\n",
    "import numpy as np\n",
    "import matplotlib.pyplot as plt\n",
    "import torch\n",
    "import torch.nn as nn\n",
    "import torch.nn.functional as F"
   ]
  },
  {
   "cell_type": "code",
   "execution_count": 278,
   "id": "749f38c4-e1e3-4d80-8c38-45d1a56cfbb6",
   "metadata": {},
   "outputs": [],
   "source": [
    "data = './DOGE-USD.csv'"
   ]
  },
  {
   "cell_type": "code",
   "execution_count": 279,
   "id": "ca73af42-0f23-4b6d-ae60-e9f058c6c64c",
   "metadata": {},
   "outputs": [],
   "source": [
    "DOGEDF = pd.read_csv(data)"
   ]
  },
  {
   "cell_type": "markdown",
   "id": "94d38d93-9f53-4dcc-a63d-a8ce179cd7cb",
   "metadata": {},
   "source": [
    "[2] 데이터 전처리 <hr>"
   ]
  },
  {
   "cell_type": "code",
   "execution_count": 280,
   "id": "1c2f6bf2-3a85-4349-baf1-a10eb567adbf",
   "metadata": {
    "scrolled": true
   },
   "outputs": [
    {
     "data": {
      "text/html": [
       "<div>\n",
       "<style scoped>\n",
       "    .dataframe tbody tr th:only-of-type {\n",
       "        vertical-align: middle;\n",
       "    }\n",
       "\n",
       "    .dataframe tbody tr th {\n",
       "        vertical-align: top;\n",
       "    }\n",
       "\n",
       "    .dataframe thead th {\n",
       "        text-align: right;\n",
       "    }\n",
       "</style>\n",
       "<table border=\"1\" class=\"dataframe\">\n",
       "  <thead>\n",
       "    <tr style=\"text-align: right;\">\n",
       "      <th></th>\n",
       "      <th>Date</th>\n",
       "      <th>Open</th>\n",
       "      <th>High</th>\n",
       "      <th>Low</th>\n",
       "      <th>Close</th>\n",
       "      <th>Adj Close</th>\n",
       "      <th>Volume</th>\n",
       "    </tr>\n",
       "  </thead>\n",
       "  <tbody>\n",
       "    <tr>\n",
       "      <th>0</th>\n",
       "      <td>2017-11-09</td>\n",
       "      <td>0.001207</td>\n",
       "      <td>0.001415</td>\n",
       "      <td>0.001181</td>\n",
       "      <td>0.001415</td>\n",
       "      <td>0.001415</td>\n",
       "      <td>6259550</td>\n",
       "    </tr>\n",
       "    <tr>\n",
       "      <th>1</th>\n",
       "      <td>2017-11-10</td>\n",
       "      <td>0.001421</td>\n",
       "      <td>0.001431</td>\n",
       "      <td>0.001125</td>\n",
       "      <td>0.001163</td>\n",
       "      <td>0.001163</td>\n",
       "      <td>4246520</td>\n",
       "    </tr>\n",
       "    <tr>\n",
       "      <th>2</th>\n",
       "      <td>2017-11-11</td>\n",
       "      <td>0.001146</td>\n",
       "      <td>0.001257</td>\n",
       "      <td>0.001141</td>\n",
       "      <td>0.001201</td>\n",
       "      <td>0.001201</td>\n",
       "      <td>2231080</td>\n",
       "    </tr>\n",
       "    <tr>\n",
       "      <th>3</th>\n",
       "      <td>2017-11-12</td>\n",
       "      <td>0.001189</td>\n",
       "      <td>0.001210</td>\n",
       "      <td>0.001002</td>\n",
       "      <td>0.001038</td>\n",
       "      <td>0.001038</td>\n",
       "      <td>3288960</td>\n",
       "    </tr>\n",
       "    <tr>\n",
       "      <th>4</th>\n",
       "      <td>2017-11-13</td>\n",
       "      <td>0.001046</td>\n",
       "      <td>0.001212</td>\n",
       "      <td>0.001019</td>\n",
       "      <td>0.001211</td>\n",
       "      <td>0.001211</td>\n",
       "      <td>2481270</td>\n",
       "    </tr>\n",
       "    <tr>\n",
       "      <th>...</th>\n",
       "      <td>...</td>\n",
       "      <td>...</td>\n",
       "      <td>...</td>\n",
       "      <td>...</td>\n",
       "      <td>...</td>\n",
       "      <td>...</td>\n",
       "      <td>...</td>\n",
       "    </tr>\n",
       "    <tr>\n",
       "      <th>2159</th>\n",
       "      <td>2023-10-08</td>\n",
       "      <td>0.061456</td>\n",
       "      <td>0.061611</td>\n",
       "      <td>0.060876</td>\n",
       "      <td>0.061008</td>\n",
       "      <td>0.061008</td>\n",
       "      <td>92483679</td>\n",
       "    </tr>\n",
       "    <tr>\n",
       "      <th>2160</th>\n",
       "      <td>2023-10-09</td>\n",
       "      <td>0.061010</td>\n",
       "      <td>0.061030</td>\n",
       "      <td>0.058260</td>\n",
       "      <td>0.058779</td>\n",
       "      <td>0.058779</td>\n",
       "      <td>241183528</td>\n",
       "    </tr>\n",
       "    <tr>\n",
       "      <th>2161</th>\n",
       "      <td>2023-10-10</td>\n",
       "      <td>0.058779</td>\n",
       "      <td>0.059204</td>\n",
       "      <td>0.058608</td>\n",
       "      <td>0.059025</td>\n",
       "      <td>0.059025</td>\n",
       "      <td>123311323</td>\n",
       "    </tr>\n",
       "    <tr>\n",
       "      <th>2162</th>\n",
       "      <td>2023-10-11</td>\n",
       "      <td>0.059041</td>\n",
       "      <td>0.059454</td>\n",
       "      <td>0.057813</td>\n",
       "      <td>0.058470</td>\n",
       "      <td>0.058470</td>\n",
       "      <td>146066511</td>\n",
       "    </tr>\n",
       "    <tr>\n",
       "      <th>2163</th>\n",
       "      <td>2023-10-12</td>\n",
       "      <td>0.058470</td>\n",
       "      <td>0.058488</td>\n",
       "      <td>0.057500</td>\n",
       "      <td>0.057771</td>\n",
       "      <td>0.057771</td>\n",
       "      <td>120287472</td>\n",
       "    </tr>\n",
       "  </tbody>\n",
       "</table>\n",
       "<p>2164 rows × 7 columns</p>\n",
       "</div>"
      ],
      "text/plain": [
       "            Date      Open      High       Low     Close  Adj Close     Volume\n",
       "0     2017-11-09  0.001207  0.001415  0.001181  0.001415   0.001415    6259550\n",
       "1     2017-11-10  0.001421  0.001431  0.001125  0.001163   0.001163    4246520\n",
       "2     2017-11-11  0.001146  0.001257  0.001141  0.001201   0.001201    2231080\n",
       "3     2017-11-12  0.001189  0.001210  0.001002  0.001038   0.001038    3288960\n",
       "4     2017-11-13  0.001046  0.001212  0.001019  0.001211   0.001211    2481270\n",
       "...          ...       ...       ...       ...       ...        ...        ...\n",
       "2159  2023-10-08  0.061456  0.061611  0.060876  0.061008   0.061008   92483679\n",
       "2160  2023-10-09  0.061010  0.061030  0.058260  0.058779   0.058779  241183528\n",
       "2161  2023-10-10  0.058779  0.059204  0.058608  0.059025   0.059025  123311323\n",
       "2162  2023-10-11  0.059041  0.059454  0.057813  0.058470   0.058470  146066511\n",
       "2163  2023-10-12  0.058470  0.058488  0.057500  0.057771   0.057771  120287472\n",
       "\n",
       "[2164 rows x 7 columns]"
      ]
     },
     "execution_count": 280,
     "metadata": {},
     "output_type": "execute_result"
    }
   ],
   "source": [
    "DOGEDF"
   ]
  },
  {
   "cell_type": "code",
   "execution_count": 281,
   "id": "ca2ea0e9-9ba8-4e72-9d15-ab57b894595a",
   "metadata": {},
   "outputs": [],
   "source": [
    "# 해당 DF에서 Adj Close(조정 종가)는 코인마켓에서 사용되지 않는 개념이므로 삭제.\n",
    "DOGEDF = DOGEDF.drop(axis=1, columns = 'Adj Close')"
   ]
  },
  {
   "cell_type": "code",
   "execution_count": 282,
   "id": "b36de8c1-8f83-4f6d-aa2f-7440e3ec68cc",
   "metadata": {},
   "outputs": [
    {
     "name": "stdout",
     "output_type": "stream",
     "text": [
      "Date dtype : object\n",
      "Open dtype : float64\n",
      "High dtype : float64\n",
      "Low dtype : float64\n",
      "Close dtype : float64\n",
      "Volume dtype : int64\n"
     ]
    }
   ],
   "source": [
    "# DOGEDF의 컬럼별 데이터타입 확인\n",
    "for col in DOGEDF.columns:\n",
    "    print(f'{col} dtype : {DOGEDF[col].dtype}')"
   ]
  },
  {
   "cell_type": "code",
   "execution_count": 283,
   "id": "8e169a46-bcac-4f4b-ad7e-15399ded3299",
   "metadata": {},
   "outputs": [
    {
     "data": {
      "text/plain": [
       "Date      0\n",
       "Open      0\n",
       "High      0\n",
       "Low       0\n",
       "Close     0\n",
       "Volume    0\n",
       "dtype: int64"
      ]
     },
     "execution_count": 283,
     "metadata": {},
     "output_type": "execute_result"
    }
   ],
   "source": [
    "# 결측치 체크\n",
    "DOGEDF.isna().sum()"
   ]
  },
  {
   "cell_type": "code",
   "execution_count": 284,
   "id": "663f9a87-c53b-41e0-b6e2-20c3f0a1ec30",
   "metadata": {},
   "outputs": [],
   "source": [
    "# 결측치 없음을 확인"
   ]
  },
  {
   "cell_type": "code",
   "execution_count": 285,
   "id": "489b75bc-854e-44fc-9b2e-c49c9d9fe746",
   "metadata": {},
   "outputs": [
    {
     "name": "stdout",
     "output_type": "stream",
     "text": [
      "<class 'pandas.core.series.Series'>\n",
      "RangeIndex: 2164 entries, 0 to 2163\n",
      "Series name: Date\n",
      "Non-Null Count  Dtype         \n",
      "--------------  -----         \n",
      "2164 non-null   datetime64[ns]\n",
      "dtypes: datetime64[ns](1)\n",
      "memory usage: 17.0 KB\n"
     ]
    }
   ],
   "source": [
    "# Date 컬럼이 현재 object로 되어 있어 Datetime으로 형변환\n",
    "DOGEDF['Date'] = pd.to_datetime(DOGEDF['Date'])\n",
    "DOGEDF['Date'].info()"
   ]
  },
  {
   "cell_type": "code",
   "execution_count": 286,
   "id": "c45b4474-141c-448f-99fa-0cc9bf511022",
   "metadata": {
    "scrolled": true
   },
   "outputs": [
    {
     "name": "stdout",
     "output_type": "stream",
     "text": [
      "<class 'pandas.core.frame.DataFrame'>\n",
      "RangeIndex: 2164 entries, 0 to 2163\n",
      "Data columns (total 6 columns):\n",
      " #   Column  Non-Null Count  Dtype         \n",
      "---  ------  --------------  -----         \n",
      " 0   Date    2164 non-null   datetime64[ns]\n",
      " 1   Open    2164 non-null   float64       \n",
      " 2   High    2164 non-null   float64       \n",
      " 3   Low     2164 non-null   float64       \n",
      " 4   Close   2164 non-null   float64       \n",
      " 5   Volume  2164 non-null   int64         \n",
      "dtypes: datetime64[ns](1), float64(4), int64(1)\n",
      "memory usage: 101.6 KB\n"
     ]
    }
   ],
   "source": [
    "DOGEDF.info()"
   ]
  },
  {
   "cell_type": "code",
   "execution_count": 287,
   "id": "a1dc8e3c-1c0e-413c-9534-161fe2ce0aa6",
   "metadata": {},
   "outputs": [
    {
     "data": {
      "image/png": "[encoded data removed]",
      "text/plain": [
       "<Figure size 1400x600 with 1 Axes>"
      ]
     },
     "metadata": {},
     "output_type": "display_data"
    }
   ],
   "source": [
    "import matplotlib.dates as mdates\n",
    "import koreanize_matplotlib\n",
    "\n",
    "plt.figure(figsize=(14,6))\n",
    "plt.title('DOGE Coin')\n",
    "plt.bar(DOGEDF.Date, DOGEDF.Close, label='Close Price', color='skyblue')\n",
    "plt.gca().xaxis.set_major_formatter(mdates.DateFormatter('%Y-%m'))  # '년-월' 형식으로 날짜 포맷 설정\n",
    "plt.gca().xaxis.set_major_locator(mdates.MonthLocator(interval=3))\n",
    "\n",
    "plt.gcf().autofmt_xdate()\n",
    "plt.xlabel('날짜')\n",
    "plt.ylabel('$', rotation=360, loc='top')\n",
    "plt.legend()\n",
    "plt.show()"
   ]
  },
  {
   "cell_type": "code",
   "execution_count": 288,
   "id": "02d70789-c99e-435d-b969-dfc7c10252e3",
   "metadata": {},
   "outputs": [
    {
     "data": {
      "text/plain": [
       "\"\\ntargetSR = DOGEDF['Close']\\nfeatureDF = DOGEDF.drop(axis=1, columns='Close')\\nprint(featureDF, targetSR)\\n\""
      ]
     },
     "execution_count": 288,
     "metadata": {},
     "output_type": "execute_result"
    }
   ],
   "source": [
    "# 데이터프레임을 피쳐와 타겟으로 분리 (이거 아님 이러면 망함)\n",
    "'''\n",
    "targetSR = DOGEDF['Close']\n",
    "featureDF = DOGEDF.drop(axis=1, columns='Close')\n",
    "print(featureDF, targetSR)\n",
    "'''"
   ]
  },
  {
   "cell_type": "code",
   "execution_count": 289,
   "id": "ea2c5eae-6f26-4b45-89ca-f7f99f2a02de",
   "metadata": {},
   "outputs": [],
   "source": [
    "# 정규화 수행 - 대상 : featureDF에서 시계열 데이터인 Date컬럼을 제외한 나머지\n",
    "from sklearn.preprocessing import MinMaxScaler\n",
    "\n",
    "# 1. 날짜 데이터 처리: Date 컬럼을 인덱스로 설정 (시계열 데이터의 순서 유지)\n",
    "dogeDF = DOGEDF.set_index('Date')\n",
    "\n",
    "# MinMaxScaler 객체 생성 \n",
    "scaler = MinMaxScaler()\n",
    "\n",
    "# 2. Close 컬럼을 제외한 나머지 컬럼 선택 및 정규화\n",
    "features_columns = dogeDF.drop(['Close'], axis=1).columns\n",
    "dogeDF[features_columns] = scaler.fit_transform(dogeDF[features_columns])"
   ]
  },
  {
   "cell_type": "code",
   "execution_count": 290,
   "id": "65b290a8-10a9-4972-b36d-fabba47d1bab",
   "metadata": {},
   "outputs": [
    {
     "name": "stdout",
     "output_type": "stream",
     "text": [
      "X shape: (2134, 30, 4)\n",
      "y shape: (2134,)\n"
     ]
    }
   ],
   "source": [
    "# 3. 시퀀스 데이터 준비 함수\n",
    "def create_sequences(features, target, sequence_length):\n",
    "    sequences = []\n",
    "    targets = []\n",
    "    for i in range(len(features) - sequence_length):\n",
    "        seq = features.iloc[i:(i+sequence_length)].values\n",
    "        label = target.iloc[i+sequence_length]\n",
    "        sequences.append(seq)\n",
    "        targets.append(label)\n",
    "    return np.array(sequences), np.array(targets)\n",
    "\n",
    "# 시퀀스 길이 정의\n",
    "sequence_length = 30\n",
    "\n",
    "# 피쳐 및 타겟 데이터 준비\n",
    "featureDF = dogeDF.drop(['Close'], axis=1)\n",
    "targetSR = dogeDF['Close']\n",
    "\n",
    "# 시퀀스 데이터와 타겟 데이터 준비\n",
    "X, y = create_sequences(featureDF, targetSR, sequence_length)\n",
    "\n",
    "print(f\"X shape: {X.shape}\")\n",
    "print(f\"y shape: {y.shape}\")"
   ]
  },
  {
   "cell_type": "code",
   "execution_count": 291,
   "id": "307e0600-d455-49c6-a71f-b76811b94ba0",
   "metadata": {},
   "outputs": [
    {
     "name": "stdout",
     "output_type": "stream",
     "text": [
      "X_tensor: torch.Size([2134, 30, 4]), y_tensor: torch.Size([2134])\n"
     ]
    }
   ],
   "source": [
    "# 시퀀스 데이터와 타겟 데이터를 NumPy 배열에서 Tensor로 변환\n",
    "X_tensor = torch.tensor(X, dtype=torch.float32)\n",
    "y_tensor = torch.tensor(y, dtype=torch.float32)\n",
    "\n",
    "print(f\"X_tensor: {X_tensor.shape}, y_tensor: {y_tensor.shape}\")"
   ]
  },
  {
   "cell_type": "markdown",
   "id": "815a8446-9792-4b4c-881e-747a493eb44c",
   "metadata": {},
   "source": [
    "[3] 학습 데이터셋 준비 <hr>"
   ]
  },
  {
   "cell_type": "code",
   "execution_count": 292,
   "id": "e60aef5d-4fc2-4e93-88f8-8dbfbc6394fe",
   "metadata": {},
   "outputs": [],
   "source": [
    "from torch.utils.data import Dataset, DataLoader\n",
    "\n",
    "class TimeSeriesDataset(Dataset):\n",
    "    def __init__(self, features, targets):\n",
    "        self.features = torch.tensor(features, dtype=torch.float32)\n",
    "        self.targets = torch.tensor(targets, dtype=torch.float32)\n",
    "\n",
    "    def __len__(self):\n",
    "        return len(self.targets)\n",
    "\n",
    "    def __getitem__(self, idx):\n",
    "        return self.features[idx], self.targets[idx]\n",
    "\n",
    "# 사용자 정의 데이터셋 인스턴스 생성\n",
    "train_dataset = TimeSeriesDataset(X_train, y_train)\n",
    "val_dataset = TimeSeriesDataset(X_val, y_val)\n",
    "test_dataset = TimeSeriesDataset(X_test, y_test)"
   ]
  },
  {
   "cell_type": "markdown",
   "id": "360c703b-0001-4365-9414-c8342f1e311d",
   "metadata": {},
   "source": [
    "[4] 데이터 로더 생성 <hr>"
   ]
  },
  {
   "cell_type": "code",
   "execution_count": 307,
   "id": "46b84f11-8a2f-436f-99f8-1546de28dc47",
   "metadata": {},
   "outputs": [],
   "source": [
    "batch = 30\n",
    "train_loader = DataLoader(dataset=train_dataset, batch_size=batch, shuffle=True)\n",
    "val_loader = DataLoader(dataset=val_dataset, batch_size=batch, shuffle=False)\n",
    "test_loader = DataLoader(dataset=test_dataset, batch_size=batch, shuffle=False)"
   ]
  },
  {
   "cell_type": "markdown",
   "id": "4fb251b5-66be-43ac-9ab9-86020bd350d1",
   "metadata": {},
   "source": [
    "[5] 모델 준비 <hr>"
   ]
  },
  {
   "cell_type": "code",
   "execution_count": 321,
   "id": "b7c6143c-21b6-417f-8738-72407c5bd53f",
   "metadata": {},
   "outputs": [],
   "source": [
    "class TimeSeriesRegressor(nn.Module):\n",
    "    def __init__(self, input_dim):\n",
    "        super(TimeSeriesRegressor, self).__init__()\n",
    "        self.fc1 = nn.Linear(input_dim, 128)\n",
    "        self.fc2 = nn.Linear(128, 64)\n",
    "        self.fc3 = nn.Linear(64, 1)\n",
    "\n",
    "    def forward(self, x):\n",
    "        x = F.relu(self.fc1(x))\n",
    "        x = F.relu(self.fc2(x))\n",
    "        x = self.fc3(x)\n",
    "        return x"
   ]
  },
  {
   "cell_type": "code",
   "execution_count": 309,
   "id": "0cc16271-cbd7-4a51-a4fd-51ada357ca97",
   "metadata": {},
   "outputs": [],
   "source": [
    "# 시퀀스 길이는 30, 특성 수는 featureDF의 컬럼 수와 동일\n",
    "input_dim = sequence_length * len(featureDF.columns)\n",
    "\n",
    "model = TimeSeriesRegressor(input_dim=input_dim)\n"
   ]
  },
  {
   "cell_type": "code",
   "execution_count": 310,
   "id": "739d32f2-4f86-453b-994b-60f192c0d913",
   "metadata": {},
   "outputs": [],
   "source": [
    "loss_fn = nn.MSELoss()\n",
    "optimizer = torch.optim.Adam(model.parameters(), lr=0.001)\n"
   ]
  },
  {
   "cell_type": "markdown",
   "id": "ea46da64-b1a6-475b-b037-67c2ee111f3e",
   "metadata": {},
   "source": [
    "[6] 함수 정의 <hr>"
   ]
  },
  {
   "cell_type": "code",
   "execution_count": 311,
   "id": "b63196ab-bfc5-40a0-a2fb-c3137754f296",
   "metadata": {},
   "outputs": [],
   "source": [
    "def train(model, train_loader, val_loader, optimizer, loss_fn, epochs=100):\n",
    "    for epoch in range(epochs):\n",
    "        model.train()  # 모델을 학습 모드로 설정\n",
    "        train_loss = 0\n",
    "        for X_batch, y_batch in train_loader:\n",
    "            X_batch = X_batch.view(X_batch.size(0), -1)  # 입력 데이터 평탄화\n",
    "            optimizer.zero_grad()  # 최적화기의 그래디언트 초기화\n",
    "            predictions = model(X_batch)\n",
    "            loss = loss_fn(predictions, y_batch.unsqueeze(1))  # 손실 계산, 타겟 차원 조정\n",
    "            loss.backward()  # 손실에 대한 모델 파라미터의 그래디언트 계산\n",
    "            optimizer.step()  # 파라미터 업데이트\n",
    "            train_loss += loss.item()\n",
    "\n",
    "        train_loss /= len(train_loader)\n",
    "        \n",
    "        model.eval()  # 모델을 평가 모드로 설정\n",
    "        val_loss = 0\n",
    "        with torch.no_grad():  # 그래디언트 계산을 비활성화\n",
    "            for X_val, y_val in val_loader:\n",
    "                X_val = X_val.view(X_val.size(0), -1)  # 입력 데이터 평탄화\n",
    "                predictions = model(X_val)\n",
    "                loss = loss_fn(predictions, y_val.unsqueeze(1))  # 손실 계산, 타겟 차원 조정\n",
    "                val_loss += loss.item()\n",
    "                \n",
    "        val_loss /= len(val_loader)\n",
    "        \n",
    "        print(f'Epoch {epoch}: Train Loss: {train_loss:.4f}, Validation Loss: {val_loss:.4f}')\n"
   ]
  },
  {
   "cell_type": "markdown",
   "id": "653066a1-461f-4e4a-913b-2a59bb719102",
   "metadata": {},
   "source": [
    "[7] 모델 학습 <hr>"
   ]
  },
  {
   "cell_type": "code",
   "execution_count": 312,
   "id": "d0e9898a-5116-4d48-baec-fa2505673329",
   "metadata": {
    "scrolled": true
   },
   "outputs": [
    {
     "name": "stdout",
     "output_type": "stream",
     "text": [
      "Epoch 0: Train Loss: 0.0019, Validation Loss: 0.0013\n",
      "Epoch 1: Train Loss: 0.0006, Validation Loss: 0.0009\n",
      "Epoch 2: Train Loss: 0.0004, Validation Loss: 0.0002\n",
      "Epoch 3: Train Loss: 0.0003, Validation Loss: 0.0002\n",
      "Epoch 4: Train Loss: 0.0002, Validation Loss: 0.0006\n",
      "Epoch 5: Train Loss: 0.0002, Validation Loss: 0.0003\n",
      "Epoch 6: Train Loss: 0.0002, Validation Loss: 0.0004\n",
      "Epoch 7: Train Loss: 0.0002, Validation Loss: 0.0002\n",
      "Epoch 8: Train Loss: 0.0002, Validation Loss: 0.0005\n",
      "Epoch 9: Train Loss: 0.0002, Validation Loss: 0.0001\n",
      "Epoch 10: Train Loss: 0.0002, Validation Loss: 0.0001\n",
      "Epoch 11: Train Loss: 0.0001, Validation Loss: 0.0005\n",
      "Epoch 12: Train Loss: 0.0001, Validation Loss: 0.0003\n",
      "Epoch 13: Train Loss: 0.0001, Validation Loss: 0.0004\n",
      "Epoch 14: Train Loss: 0.0002, Validation Loss: 0.0002\n",
      "Epoch 15: Train Loss: 0.0001, Validation Loss: 0.0002\n",
      "Epoch 16: Train Loss: 0.0001, Validation Loss: 0.0005\n",
      "Epoch 17: Train Loss: 0.0001, Validation Loss: 0.0011\n",
      "Epoch 18: Train Loss: 0.0001, Validation Loss: 0.0007\n",
      "Epoch 19: Train Loss: 0.0002, Validation Loss: 0.0003\n",
      "Epoch 20: Train Loss: 0.0001, Validation Loss: 0.0005\n",
      "Epoch 21: Train Loss: 0.0001, Validation Loss: 0.0008\n",
      "Epoch 22: Train Loss: 0.0001, Validation Loss: 0.0004\n",
      "Epoch 23: Train Loss: 0.0001, Validation Loss: 0.0009\n",
      "Epoch 24: Train Loss: 0.0001, Validation Loss: 0.0003\n",
      "Epoch 25: Train Loss: 0.0001, Validation Loss: 0.0004\n",
      "Epoch 26: Train Loss: 0.0001, Validation Loss: 0.0002\n",
      "Epoch 27: Train Loss: 0.0001, Validation Loss: 0.0008\n",
      "Epoch 28: Train Loss: 0.0001, Validation Loss: 0.0004\n",
      "Epoch 29: Train Loss: 0.0001, Validation Loss: 0.0007\n",
      "Epoch 30: Train Loss: 0.0001, Validation Loss: 0.0006\n",
      "Epoch 31: Train Loss: 0.0001, Validation Loss: 0.0007\n",
      "Epoch 32: Train Loss: 0.0001, Validation Loss: 0.0003\n",
      "Epoch 33: Train Loss: 0.0001, Validation Loss: 0.0005\n",
      "Epoch 34: Train Loss: 0.0001, Validation Loss: 0.0004\n",
      "Epoch 35: Train Loss: 0.0001, Validation Loss: 0.0002\n",
      "Epoch 36: Train Loss: 0.0001, Validation Loss: 0.0003\n",
      "Epoch 37: Train Loss: 0.0001, Validation Loss: 0.0002\n",
      "Epoch 38: Train Loss: 0.0001, Validation Loss: 0.0012\n",
      "Epoch 39: Train Loss: 0.0001, Validation Loss: 0.0006\n",
      "Epoch 40: Train Loss: 0.0001, Validation Loss: 0.0003\n",
      "Epoch 41: Train Loss: 0.0001, Validation Loss: 0.0002\n",
      "Epoch 42: Train Loss: 0.0001, Validation Loss: 0.0001\n",
      "Epoch 43: Train Loss: 0.0001, Validation Loss: 0.0002\n",
      "Epoch 44: Train Loss: 0.0001, Validation Loss: 0.0004\n",
      "Epoch 45: Train Loss: 0.0002, Validation Loss: 0.0003\n",
      "Epoch 46: Train Loss: 0.0001, Validation Loss: 0.0003\n",
      "Epoch 47: Train Loss: 0.0001, Validation Loss: 0.0002\n",
      "Epoch 48: Train Loss: 0.0001, Validation Loss: 0.0003\n",
      "Epoch 49: Train Loss: 0.0001, Validation Loss: 0.0003\n",
      "Epoch 50: Train Loss: 0.0001, Validation Loss: 0.0003\n",
      "Epoch 51: Train Loss: 0.0001, Validation Loss: 0.0003\n",
      "Epoch 52: Train Loss: 0.0001, Validation Loss: 0.0004\n",
      "Epoch 53: Train Loss: 0.0001, Validation Loss: 0.0005\n",
      "Epoch 54: Train Loss: 0.0001, Validation Loss: 0.0002\n",
      "Epoch 55: Train Loss: 0.0001, Validation Loss: 0.0001\n",
      "Epoch 56: Train Loss: 0.0001, Validation Loss: 0.0003\n",
      "Epoch 57: Train Loss: 0.0001, Validation Loss: 0.0002\n",
      "Epoch 58: Train Loss: 0.0001, Validation Loss: 0.0004\n",
      "Epoch 59: Train Loss: 0.0001, Validation Loss: 0.0003\n",
      "Epoch 60: Train Loss: 0.0001, Validation Loss: 0.0002\n",
      "Epoch 61: Train Loss: 0.0001, Validation Loss: 0.0002\n",
      "Epoch 62: Train Loss: 0.0001, Validation Loss: 0.0002\n",
      "Epoch 63: Train Loss: 0.0001, Validation Loss: 0.0003\n",
      "Epoch 64: Train Loss: 0.0001, Validation Loss: 0.0002\n",
      "Epoch 65: Train Loss: 0.0001, Validation Loss: 0.0004\n",
      "Epoch 66: Train Loss: 0.0001, Validation Loss: 0.0004\n",
      "Epoch 67: Train Loss: 0.0001, Validation Loss: 0.0002\n",
      "Epoch 68: Train Loss: 0.0001, Validation Loss: 0.0002\n",
      "Epoch 69: Train Loss: 0.0001, Validation Loss: 0.0004\n",
      "Epoch 70: Train Loss: 0.0001, Validation Loss: 0.0002\n",
      "Epoch 71: Train Loss: 0.0001, Validation Loss: 0.0002\n",
      "Epoch 72: Train Loss: 0.0001, Validation Loss: 0.0002\n",
      "Epoch 73: Train Loss: 0.0001, Validation Loss: 0.0002\n",
      "Epoch 74: Train Loss: 0.0001, Validation Loss: 0.0002\n",
      "Epoch 75: Train Loss: 0.0001, Validation Loss: 0.0002\n",
      "Epoch 76: Train Loss: 0.0001, Validation Loss: 0.0003\n",
      "Epoch 77: Train Loss: 0.0001, Validation Loss: 0.0002\n",
      "Epoch 78: Train Loss: 0.0001, Validation Loss: 0.0004\n",
      "Epoch 79: Train Loss: 0.0001, Validation Loss: 0.0002\n",
      "Epoch 80: Train Loss: 0.0001, Validation Loss: 0.0002\n",
      "Epoch 81: Train Loss: 0.0001, Validation Loss: 0.0003\n",
      "Epoch 82: Train Loss: 0.0001, Validation Loss: 0.0002\n",
      "Epoch 83: Train Loss: 0.0001, Validation Loss: 0.0002\n",
      "Epoch 84: Train Loss: 0.0001, Validation Loss: 0.0005\n",
      "Epoch 85: Train Loss: 0.0001, Validation Loss: 0.0002\n",
      "Epoch 86: Train Loss: 0.0001, Validation Loss: 0.0002\n",
      "Epoch 87: Train Loss: 0.0001, Validation Loss: 0.0002\n",
      "Epoch 88: Train Loss: 0.0001, Validation Loss: 0.0002\n",
      "Epoch 89: Train Loss: 0.0001, Validation Loss: 0.0002\n",
      "Epoch 90: Train Loss: 0.0001, Validation Loss: 0.0002\n",
      "Epoch 91: Train Loss: 0.0001, Validation Loss: 0.0002\n",
      "Epoch 92: Train Loss: 0.0001, Validation Loss: 0.0004\n",
      "Epoch 93: Train Loss: 0.0001, Validation Loss: 0.0002\n",
      "Epoch 94: Train Loss: 0.0001, Validation Loss: 0.0002\n",
      "Epoch 95: Train Loss: 0.0001, Validation Loss: 0.0002\n",
      "Epoch 96: Train Loss: 0.0001, Validation Loss: 0.0002\n",
      "Epoch 97: Train Loss: 0.0001, Validation Loss: 0.0003\n",
      "Epoch 98: Train Loss: 0.0001, Validation Loss: 0.0004\n",
      "Epoch 99: Train Loss: 0.0001, Validation Loss: 0.0003\n"
     ]
    }
   ],
   "source": [
    "train(model, train_loader, val_loader, optimizer, loss_fn, epochs=100)"
   ]
  },
  {
   "cell_type": "code",
   "execution_count": 330,
   "id": "95e5299f-ae21-4945-9a6b-c36ca220e399",
   "metadata": {},
   "outputs": [],
   "source": [
    "from sklearn.metrics import r2_score\n",
    "\n",
    "def evaluate(model, test_loader, loss_fn):\n",
    "    model.eval()  # 모델을 평가 모드로 설정\n",
    "    test_loss = 0\n",
    "    mse_loss = 0\n",
    "    all_predictions = []\n",
    "    all_targets = []\n",
    "    \n",
    "    with torch.no_grad():  # 그래디언트 계산 비활성화\n",
    "        for X_test, y_test in test_loader:\n",
    "            X_test = X_test.view(X_test.size(0), -1)  # 입력 데이터 평탄화\n",
    "            predictions = model(X_test)\n",
    "            loss = loss_fn(predictions, y_test.unsqueeze(1))  # 손실 계산, 타겟 차원 조정\n",
    "            test_loss += loss.item()\n",
    "\n",
    "            # MSE 계산을 위한 데이터 축적\n",
    "            mse_loss += ((predictions - y_test.unsqueeze(1)) ** 2).sum().item()\n",
    "            \n",
    "            # 결정 계수 계산을 위해 예측값과 실제값 저장\n",
    "            all_predictions.extend(predictions.view(-1).cpu().numpy())\n",
    "            all_targets.extend(y_test.view(-1).cpu().numpy())\n",
    "\n",
    "    test_loss /= len(test_loader)\n",
    "    mse_loss /= len(all_targets)  # 전체 샘플 수로 나누어 평균을 계산\n",
    "    \n",
    "    # 결정 계수(R² score) 계산\n",
    "    r2 = r2_score(all_targets, all_predictions)\n",
    "\n",
    "    print(f'Test Loss: {test_loss:.4f}')\n",
    "    print(f'평균제곱오차 : {mse_loss:.4f}')\n",
    "    print(f'결정계수 score: {r2:.4f}')\n"
   ]
  },
  {
   "cell_type": "code",
   "execution_count": 331,
   "id": "fedf5bbc-c4f4-4696-9c0b-2bfbda54eebc",
   "metadata": {},
   "outputs": [
    {
     "name": "stdout",
     "output_type": "stream",
     "text": [
      "Test Loss: 0.0000\n",
      "평균제곱오차 : 0.0000\n",
      "결정계수 score: 0.2468\n"
     ]
    }
   ],
   "source": [
    "evaluate(model, test_loader, loss_fn)"
   ]
  },
  {
   "cell_type": "code",
   "execution_count": 315,
   "id": "3b0746b0-b781-4050-bffd-a3ee543cf9b4",
   "metadata": {},
   "outputs": [],
   "source": [
    "# 모델 저장\n",
    "torch.save(model.state_dict(), 'model.pth')"
   ]
  },
  {
   "cell_type": "code",
   "execution_count": 316,
   "id": "bd8b22d6-0866-494b-9976-4d5f6bc064bc",
   "metadata": {},
   "outputs": [
    {
     "data": {
      "text/plain": [
       "TimeSeriesRegressor(\n",
       "  (fc1): Linear(in_features=120, out_features=128, bias=True)\n",
       "  (fc2): Linear(in_features=128, out_features=64, bias=True)\n",
       "  (fc3): Linear(in_features=64, out_features=1, bias=True)\n",
       ")"
      ]
     },
     "execution_count": 316,
     "metadata": {},
     "output_type": "execute_result"
    }
   ],
   "source": [
    "model = TimeSeriesRegressor(input_dim=input_dim)\n",
    "model.load_state_dict(torch.load('model.pth'))\n",
    "model.eval()  # 모델을 평가 모드로 설정\n"
   ]
  },
  {
   "cell_type": "code",
   "execution_count": 317,
   "id": "fb63a0a5-73dc-4c6c-b4ba-1b4f629a91e2",
   "metadata": {},
   "outputs": [
    {
     "name": "stdout",
     "output_type": "stream",
     "text": [
      "Validation Loss: 0.0003\n",
      "Test Loss: 0.0000\n"
     ]
    }
   ],
   "source": [
    "# 평가\n",
    "import torch.nn.functional as F\n",
    "\n",
    "def evaluate_model(model, data_loader):\n",
    "    model.eval()  # 모델을 평가 모드로 설정\n",
    "    total_loss = 0.0\n",
    "    with torch.no_grad():  # 그래디언트 계산 비활성화\n",
    "        for X_batch, y_batch in data_loader:\n",
    "            X_batch = X_batch.view(X_batch.size(0), -1)\n",
    "            predictions = model(X_batch)\n",
    "            loss = F.mse_loss(predictions, y_batch.unsqueeze(1))\n",
    "            total_loss += loss.item()\n",
    "    avg_loss = total_loss / len(data_loader)\n",
    "    return avg_loss\n",
    "\n",
    "# 검증 데이터셋과 테스트 데이터셋에 대한 성능 평가\n",
    "val_loss = evaluate_model(model, val_loader)\n",
    "test_loss = evaluate_model(model, test_loader)\n",
    "\n",
    "print(f'Validation Loss: {val_loss:.4f}')\n",
    "print(f'Test Loss: {test_loss:.4f}')\n"
   ]
  },
  {
   "cell_type": "code",
   "execution_count": 318,
   "id": "1b1f3351-0bd6-46ec-b3ee-84b2f2769041",
   "metadata": {},
   "outputs": [
    {
     "name": "stdout",
     "output_type": "stream",
     "text": [
      "첫 5개의 예측값: [0.06554396, 0.06617601, 0.06882472, 0.071786895, 0.07115662]\n"
     ]
    }
   ],
   "source": [
    "# 테스트 데이터셋에 대한 예측 수행\n",
    "# 여기서는 예시로 테스트 로더(test_loader)를 사용합니다.\n",
    "predictions = []\n",
    "with torch.no_grad():\n",
    "    for X_batch, _ in test_loader:\n",
    "        X_batch = X_batch.view(X_batch.size(0), -1)  # 입력 데이터 평탄화\n",
    "        prediction = model(X_batch)\n",
    "        predictions.extend(prediction.numpy().flatten())\n",
    "\n",
    "# 예시: 첫 5개의 예측값 출력\n",
    "print(\"첫 5개의 예측값:\", predictions[:5])"
   ]
  },
  {
   "cell_type": "code",
   "execution_count": 341,
   "id": "5d6ed51f-b4ea-4078-bac4-1450f9618360",
   "metadata": {},
   "outputs": [
    {
     "name": "stdout",
     "output_type": "stream",
     "text": [
      "예상 가격 2023-02-01 : 0.10420792549848557\n",
      "실제 가격 2023-02-01 : 0.094171\n",
      "오차율 : 10.66%\n"
     ]
    }
   ],
   "source": [
    "# 올바르게 작동했는지 체크해보자\n",
    "predict_date = pd.to_datetime('2023-02-01')\n",
    "start_date = predict_date - pd.Timedelta(days=sequence_length)\n",
    "end_date = predict_date - pd.Timedelta(days=1)\n",
    "\n",
    "# 'Date' 컬럼을 인덱스로 사용하여 해당 기간 동안의 데이터를 추출\n",
    "input_data = dogeDF.loc[start_date:end_date]\n",
    "\n",
    "# 필요한 전처리 수행\n",
    "# 이미 MinMaxScaler로 정규화된 features_columns 사용\n",
    "input_features = input_data[features_columns].values\n",
    "\n",
    "# 모델 입력을 위한 차원 조정 및 텐서 변환\n",
    "input_features = np.expand_dims(input_features, axis=0)  # 배치 차원 추가\n",
    "input_tensor = torch.tensor(input_features, dtype=torch.float32)\n",
    "\n",
    "# 모델을 평가 모드로 설정하고 예측 수행\n",
    "model.eval()\n",
    "with torch.no_grad():\n",
    "    input_tensor = input_tensor.reshape(input_tensor.size(0), -1)  # 입력 데이터 평탄화\n",
    "    prediction = model(input_tensor)\n",
    "\n",
    "# 예측된 가격\n",
    "predicted_price = prediction.item()\n",
    "\n",
    "# 실제 가격\n",
    "real_price_row = DOGEDF[DOGEDF['Date'] == predict_date.strftime('%Y-%m-%d')]\n",
    "if not real_price_row.empty:\n",
    "    real_price = real_price_row['Close'].values[0]\n",
    "    # 오차율 계산\n",
    "    error_rate = abs(real_price - predicted_price) / real_price * 100\n",
    "    print(f\"예상 가격 {predict_date.date()} : {predicted_price}\")\n",
    "    print(f\"실제 가격 {predict_date.date()} : {real_price}\")\n",
    "    print(f\"오차율 : {error_rate:.2f}%\")\n",
    "else:\n",
    "    print(f\"예상 가격 {predict_date.date()}: {predicted_price}\")\n",
    "    print(\"해당 날짜 실제 가격 데이터 없음\", predict_date.date())\n"
   ]
  },
  {
   "cell_type": "code",
   "execution_count": 320,
   "id": "a3c0eb72-0597-47a3-8c9b-80f6c36d7e5b",
   "metadata": {},
   "outputs": [
    {
     "name": "stdout",
     "output_type": "stream",
     "text": [
      "모든 데이터에 대한 평균 오차율 : 15.71%\n"
     ]
    }
   ],
   "source": [
    "# 오차율을 저장할 리스트 초기화\n",
    "error_rates = []\n",
    "\n",
    "# 가능한 모든 예측 시작 날짜 추출 (최소 sequence_length 만큼의 데이터가 필요)\n",
    "start_dates = dogeDF.index[:-sequence_length]\n",
    "\n",
    "for start_date in start_dates:\n",
    "    predict_date = start_date + pd.Timedelta(days=sequence_length)\n",
    "    end_date = predict_date - pd.Timedelta(days=1)\n",
    "\n",
    "    # 해당 기간 동안의 데이터를 추출\n",
    "    input_data = dogeDF.loc[start_date:end_date]\n",
    "\n",
    "    # 필요한 전처리 수행\n",
    "    input_features = input_data[features_columns].values\n",
    "\n",
    "    # 모델 입력을 위한 차원 조정 및 텐서 변환\n",
    "    input_features = np.expand_dims(input_features, axis=0)\n",
    "    input_tensor = torch.tensor(input_features, dtype=torch.float32)\n",
    "\n",
    "    # 모델을 평가 모드로 설정하고 예측 수행\n",
    "    model.eval()\n",
    "    with torch.no_grad():\n",
    "        input_tensor = input_tensor.reshape(input_tensor.size(0), -1)\n",
    "        prediction = model(input_tensor)\n",
    "        predicted_price = prediction.item()\n",
    "\n",
    "    # 실제 가격\n",
    "    real_price_row = DOGEDF[DOGEDF['Date'] == predict_date.strftime('%Y-%m-%d')]\n",
    "    if not real_price_row.empty:\n",
    "        real_price = real_price_row['Close'].values[0]\n",
    "        # 오차율 계산\n",
    "        error_rate = abs(real_price - predicted_price) / real_price * 100\n",
    "        error_rates.append(error_rate)\n",
    "\n",
    "# 오차율 평균 계산\n",
    "average_error_rate = sum(error_rates) / len(error_rates)\n",
    "print(f\"모든 데이터에 대한 평균 오차율 : {average_error_rate:.2f}%\")\n"
   ]
  },
  {
   "cell_type": "code",
   "execution_count": null,
   "id": "e2837fad-b444-42a3-badc-a38c181e7ad9",
   "metadata": {},
   "outputs": [],
   "source": []
  }
 ],
 "metadata": {
  "kernelspec": {
   "display_name": "Python 3 (ipykernel)",
   "language": "python",
   "name": "python3"
  },
  "language_info": {
   "codemirror_mode": {
    "name": "ipython",
    "version": 3
   },
   "file_extension": ".py",
   "mimetype": "text/x-python",
   "name": "python",
   "nbconvert_exporter": "python",
   "pygments_lexer": "ipython3",
   "version": "3.8.18"
  }
 },
 "nbformat": 4,
 "nbformat_minor": 5
}
