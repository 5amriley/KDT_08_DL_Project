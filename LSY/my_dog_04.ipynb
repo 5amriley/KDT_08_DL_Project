{
 "cells": [
  {
   "cell_type": "markdown",
   "source": [
    "# 방향\n",
    "- 이중분류 할것이다: 사진이 주어졌을때 이게 개냐 ~ 아니냐 ~\n",
    "\n",
    "# 할거\n",
    "- 3개의 함수 : 학습, 검증 및 테스트, 예측\n",
    "- 모델 : 층, 층별 노드, 퍼셉트론 수 조절한게 있어야 함"
   ],
   "metadata": {
    "collapsed": false
   },
   "id": "3df4dc2bf686e20f"
  },
  {
   "cell_type": "markdown",
   "source": [
    "# 30 * 30 으로 resize 된 사진으로 모델 돌림"
   ],
   "metadata": {
    "collapsed": false
   },
   "id": "65a878ba9d326bbc"
  },
  {
   "cell_type": "code",
   "execution_count": 40,
   "id": "initial_id",
   "metadata": {
    "collapsed": true,
    "ExecuteTime": {
     "end_time": "2024-03-20T03:28:29.792018Z",
     "start_time": "2024-03-20T03:28:29.775645Z"
    }
   },
   "outputs": [],
   "source": [
    "from PIL import Image\n",
    "import numpy as np\n",
    "import pandas as pd\n",
    "from sklearn.datasets import fetch_openml \n",
    "from sklearn.preprocessing import LabelEncoder, OneHotEncoder\n",
    "import torch\n",
    "import torch.nn.functional as F \n",
    "import torch.nn as nn \n",
    "from torch.utils.data import Dataset, DataLoader, random_split\n",
    "import torch.optim as optim \n",
    "import torchmetrics.functional as metrics"
   ]
  },
  {
   "cell_type": "code",
   "outputs": [],
   "source": [
    "cat_file = 'resize_cat_df.csv'\n",
    "dog_file = 'resize_dog_df.csv'\n",
    "cat_data = pd.read_csv(cat_file)\n",
    "dog_data = pd.read_csv(dog_file)\n",
    "data = pd.concat([cat_data, dog_data])"
   ],
   "metadata": {
    "collapsed": false,
    "ExecuteTime": {
     "end_time": "2024-03-20T03:28:30.044492Z",
     "start_time": "2024-03-20T03:28:29.919930Z"
    }
   },
   "id": "c42a423a97e00f78",
   "execution_count": 41
  },
  {
   "cell_type": "code",
   "outputs": [
    {
     "name": "stdout",
     "output_type": "stream",
     "text": [
      "<class 'pandas.core.frame.DataFrame'>\n",
      "Index: 891 entries, 0 to 438\n",
      "Columns: 901 entries, Unnamed: 0 to 899\n",
      "dtypes: int64(901)\n",
      "memory usage: 6.1 MB\n"
     ]
    }
   ],
   "source": [
    "data.info()"
   ],
   "metadata": {
    "collapsed": false,
    "ExecuteTime": {
     "end_time": "2024-03-20T03:28:30.200433Z",
     "start_time": "2024-03-20T03:28:30.047639Z"
    }
   },
   "id": "6599436a0ca4ac31",
   "execution_count": 42
  },
  {
   "cell_type": "code",
   "outputs": [
    {
     "data": {
      "text/plain": "(452, 901)"
     },
     "execution_count": 43,
     "metadata": {},
     "output_type": "execute_result"
    }
   ],
   "source": [
    "cat_data.shape"
   ],
   "metadata": {
    "collapsed": false,
    "ExecuteTime": {
     "end_time": "2024-03-20T03:28:30.216147Z",
     "start_time": "2024-03-20T03:28:30.201543Z"
    }
   },
   "id": "557fb37170c3f4f4",
   "execution_count": 43
  },
  {
   "cell_type": "code",
   "outputs": [
    {
     "data": {
      "text/plain": "(439, 901)"
     },
     "execution_count": 44,
     "metadata": {},
     "output_type": "execute_result"
    }
   ],
   "source": [
    "dog_data.shape"
   ],
   "metadata": {
    "collapsed": false,
    "ExecuteTime": {
     "end_time": "2024-03-20T03:28:30.231794Z",
     "start_time": "2024-03-20T03:28:30.218195Z"
    }
   },
   "id": "f463f573a4125888",
   "execution_count": 44
  },
  {
   "cell_type": "code",
   "outputs": [
    {
     "data": {
      "text/plain": "(891, 901)"
     },
     "execution_count": 45,
     "metadata": {},
     "output_type": "execute_result"
    }
   ],
   "source": [
    "data.shape"
   ],
   "metadata": {
    "collapsed": false,
    "ExecuteTime": {
     "end_time": "2024-03-20T03:28:30.247479Z",
     "start_time": "2024-03-20T03:28:30.233876Z"
    }
   },
   "id": "97eb4f3a603b4600",
   "execution_count": 45
  },
  {
   "cell_type": "code",
   "outputs": [
    {
     "data": {
      "text/plain": "Index(['pixel1', 'pixel2', 'pixel3', 'pixel4', 'pixel5', 'pixel6', 'pixel7',\n       'pixel8', 'pixel9', 'pixel10',\n       ...\n       'pixel892', 'pixel893', 'pixel894', 'pixel895', 'pixel896', 'pixel897',\n       'pixel898', 'pixel899', 'pixel900', 'pixel901'],\n      dtype='object', length=901)"
     },
     "execution_count": 46,
     "metadata": {},
     "output_type": "execute_result"
    }
   ],
   "source": [
    "col_list = []\n",
    "for i in range(1, 902):\n",
    "    col_list.append(f\"pixel{i}\")\n",
    "data.columns = col_list\n",
    "data.columns"
   ],
   "metadata": {
    "collapsed": false,
    "ExecuteTime": {
     "end_time": "2024-03-20T03:28:30.263088Z",
     "start_time": "2024-03-20T03:28:30.249555Z"
    }
   },
   "id": "3bc6ccfdabf14160",
   "execution_count": 46
  },
  {
   "cell_type": "code",
   "outputs": [
    {
     "data": {
      "text/plain": "Index([  0,   1,   2,   3,   4,   5,   6,   7,   8,   9,\n       ...\n       429, 430, 431, 432, 433, 434, 435, 436, 437, 438],\n      dtype='int64', length=891)"
     },
     "execution_count": 47,
     "metadata": {},
     "output_type": "execute_result"
    }
   ],
   "source": [
    "data.index"
   ],
   "metadata": {
    "collapsed": false,
    "ExecuteTime": {
     "end_time": "2024-03-20T03:28:30.278719Z",
     "start_time": "2024-03-20T03:28:30.264085Z"
    }
   },
   "id": "a066b725ac62d5b",
   "execution_count": 47
  },
  {
   "cell_type": "code",
   "outputs": [],
   "source": [
    "type_list = []\n",
    "for i in range(cat_data.shape[0]):\n",
    "    type_list.append('cat')\n",
    "for i in range(dog_data.shape[0]):\n",
    "    type_list.append('dog')\n",
    "# type_list\n",
    "\n",
    "data['type'] = type_list"
   ],
   "metadata": {
    "collapsed": false,
    "ExecuteTime": {
     "end_time": "2024-03-20T03:28:30.294414Z",
     "start_time": "2024-03-20T03:28:30.279716Z"
    }
   },
   "id": "e51d01da053ef943",
   "execution_count": 48
  },
  {
   "cell_type": "code",
   "outputs": [
    {
     "data": {
      "text/plain": "Index(['pixel1', 'pixel2', 'pixel3', 'pixel4', 'pixel5', 'pixel6', 'pixel7',\n       'pixel8', 'pixel9', 'pixel10',\n       ...\n       'pixel893', 'pixel894', 'pixel895', 'pixel896', 'pixel897', 'pixel898',\n       'pixel899', 'pixel900', 'pixel901', 'type'],\n      dtype='object', length=902)"
     },
     "execution_count": 49,
     "metadata": {},
     "output_type": "execute_result"
    }
   ],
   "source": [
    "data.columns"
   ],
   "metadata": {
    "collapsed": false,
    "ExecuteTime": {
     "end_time": "2024-03-20T03:28:30.310062Z",
     "start_time": "2024-03-20T03:28:30.295413Z"
    }
   },
   "id": "dda6471b768a09da",
   "execution_count": 49
  },
  {
   "cell_type": "code",
   "outputs": [
    {
     "data": {
      "text/plain": "(891, 902)"
     },
     "execution_count": 50,
     "metadata": {},
     "output_type": "execute_result"
    }
   ],
   "source": [
    "data.shape"
   ],
   "metadata": {
    "collapsed": false,
    "ExecuteTime": {
     "end_time": "2024-03-20T03:28:30.325772Z",
     "start_time": "2024-03-20T03:28:30.311167Z"
    }
   },
   "id": "f1fdc979e72e14cf",
   "execution_count": 50
  },
  {
   "cell_type": "markdown",
   "source": [
    "# 피처, 타겟 분리 & 정규화"
   ],
   "metadata": {
    "collapsed": false
   },
   "id": "d994d4f77934d740"
  },
  {
   "cell_type": "code",
   "outputs": [],
   "source": [
    "feature = data[data.columns[:-1]]\n",
    "target = data[data.columns[-1]]"
   ],
   "metadata": {
    "collapsed": false,
    "ExecuteTime": {
     "end_time": "2024-03-20T03:28:30.341933Z",
     "start_time": "2024-03-20T03:28:30.327366Z"
    }
   },
   "id": "ebe6944a98dacc0f",
   "execution_count": 51
  },
  {
   "cell_type": "code",
   "outputs": [
    {
     "name": "stdout",
     "output_type": "stream",
     "text": [
      "feature.shape: (891, 901), target.shape: (891,)\n"
     ]
    }
   ],
   "source": [
    "print(f\"feature.shape: {feature.shape}, target.shape: {target.shape}\")"
   ],
   "metadata": {
    "collapsed": false,
    "ExecuteTime": {
     "end_time": "2024-03-20T03:28:30.357480Z",
     "start_time": "2024-03-20T03:28:30.342932Z"
    }
   },
   "id": "a6fac32e655933b7",
   "execution_count": 52
  },
  {
   "cell_type": "code",
   "outputs": [],
   "source": [
    "# cat을 0으로 dog를 1로 변경\n",
    "target.replace('cat',0, inplace = True)\n",
    "target.replace('dog',1, inplace = True)\n",
    "scaled_target = target"
   ],
   "metadata": {
    "collapsed": false,
    "ExecuteTime": {
     "end_time": "2024-03-20T03:28:30.373176Z",
     "start_time": "2024-03-20T03:28:30.358478Z"
    }
   },
   "id": "aee73d674279a425",
   "execution_count": 53
  },
  {
   "cell_type": "code",
   "outputs": [],
   "source": [
    "# 피처를 정규화 시킴\n",
    "scaled_feature = feature/512."
   ],
   "metadata": {
    "collapsed": false,
    "ExecuteTime": {
     "end_time": "2024-03-20T03:28:30.416154Z",
     "start_time": "2024-03-20T03:28:30.376419Z"
    }
   },
   "id": "176fff6299fcf2e5",
   "execution_count": 54
  },
  {
   "cell_type": "code",
   "outputs": [
    {
     "data": {
      "text/plain": "(891, 901)"
     },
     "execution_count": 55,
     "metadata": {},
     "output_type": "execute_result"
    }
   ],
   "source": [
    "scaled_feature.shape"
   ],
   "metadata": {
    "collapsed": false,
    "ExecuteTime": {
     "end_time": "2024-03-20T03:28:30.431883Z",
     "start_time": "2024-03-20T03:28:30.417152Z"
    }
   },
   "id": "8d05547efcc73107",
   "execution_count": 55
  },
  {
   "cell_type": "markdown",
   "source": [
    "# 학습 데이터셋 준비 (학습용, 검증용, 테스트용)"
   ],
   "metadata": {
    "collapsed": false
   },
   "id": "28d500a74149055e"
  },
  {
   "cell_type": "code",
   "outputs": [],
   "source": [
    "# 사용자 정의 데이터셋 및 전체 데이터셋 준비\n",
    "\n",
    "class all_dataset(Dataset):\n",
    "    def __init__(self, feature_data, target_data):\n",
    "        super().__init__()  # 어미를 상속받았다\n",
    "        # 해당 클래스의 인스턴스 초기화함\n",
    "        self.data = torch.FloatTensor(feature_data)\n",
    "        self.target = torch.FloatTensor(target_data)\n",
    "        \n",
    "    def __len__(self):\n",
    "        return self.target.shape[0]\n",
    "    \n",
    "    def __getitem__(self, index):\n",
    "        return self.data[index], self.target[index]"
   ],
   "metadata": {
    "collapsed": false,
    "ExecuteTime": {
     "end_time": "2024-03-20T03:28:30.447767Z",
     "start_time": "2024-03-20T03:28:30.432976Z"
    }
   },
   "id": "75e32a4662ca85f6",
   "execution_count": 56
  },
  {
   "cell_type": "code",
   "outputs": [
    {
     "name": "stdout",
     "output_type": "stream",
     "text": [
      "feature.shape: torch.Size([891, 901]), target.shape: torch.Size([891])\n"
     ]
    }
   ],
   "source": [
    "# 전체 DataSet 생성\n",
    "feature_np = np.array(scaled_feature)\n",
    "target_np = np.array(scaled_target)\n",
    "\n",
    "animal_dataset = all_dataset(feature_np, target_np)\n",
    "\n",
    "print(f\"feature.shape: {animal_dataset.data.shape}, target.shape: {animal_dataset.target.shape}\")"
   ],
   "metadata": {
    "collapsed": false,
    "ExecuteTime": {
     "end_time": "2024-03-20T03:28:30.463150Z",
     "start_time": "2024-03-20T03:28:30.449046Z"
    }
   },
   "id": "74c453de06a5b39e",
   "execution_count": 57
  },
  {
   "cell_type": "code",
   "outputs": [],
   "source": [
    "# 학습용, 검증용, 테스트용 데이터셋 분리"
   ],
   "metadata": {
    "collapsed": false,
    "ExecuteTime": {
     "end_time": "2024-03-20T03:28:30.478744Z",
     "start_time": "2024-03-20T03:28:30.465291Z"
    }
   },
   "id": "1aed7d00586b3121",
   "execution_count": 58
  },
  {
   "cell_type": "code",
   "outputs": [],
   "source": [
    "seed_generator = torch.Generator().manual_seed(11)\n",
    "\n",
    "train_size, valid_size, test_size = 0.7, 0.1, 0.2\n",
    "\n",
    "train_dataset, valid_dataset, test_dataset = random_split(animal_dataset, [train_size, valid_size, test_size], generator = seed_generator)"
   ],
   "metadata": {
    "collapsed": false,
    "ExecuteTime": {
     "end_time": "2024-03-20T03:28:30.494683Z",
     "start_time": "2024-03-20T03:28:30.480788Z"
    }
   },
   "id": "dcd7dcee40f3326c",
   "execution_count": 59
  },
  {
   "cell_type": "code",
   "outputs": [
    {
     "name": "stdout",
     "output_type": "stream",
     "text": [
      "train dataset length : 624\n",
      "valid dataset length : 89\n",
      "test dataset length : 178\n"
     ]
    }
   ],
   "source": [
    "print(f\"train dataset length : {len(train_dataset)}\")\n",
    "print(f\"valid dataset length : {len(valid_dataset)}\")\n",
    "print(f\"test dataset length : {len(test_dataset)}\")"
   ],
   "metadata": {
    "collapsed": false,
    "ExecuteTime": {
     "end_time": "2024-03-20T03:28:30.510400Z",
     "start_time": "2024-03-20T03:28:30.495681Z"
    }
   },
   "id": "c1ecb251fc54534c",
   "execution_count": 60
  },
  {
   "cell_type": "markdown",
   "source": [
    "# 데이터 로더 생성"
   ],
   "metadata": {
    "collapsed": false
   },
   "id": "448072d44bb1ff42"
  },
  {
   "cell_type": "code",
   "outputs": [
    {
     "name": "stdout",
     "output_type": "stream",
     "text": [
      "<torch.utils.data.dataloader.DataLoader object at 0x000002B609C83FD0>\n",
      "\n",
      "<torch.utils.data.dataloader.DataLoader object at 0x000002B609C83E50>\n",
      "\n",
      "<torch.utils.data.dataloader.DataLoader object at 0x000002B609C83E80>\n"
     ]
    }
   ],
   "source": [
    "batch = 20\n",
    "\n",
    "train_loader = DataLoader(train_dataset, batch_size = batch)\n",
    "val_loader = DataLoader(valid_dataset, batch_size = batch)\n",
    "test_loader = DataLoader(test_dataset, batch_size = batch)\n",
    "\n",
    "print(train_loader, val_loader, test_loader, sep='\\n\\n')"
   ],
   "metadata": {
    "collapsed": false,
    "ExecuteTime": {
     "end_time": "2024-03-20T03:28:30.525954Z",
     "start_time": "2024-03-20T03:28:30.513557Z"
    }
   },
   "id": "279a076647d44a1b",
   "execution_count": 61
  },
  {
   "cell_type": "markdown",
   "source": [
    "# 모델 준비"
   ],
   "metadata": {
    "collapsed": false
   },
   "id": "d96ad728509ade44"
  },
  {
   "cell_type": "code",
   "outputs": [],
   "source": [
    "# 전방향 학습용 모델 클래스를 생성해보자\n",
    "# 이중 분류  | 입력 피처 수 : 512 * 512  |  출력 피처 수 : 1 (0 or 1)\n",
    "\n",
    "class myModel(nn.Module):\n",
    "    def __init__(self, input_num, output_num):\n",
    "        super().__init__()\n",
    "        self.layer1 = nn.Linear(input_num, 800)  # 입력층\n",
    "        self.layer2 = nn.Linear(800, 400) # 은닉층\n",
    "        self.layer3 = nn.Linear(400, 300) # 은닉층\n",
    "        self.layer4 = nn.Linear(300, 150) # 은닉층\n",
    "        self.layer5 = nn.Linear(150, 50) # 은닉층\n",
    "        self.layer6 = nn.Linear(50, output_num) # 출력층\n",
    "        self.sig = nn.Sigmoid() # 활성함수 (이진분류니까 sigmoid 선택함)\n",
    "    \n",
    "    def forward(self, x):\n",
    "        x = self.layer1(x)\n",
    "        x = self.sig(x)\n",
    "        x = self.layer2(x)\n",
    "        x = self.sig(x)\n",
    "        x = self.layer3(x)\n",
    "        x = self.sig(x)\n",
    "        x = self.layer4(x)\n",
    "        x = self.sig(x)\n",
    "        x = self.layer5(x)\n",
    "        x = self.sig(x)\n",
    "        x = self.layer6(x)\n",
    "        x = self.sig(x)\n",
    "\n",
    "        return x"
   ],
   "metadata": {
    "collapsed": false,
    "ExecuteTime": {
     "end_time": "2024-03-20T03:28:30.541534Z",
     "start_time": "2024-03-20T03:28:30.528105Z"
    }
   },
   "id": "f07a612755fd64c2",
   "execution_count": 62
  },
  {
   "cell_type": "markdown",
   "source": [
    "# 함수 정의 : training, testing, predicting"
   ],
   "metadata": {
    "collapsed": false
   },
   "id": "12d99edbd05a452f"
  },
  {
   "cell_type": "code",
   "outputs": [],
   "source": [
    "# 디바이스 설정\n",
    "device = 'cuda' if torch.cuda.is_available() else 'cpu'\n",
    "# 학습 모델 인스턴스 생성\n",
    "dogmodel = myModel(feature_np.shape[1], 1).to(device)\n",
    "\n",
    "# 손실함수\n",
    "loss_fn = nn.BCELoss().to(device)\n",
    "# https://pytorch.org/docs/stable/generated/torch.nn.BCELoss.html#torch.nn.BCELoss\n",
    "# Creates a criterion that measures the Binary Cross Entropy between the target and the input probabilities:\n",
    "\n",
    "\n",
    "# 분류 갯수\n",
    "class_num = 1"
   ],
   "metadata": {
    "collapsed": false,
    "ExecuteTime": {
     "end_time": "2024-03-20T03:28:30.561343Z",
     "start_time": "2024-03-20T03:28:30.544525Z"
    }
   },
   "id": "53cf95289e5ae3c3",
   "execution_count": 63
  },
  {
   "cell_type": "code",
   "outputs": [],
   "source": [
    "# 최적화 인스턴스 생성\n",
    "optimizer = optim.SGD(dogmodel.parameters())"
   ],
   "metadata": {
    "collapsed": false,
    "ExecuteTime": {
     "end_time": "2024-03-20T03:28:30.689496Z",
     "start_time": "2024-03-20T03:28:30.672307Z"
    }
   },
   "id": "99c5285e251ccc8e",
   "execution_count": 64
  },
  {
   "cell_type": "markdown",
   "source": [
    "### Q. 왜 이 optimizer를 썻는가?"
   ],
   "metadata": {
    "collapsed": false
   },
   "id": "b515d76db90e5905"
  },
  {
   "cell_type": "code",
   "outputs": [],
   "source": [
    "# 학습용 함수\n",
    "\n",
    "def training():\n",
    "    dogmodel.train()\n",
    "    \n",
    "    loss_list = []\n",
    "    evaluation = {'accuracy_list':[], 'recall_list':[], 'precision_list':[], 'f1_score_list':[]}\n",
    "    for (f, t) in train_loader:\n",
    "        feature, target = f.to(device), t.to(device)\n",
    "        \n",
    "        # 학습\n",
    "        train_predict = dogmodel(feature)\n",
    "        target_reshaped = target.unsqueeze(dim=1)\n",
    "        # print(train_predict.shape, target_reshaped.shape)\n",
    "\n",
    "        # 손실 계산\n",
    "        loss = nn.functional.binary_cross_entropy(train_predict, target_reshaped).to(device)\n",
    "        loss_list.append(loss.item())\n",
    "        \n",
    "        # 성능 평가\n",
    "        accuracy = metrics.accuracy(train_predict, target_reshaped, task = 'binary', num_classes = class_num)\n",
    "        recall = metrics.recall(train_predict, target_reshaped, task = 'binary', num_classes = class_num)\n",
    "        precision = metrics.precision(train_predict, target_reshaped, task = 'binary', num_classes = class_num)\n",
    "        f1_score = metrics.f1_score(train_predict, target_reshaped, task = 'binary', num_classes = class_num)\n",
    "        evaluation['accuracy_list'].append(accuracy.item())\n",
    "        evaluation['recall_list'].append(recall.item())\n",
    "        evaluation['precision_list'].append(precision.item())\n",
    "        evaluation['f1_score_list'].append(f1_score.item())\n",
    "        \n",
    "        # 최적화 (역방향 학습 + 업데이트)\n",
    "        optimizer.zero_grad()\n",
    "        loss.backward()\n",
    "        optimizer.step()\n",
    "        # print('   .  .  .')\n",
    "    \n",
    "    print('학 습 중')    \n",
    "    loss_total = (sum(loss_list) / len(loss_list))\n",
    "    accuracy_total= (sum(evaluation['accuracy_list']) / len(evaluation['accuracy_list']))\n",
    "    recall_total = (sum(evaluation['recall_list'])/len(evaluation['recall_list']))\n",
    "    precision_total = (sum(evaluation['precision_list'])/len(evaluation['precision_list']))\n",
    "    f1_score_total = (sum(evaluation['f1_score_list'])/len(evaluation['f1_score_list']))\n",
    "    # print('[ TRAINING - Total ]')\n",
    "    # print(f\"loss : {loss_total} \\naccuracy : {accuracy_total} \\nrecall : {recall_total} \\nprecision : {precision_total} \\nf1_score : {f1_score_total}\")\n",
    "    return loss_list, evaluation, loss_total, accuracy_total, recall_total, precision_total, f1_score_total\n",
    "\n",
    "# training()"
   ],
   "metadata": {
    "collapsed": false,
    "ExecuteTime": {
     "end_time": "2024-03-20T03:28:30.726698Z",
     "start_time": "2024-03-20T03:28:30.716130Z"
    }
   },
   "id": "2e09ca4aa8c07d15",
   "execution_count": 65
  },
  {
   "cell_type": "markdown",
   "source": [
    "### Q 함수 training()에서 for문 안에 저 to device는 왜하는거?"
   ],
   "metadata": {
    "collapsed": false
   },
   "id": "c7222c2f4d18a014"
  },
  {
   "cell_type": "code",
   "outputs": [],
   "source": [
    "# 검증용 함수\n",
    "\n",
    "def testing():\n",
    "    dogmodel.eval()\n",
    "    \n",
    "    loss_list = []\n",
    "    evaluation = {'accuracy_list':[], 'recall_list':[], 'precision_list':[], 'f1_score_list':[]}\n",
    "    for (f, t) in val_loader:\n",
    "        feature, target = f.to(device), t.to(device)\n",
    "        \n",
    "        # 학습\n",
    "        train_predict = dogmodel(feature)\n",
    "        target_reshaped = target.unsqueeze(dim=1)\n",
    "        target = target_reshaped\n",
    "        \n",
    "        # 손실 계산\n",
    "        loss = loss_fn(train_predict, target)\n",
    "        loss_list.append(loss.item())\n",
    "        \n",
    "        # 성능 평가\n",
    "        accuracy = metrics.accuracy(train_predict, target, task = 'binary', num_classes = class_num)\n",
    "        recall = metrics.recall(train_predict, target, task = 'binary', num_classes = class_num)\n",
    "        precision = metrics.precision(train_predict, target, task = 'binary', num_classes = class_num)\n",
    "        f1_score = metrics.f1_score(train_predict, target, task = 'binary', num_classes = class_num)\n",
    "        \n",
    "        evaluation['accuracy_list'].append(accuracy.item())\n",
    "        evaluation['recall_list'].append(recall.item())\n",
    "        evaluation['precision_list'].append(precision.item())\n",
    "        evaluation['f1_score_list'].append(f1_score.item())\n",
    "        \n",
    "    print('검증 ing')    \n",
    "    loss_total = (sum(loss_list) / len(loss_list))\n",
    "    accuracy_total= (sum(evaluation['accuracy_list']) / len(evaluation['accuracy_list']))\n",
    "    recall_total = (sum(evaluation['recall_list'])/len(evaluation['recall_list']))\n",
    "    precision_total = (sum(evaluation['precision_list'])/len(evaluation['precision_list']))\n",
    "    f1_score_total = (sum(evaluation['f1_score_list'])/len(evaluation['f1_score_list']))\n",
    "    \n",
    "    # print('[ TESTING - Total ]')\n",
    "    # print(f\"loss : {loss_total} \\naccuracy : {accuracy_total} \\nrecall : {recall_total} \\nprecision : {precision_total} \\nf1_score : {f1_score_total}\")\n",
    "    \n",
    "    return loss_list, evaluation, loss_total, accuracy_total, recall_total, precision_total, f1_score_total\n",
    "\n",
    "# testing()"
   ],
   "metadata": {
    "collapsed": false,
    "ExecuteTime": {
     "end_time": "2024-03-20T03:28:30.789384Z",
     "start_time": "2024-03-20T03:28:30.766445Z"
    }
   },
   "id": "c7fda801eee92177",
   "execution_count": 66
  },
  {
   "cell_type": "markdown",
   "source": [
    "# 학습 진행 & 학습 결과 저장 & 학습 에포크별 모델 저장"
   ],
   "metadata": {
    "collapsed": false
   },
   "id": "c566eaec5a6b5893"
  },
  {
   "cell_type": "code",
   "outputs": [
    {
     "name": "stdout",
     "output_type": "stream",
     "text": [
      "학 습 중\n",
      "epo => 0\n",
      "검증 ing\n",
      "\n",
      "학 습 중\n",
      "epo => 1\n",
      "검증 ing\n",
      "학 습 중\n",
      "epo => 2\n",
      "검증 ing\n",
      "\n",
      "학 습 중\n",
      "epo => 3\n",
      "검증 ing\n",
      "학 습 중\n",
      "epo => 4\n",
      "검증 ing\n",
      "\n",
      "학 습 중\n",
      "epo => 5\n",
      "검증 ing\n",
      "학 습 중\n",
      "epo => 6\n",
      "검증 ing\n",
      "\n",
      "학 습 중\n",
      "epo => 7\n",
      "검증 ing\n",
      "학 습 중\n",
      "epo => 8\n",
      "검증 ing\n",
      "\n",
      "학 습 중\n",
      "epo => 9\n",
      "검증 ing\n",
      "학 습 중\n",
      "epo => 10\n",
      "검증 ing\n",
      "\n",
      "학 습 중\n",
      "epo => 11\n",
      "검증 ing\n",
      "학 습 중\n",
      "epo => 12\n",
      "검증 ing\n",
      "\n",
      "학 습 중\n",
      "epo => 13\n",
      "검증 ing\n",
      "학 습 중\n",
      "epo => 14\n",
      "검증 ing\n",
      "\n",
      "학 습 중\n",
      "epo => 15\n",
      "검증 ing\n",
      "학 습 중\n",
      "epo => 16\n",
      "검증 ing\n",
      "\n",
      "학 습 중\n",
      "epo => 17\n",
      "검증 ing\n",
      "학 습 중\n",
      "epo => 18\n",
      "검증 ing\n",
      "\n",
      "학 습 중\n",
      "epo => 19\n",
      "검증 ing\n",
      "학 습 중\n",
      "epo => 20\n",
      "검증 ing\n",
      "\n",
      "학 습 중\n",
      "epo => 21\n",
      "검증 ing\n",
      "학 습 중\n",
      "epo => 22\n",
      "검증 ing\n",
      "\n",
      "학 습 중\n",
      "epo => 23\n",
      "검증 ing\n",
      "학 습 중\n",
      "epo => 24\n",
      "검증 ing\n",
      "\n",
      "학 습 중\n",
      "epo => 25\n",
      "검증 ing\n",
      "학 습 중\n",
      "epo => 26\n",
      "검증 ing\n",
      "\n",
      "학 습 중\n",
      "epo => 27\n",
      "검증 ing\n",
      "학 습 중\n",
      "epo => 28\n",
      "검증 ing\n",
      "\n",
      "학 습 중\n",
      "epo => 29\n",
      "검증 ing\n",
      "학 습 중\n",
      "epo => 30\n",
      "검증 ing\n",
      "\n",
      "학 습 중\n",
      "epo => 31\n",
      "검증 ing\n",
      "학 습 중\n",
      "epo => 32\n",
      "검증 ing\n",
      "\n",
      "학 습 중\n",
      "epo => 33\n",
      "검증 ing\n",
      "학 습 중\n",
      "epo => 34\n",
      "검증 ing\n"
     ]
    }
   ],
   "source": [
    "# 학습 횟수\n",
    "epoch = 35\n",
    "\n",
    "train_loss_epoch = []\n",
    "valid_loss_epoch = []\n",
    "train_evaluation = []\n",
    "valid_evaluation = []\n",
    "\n",
    "for epo in range(epoch):\n",
    "    # 학습\n",
    "    tr_loss_list, tr_evaluation, tr_loss_total, tr_accuracy_total, tr_recall_total, tr_precision_total, tr_f1_score_total = training()\n",
    "    print(f\"epo => {epo}\")\n",
    "    train_loss_epoch.append(tr_loss_total)\n",
    "    train_evaluation.append(tr_evaluation)\n",
    "    # 검증\n",
    "    v_loss_list, v_evaluation, v_loss_total, v_accuracy_total, v_recall_total, v_precision_total, v_f1_score_total = testing()\n",
    "    valid_loss_epoch.append(v_loss_total)\n",
    "    valid_evaluation.append(v_evaluation)\n",
    "    print()    "
   ],
   "metadata": {
    "collapsed": false,
    "ExecuteTime": {
     "end_time": "2024-03-20T03:28:35.576215Z",
     "start_time": "2024-03-20T03:28:30.790483Z"
    }
   },
   "id": "c35c7398844f6272",
   "execution_count": 67
  },
  {
   "cell_type": "code",
   "outputs": [
    {
     "data": {
      "text/plain": "<Figure size 1500x600 with 1 Axes>",
      "image/png": "[encoded data removed]"
     },
     "metadata": {},
     "output_type": "display_data"
    }
   ],
   "source": [
    "epo_list = []\n",
    "for i in range(epoch):\n",
    "    epo_list.append(i+1)\n",
    "    \n",
    "import matplotlib.pyplot as plt\n",
    "plt.figure(figsize=(15,6))\n",
    "plt.scatter(epo_list, train_loss_epoch, label='training loss')\n",
    "plt.scatter(epo_list, valid_loss_epoch, label='validation loss')\n",
    "plt.legend()\n",
    "plt.title('loss change per epoch')\n",
    "plt.xlabel('epoch')\n",
    "plt.ylabel('loss')\n",
    "plt.show()"
   ],
   "metadata": {
    "collapsed": false,
    "ExecuteTime": {
     "end_time": "2024-03-20T03:28:35.793354Z",
     "start_time": "2024-03-20T03:28:35.577333Z"
    }
   },
   "id": "4e11b3ab16b4a8a1",
   "execution_count": 68
  },
  {
   "cell_type": "markdown",
   "source": [
    "# 검증 vs 학습 결과"
   ],
   "metadata": {
    "collapsed": false
   },
   "id": "e614d29501d2583b"
  },
  {
   "cell_type": "code",
   "outputs": [
    {
     "name": "stdout",
     "output_type": "stream",
     "text": [
      "35\n"
     ]
    }
   ],
   "source": [
    "print(len(train_evaluation))"
   ],
   "metadata": {
    "collapsed": false,
    "ExecuteTime": {
     "end_time": "2024-03-20T03:28:35.809125Z",
     "start_time": "2024-03-20T03:28:35.795423Z"
    }
   },
   "id": "447f09e32ef0e29b",
   "execution_count": 69
  },
  {
   "cell_type": "code",
   "outputs": [
    {
     "data": {
      "text/plain": "dict_keys(['accuracy_list', 'recall_list', 'precision_list', 'f1_score_list'])"
     },
     "execution_count": 70,
     "metadata": {},
     "output_type": "execute_result"
    }
   ],
   "source": [
    "train_evaluation[0].keys()"
   ],
   "metadata": {
    "collapsed": false,
    "ExecuteTime": {
     "end_time": "2024-03-20T03:28:35.831427Z",
     "start_time": "2024-03-20T03:28:35.810205Z"
    }
   },
   "id": "ede7c5e0f9e198e9",
   "execution_count": 70
  },
  {
   "cell_type": "code",
   "outputs": [
    {
     "data": {
      "text/plain": "[0.3499999940395355,\n 0.4000000059604645,\n 0.4000000059604645,\n 0.699999988079071,\n 0.550000011920929,\n 0.550000011920929,\n 0.4000000059604645,\n 0.699999988079071,\n 0.6499999761581421,\n 0.550000011920929,\n 0.44999998807907104,\n 0.3499999940395355,\n 0.699999988079071,\n 0.550000011920929,\n 0.6499999761581421,\n 0.3499999940395355,\n 0.44999998807907104,\n 0.44999998807907104,\n 0.5,\n 0.44999998807907104,\n 0.6000000238418579,\n 0.550000011920929,\n 0.5,\n 0.3499999940395355,\n 0.5,\n 0.4000000059604645,\n 0.44999998807907104,\n 0.6499999761581421,\n 0.44999998807907104,\n 0.3499999940395355,\n 0.3499999940395355,\n 0.5]"
     },
     "execution_count": 71,
     "metadata": {},
     "output_type": "execute_result"
    }
   ],
   "source": [
    "train_evaluation[0]['accuracy_list']"
   ],
   "metadata": {
    "collapsed": false,
    "ExecuteTime": {
     "end_time": "2024-03-20T03:28:35.846631Z",
     "start_time": "2024-03-20T03:28:35.832859Z"
    }
   },
   "id": "c21b89afb9f5c2e6",
   "execution_count": 71
  },
  {
   "cell_type": "code",
   "outputs": [],
   "source": [
    "avg_accuracy_per_epoch = sum(train_evaluation[0]['accuracy_list'])/len(train_evaluation[0]['accuracy_list'])\n",
    "avg_recall_per_epoch = sum(train_evaluation[0]['recall_list'])/len(train_evaluation[0]['recall_list'])\n",
    "avg_precision_per_epoch = sum(train_evaluation[0]['precision_list'])/len(train_evaluation[0]['precision_list'])\n",
    "avg_f1_score_per_epoch = sum(train_evaluation[0]['f1_score_list'])/len(train_evaluation[0]['f1_score_list'])"
   ],
   "metadata": {
    "collapsed": false,
    "ExecuteTime": {
     "end_time": "2024-03-20T03:28:35.862326Z",
     "start_time": "2024-03-20T03:28:35.848714Z"
    }
   },
   "id": "6cc78bed3eb3cc58",
   "execution_count": 72
  },
  {
   "cell_type": "code",
   "outputs": [],
   "source": [
    "tr_list_accuracy_per_epoch = []\n",
    "tr_list_recall_per_epoch = []\n",
    "tr_list_precision_per_epoch = []\n",
    "tr_list_f1_score_per_epoch = []\n",
    "\n",
    "for k in range(len(train_evaluation)):\n",
    "    avg_accuracy_per_epoch = sum(train_evaluation[k]['accuracy_list'])/len(train_evaluation[k]['accuracy_list'])\n",
    "    avg_recall_per_epoch = sum(train_evaluation[k]['recall_list'])/len(train_evaluation[k]['recall_list'])\n",
    "    avg_precision_per_epoch = sum(train_evaluation[k]['precision_list'])/len(train_evaluation[k]['precision_list'])\n",
    "    avg_f1_score_per_epoch = sum(train_evaluation[k]['f1_score_list'])/len(train_evaluation[k]['f1_score_list'])\n",
    "    \n",
    "    tr_list_accuracy_per_epoch.append(avg_accuracy_per_epoch)\n",
    "    tr_list_recall_per_epoch.append(avg_recall_per_epoch)\n",
    "    tr_list_precision_per_epoch.append(avg_precision_per_epoch)\n",
    "    tr_list_f1_score_per_epoch.append(avg_f1_score_per_epoch)"
   ],
   "metadata": {
    "collapsed": false,
    "ExecuteTime": {
     "end_time": "2024-03-20T03:28:35.878202Z",
     "start_time": "2024-03-20T03:28:35.864415Z"
    }
   },
   "id": "f6a4412d20f659b8",
   "execution_count": 73
  },
  {
   "cell_type": "code",
   "outputs": [],
   "source": [
    "v_list_accuracy_per_epoch = []\n",
    "v_list_recall_per_epoch = []\n",
    "v_list_precision_per_epoch = []\n",
    "v_list_f1_score_per_epoch = []\n",
    "\n",
    "for k in range(len(valid_evaluation)):\n",
    "    avg_accuracy_per_epoch = sum(valid_evaluation[k]['accuracy_list'])/len(valid_evaluation[k]['accuracy_list'])\n",
    "    avg_recall_per_epoch = sum(valid_evaluation[k]['recall_list'])/len(valid_evaluation[k]['recall_list'])\n",
    "    avg_precision_per_epoch = sum(valid_evaluation[k]['precision_list'])/len(valid_evaluation[k]['precision_list'])\n",
    "    avg_f1_score_per_epoch = sum(valid_evaluation[k]['f1_score_list'])/len(valid_evaluation[k]['f1_score_list'])\n",
    "    \n",
    "    v_list_accuracy_per_epoch.append(avg_accuracy_per_epoch)\n",
    "    v_list_recall_per_epoch.append(avg_recall_per_epoch)\n",
    "    v_list_precision_per_epoch.append(avg_precision_per_epoch)\n",
    "    v_list_f1_score_per_epoch.append(avg_f1_score_per_epoch)"
   ],
   "metadata": {
    "collapsed": false,
    "ExecuteTime": {
     "end_time": "2024-03-20T03:28:35.894270Z",
     "start_time": "2024-03-20T03:28:35.880318Z"
    }
   },
   "id": "b4f8554d990350eb",
   "execution_count": 74
  },
  {
   "cell_type": "code",
   "outputs": [
    {
     "data": {
      "text/plain": "<Figure size 800x800 with 4 Axes>",
      "image/png": "[encoded data removed]"
     },
     "metadata": {},
     "output_type": "display_data"
    }
   ],
   "source": [
    "plt.figure(figsize = (8,8))\n",
    "\n",
    "plt.subplot(2,2,1)\n",
    "plt.scatter(epo_list, tr_list_accuracy_per_epoch, label = 'train')\n",
    "plt.scatter(epo_list, v_list_accuracy_per_epoch, label = 'valid')\n",
    "plt.xlabel('epoch')\n",
    "plt.ylabel('accuracy')\n",
    "plt.title('[accuracy] train vs valid')\n",
    "plt.legend()\n",
    "\n",
    "plt.subplot(2,2,2)\n",
    "plt.scatter(epo_list, tr_list_recall_per_epoch, label = 'train', alpha = 0.5)\n",
    "plt.scatter(epo_list, v_list_recall_per_epoch, label = 'valid',  alpha = 0.5)\n",
    "plt.xlabel('epoch')\n",
    "plt.ylabel('recall')\n",
    "plt.title('[recall] train vs valid')\n",
    "plt.legend()\n",
    "\n",
    "plt.subplot(2,2,3)\n",
    "plt.scatter(epo_list, tr_list_precision_per_epoch, label = 'train')\n",
    "plt.scatter(epo_list, v_list_precision_per_epoch, label = 'valid')\n",
    "plt.xlabel('epoch')\n",
    "plt.ylabel('precision')\n",
    "plt.title('[precision] train vs valid')\n",
    "plt.legend()\n",
    "\n",
    "plt.subplot(2,2,4)\n",
    "plt.scatter(epo_list, tr_list_f1_score_per_epoch, label = 'train')\n",
    "plt.scatter(epo_list, v_list_f1_score_per_epoch, label = 'valid')\n",
    "plt.xlabel('epoch')\n",
    "plt.ylabel('f1_score')\n",
    "plt.title('[f1_score] train vs valid')\n",
    "plt.legend()\n",
    "\n",
    "plt.tight_layout()\n",
    "plt.show()"
   ],
   "metadata": {
    "collapsed": false,
    "ExecuteTime": {
     "end_time": "2024-03-20T03:28:37.015791Z",
     "start_time": "2024-03-20T03:28:35.897430Z"
    }
   },
   "id": "fa548c60c2ced324",
   "execution_count": 75
  },
  {
   "cell_type": "markdown",
   "source": [
    "### 분석결과\n",
    "- 각 범위의 차이가 그리 크지 않고 에포크 별로 학습시켜도 딱히 나아지지 않는다.\n",
    "- 다만 학습과 검증용 사이의 결과 범위 차이가 그리 크지 않으므로 학습한 만큼 검증이 제대로 되었다.\n",
    "- 즉, 학습 점수는 높지 않지만, 학습 과정에서는 정확히 되었음을 알 수 있다."
   ],
   "metadata": {
    "collapsed": false
   },
   "id": "3e6d5615854b3f8f"
  },
  {
   "cell_type": "markdown",
   "source": [
    "# 학습 스케줄러"
   ],
   "metadata": {
    "collapsed": false
   },
   "id": "c52ca49da79e935a"
  },
  {
   "cell_type": "markdown",
   "source": [
    "# 예측"
   ],
   "metadata": {
    "collapsed": false
   },
   "id": "d7f69e725e2b82be"
  },
  {
   "cell_type": "code",
   "outputs": [
    {
     "data": {
      "text/plain": "([tensor(0.6967, grad_fn=<BinaryCrossEntropyBackward0>),\n  tensor(0.6967, grad_fn=<BinaryCrossEntropyBackward0>),\n  tensor(0.6956, grad_fn=<BinaryCrossEntropyBackward0>),\n  tensor(0.6991, grad_fn=<BinaryCrossEntropyBackward0>),\n  tensor(0.6920, grad_fn=<BinaryCrossEntropyBackward0>),\n  tensor(0.6920, grad_fn=<BinaryCrossEntropyBackward0>),\n  tensor(0.6909, grad_fn=<BinaryCrossEntropyBackward0>),\n  tensor(0.6885, grad_fn=<BinaryCrossEntropyBackward0>),\n  tensor(0.6932, grad_fn=<BinaryCrossEntropyBackward0>)],\n {'accuracy_list': [0.3499999940395355,\n   0.3499999940395355,\n   0.4000000059604645,\n   0.25,\n   0.550000011920929,\n   0.550000011920929,\n   0.6000000238418579,\n   0.699999988079071,\n   0.5],\n  'recall_list': [1.0, 1.0, 1.0, 1.0, 1.0, 1.0, 1.0, 1.0, 1.0],\n  'precision_list': [0.3499999940395355,\n   0.3499999940395355,\n   0.4000000059604645,\n   0.25,\n   0.550000011920929,\n   0.550000011920929,\n   0.6000000238418579,\n   0.699999988079071,\n   0.5],\n  'f1_score_list': [0.5185185074806213,\n   0.5185185074806213,\n   0.5714285969734192,\n   0.4000000059604645,\n   0.7096773982048035,\n   0.7096773982048035,\n   0.75,\n   0.8235294222831726,\n   0.6666666865348816]},\n tensor(0.6939, grad_fn=<DivBackward0>),\n 0.4722222255335914,\n 1.0,\n 0.4722222255335914,\n 0.6297796136803098)"
     },
     "execution_count": 76,
     "metadata": {},
     "output_type": "execute_result"
    }
   ],
   "source": [
    "# 예측용 함수\n",
    "def predicting():\n",
    "    # 일단 train은 아니니 eval()로 해도 될듯하다.\n",
    "    dogmodel.eval()\n",
    "    \n",
    "    loss_list = []\n",
    "    evaluation = {'accuracy_list':[], 'recall_list':[], 'precision_list':[], 'f1_score_list':[]}\n",
    "    for (f, t) in test_loader:\n",
    "        feature, target = f.to(device), t.to(device)\n",
    "        \n",
    "        # 학습\n",
    "        train_predict = dogmodel(feature)\n",
    "        target_reshaped = target.unsqueeze(dim=1)\n",
    "        target = target_reshaped\n",
    "        \n",
    "        \n",
    "        # 손실 계산\n",
    "        loss = loss_fn(train_predict, target)\n",
    "        loss_list.append(loss)\n",
    "        \n",
    "        # 성능 평가\n",
    "        accuracy = metrics.accuracy(train_predict, target, task = 'binary', num_classes = class_num)\n",
    "        recall = metrics.recall(train_predict, target, task = 'binary', num_classes = class_num)\n",
    "        precision = metrics.precision(train_predict, target, task = 'binary', num_classes = class_num)\n",
    "        f1_score = metrics.f1_score(train_predict, target, task = 'binary', num_classes = class_num)\n",
    "        \n",
    "        evaluation['accuracy_list'].append(accuracy.item())\n",
    "        evaluation['recall_list'].append(recall.item())\n",
    "        evaluation['precision_list'].append(precision.item())\n",
    "        evaluation['f1_score_list'].append(f1_score.item())\n",
    "        \n",
    "        \n",
    "    loss_total = (sum(loss_list) / len(loss_list))\n",
    "    accuracy_total= (sum(evaluation['accuracy_list']) / len(evaluation['accuracy_list']))\n",
    "    recall_total = (sum(evaluation['recall_list'])/len(evaluation['recall_list']))\n",
    "    precision_total = (sum(evaluation['precision_list'])/len(evaluation['precision_list']))\n",
    "    f1_score_total = (sum(evaluation['f1_score_list'])/len(evaluation['f1_score_list']))\n",
    "    \n",
    "    # print('[ PREDICTING - Total ]')\n",
    "    # print(f\"loss : {loss_total} \\naccuracy : {accuracy_total} \\nrecall : {recall_total} \\nprecision : {precision_total} \\nf1_score : {f1_score_total}\")\n",
    "    \n",
    "    return loss_list, evaluation, loss_total, accuracy_total, recall_total, precision_total, f1_score_total\n",
    "\n",
    "predicting()"
   ],
   "metadata": {
    "collapsed": false,
    "ExecuteTime": {
     "end_time": "2024-03-20T03:28:37.063050Z",
     "start_time": "2024-03-20T03:28:37.016883Z"
    }
   },
   "id": "2ae69ce4585e4b0a",
   "execution_count": 76
  },
  {
   "cell_type": "code",
   "outputs": [],
   "source": [
    "pred_loss_list, pred_evaluation, pred_loss_total, pred_accuracy_total, pred_recall_total, pred_precision_total, pred_f1_score_total = predicting()"
   ],
   "metadata": {
    "collapsed": false,
    "ExecuteTime": {
     "end_time": "2024-03-20T03:28:37.109380Z",
     "start_time": "2024-03-20T03:28:37.064048Z"
    }
   },
   "id": "c9176e97c97c726e",
   "execution_count": 77
  },
  {
   "cell_type": "code",
   "outputs": [
    {
     "name": "stdout",
     "output_type": "stream",
     "text": [
      "predict loss : 0.6938698291778564\n",
      "predict accuracy : 0.4722222255335914\n",
      "predict recall : 1.0\n",
      "predict precision : 0.4722222255335914\n",
      "predict f1: 0.6297796136803098\n"
     ]
    }
   ],
   "source": [
    "print(f\"predict loss : {pred_loss_total}\")\n",
    "print(f\"predict accuracy : {pred_accuracy_total}\")\n",
    "print(f\"predict recall : {pred_recall_total}\")\n",
    "print(f\"predict precision : {pred_precision_total}\")\n",
    "print(f\"predict f1: {pred_f1_score_total}\")"
   ],
   "metadata": {
    "collapsed": false,
    "ExecuteTime": {
     "end_time": "2024-03-20T03:28:37.126012Z",
     "start_time": "2024-03-20T03:28:37.111521Z"
    }
   },
   "id": "deb9f51e45b3a10",
   "execution_count": 78
  },
  {
   "cell_type": "code",
   "outputs": [],
   "source": [],
   "metadata": {
    "collapsed": false,
    "ExecuteTime": {
     "end_time": "2024-03-20T03:28:37.141342Z",
     "start_time": "2024-03-20T03:28:37.127164Z"
    }
   },
   "id": "bcd66ec2757b098",
   "execution_count": 78
  },
  {
   "cell_type": "markdown",
   "source": [
    "# 모델 저장"
   ],
   "metadata": {
    "collapsed": false
   },
   "id": "37f9670d3ea75b9"
  },
  {
   "cell_type": "code",
   "outputs": [],
   "source": [
    "import joblib\n",
    "import os\n",
    "\n",
    "# 저장 폴더 존재 여부 확인 후 저장\n",
    "model_dir = './my_model/'\n",
    "model_name = 'dog_model_01.pth'\n",
    "# 저장 폴더 조냊 여부 확인 후 저장\n",
    "if not os.path.exists(model_dir):\n",
    "    os.mkdir(model_dir)"
   ],
   "metadata": {
    "collapsed": false,
    "ExecuteTime": {
     "end_time": "2024-03-20T04:53:14.761386Z",
     "start_time": "2024-03-20T04:53:14.747083Z"
    }
   },
   "id": "411b55a84db414e",
   "execution_count": 105
  },
  {
   "cell_type": "code",
   "outputs": [],
   "source": [
    "# 모델 저장\n",
    "torch.save(dogmodel, model_dir+model_name)"
   ],
   "metadata": {
    "collapsed": false,
    "ExecuteTime": {
     "end_time": "2024-03-20T04:53:22.606026Z",
     "start_time": "2024-03-20T04:53:22.592020Z"
    }
   },
   "id": "931c4edf679565d2",
   "execution_count": 107
  },
  {
   "cell_type": "code",
   "outputs": [
    {
     "data": {
      "text/plain": "myModel(\n  (layer1): Linear(in_features=901, out_features=800, bias=True)\n  (layer2): Linear(in_features=800, out_features=400, bias=True)\n  (layer3): Linear(in_features=400, out_features=300, bias=True)\n  (layer4): Linear(in_features=300, out_features=150, bias=True)\n  (layer5): Linear(in_features=150, out_features=50, bias=True)\n  (layer6): Linear(in_features=50, out_features=1, bias=True)\n  (sig): Sigmoid()\n)"
     },
     "execution_count": 109,
     "metadata": {},
     "output_type": "execute_result"
    }
   ],
   "source": [
    "# 모델 불러오기\n",
    "called_model = torch.load(model_dir + model_name)\n",
    "called_model.eval()"
   ],
   "metadata": {
    "collapsed": false,
    "ExecuteTime": {
     "end_time": "2024-03-20T05:00:00.192345Z",
     "start_time": "2024-03-20T05:00:00.174120Z"
    }
   },
   "id": "e799f86898225ad0",
   "execution_count": 109
  },
  {
   "cell_type": "code",
   "outputs": [],
   "source": [],
   "metadata": {
    "collapsed": false
   },
   "id": "ea5f4a8f5c4edf10"
  }
 ],
 "metadata": {
  "kernelspec": {
   "display_name": "Python 3",
   "language": "python",
   "name": "python3"
  },
  "language_info": {
   "codemirror_mode": {
    "name": "ipython",
    "version": 2
   },
   "file_extension": ".py",
   "mimetype": "text/x-python",
   "name": "python",
   "nbconvert_exporter": "python",
   "pygments_lexer": "ipython2",
   "version": "2.7.6"
  }
 },
 "nbformat": 4,
 "nbformat_minor": 5
}
