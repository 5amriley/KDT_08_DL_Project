{
 "cells": [
  {
   "cell_type": "markdown",
   "source": [
    "# 방향\n",
    "- 이중분류 할것이다: 사진이 주어졌을때 이게 개냐 ~ 아니냐 ~\n",
    "\n",
    "# 할거\n",
    "- 3개의 함수 : 학습, 검증 및 테스트, 예측\n",
    "- 모델 : 층, 층별 노드, 퍼셉트론 수 조절한게 있어야 함"
   ],
   "metadata": {
    "collapsed": false
   },
   "id": "266431e5171dc257"
  },
  {
   "cell_type": "code",
   "outputs": [],
   "source": [
    "from PIL import Image\n",
    "import numpy as np\n",
    "import pandas as pd\n",
    "# from sklearn.datasets import fetch_openml \n",
    "# from sklearn.preprocessing import LabelEncoder, OneHotEncoder\n",
    "# import torch\n",
    "# import torch.nn.functional as F \n",
    "# import torch.nn as nn \n",
    "# from torch.utils.data import Dataset, DataLoader, random_split\n",
    "# import torch.optim as optim \n",
    "# import torchmetrics.functional as metrics"
   ],
   "metadata": {
    "collapsed": false,
    "ExecuteTime": {
     "end_time": "2024-03-19T10:42:28.628862Z",
     "start_time": "2024-03-19T10:42:27.975742Z"
    }
   },
   "id": "904942130b7b8e85",
   "execution_count": 1
  },
  {
   "cell_type": "code",
   "outputs": [],
   "source": [
    "# 회색으로 변환 후 이미지 파일 불러오기\n",
    "# img = Image.open('C:/Users/kdp/PycharmProjects/EXAM_DL/KDT_09_DEEP_LEARNING/project/animal_faces/train/cat/pixabay_cat_000002.jpg').convert('L')\n",
    "# pix = np.array(img)\n",
    "# print(img.size)\n",
    "# x = np.array(img)\n",
    "# print(x)\n",
    "# print(x.shape)"
   ],
   "metadata": {
    "collapsed": false,
    "ExecuteTime": {
     "end_time": "2024-03-19T10:37:32.618078Z",
     "start_time": "2024-03-19T10:37:32.608276Z"
    }
   },
   "id": "b87838a75c43e015",
   "execution_count": 15
  },
  {
   "cell_type": "code",
   "outputs": [
    {
     "name": "stdout",
     "output_type": "stream",
     "text": [
      "예외 발생! => 7번 이미지 없음\n"
     ]
    }
   ],
   "source": [
    "no_file_num = []\n",
    "for i in range(2, 10):\n",
    "    try:\n",
    "        img = Image.open(f'C:/Users/kdp/PycharmProjects/EXAM_DL/KDT_09_DEEP_LEARNING/project/animal_faces/train/cat/pixabay_cat_00000{i}.jpg').convert('L')\n",
    "        pix = np.array(img)\n",
    "        x = np.array(img)\n",
    "        # print(f\"{i}번 이미지 shape => {x.shape}\")\n",
    "    except:\n",
    "        print(f'예외 발생! => {i}번 이미지 없음')\n",
    "        no_file_num.append(i)"
   ],
   "metadata": {
    "collapsed": false,
    "ExecuteTime": {
     "end_time": "2024-03-19T10:43:05.155467Z",
     "start_time": "2024-03-19T10:43:05.094715Z"
    }
   },
   "id": "516b5d4d6cc740e4",
   "execution_count": 2
  },
  {
   "cell_type": "code",
   "outputs": [
    {
     "name": "stdout",
     "output_type": "stream",
     "text": [
      "예외 발생! => 10번 이미지 없음\n",
      "예외 발생! => 37번 이미지 없음\n",
      "예외 발생! => 40번 이미지 없음\n",
      "예외 발생! => 51번 이미지 없음\n",
      "예외 발생! => 70번 이미지 없음\n",
      "예외 발생! => 76번 이미지 없음\n",
      "예외 발생! => 81번 이미지 없음\n",
      "예외 발생! => 96번 이미지 없음\n",
      "예외 발생! => 99번 이미지 없음\n"
     ]
    }
   ],
   "source": [
    "for i in range(10, 100):\n",
    "    try:\n",
    "        img = Image.open(f'C:/Users/kdp/PycharmProjects/EXAM_DL/KDT_09_DEEP_LEARNING/project/animal_faces/train/cat/pixabay_cat_0000{i}.jpg').convert('L')\n",
    "        pix = np.array(img)\n",
    "        x = np.array(img)\n",
    "        # print(f\"{i}번 이미지 shape => {x.shape}\")\n",
    "    except:\n",
    "        print(f'예외 발생! => {i}번 이미지 없음')\n",
    "        no_file_num.append(i)"
   ],
   "metadata": {
    "collapsed": false,
    "ExecuteTime": {
     "end_time": "2024-03-19T10:43:06.147670Z",
     "start_time": "2024-03-19T10:43:05.861797Z"
    }
   },
   "id": "f672cd32c6a19dc0",
   "execution_count": 3
  },
  {
   "cell_type": "code",
   "outputs": [
    {
     "name": "stdout",
     "output_type": "stream",
     "text": [
      "예외 발생! => 108번 이미지 없음\n",
      "예외 발생! => 117번 이미지 없음\n",
      "예외 발생! => 126번 이미지 없음\n",
      "예외 발생! => 147번 이미지 없음\n",
      "예외 발생! => 151번 이미지 없음\n",
      "예외 발생! => 165번 이미지 없음\n",
      "예외 발생! => 169번 이미지 없음\n",
      "예외 발생! => 178번 이미지 없음\n",
      "예외 발생! => 181번 이미지 없음\n",
      "예외 발생! => 190번 이미지 없음\n",
      "예외 발생! => 202번 이미지 없음\n",
      "예외 발생! => 231번 이미지 없음\n",
      "예외 발생! => 241번 이미지 없음\n",
      "예외 발생! => 248번 이미지 없음\n",
      "예외 발생! => 276번 이미지 없음\n",
      "예외 발생! => 291번 이미지 없음\n",
      "예외 발생! => 296번 이미지 없음\n",
      "예외 발생! => 299번 이미지 없음\n",
      "예외 발생! => 302번 이미지 없음\n",
      "예외 발생! => 314번 이미지 없음\n",
      "예외 발생! => 315번 이미지 없음\n",
      "예외 발생! => 325번 이미지 없음\n",
      "예외 발생! => 339번 이미지 없음\n",
      "예외 발생! => 343번 이미지 없음\n",
      "예외 발생! => 353번 이미지 없음\n",
      "예외 발생! => 355번 이미지 없음\n",
      "예외 발생! => 380번 이미지 없음\n",
      "예외 발생! => 390번 이미지 없음\n",
      "예외 발생! => 392번 이미지 없음\n",
      "예외 발생! => 403번 이미지 없음\n",
      "예외 발생! => 417번 이미지 없음\n",
      "예외 발생! => 440번 이미지 없음\n",
      "예외 발생! => 441번 이미지 없음\n",
      "예외 발생! => 459번 이미지 없음\n",
      "예외 발생! => 468번 이미지 없음\n",
      "예외 발생! => 491번 이미지 없음\n",
      "예외 발생! => 492번 이미지 없음\n",
      "예외 발생! => 504번 이미지 없음\n",
      "예외 발생! => 514번 이미지 없음\n",
      "예외 발생! => 518번 이미지 없음\n",
      "예외 발생! => 531번 이미지 없음\n",
      "예외 발생! => 535번 이미지 없음\n",
      "예외 발생! => 540번 이미지 없음\n",
      "예외 발생! => 542번 이미지 없음\n",
      "예외 발생! => 573번 이미지 없음\n",
      "예외 발생! => 582번 이미지 없음\n",
      "예외 발생! => 592번 이미지 없음\n",
      "예외 발생! => 615번 이미지 없음\n",
      "예외 발생! => 623번 이미지 없음\n",
      "예외 발생! => 629번 이미지 없음\n",
      "예외 발생! => 636번 이미지 없음\n",
      "예외 발생! => 637번 이미지 없음\n",
      "예외 발생! => 651번 이미지 없음\n",
      "예외 발생! => 663번 이미지 없음\n",
      "예외 발생! => 666번 이미지 없음\n",
      "예외 발생! => 668번 이미지 없음\n",
      "예외 발생! => 696번 이미지 없음\n",
      "예외 발생! => 700번 이미지 없음\n",
      "예외 발생! => 708번 이미지 없음\n",
      "예외 발생! => 730번 이미지 없음\n",
      "예외 발생! => 735번 이미지 없음\n",
      "예외 발생! => 743번 이미지 없음\n",
      "예외 발생! => 751번 이미지 없음\n",
      "예외 발생! => 755번 이미지 없음\n",
      "예외 발생! => 756번 이미지 없음\n",
      "예외 발생! => 760번 이미지 없음\n",
      "예외 발생! => 791번 이미지 없음\n",
      "예외 발생! => 801번 이미지 없음\n",
      "예외 발생! => 803번 이미지 없음\n",
      "예외 발생! => 812번 이미지 없음\n",
      "예외 발생! => 829번 이미지 없음\n",
      "예외 발생! => 831번 이미지 없음\n",
      "예외 발생! => 833번 이미지 없음\n",
      "예외 발생! => 840번 이미지 없음\n",
      "예외 발생! => 842번 이미지 없음\n",
      "예외 발생! => 844번 이미지 없음\n",
      "예외 발생! => 847번 이미지 없음\n",
      "예외 발생! => 861번 이미지 없음\n",
      "예외 발생! => 867번 이미지 없음\n",
      "예외 발생! => 876번 이미지 없음\n",
      "예외 발생! => 889번 이미지 없음\n",
      "예외 발생! => 890번 이미지 없음\n",
      "예외 발생! => 893번 이미지 없음\n",
      "예외 발생! => 901번 이미지 없음\n",
      "예외 발생! => 929번 이미지 없음\n",
      "예외 발생! => 935번 이미지 없음\n",
      "예외 발생! => 968번 이미지 없음\n",
      "예외 발생! => 980번 이미지 없음\n",
      "예외 발생! => 988번 이미지 없음\n",
      "예외 발생! => 989번 이미지 없음\n",
      "예외 발생! => 990번 이미지 없음\n",
      "예외 발생! => 1000번 이미지 없음\n",
      "예외 발생! => 1001번 이미지 없음\n",
      "예외 발생! => 1002번 이미지 없음\n",
      "예외 발생! => 1003번 이미지 없음\n",
      "예외 발생! => 1004번 이미지 없음\n",
      "예외 발생! => 1005번 이미지 없음\n",
      "예외 발생! => 1006번 이미지 없음\n",
      "예외 발생! => 1007번 이미지 없음\n",
      "예외 발생! => 1008번 이미지 없음\n",
      "예외 발생! => 1009번 이미지 없음\n"
     ]
    }
   ],
   "source": [
    "for i in range(100, 1010):\n",
    "    try:\n",
    "        img = Image.open(f'C:/Users/kdp/PycharmProjects/EXAM_DL/KDT_09_DEEP_LEARNING/project/animal_faces/train/cat/pixabay_cat_000{i}.jpg').convert('L')\n",
    "        pix = np.array(img)\n",
    "        x = np.array(img)\n",
    "        # print(f\"{i}번 이미지 shape => {x.shape}\")\n",
    "    except:\n",
    "        print(f'예외 발생! => {i}번 이미지 없음')\n",
    "        no_file_num.append(i)"
   ],
   "metadata": {
    "collapsed": false,
    "ExecuteTime": {
     "end_time": "2024-03-19T10:43:09.623746Z",
     "start_time": "2024-03-19T10:43:06.885892Z"
    }
   },
   "id": "e01a698281fa6982",
   "execution_count": 4
  },
  {
   "cell_type": "code",
   "outputs": [],
   "source": [
    "# print(len(no_file_num))"
   ],
   "metadata": {
    "collapsed": false,
    "ExecuteTime": {
     "end_time": "2024-03-19T10:43:09.638872Z",
     "start_time": "2024-03-19T10:43:09.625805Z"
    }
   },
   "id": "665cd6e43cb3e612",
   "execution_count": 5
  },
  {
   "cell_type": "code",
   "outputs": [
    {
     "name": "stdout",
     "output_type": "stream",
     "text": [
      "(512, 512)\n",
      "[[165 163 161 ... 104 104 104]\n",
      " [165 163 161 ... 104 104 104]\n",
      " [165 163 161 ... 104 104 104]\n",
      " ...\n",
      " [158 157 157 ...  91  90  90]\n",
      " [156 155 155 ...  92  92  92]\n",
      " [155 154 155 ...  93  93  93]]\n"
     ]
    }
   ],
   "source": [
    "img = Image.open('C:/Users/kdp/PycharmProjects/EXAM_DL/KDT_09_DEEP_LEARNING/project/animal_faces/train/cat/pixabay_cat_000002.jpg').convert('L')\n",
    "pix = np.array(img)\n",
    "x = np.array(img)\n",
    "print(x.shape)\n",
    "print(x)"
   ],
   "metadata": {
    "collapsed": false,
    "ExecuteTime": {
     "end_time": "2024-03-19T10:43:10.740369Z",
     "start_time": "2024-03-19T10:43:10.724551Z"
    }
   },
   "id": "cff7e074fb0197b",
   "execution_count": 6
  },
  {
   "cell_type": "code",
   "outputs": [],
   "source": [
    "total_list = []   # 모든 이미지 파일들의 픽셀값을 담은 리스트를 모두 담은 리스트\n",
    "list = []  # 1개의 이미지 파일에 대한 픽셀값\n",
    "count = 1\n",
    "for first in range(len(x)):\n",
    "    # print(f\"----- {count} ------\")\n",
    "    # print(x[first])\n",
    "    # count +=1\n",
    "    for value in range(len(x[first])):\n",
    "        list.append(x[first][value])"
   ],
   "metadata": {
    "collapsed": false,
    "ExecuteTime": {
     "end_time": "2024-03-19T10:43:13.310352Z",
     "start_time": "2024-03-19T10:43:13.227776Z"
    }
   },
   "id": "960f1b3ce2394456",
   "execution_count": 7
  },
  {
   "cell_type": "code",
   "outputs": [
    {
     "name": "stdout",
     "output_type": "stream",
     "text": [
      "50\n"
     ]
    }
   ],
   "source": [
    "total_list = []   # 모든 이미지 파일들의 픽셀값을 담은 리스트를 모두 담은 리스트\n",
    "\n",
    "# no_file_num\n",
    "for i in range(2, 10):\n",
    "    if i not in no_file_num:\n",
    "        img = Image.open(f'C:/Users/kdp/PycharmProjects/EXAM_DL/KDT_09_DEEP_LEARNING/project/animal_faces/train/cat/pixabay_cat_00000{i}.jpg').convert('L')\n",
    "        pix = np.array(img)\n",
    "        x = np.array(img)\n",
    "\n",
    "        list = []  # 1개의 이미지 파일에 대한 픽셀값\n",
    "        for first in range(len(x)):\n",
    "            for value in range(len(x[first])):\n",
    "                list.append(x[first][value])\n",
    "        total_list.append(list)\n",
    "\n",
    "for i in range(10, 57):\n",
    "    if i not in no_file_num:\n",
    "        img = Image.open(f'C:/Users/kdp/PycharmProjects/EXAM_DL/KDT_09_DEEP_LEARNING/project/animal_faces/train/cat/pixabay_cat_0000{i}.jpg').convert('L')\n",
    "        pix = np.array(img)\n",
    "        x = np.array(img)\n",
    "\n",
    "        list = []  # 1개의 이미지 파일에 대한 픽셀값\n",
    "        for first in range(len(x)):\n",
    "            for value in range(len(x[first])):\n",
    "                list.append(x[first][value])\n",
    "        total_list.append(list)\n",
    "        \n",
    "print(len(total_list))"
   ],
   "metadata": {
    "collapsed": false,
    "ExecuteTime": {
     "end_time": "2024-03-19T10:45:31.297755Z",
     "start_time": "2024-03-19T10:45:25.388476Z"
    }
   },
   "id": "c763d95362bbb32f",
   "execution_count": 16
  },
  {
   "cell_type": "code",
   "outputs": [],
   "source": [
    "# for i in range(100, 113):\n",
    "#     if i not in no_file_num:\n",
    "#         img = Image.open(f'C:/Users/kdp/PycharmProjects/EXAM_DL/KDT_09_DEEP_LEARNING/project/animal_faces/train/cat/pixabay_cat_000{i}.jpg').convert('L')\n",
    "#         pix = np.array(img)\n",
    "#         x = np.array(img)\n",
    "# \n",
    "#         list = []  # 1개의 이미지 파일에 대한 픽셀값\n",
    "#         for first in range(len(x)):\n",
    "#             for value in range(len(x[first])):\n",
    "#                 list.append(x[first][value])\n",
    "#         total_list.append(list)\n",
    "# print(len(total_list))"
   ],
   "metadata": {
    "collapsed": false,
    "ExecuteTime": {
     "end_time": "2024-03-19T10:45:33.734646Z",
     "start_time": "2024-03-19T10:45:33.725411Z"
    }
   },
   "id": "d6a87fbf4f6bb39",
   "execution_count": 17
  },
  {
   "cell_type": "code",
   "outputs": [],
   "source": [
    "cat_df = pd.DataFrame(total_list)\n",
    "cat_df.to_csv('cat_df.csv')"
   ],
   "metadata": {
    "collapsed": false,
    "ExecuteTime": {
     "end_time": "2024-03-19T10:48:25.330536Z",
     "start_time": "2024-03-19T10:46:53.026572Z"
    }
   },
   "id": "b77f91a219ca4e63",
   "execution_count": 19
  },
  {
   "cell_type": "code",
   "outputs": [
    {
     "name": "stdout",
     "output_type": "stream",
     "text": [
      "['pixel262140', 'pixel262141', 'pixel262142', 'pixel262143', 'pixel262144']\n"
     ]
    }
   ],
   "source": [
    "col_list = []\n",
    "for i in range(1,262145):\n",
    "    col_list.append(f\"pixel{i}\")\n",
    "    \n",
    "print(col_list[-5:])"
   ],
   "metadata": {
    "collapsed": false,
    "ExecuteTime": {
     "end_time": "2024-03-19T10:43:18.073387Z",
     "start_time": "2024-03-19T10:43:17.987097Z"
    }
   },
   "id": "bb98199ca426ca9c",
   "execution_count": 9
  },
  {
   "cell_type": "code",
   "outputs": [],
   "source": [
    "# cat_df.to_csv('cat_df.csv')"
   ],
   "metadata": {
    "collapsed": false
   },
   "id": "11c792ec80b2805d"
  }
 ],
 "metadata": {
  "kernelspec": {
   "display_name": "Python 3",
   "language": "python",
   "name": "python3"
  },
  "language_info": {
   "codemirror_mode": {
    "name": "ipython",
    "version": 2
   },
   "file_extension": ".py",
   "mimetype": "text/x-python",
   "name": "python",
   "nbconvert_exporter": "python",
   "pygments_lexer": "ipython2",
   "version": "2.7.6"
  }
 },
 "nbformat": 4,
 "nbformat_minor": 5
}
