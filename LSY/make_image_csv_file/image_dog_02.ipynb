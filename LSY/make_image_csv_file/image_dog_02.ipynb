{
 "cells": [
  {
   "cell_type": "markdown",
   "source": [
    "# 방향\n",
    "- 이중분류 할것이다: 사진이 주어졌을때 이게 개냐 ~ 아니냐 ~\n",
    "\n",
    "# 할거\n",
    "- 3개의 함수 : 학습, 검증 및 테스트, 예측\n",
    "- 모델 : 층, 층별 노드, 퍼셉트론 수 조절한게 있어야 함"
   ],
   "metadata": {
    "collapsed": false
   },
   "id": "266431e5171dc257"
  },
  {
   "cell_type": "code",
   "outputs": [],
   "source": [
    "from PIL import Image\n",
    "import numpy as np\n",
    "import pandas as pd\n",
    "# from sklearn.datasets import fetch_openml \n",
    "# from sklearn.preprocessing import LabelEncoder, OneHotEncoder\n",
    "# import torch\n",
    "# import torch.nn.functional as F \n",
    "# import torch.nn as nn \n",
    "# from torch.utils.data import Dataset, DataLoader, random_split\n",
    "# import torch.optim as optim \n",
    "# import torchmetrics.functional as metrics"
   ],
   "metadata": {
    "collapsed": false,
    "ExecuteTime": {
     "end_time": "2024-03-19T15:57:04.102357Z",
     "start_time": "2024-03-19T15:57:03.551745Z"
    }
   },
   "id": "904942130b7b8e85",
   "execution_count": 2
  },
  {
   "cell_type": "code",
   "outputs": [],
   "source": [
    "# 회색으로 변환 후 이미지 파일 불러오기\n",
    "# img = Image.open('C:/Users/kdp/PycharmProjects/EXAM_DL/KDT_09_DEEP_LEARNING/project/animal_faces/train/cat/pixabay_cat_000002.jpg').convert('L')\n",
    "# pix = np.array(img)\n",
    "# print(img.size)\n",
    "# x = np.array(img)\n",
    "# print(x)\n",
    "# print(x.shape)"
   ],
   "metadata": {
    "collapsed": false,
    "ExecuteTime": {
     "end_time": "2024-03-19T15:57:04.336200Z",
     "start_time": "2024-03-19T15:57:04.322632Z"
    }
   },
   "id": "b87838a75c43e015",
   "execution_count": 3
  },
  {
   "cell_type": "markdown",
   "source": [
    "# 회색으로 변환 => 사진 픽셀 수 변경 (30, 30) => 이미지 저장 => 저장된 이미지 파일 불러오기"
   ],
   "metadata": {
    "collapsed": false
   },
   "id": "24e780fc4fa9b246"
  },
  {
   "cell_type": "code",
   "outputs": [
    {
     "name": "stdout",
     "output_type": "stream",
     "text": [
      "before size : (512, 512)\n",
      "after size : (30, 30)\n",
      "[[ 43  38  39  41  46  53  58  54  62  74  87  92 100 102  97 146 239 239\n",
      "  230 238 241 238 241 230 232 227 231 224 216 205]\n",
      " [ 36  36  38  40  47  51  58  72  72  70  83  93 104 112 113 115 164 218\n",
      "  230 234 240 236 245 233 236 234 235 210 218 207]\n",
      " [ 33  36  36  38  47  75  97 109 109  95  97 100  96  99  99 107 111 119\n",
      "  142 159 178 169 186 212 231 237 224 212 224 219]\n",
      " [ 36  38  34  40  80  95  84  87  92  85  87  88  83  88  94  88  92  92\n",
      "   94 103  99  80  89 119 178 232 240 235 233 232]\n",
      " [ 32  33  51  85  80  68  60  68  83  78  74  78  78  82  86  83  80  83\n",
      "   78  81  81  78  76  90 102 141 214 241 232 236]\n",
      " [ 30  44  84  68  54  55  55  47  71  72  75  80  84  84  86  90  78  79\n",
      "   80  72  60  69  62  83  94  87 116 187 229 231]\n",
      " [ 31  65  64  41  42  51  54  51  54  67  77  82  80  78  76  78  83  77\n",
      "   82  76  48  42  46  70  91  85  81 121 206 224]\n",
      " [ 35  58  46  35  39  43  57  52  48  62  77  79  74  65  59  67  72  78\n",
      "   90 101  74  48  28  58  85  84  80  96 161 226]\n",
      " [ 34  52  38  30  40  43  54  34  42  59  77  79  68  59  46  57  57  65\n",
      "   79 104 118  94  37  59  88  89  87  92 154 226]\n",
      " [ 30  44  34  23  34  45  43  17  31  63  66  61  54  48  41  42  41  53\n",
      "   71  94 123 119  61  44  87  95  87  89 180 229]\n",
      " [ 30  32  41  24  28  42  24  14  31  61  65  50  37  30  31  28  31  39\n",
      "   59  91 121 120  75  36  83  98  86  95 213 236]\n",
      " [ 32  25  37  30  28  36  14  17  24  46  68  53  32  25  24  22  28  33\n",
      "   48  91 118 102  84  35  89  92  79 144 233 234]\n",
      " [ 31  30  28  36  37  32  14  22  21  37  66  66  42  28  25  26  30  33\n",
      "   58  89  99  85  89  46  93  81 105 220 226 230]\n",
      " [ 28  34  28  33  42  34  15  27  27  34  36  42  44  41  33  34  32  31\n",
      "   42  47  96  91  90  50  91 111 211 246 226 233]\n",
      " [ 23  33  34  33  36  35  17  29  33  50  38  19  29  47  44  42  35  25\n",
      "   47 108 112  85  97  61  93 193 238 244 228 224]\n",
      " [ 29  27  35  38  30  34  18  30  46  67  45  24  25  52  52  51  48  38\n",
      "  109 126 153 105 104  55 127 236 233 241 223 224]\n",
      " [ 64  38  26  42  31  33  17  34  33  63  62  45  48  62  66  63  66  75\n",
      "  127 151 125  87 118  69 153 243 235 242 228 237]\n",
      " [ 93  72  51  45  32  31  19  20  33  17  32  40  58  89  80  77  79 109\n",
      "  111  95  66  98 132 100 176 248 241 237 233 239]\n",
      " [118 115  98  47  36  22  19  14  32  21  16  24  46  94  97  84  90 122\n",
      "  115  71  61 106 120 120 205 242 237 237 236 236]\n",
      " [138 134  87  38  41  24  21  18  35  34  23  24  39  88 110 103 110 125\n",
      "  118  83  76 117 117 105 168 242 241 244 237 230]\n",
      " [152 126 100  32  44  28  22  20  23  41  36  30  35  84 118 108 121 131\n",
      "  115  82  99 110  92  95 148 236 243 234 234 230]\n",
      " [139 140 113  40  37  38  28  25  23  38  47  34  42  85 119 103 123 136\n",
      "  118  93  97  70  54  70 169 245 240 226 232 235]\n",
      " [151 144 126  47  27  41  40  34  35  47  47  51  74  95  89  74  80  84\n",
      "  120 103  88  50  61  57 141 240 235 229 241 234]\n",
      " [157 151 135  52  32  39  55  66  77  83  41  44  79  98  78  83  82  90\n",
      "  132 137  91  47  64 158 203 234 239 237 233 229]\n",
      " [154 150 131  49  42  46  55  93 165 158  44  37  59  77 105 123 121  98\n",
      "  122 141 168 163 145 218 242 235 234 241 239 232]\n",
      " [158 130  96  43  37  48  58  83 180 196  78  26  42  53 104 123 123 115\n",
      "  130 155 217 223 227 228 233 232 233 238 235 236]\n",
      " [176 155 109  43  32  38  52  82 169 205 161  59  51  48  55  78 104 130\n",
      "  140 198 223 217 217 223 227 237 230 229 234 233]\n",
      " [199 152  94  31  30  32  41  88 190 205 212 197 148 143 121 116 147 184\n",
      "  209 216 225 238 224 216 216 234 222 227 226 229]\n",
      " [204 160  65  21  25  32  41  78 194 204 204 193 221 232 211 190 202 221\n",
      "  217 214 224 230 226 226 221 222 221 228 214 215]\n",
      " [200 145  34  22  33  44  53  81 189 199 197 201 233 210 220 218 209 218\n",
      "  216 206 225 228 229 223 224 233 212 218 223 223]]\n",
      "(30, 30)\n"
     ]
    }
   ],
   "source": [
    "i = 2\n",
    "img = Image.open(f'C:/Users/kdp/PycharmProjects/EXAM_DL/KDT_09_DEEP_LEARNING/project/animal_faces/train/dog/pixabay_dog_00000{i}.jpg').convert('L')\n",
    "print(f\"before size : {img.size}\")\n",
    "img_resize = img.resize((30, 30))\n",
    "print(f\"after size : {img_resize.size}\")\n",
    "img_resize.save(f'cat_img_{i}.jpg')\n",
    "\n",
    "pix = np.array(img_resize)\n",
    "x = np.array(img_resize)\n",
    "print(x)\n",
    "print(x.shape)"
   ],
   "metadata": {
    "collapsed": false,
    "ExecuteTime": {
     "end_time": "2024-03-19T15:57:05.328121Z",
     "start_time": "2024-03-19T15:57:05.287120Z"
    }
   },
   "id": "9b8e75ef0a5a2a1a",
   "execution_count": 4
  },
  {
   "cell_type": "code",
   "outputs": [
    {
     "name": "stdout",
     "output_type": "stream",
     "text": [
      "예외 발생! => 9번 이미지 없음\n"
     ]
    }
   ],
   "source": [
    "no_file_num = []\n",
    "for i in range(2, 10):\n",
    "    try:\n",
    "        img = Image.open(f'C:/Users/kdp/PycharmProjects/EXAM_DL/KDT_09_DEEP_LEARNING/project/animal_faces/train/dog/pixabay_dog_00000{i}.jpg').convert('L')\n",
    "        \n",
    "        img_resize = img.resize((30, 30))\n",
    "        img_resize.save(f'dog_img_{i}.jpg')\n",
    "        \n",
    "        pix = np.array(img_resize)\n",
    "        x = np.array(img_resize)\n",
    "        # print(f\"{i}번 이미지 shape => {x.shape}\")\n",
    "    except:\n",
    "        print(f'예외 발생! => {i}번 이미지 없음')\n",
    "        no_file_num.append(i)"
   ],
   "metadata": {
    "collapsed": false,
    "ExecuteTime": {
     "end_time": "2024-03-19T15:57:29.301729Z",
     "start_time": "2024-03-19T15:57:29.243781Z"
    }
   },
   "id": "516b5d4d6cc740e4",
   "execution_count": 5
  },
  {
   "cell_type": "code",
   "outputs": [
    {
     "name": "stdout",
     "output_type": "stream",
     "text": [
      "예외 발생! => 17번 이미지 없음\n",
      "예외 발생! => 39번 이미지 없음\n",
      "예외 발생! => 44번 이미지 없음\n",
      "예외 발생! => 45번 이미지 없음\n",
      "예외 발생! => 61번 이미지 없음\n",
      "예외 발생! => 81번 이미지 없음\n",
      "예외 발생! => 86번 이미지 없음\n"
     ]
    }
   ],
   "source": [
    "for i in range(10, 100):\n",
    "    try:\n",
    "        img = Image.open(f'C:/Users/kdp/PycharmProjects/EXAM_DL/KDT_09_DEEP_LEARNING/project/animal_faces/train/dog/pixabay_dog_0000{i}.jpg').convert('L')\n",
    "        \n",
    "        img_resize = img.resize((30, 30))\n",
    "        img_resize.save(f'dog_img_{i}.jpg')\n",
    "        \n",
    "        pix = np.array(img_resize)\n",
    "        x = np.array(img_resize)\n",
    "        # print(f\"{i}번 이미지 shape => {x.shape}\")\n",
    "    except:\n",
    "        print(f'예외 발생! => {i}번 이미지 없음')\n",
    "        no_file_num.append(i)"
   ],
   "metadata": {
    "collapsed": false,
    "ExecuteTime": {
     "end_time": "2024-03-19T15:57:42.888747Z",
     "start_time": "2024-03-19T15:57:42.217621Z"
    }
   },
   "id": "f672cd32c6a19dc0",
   "execution_count": 6
  },
  {
   "cell_type": "code",
   "outputs": [
    {
     "name": "stdout",
     "output_type": "stream",
     "text": [
      "예외 발생! => 114번 이미지 없음\n",
      "예외 발생! => 121번 이미지 없음\n",
      "예외 발생! => 135번 이미지 없음\n",
      "예외 발생! => 140번 이미지 없음\n",
      "예외 발생! => 152번 이미지 없음\n",
      "예외 발생! => 166번 이미지 없음\n",
      "예외 발생! => 176번 이미지 없음\n",
      "예외 발생! => 185번 이미지 없음\n",
      "예외 발생! => 186번 이미지 없음\n",
      "예외 발생! => 201번 이미지 없음\n",
      "예외 발생! => 206번 이미지 없음\n",
      "예외 발생! => 227번 이미지 없음\n",
      "예외 발생! => 238번 이미지 없음\n",
      "예외 발생! => 239번 이미지 없음\n",
      "예외 발생! => 241번 이미지 없음\n",
      "예외 발생! => 265번 이미지 없음\n",
      "예외 발생! => 271번 이미지 없음\n",
      "예외 발생! => 277번 이미지 없음\n",
      "예외 발생! => 278번 이미지 없음\n",
      "예외 발생! => 298번 이미지 없음\n",
      "예외 발생! => 301번 이미지 없음\n",
      "예외 발생! => 307번 이미지 없음\n",
      "예외 발생! => 311번 이미지 없음\n",
      "예외 발생! => 321번 이미지 없음\n",
      "예외 발생! => 322번 이미지 없음\n",
      "예외 발생! => 327번 이미지 없음\n",
      "예외 발생! => 330번 이미지 없음\n",
      "예외 발생! => 338번 이미지 없음\n",
      "예외 발생! => 341번 이미지 없음\n",
      "예외 발생! => 351번 이미지 없음\n",
      "예외 발생! => 357번 이미지 없음\n",
      "예외 발생! => 373번 이미지 없음\n",
      "예외 발생! => 382번 이미지 없음\n",
      "예외 발생! => 393번 이미지 없음\n",
      "예외 발생! => 395번 이미지 없음\n",
      "예외 발생! => 409번 이미지 없음\n",
      "예외 발생! => 410번 이미지 없음\n",
      "예외 발생! => 442번 이미지 없음\n",
      "예외 발생! => 452번 이미지 없음\n",
      "예외 발생! => 453번 이미지 없음\n",
      "예외 발생! => 454번 이미지 없음\n",
      "예외 발생! => 455번 이미지 없음\n",
      "예외 발생! => 471번 이미지 없음\n",
      "예외 발생! => 473번 이미지 없음\n",
      "예외 발생! => 480번 이미지 없음\n",
      "예외 발생! => 482번 이미지 없음\n",
      "예외 발생! => 484번 이미지 없음\n",
      "예외 발생! => 490번 이미지 없음\n",
      "예외 발생! => 491번 이미지 없음\n",
      "예외 발생! => 494번 이미지 없음\n",
      "예외 발생! => 499번 이미지 없음\n",
      "예외 발생! => 500번 이미지 없음\n"
     ]
    }
   ],
   "source": [
    "for i in range(100, 501):\n",
    "    try:\n",
    "        img = Image.open(f'C:/Users/kdp/PycharmProjects/EXAM_DL/KDT_09_DEEP_LEARNING/project/animal_faces/train/dog/pixabay_dog_000{i}.jpg').convert('L')\n",
    "        \n",
    "        img_resize = img.resize((30, 30))\n",
    "        img_resize.save(f'dog_img_{i}.jpg')\n",
    "        \n",
    "        pix = np.array(img_resize)\n",
    "        x = np.array(img_resize)\n",
    "        # print(f\"{i}번 이미지 shape => {x.shape}\")\n",
    "    except:\n",
    "        print(f'예외 발생! => {i}번 이미지 없음')\n",
    "        no_file_num.append(i)"
   ],
   "metadata": {
    "collapsed": false,
    "ExecuteTime": {
     "end_time": "2024-03-19T15:57:59.103702Z",
     "start_time": "2024-03-19T15:57:56.030954Z"
    }
   },
   "id": "cd49c25c49d3b0b7",
   "execution_count": 7
  },
  {
   "cell_type": "code",
   "outputs": [],
   "source": [
    "# print(len(no_file_num))"
   ],
   "metadata": {
    "collapsed": false,
    "ExecuteTime": {
     "end_time": "2024-03-19T10:43:09.638872Z",
     "start_time": "2024-03-19T10:43:09.625805Z"
    }
   },
   "id": "665cd6e43cb3e612",
   "execution_count": 5
  },
  {
   "cell_type": "markdown",
   "source": [
    "# dataframe으로 만들기 위해 각 픽셀 값을 담은 리스트 생성"
   ],
   "metadata": {
    "collapsed": false
   },
   "id": "95e29bc0464f7910"
  },
  {
   "cell_type": "code",
   "outputs": [],
   "source": [
    "total_list = []   # 모든 이미지 파일들의 픽셀값을 담은 리스트를 모두 담은 리스트\n",
    "list = []  # 1개의 이미지 파일에 대한 픽셀값\n",
    "count = 1\n",
    "for first in range(len(x)):\n",
    "    # print(f\"----- {count} ------\")\n",
    "    # print(x[first])\n",
    "    # count +=1\n",
    "    for value in range(len(x[first])):\n",
    "        list.append(x[first][value])"
   ],
   "metadata": {
    "collapsed": false,
    "ExecuteTime": {
     "end_time": "2024-03-19T15:52:57.539057Z",
     "start_time": "2024-03-19T15:52:57.531871Z"
    }
   },
   "id": "960f1b3ce2394456",
   "execution_count": 12
  },
  {
   "cell_type": "code",
   "outputs": [
    {
     "name": "stdout",
     "output_type": "stream",
     "text": [
      "439\n"
     ]
    }
   ],
   "source": [
    "total_list = []   # 모든 이미지 파일들의 픽셀값을 담은 리스트를 모두 담은 리스트\n",
    "# no_file_num\n",
    "for i in range(2, 501):\n",
    "    if i not in no_file_num:\n",
    "        img = Image.open(f'C:/Users/kdp/PycharmProjects/EXAM_DL/KDT_09_DEEP_LEARNING/project/resize_image/dog_img_{i}.jpg').convert('L')\n",
    "        pix = np.array(img)\n",
    "        x = np.array(img)\n",
    "\n",
    "        list = []  # 1개의 이미지 파일에 대한 픽셀값\n",
    "        for first in range(len(x)):\n",
    "            for value in range(len(x[first])):\n",
    "                list.append(x[first][value])\n",
    "        total_list.append(list)\n",
    "        \n",
    "print(len(total_list))"
   ],
   "metadata": {
    "collapsed": false,
    "ExecuteTime": {
     "end_time": "2024-03-19T16:01:04.488202Z",
     "start_time": "2024-03-19T16:01:04.313464Z"
    }
   },
   "id": "c763d95362bbb32f",
   "execution_count": 8
  },
  {
   "cell_type": "markdown",
   "source": [
    "# 데이터 프레임 생성 => csv 파일로 저장"
   ],
   "metadata": {
    "collapsed": false
   },
   "id": "b248b772cc4acd67"
  },
  {
   "cell_type": "code",
   "outputs": [],
   "source": [
    "cat_df = pd.DataFrame(total_list)\n",
    "cat_df.to_csv('resize_dog_df.csv')"
   ],
   "metadata": {
    "collapsed": false,
    "ExecuteTime": {
     "end_time": "2024-03-19T16:01:21.547359Z",
     "start_time": "2024-03-19T16:01:19.543788Z"
    }
   },
   "id": "b77f91a219ca4e63",
   "execution_count": 9
  },
  {
   "cell_type": "code",
   "outputs": [
    {
     "name": "stdout",
     "output_type": "stream",
     "text": [
      "['pixel262140', 'pixel262141', 'pixel262142', 'pixel262143', 'pixel262144']\n"
     ]
    }
   ],
   "source": [
    "col_list = []\n",
    "for i in range(1,262145):\n",
    "    col_list.append(f\"pixel{i}\")\n",
    "    \n",
    "print(col_list[-5:])"
   ],
   "metadata": {
    "collapsed": false,
    "ExecuteTime": {
     "end_time": "2024-03-19T16:01:22.801087Z",
     "start_time": "2024-03-19T16:01:22.733078Z"
    }
   },
   "id": "bb98199ca426ca9c",
   "execution_count": 10
  },
  {
   "cell_type": "code",
   "outputs": [],
   "source": [
    "# cat_df.to_csv('cat_df.csv')"
   ],
   "metadata": {
    "collapsed": false
   },
   "id": "11c792ec80b2805d"
  }
 ],
 "metadata": {
  "kernelspec": {
   "display_name": "Python 3",
   "language": "python",
   "name": "python3"
  },
  "language_info": {
   "codemirror_mode": {
    "name": "ipython",
    "version": 2
   },
   "file_extension": ".py",
   "mimetype": "text/x-python",
   "name": "python",
   "nbconvert_exporter": "python",
   "pygments_lexer": "ipython2",
   "version": "2.7.6"
  }
 },
 "nbformat": 4,
 "nbformat_minor": 5
}
