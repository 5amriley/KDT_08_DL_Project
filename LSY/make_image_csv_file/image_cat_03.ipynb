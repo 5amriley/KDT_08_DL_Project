{
 "cells": [
  {
   "cell_type": "markdown",
   "source": [
    "# 방향\n",
    "- 이중분류 할것이다: 사진이 주어졌을때 이게 개냐 ~ 아니냐 ~\n",
    "\n",
    "# 할거\n",
    "- 3개의 함수 : 학습, 검증 및 테스트, 예측\n",
    "- 모델 : 층, 층별 노드, 퍼셉트론 수 조절한게 있어야 함"
   ],
   "metadata": {
    "collapsed": false
   },
   "id": "266431e5171dc257"
  },
  {
   "cell_type": "code",
   "outputs": [],
   "source": [
    "from PIL import Image\n",
    "import numpy as np\n",
    "import pandas as pd\n",
    "# from sklearn.datasets import fetch_openml \n",
    "# from sklearn.preprocessing import LabelEncoder, OneHotEncoder\n",
    "# import torch\n",
    "# import torch.nn.functional as F \n",
    "# import torch.nn as nn \n",
    "# from torch.utils.data import Dataset, DataLoader, random_split\n",
    "# import torch.optim as optim \n",
    "# import torchmetrics.functional as metrics"
   ],
   "metadata": {
    "collapsed": false,
    "ExecuteTime": {
     "end_time": "2024-03-19T15:37:59.996515Z",
     "start_time": "2024-03-19T15:37:59.428467Z"
    }
   },
   "id": "904942130b7b8e85",
   "execution_count": 2
  },
  {
   "cell_type": "code",
   "outputs": [],
   "source": [
    "# 회색으로 변환 후 이미지 파일 불러오기\n",
    "# img = Image.open('C:/Users/kdp/PycharmProjects/EXAM_DL/KDT_09_DEEP_LEARNING/project/animal_faces/train/cat/pixabay_cat_000002.jpg').convert('L')\n",
    "# pix = np.array(img)\n",
    "# print(img.size)\n",
    "# x = np.array(img)\n",
    "# print(x)\n",
    "# print(x.shape)"
   ],
   "metadata": {
    "collapsed": false,
    "ExecuteTime": {
     "end_time": "2024-03-19T10:37:32.618078Z",
     "start_time": "2024-03-19T10:37:32.608276Z"
    }
   },
   "id": "b87838a75c43e015",
   "execution_count": 15
  },
  {
   "cell_type": "markdown",
   "source": [
    "# 회색으로 변환 => 사진 픽셀 수 변경 (30, 30) => 이미지 저장 => 저장된 이미지 파일 불러오기"
   ],
   "metadata": {
    "collapsed": false
   },
   "id": "24e780fc4fa9b246"
  },
  {
   "cell_type": "code",
   "outputs": [
    {
     "name": "stdout",
     "output_type": "stream",
     "text": [
      "before size : (512, 512)\n",
      "after size : (30, 30)\n",
      "[[149 107  79 140 146 174 175 132 110 107  94  74  59  48  52  62  77  77\n",
      "   88  96 117 123 118 110 141 114  97  50  77 103]\n",
      " [150 126 117 163 163 193 180 170 117  83  73  63  34  28  38  41  43  49\n",
      "   84  95 101 104 153 155 144 107  91  72  81 106]\n",
      " [150 142 135 167 174 197 189 170 161  78  43  45  31  38  52  41  33  32\n",
      "   71  67  93 149 156 145 141 125 107  87  87 111]\n",
      " [145 140 126 167 169 196 192 178 168 116  34  23  41  58  28  36  36  42\n",
      "   67  68 143 150 156 168 174 144 114  86  93 117]\n",
      " [140 142 136 177 197 164 158 146 155 124  47  45  80  52  20  34  48  71\n",
      "   53 107 131 145 145 169 165 114 114 103  99 121]\n",
      " [142 143 142 197 167 128 114 130 126 117  64  66  76  40  39  65  77  54\n",
      "   59 121  94 101 120 128 129 126 133 120 104 124]\n",
      " [143 134 156 203 162 122 125 139  94 102  59  57  59  40  52  82  51  43\n",
      "   60  78 108 157 132  83  77  90 138 132 113 126]\n",
      " [139 129 164 190 183 186 187 153  93  75  26  61  89  37  60  73  66  14\n",
      "   46  75 116 152 123 119  82  57 138 146 125 126]\n",
      " [143 139 185 181 185 196 189 146 110  85  50  63  88  77  42  58  85  37\n",
      "   38  89  93  97 120 174 181 115 108 149 141 129]\n",
      " [139 151 177 164 148 139 128 119 116  85  85  39  43 109  60  73  94  22\n",
      "   63  97  97 116 118 119 133 123  92 130 143 130]\n",
      " [130 163 163 150 132 130 123 133  94  85  87  72  67  87  79  88  70  31\n",
      "   59  75  78  89 102 100 103  85  91 112 128 131]\n",
      " [139 181 177 160 149 116 145 120  88  97 139  53  98  73  85  69  78  74\n",
      "   51 107  66  68 101 102  99 105  99 119 121 127]\n",
      " [166 178 166 184 155 120 147 161 164 152 187  65 137  93  65  58  77 107\n",
      "   50 152 102  87  78 112 108 108 130 124 122 121]\n",
      " [175 158 171 156  87  69 125 162 136 153 187 125 147  96  42  44  69 131\n",
      "   71 181 145 142 148 110  96 124 139 119 112 121]\n",
      " [170 158 161  75  76 121 140 109 148 168 113 190 155  89  54  67  74 119\n",
      "  134 111 119 108  82  70  47  65  93 121  98 103]\n",
      " [165 166 112  89 150 155 182 163 144 181 156 196 192 100  92  96  88 162\n",
      "  142 101 115 144  96 128 100  40  21  87 114 103]\n",
      " [141 101  70 140 171 128 112 161 128 148 169 109 189 137 119 103 109 150\n",
      "   85 137 151 128 172 148 124  97  40  43  54  74]\n",
      " [156 124 120 173 187 159 114  98 128 133 166 113 112 160 144 134 122  78\n",
      "   63 125 130 140 135  94 115 137  91  36  43  70]\n",
      " [172 165 200 196 191 178 150 127 110  88 103  92  23 155 161 137  90   5\n",
      "  123 166 135 103  99 119 144 137 126 122 103 100]\n",
      " [180 145 179 176 164 200 172 120 100  86  57  33  42 148 172 122  76  10\n",
      "   45 112 149 119 107 120 134 139 136 137  92  99]\n",
      " [202 171 126 124 119 135 163 150 117  90  78  88  72 135 174 131  55  49\n",
      "   60  87 127 125 120 140 150 117  80  70  88  99]\n",
      " [200 196 164 159 171 175 192 220 202 114  94 131 122 130 169 136  67 105\n",
      "   77  63 135 184 153 137 116 111  76  65 105 111]\n",
      " [182 202 205 176 185 193 211 234 232 176 145 151 188 140 120  91 118 135\n",
      "   97  99 183 213 180 148 139 125 100 114 131 132]\n",
      " [189 203 239 235 218 222 237 242 234 203 199 202 232 223 101 130 214 194\n",
      "  182 201 235 211 177 135 104  96 114 140 129 133]\n",
      " [157 165 207 244 248 240 240 237 237 233 221 227 234 229 168 215 228 233\n",
      "  236 238 222 206 177 150 143 157 167 154 123 131]\n",
      " [159 159 179 221 249 247 241 240 233 225 219 218 206 184 168 173 190 214\n",
      "  219 215 215 202 180 163 176 194 203 175 134 121]\n",
      " [131 126 145 160 213 245 246 240 234 223 212 209 214 220 213 204 205 208\n",
      "  206 209 211 215 201 195 200 196 184 153 133 120]\n",
      " [118 116 117 140 175 196 236 236 227 222 212 208 202 200 205 204 203 202\n",
      "  201 204 203 203 205 200 199 176 140 106  98 107]\n",
      " [143  96  66 142 146 156 205 230 229 228 226 221 215 211 211 211 207 202\n",
      "  199 197 198 198 200 200 185 129  84  65  83  91]\n",
      " [147  89  90  93 111 145 178 205 223 228 225 221 218 218 214 216 209 200\n",
      "  201 198 196 196 196 191 151  78  50  64  90  89]]\n",
      "(30, 30)\n"
     ]
    }
   ],
   "source": [
    "i = 2\n",
    "img = Image.open(f'C:/Users/kdp/PycharmProjects/EXAM_DL/KDT_09_DEEP_LEARNING/project/animal_faces/train/cat/pixabay_cat_00000{i}.jpg').convert('L')\n",
    "print(f\"before size : {img.size}\")\n",
    "img_resize = img.resize((30, 30))\n",
    "print(f\"after size : {img_resize.size}\")\n",
    "img_resize.save(f'cat_img_{i}.jpg')\n",
    "\n",
    "pix = np.array(img_resize)\n",
    "x = np.array(img_resize)\n",
    "print(x)\n",
    "print(x.shape)"
   ],
   "metadata": {
    "collapsed": false,
    "ExecuteTime": {
     "end_time": "2024-03-19T15:43:05.384931Z",
     "start_time": "2024-03-19T15:43:05.370110Z"
    }
   },
   "id": "9b8e75ef0a5a2a1a",
   "execution_count": 6
  },
  {
   "cell_type": "code",
   "outputs": [
    {
     "name": "stdout",
     "output_type": "stream",
     "text": [
      "예외 발생! => 7번 이미지 없음\n"
     ]
    }
   ],
   "source": [
    "no_file_num = []\n",
    "for i in range(2, 10):\n",
    "    try:\n",
    "        img = Image.open(f'C:/Users/kdp/PycharmProjects/EXAM_DL/KDT_09_DEEP_LEARNING/project/animal_faces/train/cat/pixabay_cat_00000{i}.jpg').convert('L')\n",
    "        \n",
    "        img_resize = img.resize((30, 30))\n",
    "        img_resize.save(f'cat_img_{i}.jpg')\n",
    "        \n",
    "        pix = np.array(img_resize)\n",
    "        x = np.array(img_resize)\n",
    "        # print(f\"{i}번 이미지 shape => {x.shape}\")\n",
    "    except:\n",
    "        print(f'예외 발생! => {i}번 이미지 없음')\n",
    "        no_file_num.append(i)"
   ],
   "metadata": {
    "collapsed": false,
    "ExecuteTime": {
     "end_time": "2024-03-19T15:46:28.013398Z",
     "start_time": "2024-03-19T15:46:27.941034Z"
    }
   },
   "id": "516b5d4d6cc740e4",
   "execution_count": 7
  },
  {
   "cell_type": "code",
   "outputs": [
    {
     "name": "stdout",
     "output_type": "stream",
     "text": [
      "예외 발생! => 10번 이미지 없음\n",
      "예외 발생! => 37번 이미지 없음\n",
      "예외 발생! => 40번 이미지 없음\n",
      "예외 발생! => 51번 이미지 없음\n",
      "예외 발생! => 70번 이미지 없음\n",
      "예외 발생! => 76번 이미지 없음\n",
      "예외 발생! => 81번 이미지 없음\n",
      "예외 발생! => 96번 이미지 없음\n",
      "예외 발생! => 99번 이미지 없음\n"
     ]
    }
   ],
   "source": [
    "for i in range(10, 100):\n",
    "    try:\n",
    "        img = Image.open(f'C:/Users/kdp/PycharmProjects/EXAM_DL/KDT_09_DEEP_LEARNING/project/animal_faces/train/cat/pixabay_cat_0000{i}.jpg').convert('L')\n",
    "        \n",
    "        img_resize = img.resize((30, 30))\n",
    "        img_resize.save(f'cat_img_{i}.jpg')\n",
    "        \n",
    "        pix = np.array(img_resize)\n",
    "        x = np.array(img_resize)\n",
    "        # print(f\"{i}번 이미지 shape => {x.shape}\")\n",
    "    except:\n",
    "        print(f'예외 발생! => {i}번 이미지 없음')\n",
    "        no_file_num.append(i)"
   ],
   "metadata": {
    "collapsed": false,
    "ExecuteTime": {
     "end_time": "2024-03-19T15:46:31.686350Z",
     "start_time": "2024-03-19T15:46:31.021399Z"
    }
   },
   "id": "f672cd32c6a19dc0",
   "execution_count": 8
  },
  {
   "cell_type": "code",
   "outputs": [
    {
     "name": "stdout",
     "output_type": "stream",
     "text": [
      "예외 발생! => 108번 이미지 없음\n",
      "예외 발생! => 117번 이미지 없음\n",
      "예외 발생! => 126번 이미지 없음\n",
      "예외 발생! => 147번 이미지 없음\n",
      "예외 발생! => 151번 이미지 없음\n",
      "예외 발생! => 165번 이미지 없음\n",
      "예외 발생! => 169번 이미지 없음\n",
      "예외 발생! => 178번 이미지 없음\n",
      "예외 발생! => 181번 이미지 없음\n",
      "예외 발생! => 190번 이미지 없음\n",
      "예외 발생! => 202번 이미지 없음\n",
      "예외 발생! => 231번 이미지 없음\n",
      "예외 발생! => 241번 이미지 없음\n",
      "예외 발생! => 248번 이미지 없음\n",
      "예외 발생! => 276번 이미지 없음\n",
      "예외 발생! => 291번 이미지 없음\n",
      "예외 발생! => 296번 이미지 없음\n",
      "예외 발생! => 299번 이미지 없음\n",
      "예외 발생! => 302번 이미지 없음\n",
      "예외 발생! => 314번 이미지 없음\n",
      "예외 발생! => 315번 이미지 없음\n",
      "예외 발생! => 325번 이미지 없음\n",
      "예외 발생! => 339번 이미지 없음\n",
      "예외 발생! => 343번 이미지 없음\n",
      "예외 발생! => 353번 이미지 없음\n",
      "예외 발생! => 355번 이미지 없음\n",
      "예외 발생! => 380번 이미지 없음\n",
      "예외 발생! => 390번 이미지 없음\n",
      "예외 발생! => 392번 이미지 없음\n",
      "예외 발생! => 403번 이미지 없음\n",
      "예외 발생! => 417번 이미지 없음\n",
      "예외 발생! => 440번 이미지 없음\n",
      "예외 발생! => 441번 이미지 없음\n",
      "예외 발생! => 459번 이미지 없음\n",
      "예외 발생! => 468번 이미지 없음\n",
      "예외 발생! => 491번 이미지 없음\n",
      "예외 발생! => 492번 이미지 없음\n"
     ]
    }
   ],
   "source": [
    "for i in range(100, 501):\n",
    "    try:\n",
    "        img = Image.open(f'C:/Users/kdp/PycharmProjects/EXAM_DL/KDT_09_DEEP_LEARNING/project/animal_faces/train/cat/pixabay_cat_000{i}.jpg').convert('L')\n",
    "        \n",
    "        img_resize = img.resize((30, 30))\n",
    "        img_resize.save(f'cat_img_{i}.jpg')\n",
    "        \n",
    "        pix = np.array(img_resize)\n",
    "        x = np.array(img_resize)\n",
    "        # print(f\"{i}번 이미지 shape => {x.shape}\")\n",
    "    except:\n",
    "        print(f'예외 발생! => {i}번 이미지 없음')\n",
    "        no_file_num.append(i)"
   ],
   "metadata": {
    "collapsed": false,
    "ExecuteTime": {
     "end_time": "2024-03-19T15:51:47.875981Z",
     "start_time": "2024-03-19T15:51:44.713066Z"
    }
   },
   "id": "cd49c25c49d3b0b7",
   "execution_count": 11
  },
  {
   "cell_type": "code",
   "outputs": [],
   "source": [
    "# print(len(no_file_num))"
   ],
   "metadata": {
    "collapsed": false,
    "ExecuteTime": {
     "end_time": "2024-03-19T10:43:09.638872Z",
     "start_time": "2024-03-19T10:43:09.625805Z"
    }
   },
   "id": "665cd6e43cb3e612",
   "execution_count": 5
  },
  {
   "cell_type": "code",
   "outputs": [
    {
     "name": "stdout",
     "output_type": "stream",
     "text": [
      "(512, 512)\n",
      "[[165 163 161 ... 104 104 104]\n",
      " [165 163 161 ... 104 104 104]\n",
      " [165 163 161 ... 104 104 104]\n",
      " ...\n",
      " [158 157 157 ...  91  90  90]\n",
      " [156 155 155 ...  92  92  92]\n",
      " [155 154 155 ...  93  93  93]]\n"
     ]
    }
   ],
   "source": [
    "img = Image.open('C:/Users/kdp/PycharmProjects/EXAM_DL/KDT_09_DEEP_LEARNING/project/animal_faces/train/cat/pixabay_cat_000002.jpg').convert('L')\n",
    "pix = np.array(img)\n",
    "x = np.array(img)\n",
    "print(x.shape)\n",
    "print(x)"
   ],
   "metadata": {
    "collapsed": false,
    "ExecuteTime": {
     "end_time": "2024-03-19T10:43:10.740369Z",
     "start_time": "2024-03-19T10:43:10.724551Z"
    }
   },
   "id": "cff7e074fb0197b",
   "execution_count": 6
  },
  {
   "cell_type": "markdown",
   "source": [
    "# dataframe으로 만들기 위해 각 픽셀 값을 담은 리스트 생성"
   ],
   "metadata": {
    "collapsed": false
   },
   "id": "95e29bc0464f7910"
  },
  {
   "cell_type": "code",
   "outputs": [],
   "source": [
    "total_list = []   # 모든 이미지 파일들의 픽셀값을 담은 리스트를 모두 담은 리스트\n",
    "list = []  # 1개의 이미지 파일에 대한 픽셀값\n",
    "count = 1\n",
    "for first in range(len(x)):\n",
    "    # print(f\"----- {count} ------\")\n",
    "    # print(x[first])\n",
    "    # count +=1\n",
    "    for value in range(len(x[first])):\n",
    "        list.append(x[first][value])"
   ],
   "metadata": {
    "collapsed": false,
    "ExecuteTime": {
     "end_time": "2024-03-19T15:52:57.539057Z",
     "start_time": "2024-03-19T15:52:57.531871Z"
    }
   },
   "id": "960f1b3ce2394456",
   "execution_count": 12
  },
  {
   "cell_type": "code",
   "outputs": [
    {
     "name": "stdout",
     "output_type": "stream",
     "text": [
      "452\n"
     ]
    }
   ],
   "source": [
    "total_list = []   # 모든 이미지 파일들의 픽셀값을 담은 리스트를 모두 담은 리스트\n",
    "# no_file_num\n",
    "for i in range(2, 501):\n",
    "    if i not in no_file_num:\n",
    "        img = Image.open(f'C:/Users/kdp/PycharmProjects/EXAM_DL/KDT_09_DEEP_LEARNING/project/resize_image/cat_img_{i}.jpg').convert('L')\n",
    "        pix = np.array(img)\n",
    "        x = np.array(img)\n",
    "\n",
    "        list = []  # 1개의 이미지 파일에 대한 픽셀값\n",
    "        for first in range(len(x)):\n",
    "            for value in range(len(x[first])):\n",
    "                list.append(x[first][value])\n",
    "        total_list.append(list)\n",
    "        \n",
    "print(len(total_list))"
   ],
   "metadata": {
    "collapsed": false,
    "ExecuteTime": {
     "end_time": "2024-03-19T15:53:00.619286Z",
     "start_time": "2024-03-19T15:52:58.937969Z"
    }
   },
   "id": "c763d95362bbb32f",
   "execution_count": 13
  },
  {
   "cell_type": "code",
   "outputs": [],
   "source": [
    "# for i in range(100, 113):\n",
    "#     if i not in no_file_num:\n",
    "#         img = Image.open(f'C:/Users/kdp/PycharmProjects/EXAM_DL/KDT_09_DEEP_LEARNING/project/animal_faces/train/cat/pixabay_cat_000{i}.jpg').convert('L')\n",
    "#         pix = np.array(img)\n",
    "#         x = np.array(img)\n",
    "# \n",
    "#         list = []  # 1개의 이미지 파일에 대한 픽셀값\n",
    "#         for first in range(len(x)):\n",
    "#             for value in range(len(x[first])):\n",
    "#                 list.append(x[first][value])\n",
    "#         total_list.append(list)\n",
    "# print(len(total_list))"
   ],
   "metadata": {
    "collapsed": false,
    "ExecuteTime": {
     "end_time": "2024-03-19T10:45:33.734646Z",
     "start_time": "2024-03-19T10:45:33.725411Z"
    }
   },
   "id": "d6a87fbf4f6bb39",
   "execution_count": 17
  },
  {
   "cell_type": "markdown",
   "source": [
    "# 데이터 프레임 생성 => csv 파일로 저장"
   ],
   "metadata": {
    "collapsed": false
   },
   "id": "b248b772cc4acd67"
  },
  {
   "cell_type": "code",
   "outputs": [],
   "source": [
    "cat_df = pd.DataFrame(total_list)\n",
    "cat_df.to_csv('resize_cat_df.csv')"
   ],
   "metadata": {
    "collapsed": false,
    "ExecuteTime": {
     "end_time": "2024-03-19T15:53:42.525669Z",
     "start_time": "2024-03-19T15:53:40.411363Z"
    }
   },
   "id": "b77f91a219ca4e63",
   "execution_count": 15
  },
  {
   "cell_type": "code",
   "outputs": [
    {
     "name": "stdout",
     "output_type": "stream",
     "text": [
      "['pixel262140', 'pixel262141', 'pixel262142', 'pixel262143', 'pixel262144']\n"
     ]
    }
   ],
   "source": [
    "col_list = []\n",
    "for i in range(1,262145):\n",
    "    col_list.append(f\"pixel{i}\")\n",
    "    \n",
    "print(col_list[-5:])"
   ],
   "metadata": {
    "collapsed": false,
    "ExecuteTime": {
     "end_time": "2024-03-19T10:43:18.073387Z",
     "start_time": "2024-03-19T10:43:17.987097Z"
    }
   },
   "id": "bb98199ca426ca9c",
   "execution_count": 9
  },
  {
   "cell_type": "code",
   "outputs": [],
   "source": [
    "# cat_df.to_csv('cat_df.csv')"
   ],
   "metadata": {
    "collapsed": false
   },
   "id": "11c792ec80b2805d"
  }
 ],
 "metadata": {
  "kernelspec": {
   "display_name": "Python 3",
   "language": "python",
   "name": "python3"
  },
  "language_info": {
   "codemirror_mode": {
    "name": "ipython",
    "version": 2
   },
   "file_extension": ".py",
   "mimetype": "text/x-python",
   "name": "python",
   "nbconvert_exporter": "python",
   "pygments_lexer": "ipython2",
   "version": "2.7.6"
  }
 },
 "nbformat": 4,
 "nbformat_minor": 5
}
