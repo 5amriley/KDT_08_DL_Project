{
 "cells": [
  {
   "cell_type": "markdown",
   "source": [
    "# 방향\n",
    "- 이중분류 할것이다: 사진이 주어졌을때 이게 개냐 ~ 아니냐 ~\n",
    "\n",
    "# 할거\n",
    "- 3개의 함수 : 학습, 검증 및 테스트, 예측\n",
    "- 모델 : 층, 층별 노드, 퍼셉트론 수 조절한게 있어야 함"
   ],
   "metadata": {
    "collapsed": false
   },
   "id": "3df4dc2bf686e20f"
  },
  {
   "cell_type": "code",
   "execution_count": null,
   "id": "initial_id",
   "metadata": {
    "collapsed": true,
    "ExecuteTime": {
     "start_time": "2024-03-19T15:08:45.914285Z"
    }
   },
   "outputs": [],
   "source": [
    "from PIL import Image\n",
    "import numpy as np\n",
    "import pandas as pd\n",
    "from sklearn.datasets import fetch_openml \n",
    "from sklearn.preprocessing import LabelEncoder, OneHotEncoder\n",
    "import torch\n",
    "import torch.nn.functional as F \n",
    "import torch.nn as nn \n",
    "from torch.utils.data import Dataset, DataLoader, random_split\n",
    "import torch.optim as optim \n",
    "import torchmetrics.functional as metrics"
   ]
  },
  {
   "cell_type": "code",
   "outputs": [],
   "source": [
    "cat_file = 'cat_df.csv'\n",
    "dog_file = 'dog_df.csv'\n",
    "cat_data = pd.read_csv(cat_file)\n",
    "dog_data = pd.read_csv(dog_file)\n",
    "data = pd.concat([cat_data, dog_data])"
   ],
   "metadata": {
    "collapsed": false,
    "ExecuteTime": {
     "start_time": "2024-03-19T15:08:45.916757Z"
    }
   },
   "id": "c42a423a97e00f78",
   "execution_count": null
  },
  {
   "cell_type": "code",
   "outputs": [],
   "source": [
    "data.info()"
   ],
   "metadata": {
    "collapsed": false,
    "ExecuteTime": {
     "start_time": "2024-03-19T15:08:45.917754Z"
    }
   },
   "id": "6599436a0ca4ac31",
   "execution_count": null
  },
  {
   "cell_type": "code",
   "outputs": [],
   "source": [
    "data.shape"
   ],
   "metadata": {
    "collapsed": false,
    "ExecuteTime": {
     "start_time": "2024-03-19T15:08:45.918810Z"
    }
   },
   "id": "97eb4f3a603b4600",
   "execution_count": null
  },
  {
   "cell_type": "code",
   "outputs": [],
   "source": [
    "col_list = []\n",
    "for i in range(1, 262146):\n",
    "    col_list.append(f\"pixel{i}\")\n",
    "data.columns = col_list\n",
    "data.columns"
   ],
   "metadata": {
    "collapsed": false,
    "ExecuteTime": {
     "start_time": "2024-03-19T15:08:45.919807Z"
    }
   },
   "id": "3bc6ccfdabf14160",
   "execution_count": null
  },
  {
   "cell_type": "code",
   "outputs": [],
   "source": [
    "data.index"
   ],
   "metadata": {
    "collapsed": false,
    "ExecuteTime": {
     "start_time": "2024-03-19T15:08:45.248527Z"
    }
   },
   "id": "a066b725ac62d5b",
   "execution_count": null
  },
  {
   "cell_type": "code",
   "outputs": [],
   "source": [
    "type_list = []\n",
    "for i in range(50):\n",
    "    type_list.append('cat')\n",
    "for i in range(50):\n",
    "    type_list.append('dog')\n",
    "# type_list\n",
    "\n",
    "data['type'] = type_list"
   ],
   "metadata": {
    "collapsed": false,
    "ExecuteTime": {
     "start_time": "2024-03-19T15:08:45.263172Z"
    }
   },
   "id": "e51d01da053ef943",
   "execution_count": null
  },
  {
   "cell_type": "code",
   "outputs": [],
   "source": [
    "data.columns"
   ],
   "metadata": {
    "collapsed": false,
    "ExecuteTime": {
     "start_time": "2024-03-19T15:08:45.310573Z"
    }
   },
   "id": "dda6471b768a09da",
   "execution_count": null
  },
  {
   "cell_type": "code",
   "outputs": [],
   "source": [
    "data.shape"
   ],
   "metadata": {
    "collapsed": false,
    "ExecuteTime": {
     "start_time": "2024-03-19T15:08:45.326203Z"
    }
   },
   "id": "f1fdc979e72e14cf",
   "execution_count": null
  },
  {
   "cell_type": "markdown",
   "source": [
    "# 피처, 타겟 분리 & 정규화"
   ],
   "metadata": {
    "collapsed": false
   },
   "id": "d994d4f77934d740"
  },
  {
   "cell_type": "code",
   "outputs": [],
   "source": [
    "feature = data[data.columns[:-1]]\n",
    "target = data[data.columns[-1]]"
   ],
   "metadata": {
    "collapsed": false,
    "ExecuteTime": {
     "start_time": "2024-03-19T15:08:45.341824Z"
    }
   },
   "id": "ebe6944a98dacc0f",
   "execution_count": null
  },
  {
   "cell_type": "code",
   "outputs": [],
   "source": [
    "print(f\"feature.shape: {feature.shape}, target.shape: {target.shape}\")"
   ],
   "metadata": {
    "collapsed": false,
    "ExecuteTime": {
     "start_time": "2024-03-19T15:08:45.495974Z"
    }
   },
   "id": "a6fac32e655933b7",
   "execution_count": null
  },
  {
   "cell_type": "code",
   "outputs": [],
   "source": [
    "# cat을 0으로 dog를 1로 변경\n",
    "target.replace('cat',0, inplace = True)\n",
    "target.replace('dog',1, inplace = True)\n",
    "scaled_target = target"
   ],
   "metadata": {
    "collapsed": false,
    "ExecuteTime": {
     "end_time": "2024-03-19T15:21:48.479910Z",
     "start_time": "2024-03-19T15:21:48.462043Z"
    }
   },
   "id": "aee73d674279a425",
   "execution_count": 103
  },
  {
   "cell_type": "code",
   "outputs": [],
   "source": [
    "# 피처를 정규화 시킴\n",
    "scaled_feature = feature/512."
   ],
   "metadata": {
    "collapsed": false,
    "ExecuteTime": {
     "end_time": "2024-03-19T15:21:49.147360Z",
     "start_time": "2024-03-19T15:21:49.100282Z"
    }
   },
   "id": "176fff6299fcf2e5",
   "execution_count": 104
  },
  {
   "cell_type": "code",
   "outputs": [
    {
     "data": {
      "text/plain": "(100, 262145)"
     },
     "execution_count": 105,
     "metadata": {},
     "output_type": "execute_result"
    }
   ],
   "source": [
    "scaled_feature.shape"
   ],
   "metadata": {
    "collapsed": false,
    "ExecuteTime": {
     "end_time": "2024-03-19T15:21:49.539118Z",
     "start_time": "2024-03-19T15:21:49.521102Z"
    }
   },
   "id": "8d05547efcc73107",
   "execution_count": 105
  },
  {
   "cell_type": "markdown",
   "source": [
    "# 학습 데이터셋 준비 (학습용, 검증용, 테스트용)"
   ],
   "metadata": {
    "collapsed": false
   },
   "id": "28d500a74149055e"
  },
  {
   "cell_type": "code",
   "outputs": [],
   "source": [
    "# 사용자 정의 데이터셋 및 전체 데이터셋 준비\n",
    "\n",
    "class all_dataset(Dataset):\n",
    "    def __init__(self, feature_data, target_data):\n",
    "        super().__init__()  # 어미를 상속받았다\n",
    "        # 해당 클래스의 인스턴스 초기화함\n",
    "        self.data = torch.FloatTensor(feature_data)\n",
    "        self.target = torch.FloatTensor(target_data)\n",
    "        \n",
    "    def __len__(self):\n",
    "        return self.target.shape[0]\n",
    "    \n",
    "    def __getitem__(self, index):\n",
    "        return self.data[index], self.target[index]"
   ],
   "metadata": {
    "collapsed": false,
    "ExecuteTime": {
     "end_time": "2024-03-19T15:21:50.149141Z",
     "start_time": "2024-03-19T15:21:50.134200Z"
    }
   },
   "id": "75e32a4662ca85f6",
   "execution_count": 106
  },
  {
   "cell_type": "code",
   "outputs": [
    {
     "name": "stdout",
     "output_type": "stream",
     "text": [
      "feature.shape: torch.Size([100, 262145]), target.shape: torch.Size([100])\n"
     ]
    }
   ],
   "source": [
    "# 전체 DataSet 생성\n",
    "feature_np = np.array(scaled_feature)\n",
    "target_np = np.array(scaled_target)\n",
    "\n",
    "animal_dataset = all_dataset(feature_np, target_np)\n",
    "\n",
    "print(f\"feature.shape: {animal_dataset.data.shape}, target.shape: {animal_dataset.target.shape}\")"
   ],
   "metadata": {
    "collapsed": false,
    "ExecuteTime": {
     "end_time": "2024-03-19T15:21:50.538700Z",
     "start_time": "2024-03-19T15:21:50.456319Z"
    }
   },
   "id": "74c453de06a5b39e",
   "execution_count": 107
  },
  {
   "cell_type": "code",
   "outputs": [],
   "source": [
    "# 학습용, 검증용, 테스트용 데이터셋 분리"
   ],
   "metadata": {
    "collapsed": false,
    "ExecuteTime": {
     "end_time": "2024-03-19T15:21:50.803718Z",
     "start_time": "2024-03-19T15:21:50.790263Z"
    }
   },
   "id": "1aed7d00586b3121",
   "execution_count": 108
  },
  {
   "cell_type": "code",
   "outputs": [],
   "source": [
    "seed_generator = torch.Generator().manual_seed(11)\n",
    "\n",
    "train_size, valid_size, test_size = 0.7, 0.1, 0.2\n",
    "\n",
    "train_dataset, valid_dataset, test_dataset = random_split(animal_dataset, [train_size, valid_size, test_size], generator = seed_generator)"
   ],
   "metadata": {
    "collapsed": false,
    "ExecuteTime": {
     "end_time": "2024-03-19T15:21:51.126338Z",
     "start_time": "2024-03-19T15:21:51.112744Z"
    }
   },
   "id": "dcd7dcee40f3326c",
   "execution_count": 109
  },
  {
   "cell_type": "code",
   "outputs": [
    {
     "name": "stdout",
     "output_type": "stream",
     "text": [
      "train dataset length : 70\n",
      "valid dataset length : 10\n",
      "test dataset length : 20\n"
     ]
    }
   ],
   "source": [
    "print(f\"train dataset length : {len(train_dataset)}\")\n",
    "print(f\"valid dataset length : {len(valid_dataset)}\")\n",
    "print(f\"test dataset length : {len(test_dataset)}\")"
   ],
   "metadata": {
    "collapsed": false,
    "ExecuteTime": {
     "end_time": "2024-03-19T15:21:51.407910Z",
     "start_time": "2024-03-19T15:21:51.395236Z"
    }
   },
   "id": "c1ecb251fc54534c",
   "execution_count": 110
  },
  {
   "cell_type": "markdown",
   "source": [
    "# 데이터 로더 생성"
   ],
   "metadata": {
    "collapsed": false
   },
   "id": "448072d44bb1ff42"
  },
  {
   "cell_type": "code",
   "outputs": [
    {
     "name": "stdout",
     "output_type": "stream",
     "text": [
      "<torch.utils.data.dataloader.DataLoader object at 0x00000265C61304F0>\n",
      "\n",
      "<torch.utils.data.dataloader.DataLoader object at 0x00000265C6130A60>\n",
      "\n",
      "<torch.utils.data.dataloader.DataLoader object at 0x00000265C6130250>\n"
     ]
    }
   ],
   "source": [
    "batch = 5\n",
    "\n",
    "train_loader = DataLoader(train_dataset, batch_size = batch)\n",
    "val_loader = DataLoader(valid_dataset, batch_size = batch)\n",
    "test_loader = DataLoader(test_dataset, batch_size = batch)\n",
    "\n",
    "print(train_loader, val_loader, test_loader, sep='\\n\\n')"
   ],
   "metadata": {
    "collapsed": false,
    "ExecuteTime": {
     "end_time": "2024-03-19T15:21:51.944781Z",
     "start_time": "2024-03-19T15:21:51.936114Z"
    }
   },
   "id": "279a076647d44a1b",
   "execution_count": 111
  },
  {
   "cell_type": "markdown",
   "source": [
    "# 모델 준비"
   ],
   "metadata": {
    "collapsed": false
   },
   "id": "d96ad728509ade44"
  },
  {
   "cell_type": "code",
   "outputs": [],
   "source": [
    "# 이중 분류  | 입력 피처 수 : 512 * 512  |  출력 피처 수 : 1 (0 or 1)\n",
    "\n",
    "class myModel(nn.Module):\n",
    "    def __init__(self, input_num, output_num):\n",
    "        super().__init__()\n",
    "        self.layer1 = nn.Linear(input_num, 100000)\n",
    "        self.layer2 = nn.Linear(100000, 50000)\n",
    "        self.layer3 = nn.Linear(50000, 25000)\n",
    "        self.layer4 = nn.Linear(25000, 12000)\n",
    "        self.layer5 = nn.Linear(12000, 6000)\n",
    "        self.layer6 = nn.Linear(3000, 1000)\n",
    "        self.layer7 = nn.Linear(1000, output_num)\n",
    "        self.relu = nn.ReLU()\n",
    "    \n",
    "    def forward(self, x):\n",
    "        x = self.layer1(x)\n",
    "        x = self.relu(x)\n",
    "        x = self.layer2(x)\n",
    "        x = self.relu(x)\n",
    "        x = self.layer3(x)\n",
    "        x = self.relu(x)\n",
    "        x = self.layer4(x)\n",
    "        x = self.relu(x)\n",
    "        x = self.layer5(x)\n",
    "        x = self.relu(x)\n",
    "        x = self.layer6(x)\n",
    "        x = self.relu(x)\n",
    "        x = self.layer7(x)\n",
    "        return x"
   ],
   "metadata": {
    "collapsed": false,
    "ExecuteTime": {
     "end_time": "2024-03-19T15:21:52.640781Z",
     "start_time": "2024-03-19T15:21:52.624215Z"
    }
   },
   "id": "f07a612755fd64c2",
   "execution_count": 112
  },
  {
   "cell_type": "markdown",
   "source": [
    "### Q : 은닉층이면 relu 밖에 안됨? sigmoid,,, 흠,,, 왜 활성함수로 저거를 쓴 이유가 있어야할듯"
   ],
   "metadata": {
    "collapsed": false
   },
   "id": "23de89182a589a12"
  },
  {
   "cell_type": "code",
   "outputs": [
    {
     "name": "stdout",
     "output_type": "stream",
     "text": [
      "cpu\n"
     ]
    }
   ],
   "source": [
    "# 디바이스 설정\n",
    "device = 'cuda' if torch.cuda.is_available() else 'cpu'\n",
    "print(device)"
   ],
   "metadata": {
    "collapsed": false,
    "ExecuteTime": {
     "end_time": "2024-03-19T15:23:59.834616Z",
     "start_time": "2024-03-19T15:23:59.828093Z"
    }
   },
   "id": "53cf95289e5ae3c3",
   "execution_count": 119
  },
  {
   "cell_type": "code",
   "outputs": [
    {
     "ename": "RuntimeError",
     "evalue": "[enforce fail at alloc_cpu.cpp:114] data. DefaultCPUAllocator: not enough memory: you tried to allocate 104858000000 bytes.",
     "output_type": "error",
     "traceback": [
      "\u001B[1;31m---------------------------------------------------------------------------\u001B[0m",
      "\u001B[1;31mRuntimeError\u001B[0m                              Traceback (most recent call last)",
      "Cell \u001B[1;32mIn[118], line 2\u001B[0m\n\u001B[0;32m      1\u001B[0m \u001B[38;5;66;03m# 학습 모델 인스턴스 생성\u001B[39;00m\n\u001B[1;32m----> 2\u001B[0m dogmodel \u001B[38;5;241m=\u001B[39m \u001B[43mmyModel\u001B[49m\u001B[43m(\u001B[49m\u001B[43mfeature_np\u001B[49m\u001B[38;5;241;43m.\u001B[39;49m\u001B[43mshape\u001B[49m\u001B[43m[\u001B[49m\u001B[38;5;241;43m1\u001B[39;49m\u001B[43m]\u001B[49m\u001B[43m,\u001B[49m\u001B[43m \u001B[49m\u001B[38;5;241;43m2\u001B[39;49m\u001B[43m)\u001B[49m\u001B[38;5;241m.\u001B[39mto(device)\n\u001B[0;32m      3\u001B[0m dogmodel\n",
      "Cell \u001B[1;32mIn[112], line 6\u001B[0m, in \u001B[0;36mmyModel.__init__\u001B[1;34m(self, input_num, output_num)\u001B[0m\n\u001B[0;32m      4\u001B[0m \u001B[38;5;28;01mdef\u001B[39;00m \u001B[38;5;21m__init__\u001B[39m(\u001B[38;5;28mself\u001B[39m, input_num, output_num):\n\u001B[0;32m      5\u001B[0m     \u001B[38;5;28msuper\u001B[39m()\u001B[38;5;241m.\u001B[39m\u001B[38;5;21m__init__\u001B[39m()\n\u001B[1;32m----> 6\u001B[0m     \u001B[38;5;28mself\u001B[39m\u001B[38;5;241m.\u001B[39mlayer1 \u001B[38;5;241m=\u001B[39m \u001B[43mnn\u001B[49m\u001B[38;5;241;43m.\u001B[39;49m\u001B[43mLinear\u001B[49m\u001B[43m(\u001B[49m\u001B[43minput_num\u001B[49m\u001B[43m,\u001B[49m\u001B[43m \u001B[49m\u001B[38;5;241;43m100000\u001B[39;49m\u001B[43m)\u001B[49m\n\u001B[0;32m      7\u001B[0m     \u001B[38;5;28mself\u001B[39m\u001B[38;5;241m.\u001B[39mlayer2 \u001B[38;5;241m=\u001B[39m nn\u001B[38;5;241m.\u001B[39mLinear(\u001B[38;5;241m100000\u001B[39m, \u001B[38;5;241m50000\u001B[39m)\n\u001B[0;32m      8\u001B[0m     \u001B[38;5;28mself\u001B[39m\u001B[38;5;241m.\u001B[39mlayer3 \u001B[38;5;241m=\u001B[39m nn\u001B[38;5;241m.\u001B[39mLinear(\u001B[38;5;241m50000\u001B[39m, \u001B[38;5;241m25000\u001B[39m)\n",
      "File \u001B[1;32mC:\\ProgramData\\anaconda3\\envs\\Torch_PY38\\lib\\site-packages\\torch\\nn\\modules\\linear.py:98\u001B[0m, in \u001B[0;36mLinear.__init__\u001B[1;34m(self, in_features, out_features, bias, device, dtype)\u001B[0m\n\u001B[0;32m     96\u001B[0m \u001B[38;5;28mself\u001B[39m\u001B[38;5;241m.\u001B[39min_features \u001B[38;5;241m=\u001B[39m in_features\n\u001B[0;32m     97\u001B[0m \u001B[38;5;28mself\u001B[39m\u001B[38;5;241m.\u001B[39mout_features \u001B[38;5;241m=\u001B[39m out_features\n\u001B[1;32m---> 98\u001B[0m \u001B[38;5;28mself\u001B[39m\u001B[38;5;241m.\u001B[39mweight \u001B[38;5;241m=\u001B[39m Parameter(\u001B[43mtorch\u001B[49m\u001B[38;5;241;43m.\u001B[39;49m\u001B[43mempty\u001B[49m\u001B[43m(\u001B[49m\u001B[43m(\u001B[49m\u001B[43mout_features\u001B[49m\u001B[43m,\u001B[49m\u001B[43m \u001B[49m\u001B[43min_features\u001B[49m\u001B[43m)\u001B[49m\u001B[43m,\u001B[49m\u001B[43m \u001B[49m\u001B[38;5;241;43m*\u001B[39;49m\u001B[38;5;241;43m*\u001B[39;49m\u001B[43mfactory_kwargs\u001B[49m\u001B[43m)\u001B[49m)\n\u001B[0;32m     99\u001B[0m \u001B[38;5;28;01mif\u001B[39;00m bias:\n\u001B[0;32m    100\u001B[0m     \u001B[38;5;28mself\u001B[39m\u001B[38;5;241m.\u001B[39mbias \u001B[38;5;241m=\u001B[39m Parameter(torch\u001B[38;5;241m.\u001B[39mempty(out_features, \u001B[38;5;241m*\u001B[39m\u001B[38;5;241m*\u001B[39mfactory_kwargs))\n",
      "\u001B[1;31mRuntimeError\u001B[0m: [enforce fail at alloc_cpu.cpp:114] data. DefaultCPUAllocator: not enough memory: you tried to allocate 104858000000 bytes."
     ]
    }
   ],
   "source": [
    "# 학습 모델 인스턴스 생성\n",
    "dogmodel = myModel(feature_np.shape[1], 2).to(device)"
   ],
   "metadata": {
    "collapsed": false,
    "ExecuteTime": {
     "end_time": "2024-03-19T15:22:38.337365Z",
     "start_time": "2024-03-19T15:22:38.280609Z"
    }
   },
   "id": "f4f1ca9c5e6d149",
   "execution_count": 118
  },
  {
   "cell_type": "code",
   "outputs": [
    {
     "ename": "NameError",
     "evalue": "name 'dogmodel' is not defined",
     "output_type": "error",
     "traceback": [
      "\u001B[1;31m---------------------------------------------------------------------------\u001B[0m",
      "\u001B[1;31mNameError\u001B[0m                                 Traceback (most recent call last)",
      "Cell \u001B[1;32mIn[115], line 1\u001B[0m\n\u001B[1;32m----> 1\u001B[0m \u001B[43mdogmodel\u001B[49m\u001B[38;5;241m.\u001B[39mparameters()\n",
      "\u001B[1;31mNameError\u001B[0m: name 'dogmodel' is not defined"
     ]
    }
   ],
   "source": [
    "dogmodel.parameters()"
   ],
   "metadata": {
    "collapsed": false,
    "ExecuteTime": {
     "end_time": "2024-03-19T15:21:53.930562Z",
     "start_time": "2024-03-19T15:21:53.890271Z"
    }
   },
   "id": "79d9b1594a3da05a",
   "execution_count": 115
  },
  {
   "cell_type": "code",
   "outputs": [
    {
     "ename": "NameError",
     "evalue": "name 'dogmodel' is not defined",
     "output_type": "error",
     "traceback": [
      "\u001B[1;31m---------------------------------------------------------------------------\u001B[0m",
      "\u001B[1;31mNameError\u001B[0m                                 Traceback (most recent call last)",
      "Cell \u001B[1;32mIn[116], line 2\u001B[0m\n\u001B[0;32m      1\u001B[0m \u001B[38;5;66;03m# 최적화 인스턴스 생성\u001B[39;00m\n\u001B[1;32m----> 2\u001B[0m optimizer \u001B[38;5;241m=\u001B[39m optim\u001B[38;5;241m.\u001B[39mSGD(\u001B[43mdogmodel\u001B[49m\u001B[38;5;241m.\u001B[39mparameters())\n",
      "\u001B[1;31mNameError\u001B[0m: name 'dogmodel' is not defined"
     ]
    }
   ],
   "source": [
    "# 최적화 인스턴스 생성\n",
    "optimizer = optim.SGD(dogmodel.parameters())"
   ],
   "metadata": {
    "collapsed": false,
    "ExecuteTime": {
     "end_time": "2024-03-19T15:21:54.260566Z",
     "start_time": "2024-03-19T15:21:54.231235Z"
    }
   },
   "id": "99c5285e251ccc8e",
   "execution_count": 116
  },
  {
   "cell_type": "markdown",
   "source": [
    "### Q. 왜 이 optimizer를 썻는가?"
   ],
   "metadata": {
    "collapsed": false
   },
   "id": "b515d76db90e5905"
  },
  {
   "cell_type": "code",
   "outputs": [],
   "source": [],
   "metadata": {
    "collapsed": false,
    "ExecuteTime": {
     "start_time": "2024-03-19T15:08:45.890418Z"
    }
   },
   "id": "c7bb1d12a45a87d7"
  },
  {
   "cell_type": "code",
   "outputs": [],
   "source": [],
   "metadata": {
    "collapsed": false,
    "ExecuteTime": {
     "start_time": "2024-03-19T15:08:45.948484Z"
    }
   },
   "id": "ee837a42a37ab61d"
  },
  {
   "cell_type": "code",
   "outputs": [],
   "source": [],
   "metadata": {
    "collapsed": false,
    "ExecuteTime": {
     "start_time": "2024-03-19T15:08:45.949539Z"
    }
   },
   "id": "39b6ca17b991f84"
  },
  {
   "cell_type": "markdown",
   "source": [
    "# 함수 정의 : training, testing"
   ],
   "metadata": {
    "collapsed": false
   },
   "id": "12d99edbd05a452f"
  },
  {
   "cell_type": "code",
   "outputs": [],
   "source": [],
   "metadata": {
    "collapsed": false,
    "ExecuteTime": {
     "start_time": "2024-03-19T15:08:45.951584Z"
    }
   },
   "id": "2e09ca4aa8c07d15"
  },
  {
   "cell_type": "code",
   "outputs": [],
   "source": [],
   "metadata": {
    "collapsed": false,
    "ExecuteTime": {
     "start_time": "2024-03-19T15:08:45.953022Z"
    }
   },
   "id": "c7fda801eee92177"
  },
  {
   "cell_type": "code",
   "outputs": [],
   "source": [],
   "metadata": {
    "collapsed": false,
    "ExecuteTime": {
     "start_time": "2024-03-19T15:08:45.954130Z"
    }
   },
   "id": "2ae69ce4585e4b0a"
  },
  {
   "cell_type": "code",
   "outputs": [],
   "source": [],
   "metadata": {
    "collapsed": false,
    "ExecuteTime": {
     "start_time": "2024-03-19T15:08:45.955129Z"
    }
   },
   "id": "c3b90393ed74fa4e"
  },
  {
   "cell_type": "code",
   "outputs": [],
   "source": [],
   "metadata": {
    "collapsed": false,
    "ExecuteTime": {
     "start_time": "2024-03-19T15:08:45.957666Z"
    }
   },
   "id": "78ff2ab2a7f98d57"
  },
  {
   "cell_type": "code",
   "outputs": [],
   "source": [],
   "metadata": {
    "collapsed": false,
    "ExecuteTime": {
     "start_time": "2024-03-19T15:08:45.902807Z"
    }
   },
   "id": "23a0aaaf6f727887"
  },
  {
   "cell_type": "code",
   "outputs": [],
   "source": [],
   "metadata": {
    "collapsed": false,
    "ExecuteTime": {
     "start_time": "2024-03-19T15:08:45.904053Z"
    }
   },
   "id": "ded87284a75eb93c"
  },
  {
   "cell_type": "code",
   "outputs": [],
   "source": [],
   "metadata": {
    "collapsed": false,
    "ExecuteTime": {
     "start_time": "2024-03-19T15:08:45.962186Z"
    }
   },
   "id": "81b527b22f18023b"
  },
  {
   "cell_type": "code",
   "outputs": [],
   "source": [],
   "metadata": {
    "collapsed": false,
    "ExecuteTime": {
     "start_time": "2024-03-19T15:08:45.908030Z"
    }
   },
   "id": "8169c210766a4c71"
  },
  {
   "cell_type": "code",
   "outputs": [],
   "source": [],
   "metadata": {
    "collapsed": false,
    "ExecuteTime": {
     "start_time": "2024-03-19T15:08:45.965392Z"
    }
   },
   "id": "e49c10ddf891377a"
  },
  {
   "cell_type": "markdown",
   "source": [
    "# 모델 저장"
   ],
   "metadata": {
    "collapsed": false
   },
   "id": "fb38753f3f12bcf3"
  },
  {
   "cell_type": "markdown",
   "source": [
    "# 학습 진행 및 학습 결과 저장"
   ],
   "metadata": {
    "collapsed": false
   },
   "id": "c566eaec5a6b5893"
  },
  {
   "cell_type": "code",
   "outputs": [],
   "source": [],
   "metadata": {
    "collapsed": false,
    "ExecuteTime": {
     "start_time": "2024-03-19T15:08:45.967459Z"
    }
   },
   "id": "c35c7398844f6272"
  }
 ],
 "metadata": {
  "kernelspec": {
   "display_name": "Python 3",
   "language": "python",
   "name": "python3"
  },
  "language_info": {
   "codemirror_mode": {
    "name": "ipython",
    "version": 2
   },
   "file_extension": ".py",
   "mimetype": "text/x-python",
   "name": "python",
   "nbconvert_exporter": "python",
   "pygments_lexer": "ipython2",
   "version": "2.7.6"
  }
 },
 "nbformat": 4,
 "nbformat_minor": 5
}
