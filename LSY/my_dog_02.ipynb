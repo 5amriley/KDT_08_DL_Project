{
 "cells": [
  {
   "cell_type": "markdown",
   "source": [
    "# 방향\n",
    "- 이중분류 할것이다: 사진이 주어졌을때 이게 개냐 ~ 아니냐 ~\n",
    "\n",
    "# 할거\n",
    "- 3개의 함수 : 학습, 검증 및 테스트, 예측\n",
    "- 모델 : 층, 층별 노드, 퍼셉트론 수 조절한게 있어야 함"
   ],
   "metadata": {
    "collapsed": false
   },
   "id": "3df4dc2bf686e20f"
  },
  {
   "cell_type": "markdown",
   "source": [
    "# 30 * 30 으로 resize 된 사진으로 모델 돌림"
   ],
   "metadata": {
    "collapsed": false
   },
   "id": "65a878ba9d326bbc"
  },
  {
   "cell_type": "code",
   "execution_count": 2,
   "id": "initial_id",
   "metadata": {
    "collapsed": true,
    "ExecuteTime": {
     "end_time": "2024-03-19T16:03:31.621291Z",
     "start_time": "2024-03-19T16:03:28.813381Z"
    }
   },
   "outputs": [],
   "source": [
    "from PIL import Image\n",
    "import numpy as np\n",
    "import pandas as pd\n",
    "from sklearn.datasets import fetch_openml \n",
    "from sklearn.preprocessing import LabelEncoder, OneHotEncoder\n",
    "import torch\n",
    "import torch.nn.functional as F \n",
    "import torch.nn as nn \n",
    "from torch.utils.data import Dataset, DataLoader, random_split\n",
    "import torch.optim as optim \n",
    "import torchmetrics.functional as metrics"
   ]
  },
  {
   "cell_type": "code",
   "outputs": [],
   "source": [
    "cat_file = 'resize_cat_df.csv'\n",
    "dog_file = 'resize_dog_df.csv'\n",
    "cat_data = pd.read_csv(cat_file)\n",
    "dog_data = pd.read_csv(dog_file)\n",
    "data = pd.concat([cat_data, dog_data])"
   ],
   "metadata": {
    "collapsed": false,
    "ExecuteTime": {
     "end_time": "2024-03-19T16:03:32.514155Z",
     "start_time": "2024-03-19T16:03:32.406138Z"
    }
   },
   "id": "c42a423a97e00f78",
   "execution_count": 3
  },
  {
   "cell_type": "code",
   "outputs": [
    {
     "name": "stdout",
     "output_type": "stream",
     "text": [
      "<class 'pandas.core.frame.DataFrame'>\n",
      "Index: 891 entries, 0 to 438\n",
      "Columns: 901 entries, Unnamed: 0 to 899\n",
      "dtypes: int64(901)\n",
      "memory usage: 6.1 MB\n"
     ]
    }
   ],
   "source": [
    "data.info()"
   ],
   "metadata": {
    "collapsed": false,
    "ExecuteTime": {
     "end_time": "2024-03-19T16:03:33.989564Z",
     "start_time": "2024-03-19T16:03:33.955462Z"
    }
   },
   "id": "6599436a0ca4ac31",
   "execution_count": 4
  },
  {
   "cell_type": "code",
   "outputs": [
    {
     "data": {
      "text/plain": "(452, 901)"
     },
     "execution_count": 9,
     "metadata": {},
     "output_type": "execute_result"
    }
   ],
   "source": [
    "cat_data.shape"
   ],
   "metadata": {
    "collapsed": false,
    "ExecuteTime": {
     "end_time": "2024-03-19T16:04:44.406660Z",
     "start_time": "2024-03-19T16:04:44.396703Z"
    }
   },
   "id": "557fb37170c3f4f4",
   "execution_count": 9
  },
  {
   "cell_type": "code",
   "outputs": [
    {
     "data": {
      "text/plain": "(439, 901)"
     },
     "execution_count": 10,
     "metadata": {},
     "output_type": "execute_result"
    }
   ],
   "source": [
    "dog_data.shape"
   ],
   "metadata": {
    "collapsed": false,
    "ExecuteTime": {
     "end_time": "2024-03-19T16:05:03.149119Z",
     "start_time": "2024-03-19T16:05:03.134375Z"
    }
   },
   "id": "f463f573a4125888",
   "execution_count": 10
  },
  {
   "cell_type": "code",
   "outputs": [
    {
     "data": {
      "text/plain": "(891, 901)"
     },
     "execution_count": 5,
     "metadata": {},
     "output_type": "execute_result"
    }
   ],
   "source": [
    "data.shape"
   ],
   "metadata": {
    "collapsed": false,
    "ExecuteTime": {
     "end_time": "2024-03-19T16:03:52.480983Z",
     "start_time": "2024-03-19T16:03:52.466438Z"
    }
   },
   "id": "97eb4f3a603b4600",
   "execution_count": 5
  },
  {
   "cell_type": "code",
   "outputs": [
    {
     "data": {
      "text/plain": "Index(['pixel1', 'pixel2', 'pixel3', 'pixel4', 'pixel5', 'pixel6', 'pixel7',\n       'pixel8', 'pixel9', 'pixel10',\n       ...\n       'pixel892', 'pixel893', 'pixel894', 'pixel895', 'pixel896', 'pixel897',\n       'pixel898', 'pixel899', 'pixel900', 'pixel901'],\n      dtype='object', length=901)"
     },
     "execution_count": 7,
     "metadata": {},
     "output_type": "execute_result"
    }
   ],
   "source": [
    "col_list = []\n",
    "for i in range(1, 902):\n",
    "    col_list.append(f\"pixel{i}\")\n",
    "data.columns = col_list\n",
    "data.columns"
   ],
   "metadata": {
    "collapsed": false,
    "ExecuteTime": {
     "end_time": "2024-03-19T16:04:09.770048Z",
     "start_time": "2024-03-19T16:04:09.759466Z"
    }
   },
   "id": "3bc6ccfdabf14160",
   "execution_count": 7
  },
  {
   "cell_type": "code",
   "outputs": [
    {
     "data": {
      "text/plain": "Index([  0,   1,   2,   3,   4,   5,   6,   7,   8,   9,\n       ...\n       429, 430, 431, 432, 433, 434, 435, 436, 437, 438],\n      dtype='int64', length=891)"
     },
     "execution_count": 8,
     "metadata": {},
     "output_type": "execute_result"
    }
   ],
   "source": [
    "data.index"
   ],
   "metadata": {
    "collapsed": false,
    "ExecuteTime": {
     "end_time": "2024-03-19T16:04:13.318691Z",
     "start_time": "2024-03-19T16:04:13.313435Z"
    }
   },
   "id": "a066b725ac62d5b",
   "execution_count": 8
  },
  {
   "cell_type": "code",
   "outputs": [],
   "source": [
    "type_list = []\n",
    "for i in range(cat_data.shape[0]):\n",
    "    type_list.append('cat')\n",
    "for i in range(dog_data.shape[0]):\n",
    "    type_list.append('dog')\n",
    "# type_list\n",
    "\n",
    "data['type'] = type_list"
   ],
   "metadata": {
    "collapsed": false,
    "ExecuteTime": {
     "end_time": "2024-03-19T16:05:23.967845Z",
     "start_time": "2024-03-19T16:05:23.961699Z"
    }
   },
   "id": "e51d01da053ef943",
   "execution_count": 11
  },
  {
   "cell_type": "code",
   "outputs": [
    {
     "data": {
      "text/plain": "Index(['pixel1', 'pixel2', 'pixel3', 'pixel4', 'pixel5', 'pixel6', 'pixel7',\n       'pixel8', 'pixel9', 'pixel10',\n       ...\n       'pixel893', 'pixel894', 'pixel895', 'pixel896', 'pixel897', 'pixel898',\n       'pixel899', 'pixel900', 'pixel901', 'type'],\n      dtype='object', length=902)"
     },
     "execution_count": 12,
     "metadata": {},
     "output_type": "execute_result"
    }
   ],
   "source": [
    "data.columns"
   ],
   "metadata": {
    "collapsed": false,
    "ExecuteTime": {
     "end_time": "2024-03-19T16:05:25.651371Z",
     "start_time": "2024-03-19T16:05:25.642884Z"
    }
   },
   "id": "dda6471b768a09da",
   "execution_count": 12
  },
  {
   "cell_type": "code",
   "outputs": [
    {
     "data": {
      "text/plain": "(891, 902)"
     },
     "execution_count": 13,
     "metadata": {},
     "output_type": "execute_result"
    }
   ],
   "source": [
    "data.shape"
   ],
   "metadata": {
    "collapsed": false,
    "ExecuteTime": {
     "end_time": "2024-03-19T16:05:30.726826Z",
     "start_time": "2024-03-19T16:05:30.707797Z"
    }
   },
   "id": "f1fdc979e72e14cf",
   "execution_count": 13
  },
  {
   "cell_type": "markdown",
   "source": [
    "# 피처, 타겟 분리 & 정규화"
   ],
   "metadata": {
    "collapsed": false
   },
   "id": "d994d4f77934d740"
  },
  {
   "cell_type": "code",
   "outputs": [],
   "source": [
    "feature = data[data.columns[:-1]]\n",
    "target = data[data.columns[-1]]"
   ],
   "metadata": {
    "collapsed": false,
    "ExecuteTime": {
     "end_time": "2024-03-19T16:05:32.726823Z",
     "start_time": "2024-03-19T16:05:32.717295Z"
    }
   },
   "id": "ebe6944a98dacc0f",
   "execution_count": 14
  },
  {
   "cell_type": "code",
   "outputs": [
    {
     "name": "stdout",
     "output_type": "stream",
     "text": [
      "feature.shape: (891, 901), target.shape: (891,)\n"
     ]
    }
   ],
   "source": [
    "print(f\"feature.shape: {feature.shape}, target.shape: {target.shape}\")"
   ],
   "metadata": {
    "collapsed": false,
    "ExecuteTime": {
     "end_time": "2024-03-19T16:05:33.482018Z",
     "start_time": "2024-03-19T16:05:33.476833Z"
    }
   },
   "id": "a6fac32e655933b7",
   "execution_count": 15
  },
  {
   "cell_type": "code",
   "outputs": [],
   "source": [
    "# cat을 0으로 dog를 1로 변경\n",
    "target.replace('cat',0, inplace = True)\n",
    "target.replace('dog',1, inplace = True)\n",
    "scaled_target = target"
   ],
   "metadata": {
    "collapsed": false,
    "ExecuteTime": {
     "end_time": "2024-03-19T16:05:34.898659Z",
     "start_time": "2024-03-19T16:05:34.889185Z"
    }
   },
   "id": "aee73d674279a425",
   "execution_count": 16
  },
  {
   "cell_type": "code",
   "outputs": [],
   "source": [
    "# 피처를 정규화 시킴\n",
    "scaled_feature = feature/512."
   ],
   "metadata": {
    "collapsed": false,
    "ExecuteTime": {
     "end_time": "2024-03-19T16:05:35.311905Z",
     "start_time": "2024-03-19T16:05:35.302513Z"
    }
   },
   "id": "176fff6299fcf2e5",
   "execution_count": 17
  },
  {
   "cell_type": "code",
   "outputs": [
    {
     "data": {
      "text/plain": "(891, 901)"
     },
     "execution_count": 18,
     "metadata": {},
     "output_type": "execute_result"
    }
   ],
   "source": [
    "scaled_feature.shape"
   ],
   "metadata": {
    "collapsed": false,
    "ExecuteTime": {
     "end_time": "2024-03-19T16:05:35.855447Z",
     "start_time": "2024-03-19T16:05:35.850122Z"
    }
   },
   "id": "8d05547efcc73107",
   "execution_count": 18
  },
  {
   "cell_type": "markdown",
   "source": [
    "# 학습 데이터셋 준비 (학습용, 검증용, 테스트용)"
   ],
   "metadata": {
    "collapsed": false
   },
   "id": "28d500a74149055e"
  },
  {
   "cell_type": "code",
   "outputs": [],
   "source": [
    "# 사용자 정의 데이터셋 및 전체 데이터셋 준비\n",
    "\n",
    "class all_dataset(Dataset):\n",
    "    def __init__(self, feature_data, target_data):\n",
    "        super().__init__()  # 어미를 상속받았다\n",
    "        # 해당 클래스의 인스턴스 초기화함\n",
    "        self.data = torch.FloatTensor(feature_data)\n",
    "        self.target = torch.FloatTensor(target_data)\n",
    "        \n",
    "    def __len__(self):\n",
    "        return self.target.shape[0]\n",
    "    \n",
    "    def __getitem__(self, index):\n",
    "        return self.data[index], self.target[index]"
   ],
   "metadata": {
    "collapsed": false,
    "ExecuteTime": {
     "end_time": "2024-03-19T16:05:37.485789Z",
     "start_time": "2024-03-19T16:05:37.481111Z"
    }
   },
   "id": "75e32a4662ca85f6",
   "execution_count": 19
  },
  {
   "cell_type": "code",
   "outputs": [
    {
     "name": "stdout",
     "output_type": "stream",
     "text": [
      "feature.shape: torch.Size([891, 901]), target.shape: torch.Size([891])\n"
     ]
    }
   ],
   "source": [
    "# 전체 DataSet 생성\n",
    "feature_np = np.array(scaled_feature)\n",
    "target_np = np.array(scaled_target)\n",
    "\n",
    "animal_dataset = all_dataset(feature_np, target_np)\n",
    "\n",
    "print(f\"feature.shape: {animal_dataset.data.shape}, target.shape: {animal_dataset.target.shape}\")"
   ],
   "metadata": {
    "collapsed": false,
    "ExecuteTime": {
     "end_time": "2024-03-19T16:05:38.303670Z",
     "start_time": "2024-03-19T16:05:38.281425Z"
    }
   },
   "id": "74c453de06a5b39e",
   "execution_count": 20
  },
  {
   "cell_type": "code",
   "outputs": [],
   "source": [
    "# 학습용, 검증용, 테스트용 데이터셋 분리"
   ],
   "metadata": {
    "collapsed": false,
    "ExecuteTime": {
     "end_time": "2024-03-19T16:05:39.021454Z",
     "start_time": "2024-03-19T16:05:39.007906Z"
    }
   },
   "id": "1aed7d00586b3121",
   "execution_count": 21
  },
  {
   "cell_type": "code",
   "outputs": [],
   "source": [
    "seed_generator = torch.Generator().manual_seed(11)\n",
    "\n",
    "train_size, valid_size, test_size = 0.7, 0.1, 0.2\n",
    "\n",
    "train_dataset, valid_dataset, test_dataset = random_split(animal_dataset, [train_size, valid_size, test_size], generator = seed_generator)"
   ],
   "metadata": {
    "collapsed": false,
    "ExecuteTime": {
     "end_time": "2024-03-19T16:05:39.554649Z",
     "start_time": "2024-03-19T16:05:39.548123Z"
    }
   },
   "id": "dcd7dcee40f3326c",
   "execution_count": 22
  },
  {
   "cell_type": "code",
   "outputs": [
    {
     "name": "stdout",
     "output_type": "stream",
     "text": [
      "train dataset length : 624\n",
      "valid dataset length : 89\n",
      "test dataset length : 178\n"
     ]
    }
   ],
   "source": [
    "print(f\"train dataset length : {len(train_dataset)}\")\n",
    "print(f\"valid dataset length : {len(valid_dataset)}\")\n",
    "print(f\"test dataset length : {len(test_dataset)}\")"
   ],
   "metadata": {
    "collapsed": false,
    "ExecuteTime": {
     "end_time": "2024-03-19T16:05:40.349671Z",
     "start_time": "2024-03-19T16:05:40.329487Z"
    }
   },
   "id": "c1ecb251fc54534c",
   "execution_count": 23
  },
  {
   "cell_type": "markdown",
   "source": [
    "# 데이터 로더 생성"
   ],
   "metadata": {
    "collapsed": false
   },
   "id": "448072d44bb1ff42"
  },
  {
   "cell_type": "code",
   "outputs": [
    {
     "name": "stdout",
     "output_type": "stream",
     "text": [
      "<torch.utils.data.dataloader.DataLoader object at 0x0000021710070490>\n",
      "\n",
      "<torch.utils.data.dataloader.DataLoader object at 0x0000021710070E50>\n",
      "\n",
      "<torch.utils.data.dataloader.DataLoader object at 0x00000217100756A0>\n"
     ]
    }
   ],
   "source": [
    "batch = 5\n",
    "\n",
    "train_loader = DataLoader(train_dataset, batch_size = batch)\n",
    "val_loader = DataLoader(valid_dataset, batch_size = batch)\n",
    "test_loader = DataLoader(test_dataset, batch_size = batch)\n",
    "\n",
    "print(train_loader, val_loader, test_loader, sep='\\n\\n')"
   ],
   "metadata": {
    "collapsed": false,
    "ExecuteTime": {
     "end_time": "2024-03-19T16:05:45.129998Z",
     "start_time": "2024-03-19T16:05:45.123401Z"
    }
   },
   "id": "279a076647d44a1b",
   "execution_count": 24
  },
  {
   "cell_type": "markdown",
   "source": [
    "# 모델 준비"
   ],
   "metadata": {
    "collapsed": false
   },
   "id": "d96ad728509ade44"
  },
  {
   "cell_type": "code",
   "outputs": [],
   "source": [
    "# 전방향 학습용 모델 클래스를 생성해보자\n",
    "# 이중 분류  | 입력 피처 수 : 512 * 512  |  출력 피처 수 : 1 (0 or 1)\n",
    "\n",
    "class myModel(nn.Module):\n",
    "    def __init__(self, input_num, output_num):\n",
    "        super().__init__()\n",
    "        self.layer1 = nn.Linear(input_num, 800)\n",
    "        self.layer2 = nn.Linear(800, 600)\n",
    "        self.layer3 = nn.Linear(600, 400)\n",
    "        self.layer4 = nn.Linear(400, 300)\n",
    "        self.layer5 = nn.Linear(300, 200)\n",
    "        self.layer6 = nn.Linear(100, 50)\n",
    "        self.layer7 = nn.Linear(50, output_num)\n",
    "        self.relu = nn.ReLU()\n",
    "    \n",
    "    def forward(self, x):\n",
    "        x = self.layer1(x)\n",
    "        x = self.relu(x)\n",
    "        x = self.layer2(x)\n",
    "        x = self.relu(x)\n",
    "        x = self.layer3(x)\n",
    "        x = self.relu(x)\n",
    "        x = self.layer4(x)\n",
    "        x = self.relu(x)\n",
    "        x = self.layer5(x)\n",
    "        x = self.relu(x)\n",
    "        x = self.layer6(x)\n",
    "        x = self.relu(x)\n",
    "        x = self.layer7(x)\n",
    "        return x"
   ],
   "metadata": {
    "collapsed": false,
    "ExecuteTime": {
     "end_time": "2024-03-19T16:07:43.165605Z",
     "start_time": "2024-03-19T16:07:43.153242Z"
    }
   },
   "id": "f07a612755fd64c2",
   "execution_count": 28
  },
  {
   "cell_type": "markdown",
   "source": [
    "### Q : 은닉층이면 relu 밖에 안됨? sigmoid,,, 흠,,, 왜 활성함수로 저거를 쓴 이유가 있어야할듯"
   ],
   "metadata": {
    "collapsed": false
   },
   "id": "23de89182a589a12"
  },
  {
   "cell_type": "markdown",
   "source": [
    "# 함수 정의 : training, testing, predicting"
   ],
   "metadata": {
    "collapsed": false
   },
   "id": "12d99edbd05a452f"
  },
  {
   "cell_type": "code",
   "outputs": [
    {
     "name": "stdout",
     "output_type": "stream",
     "text": [
      "cpu\n"
     ]
    }
   ],
   "source": [
    "# 디바이스 설정\n",
    "device = 'cuda' if torch.cuda.is_available() else 'cpu'\n",
    "print(device)"
   ],
   "metadata": {
    "collapsed": false,
    "ExecuteTime": {
     "end_time": "2024-03-19T16:07:44.771403Z",
     "start_time": "2024-03-19T16:07:44.754970Z"
    }
   },
   "id": "53cf95289e5ae3c3",
   "execution_count": 29
  },
  {
   "cell_type": "code",
   "outputs": [
    {
     "data": {
      "text/plain": "myModel(\n  (layer1): Linear(in_features=901, out_features=800, bias=True)\n  (layer2): Linear(in_features=800, out_features=600, bias=True)\n  (layer3): Linear(in_features=600, out_features=400, bias=True)\n  (layer4): Linear(in_features=400, out_features=300, bias=True)\n  (layer5): Linear(in_features=300, out_features=200, bias=True)\n  (layer6): Linear(in_features=100, out_features=50, bias=True)\n  (layer7): Linear(in_features=50, out_features=2, bias=True)\n  (relu): ReLU()\n)"
     },
     "execution_count": 31,
     "metadata": {},
     "output_type": "execute_result"
    }
   ],
   "source": [
    "# 학습 모델 인스턴스 생성\n",
    "dogmodel = myModel(feature_np.shape[1], 2).to(device)\n",
    "dogmodel"
   ],
   "metadata": {
    "collapsed": false,
    "ExecuteTime": {
     "end_time": "2024-03-19T16:07:51.348466Z",
     "start_time": "2024-03-19T16:07:51.320093Z"
    }
   },
   "id": "f4f1ca9c5e6d149",
   "execution_count": 31
  },
  {
   "cell_type": "code",
   "outputs": [
    {
     "name": "stdout",
     "output_type": "stream",
     "text": [
      "800\n",
      "800\n",
      "600\n",
      "600\n",
      "400\n",
      "400\n",
      "300\n",
      "300\n",
      "200\n",
      "200\n",
      "50\n",
      "50\n",
      "2\n",
      "2\n"
     ]
    }
   ],
   "source": [
    "dogmodel.parameters()\n",
    "for param in dogmodel.parameters():\n",
    "    print(len(param))"
   ],
   "metadata": {
    "collapsed": false,
    "ExecuteTime": {
     "end_time": "2024-03-19T16:08:34.568623Z",
     "start_time": "2024-03-19T16:08:34.560289Z"
    }
   },
   "id": "79d9b1594a3da05a",
   "execution_count": 35
  },
  {
   "cell_type": "code",
   "outputs": [],
   "source": [
    "# 최적화 인스턴스 생성\n",
    "optimizer = optim.SGD(dogmodel.parameters())"
   ],
   "metadata": {
    "collapsed": false,
    "ExecuteTime": {
     "end_time": "2024-03-19T16:08:36.861553Z",
     "start_time": "2024-03-19T16:08:35.205781Z"
    }
   },
   "id": "99c5285e251ccc8e",
   "execution_count": 36
  },
  {
   "cell_type": "markdown",
   "source": [
    "### Q. 왜 이 optimizer를 썻는가?"
   ],
   "metadata": {
    "collapsed": false
   },
   "id": "b515d76db90e5905"
  },
  {
   "cell_type": "code",
   "outputs": [],
   "source": [
    "# 손실함수\n",
    "loss_fn = nn.BCELoss().to(device)\n",
    "\n",
    "# https://pytorch.org/docs/stable/generated/torch.nn.BCELoss.html#torch.nn.BCELoss\n",
    "# Creates a criterion that measures the Binary Cross Entropy between the target and the input probabilities:"
   ],
   "metadata": {
    "collapsed": false,
    "ExecuteTime": {
     "end_time": "2024-03-19T16:14:22.524002Z",
     "start_time": "2024-03-19T16:14:22.513686Z"
    }
   },
   "id": "c7bb1d12a45a87d7",
   "execution_count": 40
  },
  {
   "cell_type": "code",
   "outputs": [],
   "source": [
    "# 학습 횟수\n",
    "epoch = 10"
   ],
   "metadata": {
    "collapsed": false,
    "ExecuteTime": {
     "end_time": "2024-03-19T16:14:40.128563Z",
     "start_time": "2024-03-19T16:14:40.120781Z"
    }
   },
   "id": "ee837a42a37ab61d",
   "execution_count": 41
  },
  {
   "cell_type": "code",
   "outputs": [],
   "source": [
    "# 분류 갯수\n",
    "class_num = 2"
   ],
   "metadata": {
    "collapsed": false,
    "ExecuteTime": {
     "end_time": "2024-03-19T16:15:02.876759Z",
     "start_time": "2024-03-19T16:15:02.869386Z"
    }
   },
   "id": "39b6ca17b991f84",
   "execution_count": 43
  },
  {
   "cell_type": "code",
   "outputs": [
    {
     "data": {
      "text/plain": "<torch.utils.data.dataloader.DataLoader at 0x21710070490>"
     },
     "execution_count": 45,
     "metadata": {},
     "output_type": "execute_result"
    }
   ],
   "source": [
    "train_loader"
   ],
   "metadata": {
    "collapsed": false,
    "ExecuteTime": {
     "end_time": "2024-03-19T16:35:30.672921Z",
     "start_time": "2024-03-19T16:35:30.659221Z"
    }
   },
   "id": "c81913dbf7ac1b18",
   "execution_count": 45
  },
  {
   "cell_type": "code",
   "outputs": [],
   "source": [
    "# 학습용 함수\n",
    "\n",
    "def training():\n",
    "    myModel.train()\n",
    "    \n",
    "    loss_list = []\n",
    "    evaluation = {'accuracy_list':[], 'recall_list':[], 'precision_list':[], 'f1_score_list':[]}\n",
    "    for (f, t) in train_loader:\n",
    "        feature, target = f.to(device), t.to(device)\n",
    "        \n",
    "        # 학습\n",
    "        train_predict = myModel(feature)\n",
    "        \n",
    "        # 손실 계산\n",
    "        loss = loss_fn(train_predict, target)\n",
    "        loss_list.append(loss)\n",
    "        \n",
    "        # 성능 평가\n",
    "        accuracy = metrics.accuracy(train_predict, target, task = 'binary', num_classes = class_num)\n",
    "        recall = metrics.recall(train_predict, target, task = 'binary', num_classes = class_num)\n",
    "        precision = metrics.precision(train_predict, target, task = 'binary', num_classes = class_num)\n",
    "        f1_score = metrics.f1_score(train_predict, target, task = 'binary', num_classes = class_num)\n",
    "        \n",
    "        evaluation['accuracy_list'].append(accuracy)\n",
    "        evaluation['recall_list'].append(recall)\n",
    "        evaluation['precision_list'].append(precision)\n",
    "        evaluation['f1_score_list'].append(f1_score)\n",
    "        \n",
    "        # 최적화 (역방향 학습 + 업데이트)\n",
    "        optimizer.zero_grad()\n",
    "        loss.backward()\n",
    "        optimizer.step()\n",
    "        \n",
    "        print('  학  습  중')\n",
    "        \n",
    "    loss_total = (sum(loss_list) / len(loss_list))\n",
    "    accuracy_total= (sum(evaluation['accuracy_list']) / len(evaluation['accuracy_list']))\n",
    "    recall_total = (sum(evaluation['recall_list'])/len(evaluation['recall_list']))\n",
    "    precision_total = (sum(evaluation['precision_list'])/len(evaluation['precision_list']))\n",
    "    f1_score_total = (sum(evaluation['f1_score_list'])/len(evaluation['f1_score_list']))\n",
    "    \n",
    "    print('[ TRAINING - Total ]')\n",
    "    print(f\"loss : {loss_total} \\naccuracy : {accuracy_total} \\nrecall : {recall_total} \\nprecision : {precision_total} \\nf1_score : {f1_score_total}\")\n",
    "    \n",
    "    return loss_list, evaluation, loss_total, accuracy_total, recall_total, precision_total, f1_score_total"
   ],
   "metadata": {
    "collapsed": false,
    "ExecuteTime": {
     "end_time": "2024-03-19T16:54:49.009427Z",
     "start_time": "2024-03-19T16:54:48.989477Z"
    }
   },
   "id": "2e09ca4aa8c07d15",
   "execution_count": 46
  },
  {
   "cell_type": "markdown",
   "source": [
    "### Q for문 안에 저 to device는 왜하는거?"
   ],
   "metadata": {
    "collapsed": false
   },
   "id": "c7222c2f4d18a014"
  },
  {
   "cell_type": "code",
   "outputs": [],
   "source": [
    "# 검증용 함수\n",
    "\n",
    "def testing():\n",
    "    myModel.eval()\n",
    "    \n",
    "    loss_list = []\n",
    "    evaluation = {'accuracy_list':[], 'recall_list':[], 'precision_list':[], 'f1_score_list':[]}\n",
    "    for (f, t) in train_loader:\n",
    "        feature, target = f.to(device), t.to(device)\n",
    "        \n",
    "        # 학습\n",
    "        train_predict = myModel(feature)\n",
    "        \n",
    "        # 손실 계산\n",
    "        loss = loss_fn(train_predict, target)\n",
    "        loss_list.append(loss)\n",
    "        \n",
    "        # 성능 평가\n",
    "        accuracy = metrics.accuracy(train_predict, target, task = 'binary', num_classes = class_num)\n",
    "        recall = metrics.recall(train_predict, target, task = 'binary', num_classes = class_num)\n",
    "        precision = metrics.precision(train_predict, target, task = 'binary', num_classes = class_num)\n",
    "        f1_score = metrics.f1_score(train_predict, target, task = 'binary', num_classes = class_num)\n",
    "        \n",
    "        evaluation['accuracy_list'].append(accuracy)\n",
    "        evaluation['recall_list'].append(recall)\n",
    "        evaluation['precision_list'].append(precision)\n",
    "        evaluation['f1_score_list'].append(f1_score)\n",
    "        \n",
    "        \n",
    "    loss_total = (sum(loss_list) / len(loss_list))\n",
    "    accuracy_total= (sum(evaluation['accuracy_list']) / len(evaluation['accuracy_list']))\n",
    "    recall_total = (sum(evaluation['recall_list'])/len(evaluation['recall_list']))\n",
    "    precision_total = (sum(evaluation['precision_list'])/len(evaluation['precision_list']))\n",
    "    f1_score_total = (sum(evaluation['f1_score_list'])/len(evaluation['f1_score_list']))\n",
    "    \n",
    "    print('[ TESTING - Total ]')\n",
    "    print(f\"loss : {loss_total} \\naccuracy : {accuracy_total} \\nrecall : {recall_total} \\nprecision : {precision_total} \\nf1_score : {f1_score_total}\")\n",
    "    \n",
    "    return loss_list, evaluation, loss_total, accuracy_total, recall_total, precision_total, f1_score_total"
   ],
   "metadata": {
    "collapsed": false,
    "ExecuteTime": {
     "start_time": "2024-03-19T15:08:45.953022Z"
    }
   },
   "id": "c7fda801eee92177"
  },
  {
   "cell_type": "code",
   "outputs": [],
   "source": [
    "# 예측용 함수\n",
    "def predicting():\n",
    "    myModel.eval()\n",
    "    \n",
    "    loss_list = []\n",
    "    evaluation = {'accuracy_list':[], 'recall_list':[], 'precision_list':[], 'f1_score_list':[]}\n",
    "    for (f, t) in train_loader:\n",
    "        feature, target = f.to(device), t.to(device)\n",
    "        \n",
    "        # 학습\n",
    "        train_predict = myModel(feature)\n",
    "        \n",
    "        # 손실 계산\n",
    "        loss = loss_fn(train_predict, target)\n",
    "        loss_list.append(loss)\n",
    "        \n",
    "        # 성능 평가\n",
    "        accuracy = metrics.accuracy(train_predict, target, task = 'binary', num_classes = class_num)\n",
    "        recall = metrics.recall(train_predict, target, task = 'binary', num_classes = class_num)\n",
    "        precision = metrics.precision(train_predict, target, task = 'binary', num_classes = class_num)\n",
    "        f1_score = metrics.f1_score(train_predict, target, task = 'binary', num_classes = class_num)\n",
    "        \n",
    "        evaluation['accuracy_list'].append(accuracy)\n",
    "        evaluation['recall_list'].append(recall)\n",
    "        evaluation['precision_list'].append(precision)\n",
    "        evaluation['f1_score_list'].append(f1_score)\n",
    "        \n",
    "        \n",
    "    loss_total = (sum(loss_list) / len(loss_list))\n",
    "    accuracy_total= (sum(evaluation['accuracy_list']) / len(evaluation['accuracy_list']))\n",
    "    recall_total = (sum(evaluation['recall_list'])/len(evaluation['recall_list']))\n",
    "    precision_total = (sum(evaluation['precision_list'])/len(evaluation['precision_list']))\n",
    "    f1_score_total = (sum(evaluation['f1_score_list'])/len(evaluation['f1_score_list']))\n",
    "    \n",
    "    print('[ TESTING - Total ]')\n",
    "    print(f\"loss : {loss_total} \\naccuracy : {accuracy_total} \\nrecall : {recall_total} \\nprecision : {precision_total} \\nf1_score : {f1_score_total}\")\n",
    "    \n",
    "    return loss_list, evaluation, loss_total, accuracy_total, recall_total, precision_total, f1_score_total"
   ],
   "metadata": {
    "collapsed": false,
    "ExecuteTime": {
     "start_time": "2024-03-19T15:08:45.954130Z"
    }
   },
   "id": "2ae69ce4585e4b0a"
  },
  {
   "cell_type": "code",
   "outputs": [],
   "source": [],
   "metadata": {
    "collapsed": false,
    "ExecuteTime": {
     "start_time": "2024-03-19T15:08:45.955129Z"
    }
   },
   "id": "c3b90393ed74fa4e"
  },
  {
   "cell_type": "code",
   "outputs": [],
   "source": [],
   "metadata": {
    "collapsed": false,
    "ExecuteTime": {
     "start_time": "2024-03-19T15:08:45.957666Z"
    }
   },
   "id": "78ff2ab2a7f98d57"
  },
  {
   "cell_type": "code",
   "outputs": [],
   "source": [],
   "metadata": {
    "collapsed": false,
    "ExecuteTime": {
     "start_time": "2024-03-19T15:08:45.902807Z"
    }
   },
   "id": "23a0aaaf6f727887"
  },
  {
   "cell_type": "code",
   "outputs": [],
   "source": [],
   "metadata": {
    "collapsed": false,
    "ExecuteTime": {
     "start_time": "2024-03-19T15:08:45.904053Z"
    }
   },
   "id": "ded87284a75eb93c"
  },
  {
   "cell_type": "code",
   "outputs": [],
   "source": [],
   "metadata": {
    "collapsed": false,
    "ExecuteTime": {
     "start_time": "2024-03-19T15:08:45.962186Z"
    }
   },
   "id": "81b527b22f18023b"
  },
  {
   "cell_type": "code",
   "outputs": [],
   "source": [],
   "metadata": {
    "collapsed": false,
    "ExecuteTime": {
     "start_time": "2024-03-19T15:08:45.908030Z"
    }
   },
   "id": "8169c210766a4c71"
  },
  {
   "cell_type": "code",
   "outputs": [],
   "source": [],
   "metadata": {
    "collapsed": false,
    "ExecuteTime": {
     "start_time": "2024-03-19T15:08:45.965392Z"
    }
   },
   "id": "e49c10ddf891377a"
  },
  {
   "cell_type": "markdown",
   "source": [
    "# 학습 에포크별 모델 저장"
   ],
   "metadata": {
    "collapsed": false
   },
   "id": "fb38753f3f12bcf3"
  },
  {
   "cell_type": "markdown",
   "source": [
    "# 학습 진행 및 학습 결과 저장"
   ],
   "metadata": {
    "collapsed": false
   },
   "id": "c566eaec5a6b5893"
  },
  {
   "cell_type": "code",
   "outputs": [],
   "source": [],
   "metadata": {
    "collapsed": false,
    "ExecuteTime": {
     "start_time": "2024-03-19T15:08:45.967459Z"
    }
   },
   "id": "c35c7398844f6272"
  }
 ],
 "metadata": {
  "kernelspec": {
   "display_name": "Python 3",
   "language": "python",
   "name": "python3"
  },
  "language_info": {
   "codemirror_mode": {
    "name": "ipython",
    "version": 2
   },
   "file_extension": ".py",
   "mimetype": "text/x-python",
   "name": "python",
   "nbconvert_exporter": "python",
   "pygments_lexer": "ipython2",
   "version": "2.7.6"
  }
 },
 "nbformat": 4,
 "nbformat_minor": 5
}
